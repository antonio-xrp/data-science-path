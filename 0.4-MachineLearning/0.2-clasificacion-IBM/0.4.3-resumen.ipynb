{
 "cells": [
  {
   "cell_type": "markdown",
   "metadata": {},
   "source": [
    "### Resumen/Revisión\n",
    "Los árboles de decisión dividen sus datos utilizando medidas de impureza. Son un algoritmo codicioso y no se basan en supuestos estadísticos.\n",
    "\n",
    "Las medidas de impureza de división más comunes son la entropía y el índice de Gini.Los árboles de decisión tienden a sobreajustarse y a ser muy sensibles a los datos diferentes.\n",
    "\n",
    "La validación cruzada y la poda ayudan a veces con algo de esto.\n",
    "\n",
    "Las grandes ventajas de los árboles de decisión son que son realmente fáciles de interpretar y no requieren preprocesamiento de datos.  \n",
    "\n"
   ]
  }
 ],
 "metadata": {
  "language_info": {
   "name": "python"
  }
 },
 "nbformat": 4,
 "nbformat_minor": 2
}
