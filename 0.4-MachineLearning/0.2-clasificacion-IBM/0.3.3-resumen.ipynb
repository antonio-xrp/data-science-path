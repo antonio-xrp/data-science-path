{
 "cells": [
  {
   "cell_type": "markdown",
   "metadata": {},
   "source": [
    "### Resumen/Revisión\n",
    "\n",
    "La idea principal de las máquinas de vectores de soporte es encontrar un hiperplano que separe las clases determinando límites de decisión que maximicen la distancia entre las clases.\n",
    "\n",
    "Al comparar la regresión logística y las SVM, una de las principales diferencias es que la función de coste de la regresión logística tiene una función de coste que disminuye hasta cero, pero rara vez llega a cero. Las SVM utilizan la función de pérdida de bisagra como función de coste para penalizar la clasificación errónea. Esto tiende a conducir a una mayor precisión a costa de tener menos sensibilidad en las probabilidades predichas.\n",
    "\n",
    "La regularización puede ayudar a las SVM a generalizar mejor con datos futuros.\n",
    "\n",
    "Al utilizar núcleos gaussianos, transforma los vectores de su espacio de datos en un sistema de coordenadas diferente y puede tener más posibilidades de encontrar un hiperplano que clasifique bien sus datos.Las SVM con núcleos RBF son lentas de entrenar con conjuntos de datos que son grandes o tienen muchas características.  "
   ]
  }
 ],
 "metadata": {
  "language_info": {
   "name": "python"
  }
 },
 "nbformat": 4,
 "nbformat_minor": 2
}
