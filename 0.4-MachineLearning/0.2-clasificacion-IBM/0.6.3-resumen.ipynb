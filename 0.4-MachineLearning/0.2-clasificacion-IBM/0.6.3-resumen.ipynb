{
 "cells": [
  {
   "cell_type": "markdown",
   "metadata": {},
   "source": [
    "### Resumen/Revisión\n",
    "\n",
    "### Modelado de clases desequilibradas\n",
    "Los algoritmos de clasificación se construyen para optimizar la precisión, lo que hace que sea un reto crear un modelo cuando no hay un equilibrio en el número de observaciones de las distintas clases. Los métodos habituales para abordar el equilibrio de las clases son:\n",
    "\n",
    "- Downsampling o eliminación de observaciones de la clase más común\n",
    "\n",
    "- Submuestreo o duplicación de observaciones de la clase o clases más raras\n",
    "\n",
    "- Una mezcla de downsampling y upsampling\n",
    "\n",
    "### Enfoques de modelización para clases desequilibradas\n",
    "Los algoritmos específicos para realizar upsampling y downsampling son:\n",
    "\n",
    "- Muestreo estratificado\n",
    "\n",
    "- Sobremuestreo aleatorio\n",
    "\n",
    "- Sobremuestreo sintético, siendo los dos enfoques principales la Técnica de Sobremuestreo Sintético Minoritario (SMOTE) y el Muestreo Sintético Adaptativo (ADASYN)\n",
    "\n",
    "- Implementaciones de cluster centroides como NearMiss, Tomek Links y Nearest Neighbors  \n",
    "\n"
   ]
  }
 ],
 "metadata": {
  "language_info": {
   "name": "python"
  }
 },
 "nbformat": 4,
 "nbformat_minor": 2
}
