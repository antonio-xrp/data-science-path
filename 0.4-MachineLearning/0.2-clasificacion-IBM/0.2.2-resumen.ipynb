{
 "cells": [
  {
   "cell_type": "markdown",
   "metadata": {},
   "source": [
    "### Resumen/Revisión\n",
    "\n",
    "### Métodos K de vecino más próximo para la clasificación\n",
    "Los métodos de K vecino más próximo son útiles para la clasificación. El método del codo se utiliza con frecuencia para identificar un modelo con K bajo y una tasa de error baja.\n",
    "\n",
    "Estos métodos son populares debido a su facilidad de cálculo e interpretación, aunque pueden tardar en puntuar nuevas observaciones, carecen de estimadores y pueden no ser adecuados para grandes conjuntos de datos. "
   ]
  }
 ],
 "metadata": {
  "language_info": {
   "name": "python"
  }
 },
 "nbformat": 4,
 "nbformat_minor": 2
}
