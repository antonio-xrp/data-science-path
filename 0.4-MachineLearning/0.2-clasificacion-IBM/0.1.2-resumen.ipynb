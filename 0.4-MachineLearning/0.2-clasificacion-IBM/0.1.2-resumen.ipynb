{
 "cells": [
  {
   "cell_type": "markdown",
   "metadata": {},
   "source": [
    "### Resumen/Revisión\n",
    "\n",
    "## Problemas de clasificación\n",
    "Los dos tipos principales de modelos de aprendizaje supervisado son:\n",
    "\n",
    "- Modelos de regresión, que predicen un resultado continuo\n",
    "\n",
    "- Modelos de clasificación, que predicen un resultado categórico.\n",
    "\n",
    "Los modelos más utilizados en el aprendizaje supervisado son:\n",
    "\n",
    "- Regresión logística\n",
    "\n",
    "- Vecinos más próximos a K\n",
    "\n",
    "- Máquinas de vectores de apoyo\n",
    "\n",
    "- Árbol de decisión\n",
    "\n",
    "- Redes neuronales\n",
    "\n",
    "- Bosques aleatorios\n",
    "\n",
    "- Potenciación\n",
    "\n",
    "- Modelos de conjunto\n",
    "\n",
    "A excepción de la regresión logística, estos modelos se utilizan habitualmente tanto para la regresión como para la clasificación. La regresión logística es más común para variables dependientes dicotómicas y nominales.\n",
    "\n",
    "### Regresión logística\n",
    "\n",
    "La regresión logística es un tipo de regresión que modela la probabilidad de que se produzca una determinada clase dadas otras variables independientes.Utiliza una función logística o logit para modelizar una variable dependiente. Es un modelo predictivo muy común debido a su alta interpretabilidad.\n",
    "\n",
    "### Métrica del error de clasificación\n",
    "Una matriz de confusión tabula los verdaderos positivos, los falsos negativos, los falsos positivos y los verdaderos negativos. Recuerde que la tasa de falsos positivos también se conoce como error de tipo I. Los falsos negativos también se conocen como error de tipo II.\n",
    "\n",
    "La exactitud se define como la proporción de verdaderos positivos y verdaderos negativos dividida por el número total de observaciones. Es una medida relacionada con la predicción correcta de instancias positivas y negativas.\n",
    "\n",
    "La recuperación o sensibilidad identifica la proporción de positivos verdaderos dividida por el número total de positivos reales. Cuantifica el porcentaje de instancias positivas identificadas correctamente.\n",
    "\n",
    "La precisión es la proporción de positivos verdaderos dividida por el total de positivos predichos. Cuanto más se acerque este valor a 1,0, mejor trabajo hace este modelo a la hora de identificar sólo instancias positivas.\n",
    "\n",
    "La especificidad es la proporción de negativos verdaderos dividida por el total de negativos reales. Cuanto más se acerque este valor a 1,0, mejor trabajo realiza este modelo para evitar falsas alarmas.\n",
    "\n",
    "La característica operativa del receptor (ROC) traza la tasa de verdaderos positivos (sensibilidad) de un modelo frente a su tasa de falsos positivos (sensibilidad 1).\n",
    "\n",
    "El área bajo la curva de un gráfico ROC es un método muy común para seleccionar un método de clasificación.L\n",
    "\n",
    "a curva precisión-recuperación mide el equilibrio entre precisión y recuperación.\n",
    "\n",
    "La curva ROC suele funcionar mejor para datos con clases equilibradas, mientras que la curva precisión-recuperación suele funcionar mejor para datos con clases desequilibradas.  "
   ]
  }
 ],
 "metadata": {
  "language_info": {
   "name": "python"
  }
 },
 "nbformat": 4,
 "nbformat_minor": 2
}
