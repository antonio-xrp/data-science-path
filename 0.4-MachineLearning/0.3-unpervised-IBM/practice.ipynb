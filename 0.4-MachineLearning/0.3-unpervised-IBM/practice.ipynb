{
 "cells": [
  {
   "cell_type": "code",
   "execution_count": 1,
   "metadata": {},
   "outputs": [],
   "source": [
    "# Surpress warnings:\n",
    "def warn(*args, **kwargs):\n",
    "    pass\n",
    "import warnings\n",
    "warnings.warn = warn"
   ]
  },
  {
   "cell_type": "code",
   "execution_count": 2,
   "metadata": {},
   "outputs": [],
   "source": [
    "import pandas as pd\n",
    "import numpy as np \n",
    "\n",
    "\n",
    "from os import listdir,getcwd\n",
    "from os.path import isfile, join\n",
    "from random import randint\n",
    "from PIL import Image\n",
    "\n",
    "import seaborn as sns \n",
    "import matplotlib.pylab as plt\n",
    "%matplotlib inline\n",
    "\n",
    "from sklearn.decomposition import PCA\n",
    "from sklearn.decomposition import TruncatedSVD\n",
    "\n",
    "\n",
    "from sympy import Matrix, init_printing,Symbol\n",
    "from numpy.linalg import qr,eig,inv,matrix_rank,inv,svd\n",
    "init_printing()"
   ]
  },
  {
   "cell_type": "code",
   "execution_count": 3,
   "metadata": {},
   "outputs": [],
   "source": [
    "def get_data_Matrix (mypath=\"peds\"):\n",
    "    cwd = getcwd()\n",
    "\n",
    "    mypath=join(cwd,mypath)\n",
    "    files = [ join(mypath,f) for f in listdir(mypath) if isfile(join(mypath, f)) and f.startswith(\".\")==False]\n",
    "    # Read image\n",
    "    img = Image.open(files[0])\n",
    "    I=np.array(img)\n",
    "    # Output Images\n",
    "\n",
    "    Length,Width=I.shape\n",
    "   \n",
    "    X=np.zeros((len(files),Length*Width))\n",
    "    for i,file in enumerate(files):\n",
    "        img = Image.open(file)\n",
    "        I=np.array(img)\n",
    "        X[i,:]=I.reshape(1,-1)\n",
    "    return X,Length,Width"
   ]
  }
 ],
 "metadata": {
  "kernelspec": {
   "display_name": "data_science_path",
   "language": "python",
   "name": "python3"
  },
  "language_info": {
   "codemirror_mode": {
    "name": "ipython",
    "version": 3
   },
   "file_extension": ".py",
   "mimetype": "text/x-python",
   "name": "python",
   "nbconvert_exporter": "python",
   "pygments_lexer": "ipython3",
   "version": "3.10.13"
  }
 },
 "nbformat": 4,
 "nbformat_minor": 2
}
