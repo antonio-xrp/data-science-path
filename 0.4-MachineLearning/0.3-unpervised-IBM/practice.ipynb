{
 "cells": [
  {
   "cell_type": "code",
   "execution_count": 1,
   "metadata": {},
   "outputs": [],
   "source": [
    "import warnings\n",
    "warnings.filterwarnings(\"ignore\", category=DeprecationWarning) \n",
    "\n",
    "import pandas as pd\n",
    "import numpy as np\n",
    "from scipy.spatial.distance import euclidean, cityblock, cosine\n",
    "import sklearn.metrics.pairwise\n",
    "import seaborn as sns\n",
    "import folium\n",
    "# Import matplotlib for 3d plotting:\n",
    "import matplotlib.pyplot as plt\n",
    "from sklearn.preprocessing import  MinMaxScaler\n",
    "from matplotlib import offsetbox\n",
    "# Make matplotlib work in jupyter notebook\n",
    "%matplotlib inline"
   ]
  },
  {
   "cell_type": "code",
   "execution_count": 2,
   "metadata": {},
   "outputs": [],
   "source": [
    "def plot_points(df,color=\"red\",title=\"\"):\n",
    "\n",
    "    X=df['lon']\n",
    "    Y=df['lat']\n",
    "\n",
    "    annotations=df.index\n",
    "\n",
    "    plt.figure(figsize=(8,6))\n",
    "    plt.scatter(X,Y,s=100,color=color)\n",
    "    plt.title(title)\n",
    "    plt.xlabel(\"lat\")\n",
    "    plt.ylabel(\"log\")\n",
    "    for i, label in enumerate(annotations):\n",
    "        plt.annotate(label, (X.iloc[i], Y.iloc[i]))\n",
    "    plt.axis('equal')\n",
    "    plt.show()"
   ]
  },
  {
   "cell_type": "code",
   "execution_count": 3,
   "metadata": {},
   "outputs": [],
   "source": [
    "def plot_embedding(X, title, ax):\n",
    "    X = MinMaxScaler().fit_transform(X)\n",
    "    for digit in digits.target_names:\n",
    "        ax.scatter(\n",
    "            *X[y == digit].T,\n",
    "            marker=f\"${digit}$\",\n",
    "            s=60,\n",
    "            color=plt.cm.Dark2(digit),\n",
    "            alpha=0.425,\n",
    "            zorder=2,\n",
    "        )\n",
    "    shown_images = np.array([[1.0, 1.0]])  # just something big\n",
    "    for i in range(X.shape[0]):\n",
    "        # plot every digit on the embedding\n",
    "        # show an annotation box for a group of digits\n",
    "        dist = np.sum((X[i] - shown_images) ** 2, 1)\n",
    "        if np.min(dist) < 4e-3:\n",
    "            # don't show points that are too close\n",
    "            continue\n",
    "        shown_images = np.concatenate([shown_images, [X[i]]], axis=0)\n",
    "        imagebox = offsetbox.AnnotationBbox(\n",
    "            offsetbox.OffsetImage(digits.images[i], cmap=plt.cm.gray_r), X[i]\n",
    "        )\n",
    "        imagebox.set(zorder=1)\n",
    "        ax.add_artist(imagebox)\n",
    "\n",
    "    ax.set_title(title)\n",
    "    ax.axis(\"off\")"
   ]
  },
  {
   "cell_type": "code",
   "execution_count": 4,
   "metadata": {},
   "outputs": [
    {
     "data": {
      "text/html": [
       "<div>\n",
       "<style scoped>\n",
       "    .dataframe tbody tr th:only-of-type {\n",
       "        vertical-align: middle;\n",
       "    }\n",
       "\n",
       "    .dataframe tbody tr th {\n",
       "        vertical-align: top;\n",
       "    }\n",
       "\n",
       "    .dataframe thead th {\n",
       "        text-align: right;\n",
       "    }\n",
       "</style>\n",
       "<table border=\"1\" class=\"dataframe\">\n",
       "  <thead>\n",
       "    <tr style=\"text-align: right;\">\n",
       "      <th></th>\n",
       "      <th>Buenos Aires</th>\n",
       "      <th>Paris</th>\n",
       "      <th>Melbourne</th>\n",
       "      <th>St Petersbourg</th>\n",
       "      <th>Abidjan</th>\n",
       "      <th>Montreal</th>\n",
       "      <th>Nairobi</th>\n",
       "      <th>Salvador</th>\n",
       "    </tr>\n",
       "    <tr>\n",
       "      <th>name</th>\n",
       "      <th></th>\n",
       "      <th></th>\n",
       "      <th></th>\n",
       "      <th></th>\n",
       "      <th></th>\n",
       "      <th></th>\n",
       "      <th></th>\n",
       "      <th></th>\n",
       "    </tr>\n",
       "  </thead>\n",
       "  <tbody>\n",
       "    <tr>\n",
       "      <th>Buenos Aires</th>\n",
       "      <td>0.00</td>\n",
       "      <td>83.00</td>\n",
       "      <td>4.00</td>\n",
       "      <td>93.93</td>\n",
       "      <td>39.33</td>\n",
       "      <td>79.52</td>\n",
       "      <td>32.71</td>\n",
       "      <td>21.03</td>\n",
       "    </tr>\n",
       "    <tr>\n",
       "      <th>Paris</th>\n",
       "      <td>83.00</td>\n",
       "      <td>0.00</td>\n",
       "      <td>87.00</td>\n",
       "      <td>10.93</td>\n",
       "      <td>43.67</td>\n",
       "      <td>3.48</td>\n",
       "      <td>50.29</td>\n",
       "      <td>61.97</td>\n",
       "    </tr>\n",
       "    <tr>\n",
       "      <th>Melbourne</th>\n",
       "      <td>4.00</td>\n",
       "      <td>87.00</td>\n",
       "      <td>0.00</td>\n",
       "      <td>97.93</td>\n",
       "      <td>43.33</td>\n",
       "      <td>83.52</td>\n",
       "      <td>36.71</td>\n",
       "      <td>25.03</td>\n",
       "    </tr>\n",
       "    <tr>\n",
       "      <th>St Petersbourg</th>\n",
       "      <td>93.93</td>\n",
       "      <td>10.93</td>\n",
       "      <td>97.93</td>\n",
       "      <td>0.00</td>\n",
       "      <td>54.60</td>\n",
       "      <td>14.41</td>\n",
       "      <td>61.22</td>\n",
       "      <td>72.90</td>\n",
       "    </tr>\n",
       "    <tr>\n",
       "      <th>Abidjan</th>\n",
       "      <td>39.33</td>\n",
       "      <td>43.67</td>\n",
       "      <td>43.33</td>\n",
       "      <td>54.60</td>\n",
       "      <td>0.00</td>\n",
       "      <td>40.19</td>\n",
       "      <td>6.62</td>\n",
       "      <td>18.30</td>\n",
       "    </tr>\n",
       "    <tr>\n",
       "      <th>Montreal</th>\n",
       "      <td>79.52</td>\n",
       "      <td>3.48</td>\n",
       "      <td>83.52</td>\n",
       "      <td>14.41</td>\n",
       "      <td>40.19</td>\n",
       "      <td>0.00</td>\n",
       "      <td>46.81</td>\n",
       "      <td>58.49</td>\n",
       "    </tr>\n",
       "    <tr>\n",
       "      <th>Nairobi</th>\n",
       "      <td>32.71</td>\n",
       "      <td>50.29</td>\n",
       "      <td>36.71</td>\n",
       "      <td>61.22</td>\n",
       "      <td>6.62</td>\n",
       "      <td>46.81</td>\n",
       "      <td>0.00</td>\n",
       "      <td>11.68</td>\n",
       "    </tr>\n",
       "    <tr>\n",
       "      <th>Salvador</th>\n",
       "      <td>21.03</td>\n",
       "      <td>61.97</td>\n",
       "      <td>25.03</td>\n",
       "      <td>72.90</td>\n",
       "      <td>18.30</td>\n",
       "      <td>58.49</td>\n",
       "      <td>11.68</td>\n",
       "      <td>0.00</td>\n",
       "    </tr>\n",
       "  </tbody>\n",
       "</table>\n",
       "</div>"
      ],
      "text/plain": [
       "                Buenos Aires  Paris  Melbourne  St Petersbourg  Abidjan  \\\n",
       "name                                                                      \n",
       "Buenos Aires            0.00  83.00       4.00           93.93    39.33   \n",
       "Paris                  83.00   0.00      87.00           10.93    43.67   \n",
       "Melbourne               4.00  87.00       0.00           97.93    43.33   \n",
       "St Petersbourg         93.93  10.93      97.93            0.00    54.60   \n",
       "Abidjan                39.33  43.67      43.33           54.60     0.00   \n",
       "Montreal               79.52   3.48      83.52           14.41    40.19   \n",
       "Nairobi                32.71  50.29      36.71           61.22     6.62   \n",
       "Salvador               21.03  61.97      25.03           72.90    18.30   \n",
       "\n",
       "                Montreal  Nairobi  Salvador  \n",
       "name                                         \n",
       "Buenos Aires       79.52    32.71     21.03  \n",
       "Paris               3.48    50.29     61.97  \n",
       "Melbourne          83.52    36.71     25.03  \n",
       "St Petersbourg     14.41    61.22     72.90  \n",
       "Abidjan            40.19     6.62     18.30  \n",
       "Montreal            0.00    46.81     58.49  \n",
       "Nairobi            46.81     0.00     11.68  \n",
       "Salvador           58.49    11.68      0.00  "
      ]
     },
     "execution_count": 4,
     "metadata": {},
     "output_type": "execute_result"
    }
   ],
   "source": [
    "distance=pd.read_csv('https://cf-courses-data.s3.us.cloud-object-storage.appdomain.cloud/IBM-ML0187EN-SkillsNetwork/labs/module%203/distance.csv').set_index('name')\n",
    "distance.head(8)"
   ]
  },
  {
   "cell_type": "code",
   "execution_count": 5,
   "metadata": {},
   "outputs": [],
   "source": [
    "from sklearn.manifold import MDS\n"
   ]
  },
  {
   "cell_type": "code",
   "execution_count": 6,
   "metadata": {},
   "outputs": [],
   "source": [
    "embedding = MDS(dissimilarity='precomputed', n_components=2, random_state=0,\n",
    "                 max_iter=300, eps=1e-3)"
   ]
  },
  {
   "cell_type": "code",
   "execution_count": 14,
   "metadata": {},
   "outputs": [
    {
     "data": {
      "text/plain": [
       "array([[-11.18630004, -41.80256455],\n",
       "       [  9.5136384 ,  38.73201664],\n",
       "       [ -9.2923592 , -46.08804169],\n",
       "       [ 16.54916736,  47.74663293],\n",
       "       [ -1.60844493,  -3.57521947],\n",
       "       [  7.3287376 ,  35.79475057],\n",
       "       [ -3.00161566, -10.07223994],\n",
       "       [ -8.30282353, -20.7353345 ]])"
      ]
     },
     "execution_count": 14,
     "metadata": {},
     "output_type": "execute_result"
    }
   ],
   "source": [
    "X_transformed = embedding.fit_transform(distance)\n",
    "X_transformed"
   ]
  },
  {
   "cell_type": "code",
   "execution_count": 8,
   "metadata": {},
   "outputs": [
    {
     "data": {
      "text/html": [
       "<div>\n",
       "<style scoped>\n",
       "    .dataframe tbody tr th:only-of-type {\n",
       "        vertical-align: middle;\n",
       "    }\n",
       "\n",
       "    .dataframe tbody tr th {\n",
       "        vertical-align: top;\n",
       "    }\n",
       "\n",
       "    .dataframe thead th {\n",
       "        text-align: right;\n",
       "    }\n",
       "</style>\n",
       "<table border=\"1\" class=\"dataframe\">\n",
       "  <thead>\n",
       "    <tr style=\"text-align: right;\">\n",
       "      <th></th>\n",
       "      <th>lon</th>\n",
       "      <th>lat</th>\n",
       "    </tr>\n",
       "  </thead>\n",
       "  <tbody>\n",
       "    <tr>\n",
       "      <th>Buenos Aires</th>\n",
       "      <td>-11.186300</td>\n",
       "      <td>-41.802565</td>\n",
       "    </tr>\n",
       "    <tr>\n",
       "      <th>Paris</th>\n",
       "      <td>9.513638</td>\n",
       "      <td>38.732017</td>\n",
       "    </tr>\n",
       "    <tr>\n",
       "      <th>Melbourne</th>\n",
       "      <td>-9.292359</td>\n",
       "      <td>-46.088042</td>\n",
       "    </tr>\n",
       "    <tr>\n",
       "      <th>St Petersbourg</th>\n",
       "      <td>16.549167</td>\n",
       "      <td>47.746633</td>\n",
       "    </tr>\n",
       "    <tr>\n",
       "      <th>Abidjan</th>\n",
       "      <td>-1.608445</td>\n",
       "      <td>-3.575219</td>\n",
       "    </tr>\n",
       "    <tr>\n",
       "      <th>Montreal</th>\n",
       "      <td>7.328738</td>\n",
       "      <td>35.794751</td>\n",
       "    </tr>\n",
       "    <tr>\n",
       "      <th>Nairobi</th>\n",
       "      <td>-3.001616</td>\n",
       "      <td>-10.072240</td>\n",
       "    </tr>\n",
       "    <tr>\n",
       "      <th>Salvador</th>\n",
       "      <td>-8.302824</td>\n",
       "      <td>-20.735334</td>\n",
       "    </tr>\n",
       "  </tbody>\n",
       "</table>\n",
       "</div>"
      ],
      "text/plain": [
       "                      lon        lat\n",
       "Buenos Aires   -11.186300 -41.802565\n",
       "Paris            9.513638  38.732017\n",
       "Melbourne       -9.292359 -46.088042\n",
       "St Petersbourg  16.549167  47.746633\n",
       "Abidjan         -1.608445  -3.575219\n",
       "Montreal         7.328738  35.794751\n",
       "Nairobi         -3.001616 -10.072240\n",
       "Salvador        -8.302824 -20.735334"
      ]
     },
     "execution_count": 8,
     "metadata": {},
     "output_type": "execute_result"
    }
   ],
   "source": [
    "df_t=pd.DataFrame(X_transformed , columns=[\"lon\",\"lat\"], index=distance.columns)\n",
    "df_t.head(8)"
   ]
  },
  {
   "cell_type": "code",
   "execution_count": 9,
   "metadata": {},
   "outputs": [
    {
     "data": {
      "text/plain": [
       "array([[-11.18630004, -41.80256455],\n",
       "       [  9.5136384 ,  38.73201664],\n",
       "       [ -9.2923592 , -46.08804169],\n",
       "       [ 16.54916736,  47.74663293],\n",
       "       [ -1.60844493,  -3.57521947],\n",
       "       [  7.3287376 ,  35.79475057],\n",
       "       [ -3.00161566, -10.07223994],\n",
       "       [ -8.30282353, -20.7353345 ]])"
      ]
     },
     "execution_count": 9,
     "metadata": {},
     "output_type": "execute_result"
    }
   ],
   "source": [
    "embedding.embedding_\n"
   ]
  },
  {
   "cell_type": "code",
   "execution_count": 10,
   "metadata": {},
   "outputs": [
    {
     "data": {
      "text/plain": [
       "2.4172408009684325"
      ]
     },
     "execution_count": 10,
     "metadata": {},
     "output_type": "execute_result"
    }
   ],
   "source": [
    "embedding.stress_\n"
   ]
  },
  {
   "cell_type": "code",
   "execution_count": 11,
   "metadata": {},
   "outputs": [
    {
     "data": {
      "text/plain": [
       "array([[ 0.  , 83.  ,  4.  , 93.93, 39.33, 79.52, 32.71, 21.03],\n",
       "       [83.  ,  0.  , 87.  , 10.93, 43.67,  3.48, 50.29, 61.97],\n",
       "       [ 4.  , 87.  ,  0.  , 97.93, 43.33, 83.52, 36.71, 25.03],\n",
       "       [93.93, 10.93, 97.93,  0.  , 54.6 , 14.41, 61.22, 72.9 ],\n",
       "       [39.33, 43.67, 43.33, 54.6 ,  0.  , 40.19,  6.62, 18.3 ],\n",
       "       [79.52,  3.48, 83.52, 14.41, 40.19,  0.  , 46.81, 58.49],\n",
       "       [32.71, 50.29, 36.71, 61.22,  6.62, 46.81,  0.  , 11.68],\n",
       "       [21.03, 61.97, 25.03, 72.9 , 18.3 , 58.49, 11.68,  0.  ]])"
      ]
     },
     "execution_count": 11,
     "metadata": {},
     "output_type": "execute_result"
    }
   ],
   "source": [
    "embedding.dissimilarity_matrix_\n"
   ]
  },
  {
   "cell_type": "code",
   "execution_count": 12,
   "metadata": {},
   "outputs": [
    {
     "data": {
      "text/html": [
       "<div>\n",
       "<style scoped>\n",
       "    .dataframe tbody tr th:only-of-type {\n",
       "        vertical-align: middle;\n",
       "    }\n",
       "\n",
       "    .dataframe tbody tr th {\n",
       "        vertical-align: top;\n",
       "    }\n",
       "\n",
       "    .dataframe thead th {\n",
       "        text-align: right;\n",
       "    }\n",
       "</style>\n",
       "<table border=\"1\" class=\"dataframe\">\n",
       "  <thead>\n",
       "    <tr style=\"text-align: right;\">\n",
       "      <th></th>\n",
       "      <th>lon</th>\n",
       "      <th>lat</th>\n",
       "    </tr>\n",
       "    <tr>\n",
       "      <th>name</th>\n",
       "      <th></th>\n",
       "      <th></th>\n",
       "    </tr>\n",
       "  </thead>\n",
       "  <tbody>\n",
       "    <tr>\n",
       "      <th>Buenos Aires</th>\n",
       "      <td>-58.00</td>\n",
       "      <td>-34.00</td>\n",
       "    </tr>\n",
       "    <tr>\n",
       "      <th>Paris</th>\n",
       "      <td>2.00</td>\n",
       "      <td>49.00</td>\n",
       "    </tr>\n",
       "    <tr>\n",
       "      <th>Melbourne</th>\n",
       "      <td>145.00</td>\n",
       "      <td>-38.00</td>\n",
       "    </tr>\n",
       "    <tr>\n",
       "      <th>St Petersbourg</th>\n",
       "      <td>30.32</td>\n",
       "      <td>59.93</td>\n",
       "    </tr>\n",
       "    <tr>\n",
       "      <th>Abidjan</th>\n",
       "      <td>-4.03</td>\n",
       "      <td>5.33</td>\n",
       "    </tr>\n",
       "    <tr>\n",
       "      <th>Montreal</th>\n",
       "      <td>-73.57</td>\n",
       "      <td>45.52</td>\n",
       "    </tr>\n",
       "    <tr>\n",
       "      <th>Nairobi</th>\n",
       "      <td>36.82</td>\n",
       "      <td>-1.29</td>\n",
       "    </tr>\n",
       "    <tr>\n",
       "      <th>Salvador</th>\n",
       "      <td>-38.50</td>\n",
       "      <td>-12.97</td>\n",
       "    </tr>\n",
       "  </tbody>\n",
       "</table>\n",
       "</div>"
      ],
      "text/plain": [
       "                   lon    lat\n",
       "name                         \n",
       "Buenos Aires    -58.00 -34.00\n",
       "Paris             2.00  49.00\n",
       "Melbourne       145.00 -38.00\n",
       "St Petersbourg   30.32  59.93\n",
       "Abidjan          -4.03   5.33\n",
       "Montreal        -73.57  45.52\n",
       "Nairobi          36.82  -1.29\n",
       "Salvador        -38.50 -12.97"
      ]
     },
     "execution_count": 12,
     "metadata": {},
     "output_type": "execute_result"
    }
   ],
   "source": [
    "# Make a data frame with dots to show on the map\n",
    "df = pd.DataFrame({\n",
    "   'lon':[-58, 2, 145, 30.32, -4.03, -73.57, 36.82, -38.5],\n",
    "   'lat':[-34, 49, -38, 59.93, 5.33, 45.52, -1.29, -12.97],\n",
    "   'name':['Buenos Aires', 'Paris', 'Melbourne', 'St Petersbourg', 'Abidjan', 'Montreal', 'Nairobi', 'Salvador']})\n",
    "df=df.set_index('name')\n",
    "df.head(10)"
   ]
  },
  {
   "cell_type": "code",
   "execution_count": 13,
   "metadata": {},
   "outputs": [
    {
     "data": {
      "image/png": "[encoded data removed]",
      "text/plain": [
       "<Figure size 800x600 with 1 Axes>"
      ]
     },
     "metadata": {},
     "output_type": "display_data"
    },
    {
     "data": {
      "image/png": "[encoded data removed]",
      "text/plain": [
       "<Figure size 800x600 with 1 Axes>"
      ]
     },
     "metadata": {},
     "output_type": "display_data"
    }
   ],
   "source": [
    "plot_points(df,title='original dataset')\n",
    "\n",
    "plot_points(df_t,color='blue',title='Embedded Coordinates using Euclidean distance ')"
   ]
  },
  {
   "cell_type": "code",
   "execution_count": 15,
   "metadata": {},
   "outputs": [],
   "source": [
    "from scipy.spatial.distance import squareform, pdist"
   ]
  },
  {
   "cell_type": "code",
   "execution_count": 16,
   "metadata": {},
   "outputs": [],
   "source": [
    "distance = pd.DataFrame(squareform(pdist(df.iloc[:,1:])), columns=df.index, index=df.index)"
   ]
  }
 ],
 "metadata": {
  "kernelspec": {
   "display_name": "data_science_path",
   "language": "python",
   "name": "python3"
  },
  "language_info": {
   "codemirror_mode": {
    "name": "ipython",
    "version": 3
   },
   "file_extension": ".py",
   "mimetype": "text/x-python",
   "name": "python",
   "nbconvert_exporter": "python",
   "pygments_lexer": "ipython3",
   "version": "3.10.13"
  }
 },
 "nbformat": 4,
 "nbformat_minor": 2
}
