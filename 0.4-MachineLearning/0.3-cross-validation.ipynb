{
 "cells": [
  {
   "cell_type": "markdown",
   "metadata": {},
   "source": [
    "### Validación cruzada\n",
    "\n",
    "La validación cruzada es una técnica que se utiliza en machine learning para evaluar la capacidad de generalización de un modelo. Consiste en dividir el conjunto de datos en varios subconjuntos o \"folds\". El modelo se entrena con algunos de esos subconjuntos y se prueba con los restantes, repitiendo el proceso para cada combinación posible.\n",
    "\n",
    "El proceso típico es la validación cruzada k-fold, donde los datos se dividen en k partes, usando k-1 para entrenar y la parte restante para validar, alternando en cada iteración. Esto permite obtener un rendimiento promedio, lo que hace la evaluación más robusta y menos dependiente de un único subconjunto de datos.\n",
    "\n",
    "Se usa en modelos de regresión (p. ej., regresión lineal, regresión logística) y clasificación (p. ej., árboles de decisión, SVM, Random Forest) para evitar sobreajuste y medir el rendimiento de manera más fiable antes de aplicar el modelo a nuevos datos."
   ]
  }
 ],
 "metadata": {
  "language_info": {
   "name": "python"
  }
 },
 "nbformat": 4,
 "nbformat_minor": 2
}
