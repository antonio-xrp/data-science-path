{
 "cells": [
  {
   "cell_type": "markdown",
   "id": "2e4d5f7a-70d4-48b2-a279-1a03fcdd28b3",
   "metadata": {},
   "source": [
    "# **Categorical Cross-Entropy Loss**\n"
   ]
  },
  {
   "cell_type": "markdown",
   "id": "7ffadb3b-4776-4fd2-91f9-207b2a5a650f",
   "metadata": {},
   "source": [
    "Estimated time needed: **45** minutes\n"
   ]
  },
  {
   "cell_type": "markdown",
   "id": "973ee1e5-1e96-47fb-9614-9ba82da744c0",
   "metadata": {},
   "source": [
    "In this lab, we are going to use the MNIST hand-written digits dataset as a motivating example to understand categorical cross-entropy loss.\n"
   ]
  },
  {
   "cell_type": "markdown",
   "id": "e3d3b682-5bcd-4755-8414-e336d05dfe64",
   "metadata": {},
   "source": [
    "<h1> House Number Detection </h1></s>\n",
    "\n",
    "You have been tasked with building a model that can recognize house numbers from arbitrary street-view images. You are given a set of images of single-digit house numbers engraved into slates or wall surfaces. The images vary in size and color. In this lab, we are going to use the MNIST hand-written digits dataset as a motivating example to understand the __softmax function__, __one-hot encoding__, and __categorical cross-entropy loss__. The MNIST hand-written dataset has 10 classes, each representing a digit from 0-9. We will attempt to build a multi-class classification model that will identify which digit is present in the image. \n"
   ]
  },
  {
   "cell_type": "markdown",
   "id": "a53a99fc-57d2-487c-afee-253ddcd9851a",
   "metadata": {},
   "source": [
    "<img src=\"https://cf-courses-data.s3.us.cloud-object-storage.appdomain.cloud/IBMDeveloperSkillsNetwork-ML311-Coursera/labs/Module3/L1/house_number.jpg\" style=\"width: 30%\">\n",
    "\n",
    "<!-- Original Source: https://slate.com/human-interest/2020/06/a-quest-to-catalogue-every-single-house-number-in-one-suburban-zip-code.html --> \n"
   ]
  },
  {
   "cell_type": "markdown",
   "id": "a4a8e29e-7df1-4deb-81fa-2fe4cbe6f1e6",
   "metadata": {},
   "source": [
    "## **Table of Contents**\n",
    "\n",
    "<ol>\n",
    "    <li><a href=\"https://#Objectives\">Objectives</a></li>\n",
    "    <li><a href=\"https://#Datasets\">Datasets</a></li>\n",
    "    <li>\n",
    "        <a href=\"https://#Setup\">Setup</a>\n",
    "        <ol>\n",
    "            <li><a href=\"https://#Installing-Required-Libraries\">Installing Required Libraries</a></li>\n",
    "            <li><a href=\"https://#Importing-Required-Libraries\">Importing Required Libraries</a></li>\n",
    "            <li><a href=\"https://#Defining-Helper-Functions\">Defining Helper Functions</a></li>\n",
    "        </ol>\n",
    "    </li>\n",
    "    <li><a href=\"https://https://#Categorical Cross-Entropy\">Categorical Cross-Entropy</a>\n",
    "        <ol>\n",
    "            <li><a href=\"https://#Softmax Activation Function\">Softmax Activation Function</a></li>\n",
    "            <li><a href=\"https://#One-Hot Encoding\">One-Hot Encoding</a></li>\n",
    "            <li><a href=\"#Categorical Cross-Entropy\">Categorical Cross-Entropy</a></li>\n",
    "        </ol>\n",
    "    </li>\n",
    "    <li><a href=\"https://#Binary vs. Multi-Class Classification\">Binary vs. Multi-Class Classification</a>\n",
    "        <ol>\n",
    "            <li><a href=\"https://#Binary Classification\">Binary Classification</a></li>\n",
    "            <li><a href=\"https://#Multi-Class Classification\">Multi-Class Classification</a></li>\n",
    "        </ol>\n",
    "    </li>\n",
    "    <li>\n",
    "        <a href=\"https://#Example: MNIST Hand-Written Digits\">Example: MNIST Hand-Written Digits</a> </li>\n",
    "    <li>\n",
    "        <a href=\"https://#Example: Single-Digit House Number Recognition\"> Example: Single-Digit House Number Recognition</a> </li>\n",
    "    <li><a href=\"https://#Exercises\">Exercises</a>\n",
    "        <ol>\n",
    "            <li><a href=\"https://#Exercise 1 - Loading and plotting the images\">Exercise 1 - Loading and plotting the images</a></li>\n",
    "            <li><a href=\"https://#Exercise 2 - Preparing the data\">Exercise 2 - Preparing the data</a></li>\n",
    "            <li><a href=\"https://#Exercise 3 - One-hot encoding\">Exercise 3 - One-hot encoding</a></li>\n",
    "            <li><a href=\"https://#Exercise 4 - Build model architecture\">Exercise 4 - Build model architecture</a></li>\n",
    "            <li><a href=\"https://#(Optional) Exercise 5 - Sparse Categorical Cross-Entropy\">Sparse Categorical Cross-Entropy</a></li>\n",
    "        </ol>\n",
    "    </li>\n",
    "</ol>\n"
   ]
  },
  {
   "cell_type": "markdown",
   "id": "3326bc0d-de47-48b5-9ff8-4c780b5ebe5c",
   "metadata": {},
   "source": [
    "## Objectives\n",
    "\n",
    "After completing this lab you will be able to:\n",
    "\n",
    "*   **Understand** what categorical cross-entropy is, and how it works with the Softmax activation function.\n",
    "*   **Build** simple CNN models for binary and multi-class classification.\n"
   ]
  },
  {
   "cell_type": "markdown",
   "id": "414521ea-809d-49a1-9a61-f7c2de14e2c6",
   "metadata": {},
   "source": [
    "## Setup\n"
   ]
  },
  {
   "cell_type": "markdown",
   "id": "27957e8e-b244-40fc-ad36-bce070fe0dd4",
   "metadata": {},
   "source": [
    "For this lab, we will be using the following libraries:\n",
    "\n",
    "*   [`pandas`](https://pandas.pydata.org/?utm_medium=Exinfluencer&utm_source=Exinfluencer&utm_content=000026UJ&utm_term=10006555&utm_id=NA-SkillsNetwork-Channel-SkillsNetworkCoursesIBMML0187ENSkillsNetwork31430127-2021-01-01) for managing the data.\n",
    "*   [`numpy`](https://numpy.org/?utm_medium=Exinfluencer&utm_source=Exinfluencer&utm_content=000026UJ&utm_term=10006555&utm_id=NA-SkillsNetwork-Channel-SkillsNetworkCoursesIBMML0187ENSkillsNetwork31430127-2021-01-01) for mathematical operations.\n",
    "*   [`sklearn`](https://scikit-learn.org/stable/?utm_medium=Exinfluencer&utm_source=Exinfluencer&utm_content=000026UJ&utm_term=10006555&utm_id=NA-SkillsNetwork-Channel-SkillsNetworkCoursesIBMML0187ENSkillsNetwork31430127-2021-01-01) for machine learning and machine-learning-pipeline related functions.\n",
    "*   [`seaborn`](https://seaborn.pydata.org/?utm_medium=Exinfluencer&utm_source=Exinfluencer&utm_content=000026UJ&utm_term=10006555&utm_id=NA-SkillsNetwork-Channel-SkillsNetworkCoursesIBMML0187ENSkillsNetwork31430127-2021-01-01) for visualizing the data.\n",
    "*   [`matplotlib`](https://matplotlib.org/?utm_medium=Exinfluencer&utm_source=Exinfluencer&utm_content=000026UJ&utm_term=10006555&utm_id=NA-SkillsNetwork-Channel-SkillsNetworkCoursesIBMML0187ENSkillsNetwork31430127-2021-01-01) for additional plotting tools.\n",
    "*   [`keras`](https://keras.io/?utm_medium=Exinfluencer&utm_source=Exinfluencer&utm_content=000026UJ&utm_term=10006555&utm_id=NA-SkillsNetwork-Channel-SkillsNetworkCoursesIBMML0187ENSkillsNetwork31430127-2021-01-01) for loading datasets.\n"
   ]
  },
  {
   "cell_type": "markdown",
   "id": "3ed8ac05-4cf6-4f13-abe0-6a0c90c35cff",
   "metadata": {},
   "source": [
    "### Installing Required Libraries\n",
    "\n",
    "The following required libraries are pre-installed in the Skills Network Labs environment. However, if you run these notebook commands in a different Jupyter environment (like Watson Studio or Ananconda), you will need to install these libraries by removing the `#` sign before `!pip install mlxtend` in the following code cell.\n"
   ]
  },
  {
   "cell_type": "markdown",
   "id": "f13678ca-d571-4967-8bfb-0e72f3675ccf",
   "metadata": {},
   "source": [
    "The following required libraries are **not** pre-installed in the Skills Network Labs environment. **You will need to run the following cell** to install them. **Please RESTART KERNEL after installation,**.\n"
   ]
  },
  {
   "cell_type": "code",
   "execution_count": 28,
   "metadata": {},
   "outputs": [],
   "source": [
    "# !pip install opencv-python"
   ]
  },
  {
   "cell_type": "code",
   "execution_count": 29,
   "id": "dab2fce5-8b59-4d9a-9769-8bed33309946",
   "metadata": {},
   "outputs": [],
   "source": [
    "# %%capture\n",
    "\n",
    "#!pip install mlxtend\n",
    "# !pip install --upgrade tensorflow"
   ]
  },
  {
   "cell_type": "markdown",
   "id": "ba61c91d-ad3a-40d6-95fc-037c218aeb76",
   "metadata": {},
   "source": [
    "### Importing Required Libraries\n"
   ]
  },
  {
   "cell_type": "code",
   "execution_count": 30,
   "id": "18914ec9-f887-43a2-9e1e-d4b758c6d57f",
   "metadata": {},
   "outputs": [
    {
     "name": "stdout",
     "output_type": "stream",
     "text": [
      "2.12.0\n"
     ]
    }
   ],
   "source": [
    "import cv2\n",
    "from urllib.request import urlopen\n",
    "from PIL import Image\n",
    "import IPython\n",
    "import numpy as np\n",
    "from matplotlib import pyplot as plt\n",
    "import pandas as pd, numpy as np\n",
    "from keras.datasets import mnist, fashion_mnist\n",
    "import random\n",
    "from sklearn.preprocessing import OneHotEncoder\n",
    "from tensorflow.keras.losses import CategoricalCrossentropy,SparseCategoricalCrossentropy,BinaryCrossentropy\n",
    "from sklearn.datasets import make_blobs\n",
    "from mlxtend.plotting import plot_decision_regions\n",
    "import tensorflow as tf\n",
    "print(tf.__version__)\n",
    "from sklearn import preprocessing\n",
    "from tensorflow.keras.utils import to_categorical\n",
    "from tensorflow.keras.models import Sequential\n",
    "from tensorflow.keras.layers import Dense"
   ]
  },
  {
   "cell_type": "markdown",
   "id": "7db0134d-ca81-4af1-a2a7-2fd47167a1ea",
   "metadata": {},
   "source": [
    "### Defining Helper Functions\n",
    "\n",
    "*Use this section to define any helper functions to help the notebook's code readability:*\n"
   ]
  },
  {
   "cell_type": "code",
   "execution_count": 31,
   "id": "7ec08d59-8184-415f-8896-19a08b7af1e5",
   "metadata": {},
   "outputs": [],
   "source": [
    "def generate_multiclass_blobs(num_samples_total, training_split, cluster_centers, num_classes, loss_function_used):\n",
    "    X, targets = make_blobs(n_samples = num_samples_total, centers = cluster_centers, n_features = num_classes, center_box=(0, 1), cluster_std = 1.5)\n",
    "    categorical_targets = to_categorical(targets)\n",
    "    X_training = X[training_split:, :]\n",
    "    X_testing = X[:training_split, :]\n",
    "    Targets_training = categorical_targets[training_split:]\n",
    "    Targets_testing = categorical_targets[:training_split].astype(np.int32)\n",
    "    return X_training, Targets_training, X_testing, Targets_testing\n",
    "\n",
    "\n",
    "def generate_binary_blobs(num_samples_total, training_split, loss_function_used):\n",
    "    X, targets = make_blobs(n_samples = num_samples_total, centers = [(0,0), (15,15)], n_features = 2, center_box=(0, 1), cluster_std = 2.5)\n",
    "    targets[np.where(targets == 0)] = -1\n",
    "    X_training = X[training_split:, :]\n",
    "    X_testing = X[:training_split, :]\n",
    "    Targets_training = targets[training_split:]\n",
    "    Targets_testing = targets[:training_split]\n",
    "    return X_training, Targets_training, X_testing, Targets_testing"
   ]
  },
  {
   "cell_type": "markdown",
   "id": "39c6e318-5efe-4ef0-aeea-e3ee9470f8ad",
   "metadata": {},
   "source": [
    "## Categorical Cross-Entropy\n"
   ]
  },
  {
   "cell_type": "markdown",
   "id": "b7a554c2-b34a-4dfe-a088-9dcb3aae409b",
   "metadata": {},
   "source": [
    "When working on a machine learning problem, we use loss functions to optimize our models during training where a common objective is to minimize the loss function.\n",
    "\n",
    "Cross-entropy is a widely used loss or cost function, that is used to optimize classification models. Before delving into cross-entropy, let us first cover the prerequisites by learning about a common activation function called Softmax.\n"
   ]
  },
  {
   "cell_type": "markdown",
   "id": "3e8b5c8c-3251-4db1-807e-f891ed9b42d7",
   "metadata": {},
   "source": [
    "### Softmax Activation Function\n"
   ]
  },
  {
   "cell_type": "markdown",
   "id": "06e1bd2c-b83e-4a1c-bbec-d04190790acb",
   "metadata": {},
   "source": [
    "Activation functions are transformations applied to the output from CNNs before loss computations.\n"
   ]
  },
  {
   "cell_type": "markdown",
   "id": "b2f3f81d-83fc-45eb-9cf7-c017e675dfe8",
   "metadata": {},
   "source": [
    "The Softmax activation function is typically placed as the last layer in a neural network and used to normalize the output of a network to a probability distribution over predicted output classes.\n",
    "\n",
    "It does so by scaling numbers/logits into probabilities for each possible outcome or class present in our dataset. The resulting probabilities in the vector sum up to one.\n",
    "\n",
    "Mathematically, Softmax is defined as follows:\n",
    "\n",
    "<img src=\"https://cf-courses-data.s3.us.cloud-object-storage.appdomain.cloud/IBMDeveloperSkillsNetwork-ML311-Coursera/labs/Module3/L1/softmax.png\" style=\"width: 30%\">\n"
   ]
  },
  {
   "cell_type": "markdown",
   "id": "0dbde6e4-87a1-48e7-af36-eb12bb8fe3d5",
   "metadata": {},
   "source": [
    "Here, $\\overrightarrow{{z}}$ is an input vector to the Softmax function $\\sigma$.\n",
    "\n",
    "$\\overrightarrow{{z}}\\_i$ represents the $i$th element of the input vector, and can take on values from -inf to inf.\n",
    "\n",
    "$\\overrightarrow{{z}}_i$ represents the $i$th element of the input vector, and can take on values from -inf to inf. \n",
    "\n",
    "$e^{z_i}$ is a standard exponential function applied on the $i$th element of $z$, and the denominator is a normalizing term (L1-norm) to ensure the result is a valid probability distribution, that is, sums up to 1, and values are within the 0 - 1 range.\n"
   ]
  },
  {
   "cell_type": "markdown",
   "id": "2a24f1a8-ed26-4d15-b041-761531e310e2",
   "metadata": {},
   "source": [
    "Exponential is a steeply increasing function; that is, it increases the difference between outputs. In the final output, the largest element (which dominates the norm) is normalized to a value close to 1, while all the other elements end up being close to 0. Not only does the resulting vector show the winning class, but it also retains the original order of values.\n",
    "\n",
    "\n",
    "Another important point to note is that Softmax is not affected by negative values, as the exponent of any value is always a positive value.\n"
   ]
  },
  {
   "cell_type": "markdown",
   "id": "66bb2671-9c39-4a84-8ca6-4470aafd95cb",
   "metadata": {},
   "source": [
    "Let us walk through an example to understand Softmax.\n"
   ]
  },
  {
   "cell_type": "markdown",
   "id": "d8e775c1-2fd5-4a3e-882c-20116b021d5b",
   "metadata": {},
   "source": [
    "Imagine you are building a CNN model to classify an image as a dog, cat, fish, or horse. The fully-connected layer of your CNN gives a vector of logits. You pass the vector through the Softmax function above to obtain probabilities.\n"
   ]
  },
  {
   "cell_type": "markdown",
   "id": "224a6fe4-f44e-4a12-8d63-398f05193250",
   "metadata": {},
   "source": [
    "![](https://cf-courses-data.s3.us.cloud-object-storage.appdomain.cloud/IBMDeveloperSkillsNetwork-ML311-Coursera/labs/Module3/L1/cce_diag.png)\n"
   ]
  },
  {
   "cell_type": "markdown",
   "id": "0df9e4b2-60b8-4183-8e55-ebf4ddc52105",
   "metadata": {},
   "source": [
    "### One-Hot Encoding\n"
   ]
  },
  {
   "cell_type": "markdown",
   "id": "a40827b1-68bb-475b-acd7-83753b5cbaa0",
   "metadata": {},
   "source": [
    "The ground truth is typically presented in form of categorical data; that is, a given image is categorized into one of these classes: dog, cat, fish, or horse.\n"
   ]
  },
  {
   "cell_type": "markdown",
   "id": "1ce25714-fbdc-47ff-8a4b-6afec73fd958",
   "metadata": {},
   "source": [
    "For categorical variables where no ordinal relationships exist, we can perform one-hot encoding to represent each class. This is best explained through an example.\n",
    "\n",
    "In our case, we will have four classes, and these are the corresponding one-hot encoded labels:\n"
   ]
  },
  {
   "cell_type": "markdown",
   "id": "4981d3a1-d505-4397-aa56-e0094c6c2599",
   "metadata": {},
   "source": [
    "<img src=\"https://cf-courses-data.s3.us.cloud-object-storage.appdomain.cloud/IBMDeveloperSkillsNetwork-ML311-Coursera/labs/Module3/L1/ohe_labels.png\" style=\"width: 50%\">\n"
   ]
  },
  {
   "cell_type": "markdown",
   "id": "12571702-5937-4401-bd3a-54327157859d",
   "metadata": {},
   "source": [
    "So in one-hot encoding, we represent labels with a binary variable where for every given class, we have the value 1 for the position corresponding to that particular class and 0 elsewhere (that is, 100% probability of belonging to that class).\n"
   ]
  },
  {
   "cell_type": "markdown",
   "id": "9b122e23-8b43-4677-b706-b1f3dec578c9",
   "metadata": {},
   "source": [
    "### Back to Categorical Cross-Entropy\n"
   ]
  },
  {
   "cell_type": "markdown",
   "id": "36d2e829-5754-4001-a213-597640a4d5d6",
   "metadata": {},
   "source": [
    "Now that we have converted the logits to output probabilities, we need to measure how good they are; that is, measure the distance from the truth values.\n"
   ]
  },
  {
   "cell_type": "markdown",
   "id": "d642fb7f-2816-4aa8-ba67-8d6766efc6cd",
   "metadata": {},
   "source": [
    "For instance, in the example above, the desired output is [1,0,0,0], but the model outputs [0.775,0.116,0.039,0.070].\n"
   ]
  },
  {
   "cell_type": "markdown",
   "id": "fd97c4e2-a93f-4142-929e-b00b6c10619f",
   "metadata": {},
   "source": [
    "The categorical cross-entropy is mathematically defined as follows:\n"
   ]
  },
  {
   "cell_type": "markdown",
   "id": "43f7924c-4d57-4935-8550-1e8815efce92",
   "metadata": {},
   "source": [
    "<img src=\"https://cf-courses-data.s3.us.cloud-object-storage.appdomain.cloud/IBMDeveloperSkillsNetwork-ML311-Coursera/labs/Module3/L1/cce.png\" style=\"width: 30%\">\n"
   ]
  },
  {
   "cell_type": "markdown",
   "id": "3f0266c8-9006-4730-85ca-4fba75d84ff7",
   "metadata": {},
   "source": [
    "We can use the formula above to compute the cross-entropy loss. When training our model, we iteratively update the weights to minimize the cross-entropy loss. \n",
    "\n",
    "The Softmax is continuously differentiable, and this property makes it easy to compute the derivative of the loss function and, accordingly, adjust the model weights in each iteration to minimize the loss function.\n",
    "\n",
    "In the next iteration, if our $$L\\_{CE}$$ is lower than the current one, we say that the model is *learning*.\n"
   ]
  },
  {
   "cell_type": "markdown",
   "id": "d87c6a6b-dd88-4929-a101-505e4c2127b5",
   "metadata": {},
   "source": [
    "## Binary vs. Multi-Class Classification\n"
   ]
  },
  {
   "cell_type": "markdown",
   "id": "eba7e5dd-cf7f-45de-b904-5d24800a3e7a",
   "metadata": {},
   "source": [
    "Now, let us do a quick review of binary and multi-class classification. Binary classification tasks require that all examples be assigned to one of two classes, whereas in multi-class classification, examples can belong to more than two classes.\n",
    "\n",
    "For binary classification problems, we have a final layer with a single node and a sigmoid activation function. It can map the output vector from a CNN to values between 0 and 1 before loss computations. The sigmoid function is denoted using the following formula:\n",
    "\n",
    "$$\\sigma(x) = 1/(1+e^{-x})$$\n"
   ]
  },
  {
   "cell_type": "markdown",
   "id": "a2fb21ab-f014-46d5-84c1-e6eb8ac004c8",
   "metadata": {},
   "source": [
    "Let's see binary classification and multi-class classification in action.\n"
   ]
  },
  {
   "cell_type": "markdown",
   "id": "e671d8cd-5494-4ec6-be3e-14431bdc606f",
   "metadata": {},
   "source": [
    "### Binary Classification\n"
   ]
  },
  {
   "cell_type": "markdown",
   "id": "08c58609-c995-4d45-ad73-26922e3a77e9",
   "metadata": {},
   "source": [
    "Using a helper function defined at the beginning of the notebook, we will use the `make_blobs()` function from `sklearn` to generate isotropic Gaussian blobs for classification.\n",
    "\n",
    "We will create a data set with 1000 samples, and use 750 of those samples for training a simple CNN model.\n"
   ]
  },
  {
   "cell_type": "markdown",
   "id": "0cda6df2-a1bb-4d20-b07f-600cdcf71464",
   "metadata": {},
   "source": [
    "Let us define a few more configuration options.\n"
   ]
  },
  {
   "cell_type": "markdown",
   "id": "6db39e8c-6ce4-4f16-8f5a-026f4be60197",
   "metadata": {},
   "source": [
    "*   **num_samples**: refers to the total number of samples in our dataset\n",
    "*   **test_split**: refers to the number of samples to be used for testing\n",
    "*   **cluster_centers**: we define 2 centers for our isotropic Gaussian blobs\n",
    "*   **num_classes**: we have 2 classes\n",
    "*   **loss_function_used**: since this is a binary classification problem, we use binary cross-entropy loss\n"
   ]
  },
  {
   "cell_type": "code",
   "execution_count": 32,
   "metadata": {},
   "outputs": [],
   "source": [
    "num_samples = 1000\n",
    "test_split = 250\n",
    "cluster_centers = [(15,0), (30,15)]\n",
    "num_classes = len(cluster_centers)\n",
    "#loss_function_used = BinaryCrossentropy(from_logits=True)\n",
    "loss_function_used = BinaryCrossentropy()"
   ]
  },
  {
   "cell_type": "code",
   "execution_count": 33,
   "metadata": {},
   "outputs": [],
   "source": [
    "\n",
    "X_training, Targets_training, X_testing, Targets_testing = generate_binary_blobs(num_samples,\n",
    "                                                                                 test_split,\n",
    "                                                                                 loss_function_used)"
   ]
  },
  {
   "cell_type": "markdown",
   "id": "259f172b-025f-47e4-a902-f6ec756ab259",
   "metadata": {},
   "source": [
    "We can take look at one of the samples.\n"
   ]
  },
  {
   "cell_type": "code",
   "execution_count": 34,
   "metadata": {},
   "outputs": [
    {
     "data": {
      "image/png": "[encoded data removed]",
      "text/plain": [
       "<Figure size 400x400 with 1 Axes>"
      ]
     },
     "metadata": {},
     "output_type": "display_data"
    }
   ],
   "source": [
    "plt.figure(figsize=(4, 4))\n",
    "plt.scatter(X_training[:,0], X_training[:,1])\n",
    "plt.title('Linearly separable data')\n",
    "plt.xlabel('X1')\n",
    "plt.ylabel('X2')\n",
    "plt.show()"
   ]
  },
  {
   "cell_type": "markdown",
   "id": "1e419625-b6dd-42f8-b064-cb76e435bd87",
   "metadata": {},
   "source": [
    "We will build a simple CNN model with two hidden layers, that uses sigmoid as the activation function, and binary cross-entropy as the loss function. Let's define the architecture of our model:\n"
   ]
  },
  {
   "cell_type": "code",
   "execution_count": 35,
   "metadata": {},
   "outputs": [],
   "source": [
    "feature_vector_shape = X_training.shape[1]\n",
    "input_shape = (feature_vector_shape,)\n",
    "\n",
    "model = Sequential()\n",
    "model.add(Dense(12, input_shape=input_shape, activation='relu',\n",
    "                 kernel_initializer='he_uniform'))\n",
    "model.add(Dense(8, activation='relu', kernel_initializer='he_uniform'))\n",
    "model.add(Dense(1, activation = 'sigmoid'))"
   ]
  },
  {
   "cell_type": "code",
   "execution_count": 36,
   "metadata": {},
   "outputs": [
    {
     "name": "stdout",
     "output_type": "stream",
     "text": [
      "Epoch 1/30\n",
      "120/120 [==============================] - 2s 9ms/step - loss: -4038.2559 - accuracy: 0.4583 - val_loss: -16803.9492 - val_accuracy: 0.5333\n",
      "Epoch 2/30\n",
      "120/120 [==============================] - 1s 5ms/step - loss: -142609.1094 - accuracy: 0.4767 - val_loss: -254606.5625 - val_accuracy: 0.5333\n",
      "Epoch 3/30\n",
      "120/120 [==============================] - 1s 5ms/step - loss: -852437.4375 - accuracy: 0.4833 - val_loss: -1092271.5000 - val_accuracy: 0.5333\n",
      "Epoch 4/30\n",
      "120/120 [==============================] - 1s 5ms/step - loss: -2727419.2500 - accuracy: 0.4833 - val_loss: -2923377.2500 - val_accuracy: 0.5333\n",
      "Epoch 5/30\n",
      "120/120 [==============================] - 1s 8ms/step - loss: -6151534.5000 - accuracy: 0.4850 - val_loss: -6016751.0000 - val_accuracy: 0.5333\n",
      "Epoch 6/30\n",
      "120/120 [==============================] - 1s 6ms/step - loss: -11464070.0000 - accuracy: 0.4817 - val_loss: -10572623.0000 - val_accuracy: 0.5267\n",
      "Epoch 7/30\n",
      "120/120 [==============================] - 1s 6ms/step - loss: -19141422.0000 - accuracy: 0.4867 - val_loss: -16760177.0000 - val_accuracy: 0.5333\n",
      "Epoch 8/30\n",
      "120/120 [==============================] - 1s 6ms/step - loss: -29306382.0000 - accuracy: 0.4850 - val_loss: -25009288.0000 - val_accuracy: 0.5333\n",
      "Epoch 9/30\n",
      "120/120 [==============================] - 1s 7ms/step - loss: -42482340.0000 - accuracy: 0.4833 - val_loss: -35434904.0000 - val_accuracy: 0.5333\n",
      "Epoch 10/30\n",
      "120/120 [==============================] - 1s 5ms/step - loss: -59072088.0000 - accuracy: 0.4867 - val_loss: -47883344.0000 - val_accuracy: 0.5333\n",
      "Epoch 11/30\n",
      "120/120 [==============================] - 1s 5ms/step - loss: -78829136.0000 - accuracy: 0.4850 - val_loss: -63151228.0000 - val_accuracy: 0.5333\n",
      "Epoch 12/30\n",
      "120/120 [==============================] - 1s 6ms/step - loss: -101960840.0000 - accuracy: 0.4850 - val_loss: -80938608.0000 - val_accuracy: 0.5333\n",
      "Epoch 13/30\n",
      "120/120 [==============================] - 1s 7ms/step - loss: -128549712.0000 - accuracy: 0.4883 - val_loss: -100011304.0000 - val_accuracy: 0.5333\n",
      "Epoch 14/30\n",
      "120/120 [==============================] - 1s 9ms/step - loss: -158422528.0000 - accuracy: 0.4850 - val_loss: -122761736.0000 - val_accuracy: 0.5333\n",
      "Epoch 15/30\n",
      "120/120 [==============================] - 1s 7ms/step - loss: -192321424.0000 - accuracy: 0.4850 - val_loss: -147942336.0000 - val_accuracy: 0.5333\n",
      "Epoch 16/30\n",
      "120/120 [==============================] - 1s 6ms/step - loss: -229885840.0000 - accuracy: 0.4867 - val_loss: -176444704.0000 - val_accuracy: 0.5333\n",
      "Epoch 17/30\n",
      "120/120 [==============================] - 1s 9ms/step - loss: -271378176.0000 - accuracy: 0.4867 - val_loss: -206726976.0000 - val_accuracy: 0.5333\n",
      "Epoch 18/30\n",
      "120/120 [==============================] - 1s 11ms/step - loss: -316765536.0000 - accuracy: 0.4867 - val_loss: -240024336.0000 - val_accuracy: 0.5333\n",
      "Epoch 19/30\n",
      "120/120 [==============================] - 1s 9ms/step - loss: -366165792.0000 - accuracy: 0.4867 - val_loss: -276201344.0000 - val_accuracy: 0.5333\n",
      "Epoch 20/30\n",
      "120/120 [==============================] - 1s 10ms/step - loss: -419785152.0000 - accuracy: 0.4883 - val_loss: -315350528.0000 - val_accuracy: 0.5333\n",
      "Epoch 21/30\n",
      "120/120 [==============================] - 2s 13ms/step - loss: -477577120.0000 - accuracy: 0.4850 - val_loss: -357145280.0000 - val_accuracy: 0.5333\n",
      "Epoch 22/30\n",
      "120/120 [==============================] - 1s 11ms/step - loss: -539378560.0000 - accuracy: 0.4850 - val_loss: -402516160.0000 - val_accuracy: 0.5333\n",
      "Epoch 23/30\n",
      "120/120 [==============================] - 2s 14ms/step - loss: -605636032.0000 - accuracy: 0.4883 - val_loss: -449926880.0000 - val_accuracy: 0.5333\n",
      "Epoch 24/30\n",
      "120/120 [==============================] - 1s 8ms/step - loss: -676050304.0000 - accuracy: 0.4850 - val_loss: -502240544.0000 - val_accuracy: 0.5333\n",
      "Epoch 25/30\n",
      "120/120 [==============================] - 1s 6ms/step - loss: -751493312.0000 - accuracy: 0.4867 - val_loss: -555987840.0000 - val_accuracy: 0.5333\n",
      "Epoch 26/30\n",
      "120/120 [==============================] - 1s 8ms/step - loss: -831200896.0000 - accuracy: 0.4867 - val_loss: -613349824.0000 - val_accuracy: 0.5333\n",
      "Epoch 27/30\n",
      "120/120 [==============================] - 1s 7ms/step - loss: -915950592.0000 - accuracy: 0.4883 - val_loss: -674853760.0000 - val_accuracy: 0.5333\n",
      "Epoch 28/30\n",
      "120/120 [==============================] - 1s 7ms/step - loss: -1005498624.0000 - accuracy: 0.4850 - val_loss: -740270720.0000 - val_accuracy: 0.5333\n",
      "Epoch 29/30\n",
      "120/120 [==============================] - 1s 8ms/step - loss: -1099746560.0000 - accuracy: 0.4883 - val_loss: -808570368.0000 - val_accuracy: 0.5333\n",
      "Epoch 30/30\n",
      "120/120 [==============================] - 1s 5ms/step - loss: -1198735232.0000 - accuracy: 0.4867 - val_loss: -877939776.0000 - val_accuracy: 0.5200\n"
     ]
    }
   ],
   "source": [
    "model.compile(loss=loss_function_used, optimizer=tf.keras.optimizers.Adam(learning_rate=0.1),\n",
    "              metrics=['accuracy'])\n",
    "\n",
    "history = model.fit(X_training, Targets_training, epochs=30, batch_size=5,\n",
    "                    verbose=1, validation_split=0.2)"
   ]
  },
  {
   "cell_type": "markdown",
   "id": "947a8e18-1993-44a2-b200-7b1385f62557",
   "metadata": {},
   "source": [
    "We will now use the trained model to make predictions on an unseen test dataset.\n"
   ]
  },
  {
   "cell_type": "code",
   "execution_count": 37,
   "metadata": {},
   "outputs": [
    {
     "name": "stdout",
     "output_type": "stream",
     "text": [
      "8/8 [==============================] - 0s 5ms/step - loss: -1205966208.0000 - accuracy: 0.4920\n",
      "Test results - Loss: -1205966208.0 - Accuracy: 49.2000013589859%\n"
     ]
    }
   ],
   "source": [
    "test_results = model.evaluate(X_testing, Targets_testing, verbose=1)\n",
    "print(f'Test results - Loss: {test_results[0]} - Accuracy: {test_results[1]*100}%')"
   ]
  },
  {
   "cell_type": "code",
   "execution_count": 38,
   "metadata": {},
   "outputs": [
    {
     "name": "stdout",
     "output_type": "stream",
     "text": [
      "9600/9600 [==============================] - 35s 4ms/step\n"
     ]
    },
    {
     "data": {
      "image/png": "[encoded data removed]",
      "text/plain": [
       "<Figure size 640x480 with 1 Axes>"
      ]
     },
     "metadata": {},
     "output_type": "display_data"
    },
    {
     "data": {
      "text/plain": [
       "<Figure size 400x400 with 0 Axes>"
      ]
     },
     "metadata": {},
     "output_type": "display_data"
    }
   ],
   "source": [
    "plot_decision_regions(X_testing, Targets_testing, clf=model, legend=2)\n",
    "plt.figure(figsize=(4, 4))\n",
    "plt.show()"
   ]
  },
  {
   "cell_type": "markdown",
   "id": "4fb9f288-c625-41ce-a8a3-cdec56c6c20a",
   "metadata": {},
   "source": [
    "The model successfully classifies the two clusters into two classes.\n"
   ]
  },
  {
   "cell_type": "markdown",
   "id": "c1397eab-46d6-454f-9a1d-fbe2d2dd1a8b",
   "metadata": {},
   "source": [
    "### Multi-Class Classification\n"
   ]
  },
  {
   "cell_type": "markdown",
   "id": "5bb15802-475e-4afa-81a6-834d7842233c",
   "metadata": {},
   "source": [
    "Similar to binary classification, let's create another data set with 1000 samples, and use 750 of those samples for training a simple CNN model.\n"
   ]
  },
  {
   "cell_type": "markdown",
   "id": "0920bc38-a6c6-42fc-8ee2-434fcd173d05",
   "metadata": {},
   "source": [
    "Let us define a few more configuration options.\n"
   ]
  },
  {
   "cell_type": "markdown",
   "id": "02cfbebe-4c53-47a9-97e4-c29284afced9",
   "metadata": {},
   "source": [
    "*   **num_samples**: refers to the total number of samples in our dataset\n",
    "*   **test_split**: refers to the number of samples to be used for testing\n",
    "*   **cluster_centers**: we define 3 centers for our isotropic Gaussian blobs\n",
    "*   **num_classes**: we have 3 classes\n",
    "*   **loss_function_used**: since this is a multi-class classification problem, we use categorical cross-entropy loss\n"
   ]
  },
  {
   "cell_type": "code",
   "execution_count": 45,
   "metadata": {},
   "outputs": [],
   "source": [
    "num_samples = 1000\n",
    "train_split = 250\n",
    "cluster_centers = [(-10, 5), (0, 0), (10, 5)]\n",
    "num_classes = len(cluster_centers)\n",
    "loss_function_used = CategoricalCrossentropy()\n",
    "#loss_function_used = CategoricalCrossentropy(from_logits=True)"
   ]
  },
  {
   "cell_type": "code",
   "execution_count": 46,
   "metadata": {},
   "outputs": [],
   "source": [
    "\n",
    "X_training, Targets_training, X_testing, Targets_testing= generate_multiclass_blobs(num_samples, train_split,\n",
    "              cluster_centers, num_classes,\n",
    "              loss_function_used)"
   ]
  },
  {
   "cell_type": "markdown",
   "id": "d69c37c3-124d-40d6-81ca-842f8a87bfe6",
   "metadata": {},
   "source": [
    "Let's take a look at one of the samples.\n"
   ]
  },
  {
   "cell_type": "code",
   "execution_count": 47,
   "metadata": {},
   "outputs": [
    {
     "data": {
      "image/png": "[encoded data removed]",
      "text/plain": [
       "<Figure size 640x480 with 1 Axes>"
      ]
     },
     "metadata": {},
     "output_type": "display_data"
    }
   ],
   "source": [
    "plt.scatter(X_training[:,0], X_training[:,1])\n",
    "plt.title('Linearly separable data')\n",
    "plt.xlabel('X1')\n",
    "plt.ylabel('X2')\n",
    "plt.show()"
   ]
  },
  {
   "cell_type": "markdown",
   "id": "f3556105-3050-403e-8705-058a3d0b756d",
   "metadata": {},
   "source": [
    "We will build a simple CNN model with two hidden layers, that uses softmax as the activation function, and categorical cross-entropy as the loss function. Let's define the architecture of our model:\n"
   ]
  },
  {
   "cell_type": "code",
   "execution_count": 48,
   "metadata": {},
   "outputs": [],
   "source": [
    "feature_vector_shape = X_training.shape[1]\n",
    "input_shape = (feature_vector_shape,)\n",
    "\n",
    "model = Sequential()\n",
    "model.add(Dense(12, input_shape=input_shape, activation='relu', kernel_initializer='he_uniform'))\n",
    "model.add(Dense(8, activation='relu', kernel_initializer='he_uniform'))\n",
    "model.add(Dense(num_classes, activation='softmax'))"
   ]
  },
  {
   "cell_type": "code",
   "execution_count": 49,
   "metadata": {},
   "outputs": [
    {
     "name": "stdout",
     "output_type": "stream",
     "text": [
      "Epoch 1/30\n",
      "120/120 [==============================] - 2s 9ms/step - loss: 3.0858 - accuracy: 0.2200 - val_loss: 0.7522 - val_accuracy: 0.6800\n",
      "Epoch 2/30\n",
      "120/120 [==============================] - 1s 5ms/step - loss: 0.5286 - accuracy: 0.7583 - val_loss: 0.3403 - val_accuracy: 0.8333\n",
      "Epoch 3/30\n",
      "120/120 [==============================] - 1s 7ms/step - loss: 0.3556 - accuracy: 0.8183 - val_loss: 0.2471 - val_accuracy: 0.8733\n",
      "Epoch 4/30\n",
      "120/120 [==============================] - 1s 7ms/step - loss: 0.2790 - accuracy: 0.8817 - val_loss: 0.1917 - val_accuracy: 0.9467\n",
      "Epoch 5/30\n",
      "120/120 [==============================] - 1s 6ms/step - loss: 0.2223 - accuracy: 0.9567 - val_loss: 0.1496 - val_accuracy: 0.9800\n",
      "Epoch 6/30\n",
      "120/120 [==============================] - 1s 6ms/step - loss: 0.1773 - accuracy: 0.9833 - val_loss: 0.1189 - val_accuracy: 0.9867\n",
      "Epoch 7/30\n",
      "120/120 [==============================] - 1s 6ms/step - loss: 0.1397 - accuracy: 0.9950 - val_loss: 0.0974 - val_accuracy: 0.9867\n",
      "Epoch 8/30\n",
      "120/120 [==============================] - 1s 7ms/step - loss: 0.1024 - accuracy: 0.9950 - val_loss: 0.0668 - val_accuracy: 0.9933\n",
      "Epoch 9/30\n",
      "120/120 [==============================] - 1s 5ms/step - loss: 0.0715 - accuracy: 0.9967 - val_loss: 0.0520 - val_accuracy: 0.9933\n",
      "Epoch 10/30\n",
      "120/120 [==============================] - 1s 5ms/step - loss: 0.0552 - accuracy: 0.9950 - val_loss: 0.0422 - val_accuracy: 1.0000\n",
      "Epoch 11/30\n",
      "120/120 [==============================] - 1s 5ms/step - loss: 0.0425 - accuracy: 1.0000 - val_loss: 0.0334 - val_accuracy: 1.0000\n",
      "Epoch 12/30\n",
      "120/120 [==============================] - 1s 4ms/step - loss: 0.0327 - accuracy: 1.0000 - val_loss: 0.0251 - val_accuracy: 1.0000\n",
      "Epoch 13/30\n",
      "120/120 [==============================] - 1s 4ms/step - loss: 0.0256 - accuracy: 1.0000 - val_loss: 0.0190 - val_accuracy: 1.0000\n",
      "Epoch 14/30\n",
      "120/120 [==============================] - 1s 5ms/step - loss: 0.0202 - accuracy: 1.0000 - val_loss: 0.0148 - val_accuracy: 1.0000\n",
      "Epoch 15/30\n",
      "120/120 [==============================] - 1s 6ms/step - loss: 0.0163 - accuracy: 1.0000 - val_loss: 0.0114 - val_accuracy: 1.0000\n",
      "Epoch 16/30\n",
      "120/120 [==============================] - 1s 7ms/step - loss: 0.0131 - accuracy: 1.0000 - val_loss: 0.0092 - val_accuracy: 1.0000\n",
      "Epoch 17/30\n",
      "120/120 [==============================] - 1s 5ms/step - loss: 0.0109 - accuracy: 1.0000 - val_loss: 0.0076 - val_accuracy: 1.0000\n",
      "Epoch 18/30\n",
      "120/120 [==============================] - 1s 6ms/step - loss: 0.0093 - accuracy: 1.0000 - val_loss: 0.0061 - val_accuracy: 1.0000\n",
      "Epoch 19/30\n",
      "120/120 [==============================] - 1s 9ms/step - loss: 0.0074 - accuracy: 1.0000 - val_loss: 0.0052 - val_accuracy: 1.0000\n",
      "Epoch 20/30\n",
      "120/120 [==============================] - 1s 6ms/step - loss: 0.0059 - accuracy: 1.0000 - val_loss: 0.0048 - val_accuracy: 1.0000\n",
      "Epoch 21/30\n",
      "120/120 [==============================] - 1s 6ms/step - loss: 0.0050 - accuracy: 1.0000 - val_loss: 0.0043 - val_accuracy: 1.0000\n",
      "Epoch 22/30\n",
      "120/120 [==============================] - 1s 4ms/step - loss: 0.0042 - accuracy: 1.0000 - val_loss: 0.0040 - val_accuracy: 1.0000\n",
      "Epoch 23/30\n",
      "120/120 [==============================] - 1s 5ms/step - loss: 0.0037 - accuracy: 1.0000 - val_loss: 0.0035 - val_accuracy: 1.0000\n",
      "Epoch 24/30\n",
      "120/120 [==============================] - 0s 3ms/step - loss: 0.0032 - accuracy: 1.0000 - val_loss: 0.0032 - val_accuracy: 1.0000\n",
      "Epoch 25/30\n",
      "120/120 [==============================] - 1s 5ms/step - loss: 0.0028 - accuracy: 1.0000 - val_loss: 0.0030 - val_accuracy: 1.0000\n",
      "Epoch 26/30\n",
      "120/120 [==============================] - 1s 4ms/step - loss: 0.0025 - accuracy: 1.0000 - val_loss: 0.0029 - val_accuracy: 1.0000\n",
      "Epoch 27/30\n",
      "120/120 [==============================] - 1s 5ms/step - loss: 0.0022 - accuracy: 1.0000 - val_loss: 0.0024 - val_accuracy: 1.0000\n",
      "Epoch 28/30\n",
      "120/120 [==============================] - 1s 4ms/step - loss: 0.0020 - accuracy: 1.0000 - val_loss: 0.0024 - val_accuracy: 1.0000\n",
      "Epoch 29/30\n",
      "120/120 [==============================] - 1s 4ms/step - loss: 0.0018 - accuracy: 1.0000 - val_loss: 0.0022 - val_accuracy: 1.0000\n",
      "Epoch 30/30\n",
      "120/120 [==============================] - 1s 6ms/step - loss: 0.0016 - accuracy: 1.0000 - val_loss: 0.0020 - val_accuracy: 1.0000\n"
     ]
    }
   ],
   "source": [
    "model.compile(loss=loss_function_used, optimizer=tf.keras.optimizers.Adam(learning_rate=0.001), metrics=['accuracy'])\n",
    "history = model.fit(X_training, Targets_training, epochs=30, batch_size=5, verbose=1, validation_split=0.2)"
   ]
  },
  {
   "cell_type": "markdown",
   "id": "e772e386-d6ba-492c-b717-7b36bc245e87",
   "metadata": {},
   "source": [
    "We will now use the trained model to make predictions on an unseen test dataset.\n"
   ]
  },
  {
   "cell_type": "code",
   "execution_count": 50,
   "metadata": {},
   "outputs": [
    {
     "name": "stdout",
     "output_type": "stream",
     "text": [
      "8/8 [==============================] - 0s 5ms/step - loss: 0.0042 - accuracy: 1.0000\n",
      "Test results - Loss: 0.004167111590504646 - Accuracy: 100.0%\n"
     ]
    }
   ],
   "source": [
    "test_results = model.evaluate(X_testing, Targets_testing, verbose=1)\n",
    "print(f'Test results - Loss: {test_results[0]} - Accuracy: {test_results[1]*100}%')"
   ]
  },
  {
   "cell_type": "code",
   "execution_count": 51,
   "metadata": {},
   "outputs": [],
   "source": [
    "class Onehot2Int(object):\n",
    "\n",
    "    def __init__(self, model):\n",
    "        self.model = model\n",
    "\n",
    "    def predict(self, X):\n",
    "        y_pred = self.model.predict(X)\n",
    "        return np.argmax(y_pred, axis=1)\n",
    "\n",
    "# fit keras_model\n",
    "keras_model_no_ohe = Onehot2Int(model)"
   ]
  },
  {
   "cell_type": "code",
   "execution_count": 52,
   "metadata": {},
   "outputs": [
    {
     "name": "stdout",
     "output_type": "stream",
     "text": [
      "9600/9600 [==============================] - 30s 3ms/step\n"
     ]
    },
    {
     "data": {
      "image/png": "[encoded data removed]",
      "text/plain": [
       "<Figure size 640x480 with 1 Axes>"
      ]
     },
     "metadata": {},
     "output_type": "display_data"
    }
   ],
   "source": [
    "# Plot decision boundary\n",
    "plot_decision_regions(X_testing, np.argmax(Targets_testing, axis=1), clf=keras_model_no_ohe, legend=3)\n",
    "plt.show()"
   ]
  },
  {
   "cell_type": "markdown",
   "id": "61838803-df3a-48dc-a2fd-e9948047f1f0",
   "metadata": {},
   "source": [
    "## Example: MNIST Hand-Written Digits\n"
   ]
  },
  {
   "cell_type": "markdown",
   "id": "787011cc-ebcc-478d-b90b-e8e963c5ef87",
   "metadata": {},
   "source": [
    "Let us first load our MNIST hand-written dataset using the Keras library.\n"
   ]
  },
  {
   "cell_type": "code",
   "execution_count": 54,
   "metadata": {},
   "outputs": [],
   "source": [
    "(X_train, y_train), (X_test, y_test) = mnist.load_data()"
   ]
  },
  {
   "cell_type": "code",
   "execution_count": 55,
   "metadata": {},
   "outputs": [
    {
     "name": "stdout",
     "output_type": "stream",
     "text": [
      "X_train shape (60000, 28, 28)\n",
      "y_train shape (60000,)\n",
      "X_test shape (10000, 28, 28)\n",
      "y_test shape (10000,)\n"
     ]
    }
   ],
   "source": [
    "print(\"X_train shape\", X_train.shape)\n",
    "print(\"y_train shape\", y_train.shape)\n",
    "print(\"X_test shape\", X_test.shape)\n",
    "print(\"y_test shape\", y_test.shape)"
   ]
  },
  {
   "cell_type": "markdown",
   "id": "6abb43a0-a5e9-4fa9-8fa3-bd2d507916bd",
   "metadata": {},
   "source": [
    "Now we can plot some sample digits from the training set.\n"
   ]
  },
  {
   "cell_type": "code",
   "execution_count": 56,
   "metadata": {},
   "outputs": [
    {
     "data": {
      "image/png": "[encoded data removed]",
      "text/plain": [
       "<Figure size 600x600 with 4 Axes>"
      ]
     },
     "metadata": {},
     "output_type": "display_data"
    }
   ],
   "source": [
    "plt.rcParams['figure.figsize'] = (6,6) \n",
    "\n",
    "for i in range(4):\n",
    "    plt.subplot(2,2,i+1)\n",
    "    num = random.randint(0, len(X_train))\n",
    "    plt.imshow(X_train[num], cmap='gray', interpolation='none')\n",
    "    plt.title(\"class {}\".format(y_train[num]))\n",
    "    \n",
    "plt.tight_layout()"
   ]
  },
  {
   "cell_type": "markdown",
   "id": "959b726f-bf4e-4000-b012-cbf359b091ce",
   "metadata": {},
   "source": [
    "Each image is on a grayscale (that is, only 1 channel) and is of size 28x28. We need to flatten each image by reshaping our matrix from 28x28 to a 784-length vector.\n"
   ]
  },
  {
   "cell_type": "code",
   "execution_count": 57,
   "metadata": {},
   "outputs": [
    {
     "name": "stdout",
     "output_type": "stream",
     "text": [
      "(60000, 784)\n",
      "(10000, 784)\n"
     ]
    }
   ],
   "source": [
    "X_train = X_train.reshape(X_train.shape[0], X_train.shape[1]* X_train.shape[2])\n",
    "X_test = X_test.reshape(X_test.shape[0], X_test.shape[1] * X_test.shape[2])\n",
    "\n",
    "print(X_train.shape)\n",
    "print(X_test.shape)"
   ]
  },
  {
   "cell_type": "markdown",
   "id": "65124980-169c-41a1-8df0-12018e9fe62f",
   "metadata": {},
   "source": [
    "Next, we need to change integers to 32-bit floating point numbers. We would also need to normalize our input to be in the range [0, 1], rather than [0-255].\n"
   ]
  },
  {
   "cell_type": "code",
   "execution_count": 58,
   "metadata": {},
   "outputs": [],
   "source": [
    "X_train = X_train.astype('float32')\n",
    "X_test = X_test.astype('float32')\n",
    "\n",
    "X_train /= 255\n",
    "X_test /= 255"
   ]
  },
  {
   "cell_type": "markdown",
   "id": "eaada7fa-7b54-4d7b-a3dd-bb664c4eb548",
   "metadata": {},
   "source": [
    "Our target variable, `y`, is an array of the following form:\n"
   ]
  },
  {
   "cell_type": "code",
   "execution_count": 59,
   "metadata": {},
   "outputs": [
    {
     "data": {
      "text/plain": [
       "array([5, 0, 4, ..., 5, 6, 8], dtype=uint8)"
      ]
     },
     "execution_count": 59,
     "metadata": {},
     "output_type": "execute_result"
    }
   ],
   "source": [
    "y_train"
   ]
  },
  {
   "cell_type": "markdown",
   "id": "9e158e24-7acb-4deb-be3e-05e7713b917c",
   "metadata": {},
   "source": [
    "The categorical cross-entropy function expects that we provide one-hot encoded representations of the labels and predictions. Let us one-hot encode our target, `y`, using the `OneHotEncoder()` function from sklearn.\n"
   ]
  },
  {
   "cell_type": "code",
   "execution_count": 60,
   "metadata": {},
   "outputs": [
    {
     "name": "stdout",
     "output_type": "stream",
     "text": [
      "[array([0, 1, 2, 3, 4, 5, 6, 7, 8, 9], dtype=uint8)]\n"
     ]
    }
   ],
   "source": [
    "enc = OneHotEncoder(sparse_output=False)\n",
    "enc.fit(y_train.reshape(-1, 1))\n",
    "print(enc.categories_)"
   ]
  },
  {
   "cell_type": "code",
   "execution_count": 61,
   "metadata": {},
   "outputs": [],
   "source": [
    "y_train_enc = enc.transform(y_train.reshape(-1,1))\n",
    "y_test_enc = enc.transform(y_test.reshape(-1,1))"
   ]
  },
  {
   "cell_type": "markdown",
   "id": "8f654ec1-1f5f-4c87-8430-05dbe5256156",
   "metadata": {},
   "source": [
    "In this multi-class classification task, we want to interpret our logistic regression model's results as a probability distribution; that is the model should output a vector that represents the probability of the given image belonging to each of the 10 classes. \n",
    "\n",
    "All elements in the vector should fall into the \\[0,1] range and sum up to 1. In order to set up our classification problem this way, we can feed the model output to a softmax function to produce probabilities.\n"
   ]
  },
  {
   "cell_type": "markdown",
   "id": "4dec8024-0603-4f63-be4e-0031c50a39fa",
   "metadata": {},
   "source": [
    "For training our multi-class logistic classifier, we need a loss function. Categorical cross-entropy is a loss function widely used with softmax. We need to minimize this loss function in order to determine an optimal set of parameters.\n"
   ]
  },
  {
   "cell_type": "markdown",
   "id": "542afa5e-170d-43fa-aaf3-66ad812270ff",
   "metadata": {},
   "source": [
    "We will build a simple CNN model with two hidden layers, that uses softmax as the activation function, and categorical cross-entropy as the loss function. Let's define the architecture of our model:\n"
   ]
  },
  {
   "cell_type": "code",
   "execution_count": 64,
   "metadata": {},
   "outputs": [],
   "source": [
    "feature_vector_shape = X_train.shape[1]\n",
    "input_shape = (feature_vector_shape,)\n",
    "num_classes = 10\n",
    "#loss_function_used=CategoricalCrossentropy(from_logits=True)\n",
    "loss_function_used=CategoricalCrossentropy()\n",
    "model = Sequential()\n",
    "model.add(Dense(12, input_shape=input_shape, activation='relu', kernel_initializer='he_uniform'))\n",
    "model.add(Dense(8, activation='relu', kernel_initializer='he_uniform'))\n",
    "model.add(Dense(num_classes, activation='softmax'))"
   ]
  },
  {
   "cell_type": "code",
   "execution_count": 65,
   "metadata": {},
   "outputs": [
    {
     "name": "stdout",
     "output_type": "stream",
     "text": [
      "Epoch 1/25\n",
      "9600/9600 [==============================] - 49s 5ms/step - loss: 0.4251 - accuracy: 0.8716 - val_loss: 0.2820 - val_accuracy: 0.9147\n",
      "Epoch 2/25\n",
      "9600/9600 [==============================] - 51s 5ms/step - loss: 0.2540 - accuracy: 0.9254 - val_loss: 0.2265 - val_accuracy: 0.9335\n",
      "Epoch 3/25\n",
      "9600/9600 [==============================] - 43s 4ms/step - loss: 0.2221 - accuracy: 0.9342 - val_loss: 0.2250 - val_accuracy: 0.9367\n",
      "Epoch 4/25\n",
      "9600/9600 [==============================] - 43s 5ms/step - loss: 0.2054 - accuracy: 0.9401 - val_loss: 0.2057 - val_accuracy: 0.9415\n",
      "Epoch 5/25\n",
      "9600/9600 [==============================] - 48s 5ms/step - loss: 0.1960 - accuracy: 0.9421 - val_loss: 0.1978 - val_accuracy: 0.9424\n",
      "Epoch 6/25\n",
      "9600/9600 [==============================] - 49s 5ms/step - loss: 0.1863 - accuracy: 0.9442 - val_loss: 0.2008 - val_accuracy: 0.9428\n",
      "Epoch 7/25\n",
      "9600/9600 [==============================] - 49s 5ms/step - loss: 0.1811 - accuracy: 0.9460 - val_loss: 0.1985 - val_accuracy: 0.9440\n",
      "Epoch 8/25\n",
      "9600/9600 [==============================] - 45s 5ms/step - loss: 0.1762 - accuracy: 0.9481 - val_loss: 0.1862 - val_accuracy: 0.9479\n",
      "Epoch 9/25\n",
      "9600/9600 [==============================] - 47s 5ms/step - loss: 0.1703 - accuracy: 0.9489 - val_loss: 0.2101 - val_accuracy: 0.9413\n",
      "Epoch 10/25\n",
      "9600/9600 [==============================] - 42s 4ms/step - loss: 0.1665 - accuracy: 0.9506 - val_loss: 0.1972 - val_accuracy: 0.9451\n",
      "Epoch 11/25\n",
      "9600/9600 [==============================] - 48s 5ms/step - loss: 0.1640 - accuracy: 0.9510 - val_loss: 0.1915 - val_accuracy: 0.9451\n",
      "Epoch 12/25\n",
      "9600/9600 [==============================] - 52s 5ms/step - loss: 0.1616 - accuracy: 0.9516 - val_loss: 0.1903 - val_accuracy: 0.9482\n",
      "Epoch 13/25\n",
      "9600/9600 [==============================] - 61s 6ms/step - loss: 0.1554 - accuracy: 0.9532 - val_loss: 0.1869 - val_accuracy: 0.9478\n",
      "Epoch 14/25\n",
      "9600/9600 [==============================] - 42s 4ms/step - loss: 0.1529 - accuracy: 0.9540 - val_loss: 0.1980 - val_accuracy: 0.9442\n",
      "Epoch 15/25\n",
      "9600/9600 [==============================] - 42s 4ms/step - loss: 0.1517 - accuracy: 0.9550 - val_loss: 0.1958 - val_accuracy: 0.9458\n",
      "Epoch 16/25\n",
      "9600/9600 [==============================] - 40s 4ms/step - loss: 0.1490 - accuracy: 0.9559 - val_loss: 0.1979 - val_accuracy: 0.9467\n",
      "Epoch 17/25\n",
      "9600/9600 [==============================] - 43s 4ms/step - loss: 0.1469 - accuracy: 0.9555 - val_loss: 0.1924 - val_accuracy: 0.9466\n",
      "Epoch 18/25\n",
      "9600/9600 [==============================] - 42s 4ms/step - loss: 0.1453 - accuracy: 0.9562 - val_loss: 0.2183 - val_accuracy: 0.9394\n",
      "Epoch 19/25\n",
      "9600/9600 [==============================] - 40s 4ms/step - loss: 0.1429 - accuracy: 0.9563 - val_loss: 0.1946 - val_accuracy: 0.9482\n",
      "Epoch 20/25\n",
      "9600/9600 [==============================] - 43s 4ms/step - loss: 0.1400 - accuracy: 0.9576 - val_loss: 0.1981 - val_accuracy: 0.9479\n",
      "Epoch 21/25\n",
      "9600/9600 [==============================] - 44s 5ms/step - loss: 0.1392 - accuracy: 0.9571 - val_loss: 0.1938 - val_accuracy: 0.9501\n",
      "Epoch 22/25\n",
      "9600/9600 [==============================] - 44s 5ms/step - loss: 0.1393 - accuracy: 0.9574 - val_loss: 0.2016 - val_accuracy: 0.9466\n",
      "Epoch 23/25\n",
      "9600/9600 [==============================] - 40s 4ms/step - loss: 0.1360 - accuracy: 0.9598 - val_loss: 0.1949 - val_accuracy: 0.9479\n",
      "Epoch 24/25\n",
      "9600/9600 [==============================] - 39s 4ms/step - loss: 0.1349 - accuracy: 0.9588 - val_loss: 0.1978 - val_accuracy: 0.9482\n",
      "Epoch 25/25\n",
      "9600/9600 [==============================] - 40s 4ms/step - loss: 0.1330 - accuracy: 0.9594 - val_loss: 0.2101 - val_accuracy: 0.9457\n"
     ]
    }
   ],
   "source": [
    "model.compile(loss=loss_function_used, optimizer=tf.keras.optimizers.Adam(learning_rate=0.001), metrics=['accuracy'])\n",
    "history = model.fit(X_train, y_train_enc, epochs=25, batch_size=5, verbose=1, validation_split=0.2)"
   ]
  },
  {
   "cell_type": "markdown",
   "id": "b776d67f-0762-46c8-bd0f-9833855e3127",
   "metadata": {},
   "source": [
    "## Example: Single-Digit House Number Recognition\n"
   ]
  },
  {
   "cell_type": "markdown",
   "id": "62ccd69f-4a39-4d0d-9614-bc42cb6774d8",
   "metadata": {},
   "source": [
    "Recognizing multi-digit text from photographs is a hard problem. In this example, we deal with a simpler sub-problem that involves using a convolutional neural network with the categorical cross-entropy loss function to build a classifier that identifies single-digit numbers from custom images.\n"
   ]
  },
  {
   "cell_type": "markdown",
   "id": "54c24cb9-24c7-4139-bd4b-a567426a30e3",
   "metadata": {},
   "source": [
    "First, let's load in a custom image using a URL. \\[Image from [comforthouse](https://www.comforthouse.com/floating-1-number-sign.html?utm_medium=Exinfluencer&utm_source=Exinfluencer&utm_content=000026UJ&utm_term=10006555&utm_id=NA-SkillsNetwork-Channel-SkillsNetworkCoursesIBMDeveloperSkillsNetworkML311Coursera35714171-2022-01-01).]\n"
   ]
  },
  {
   "cell_type": "code",
   "execution_count": 66,
   "metadata": {},
   "outputs": [
    {
     "data": {
      "image/jpeg": "[encoded data removed]",
      "image/png": "[encoded data removed]",
      "text/plain": [
       "<PIL.Image.Image image mode=RGB size=225x225>"
      ]
     },
     "execution_count": 66,
     "metadata": {},
     "output_type": "execute_result"
    }
   ],
   "source": [
    "URL = 'https://cf-courses-data.s3.us.cloud-object-storage.appdomain.cloud/IBMDeveloperSkillsNetwork-ML311-Coursera/images/house_number_5.jpeg'\n",
    "image = Image.open(urlopen(URL)).convert('RGB')\n",
    "image"
   ]
  },
  {
   "cell_type": "markdown",
   "id": "509c02b7-f0e4-48ca-ab54-3522dba76cbe",
   "metadata": {},
   "source": [
    "Let us define a CNN architecture that is similar to one used for MNIST hand-written digit classification. We use a softmax as the activation function and categorical cross-entropy as the loss function as this is a multi-class classification problem.\n"
   ]
  },
  {
   "cell_type": "code",
   "execution_count": 67,
   "metadata": {},
   "outputs": [
    {
     "name": "stdout",
     "output_type": "stream",
     "text": [
      "Epoch 1/25\n",
      "9600/9600 [==============================] - 57s 6ms/step - loss: 0.5137 - accuracy: 0.8447 - val_loss: 0.3191 - val_accuracy: 0.9089\n",
      "Epoch 2/25\n",
      "9600/9600 [==============================] - 47s 5ms/step - loss: 0.3127 - accuracy: 0.9105 - val_loss: 0.3064 - val_accuracy: 0.9126\n",
      "Epoch 3/25\n",
      "9600/9600 [==============================] - 52s 5ms/step - loss: 0.2778 - accuracy: 0.9203 - val_loss: 0.2612 - val_accuracy: 0.9259\n",
      "Epoch 4/25\n",
      "9600/9600 [==============================] - 51s 5ms/step - loss: 0.2594 - accuracy: 0.9232 - val_loss: 0.2657 - val_accuracy: 0.9236\n",
      "Epoch 5/25\n",
      "9600/9600 [==============================] - 67s 7ms/step - loss: 0.2424 - accuracy: 0.9287 - val_loss: 0.2668 - val_accuracy: 0.9212\n",
      "Epoch 6/25\n",
      "9600/9600 [==============================] - 55s 6ms/step - loss: 0.2304 - accuracy: 0.9326 - val_loss: 0.2272 - val_accuracy: 0.9349\n",
      "Epoch 7/25\n",
      "9600/9600 [==============================] - 58s 6ms/step - loss: 0.2213 - accuracy: 0.9348 - val_loss: 0.2238 - val_accuracy: 0.9369\n",
      "Epoch 8/25\n",
      "9600/9600 [==============================] - 45s 5ms/step - loss: 0.2130 - accuracy: 0.9374 - val_loss: 0.2264 - val_accuracy: 0.9358\n",
      "Epoch 9/25\n",
      "9600/9600 [==============================] - 45s 5ms/step - loss: 0.2036 - accuracy: 0.9398 - val_loss: 0.2412 - val_accuracy: 0.9312\n",
      "Epoch 10/25\n",
      "9600/9600 [==============================] - 57s 6ms/step - loss: 0.1952 - accuracy: 0.9429 - val_loss: 0.2115 - val_accuracy: 0.9392\n",
      "Epoch 11/25\n",
      "9600/9600 [==============================] - 58s 6ms/step - loss: 0.1895 - accuracy: 0.9443 - val_loss: 0.2139 - val_accuracy: 0.9413\n",
      "Epoch 12/25\n",
      "9600/9600 [==============================] - 61s 6ms/step - loss: 0.1835 - accuracy: 0.9456 - val_loss: 0.2140 - val_accuracy: 0.9407\n",
      "Epoch 13/25\n",
      "9600/9600 [==============================] - 53s 6ms/step - loss: 0.1791 - accuracy: 0.9473 - val_loss: 0.2046 - val_accuracy: 0.9406\n",
      "Epoch 14/25\n",
      "9600/9600 [==============================] - 82s 8ms/step - loss: 0.1749 - accuracy: 0.9479 - val_loss: 0.2264 - val_accuracy: 0.9351\n",
      "Epoch 15/25\n",
      "9600/9600 [==============================] - 58s 6ms/step - loss: 0.1716 - accuracy: 0.9490 - val_loss: 0.2132 - val_accuracy: 0.9419\n",
      "Epoch 16/25\n",
      "9600/9600 [==============================] - 50s 5ms/step - loss: 0.1684 - accuracy: 0.9496 - val_loss: 0.2050 - val_accuracy: 0.9415\n",
      "Epoch 17/25\n",
      "9600/9600 [==============================] - 46s 5ms/step - loss: 0.1668 - accuracy: 0.9500 - val_loss: 0.2250 - val_accuracy: 0.9364\n",
      "Epoch 18/25\n",
      "9600/9600 [==============================] - 43s 5ms/step - loss: 0.1637 - accuracy: 0.9502 - val_loss: 0.2045 - val_accuracy: 0.9438\n",
      "Epoch 19/25\n",
      "9600/9600 [==============================] - 44s 5ms/step - loss: 0.1623 - accuracy: 0.9514 - val_loss: 0.2152 - val_accuracy: 0.9399\n",
      "Epoch 20/25\n",
      "9600/9600 [==============================] - 44s 5ms/step - loss: 0.1599 - accuracy: 0.9521 - val_loss: 0.2077 - val_accuracy: 0.9427\n",
      "Epoch 21/25\n",
      "9600/9600 [==============================] - 46s 5ms/step - loss: 0.1575 - accuracy: 0.9529 - val_loss: 0.2327 - val_accuracy: 0.9379\n",
      "Epoch 22/25\n",
      "9600/9600 [==============================] - 44s 5ms/step - loss: 0.1557 - accuracy: 0.9527 - val_loss: 0.2112 - val_accuracy: 0.9417\n",
      "Epoch 23/25\n",
      "9600/9600 [==============================] - 63s 7ms/step - loss: 0.1543 - accuracy: 0.9532 - val_loss: 0.2057 - val_accuracy: 0.9424\n",
      "Epoch 24/25\n",
      "9600/9600 [==============================] - 81s 8ms/step - loss: 0.1530 - accuracy: 0.9537 - val_loss: 0.2171 - val_accuracy: 0.9423\n",
      "Epoch 25/25\n",
      "9600/9600 [==============================] - 72s 7ms/step - loss: 0.1511 - accuracy: 0.9543 - val_loss: 0.2208 - val_accuracy: 0.9396\n"
     ]
    }
   ],
   "source": [
    "feature_vector_shape,input_shape = 784,784\n",
    "num_classes = 10\n",
    "loss_function_used = CategoricalCrossentropy()\n",
    "model = Sequential()\n",
    "model.add(Dense(12, input_shape=(input_shape,), activation='relu', kernel_initializer='he_uniform'))\n",
    "model.add(Dense(8, activation='relu', kernel_initializer='he_uniform'))\n",
    "model.add(Dense(num_classes, activation='softmax'))\n",
    "\n",
    "model.compile(loss=loss_function_used, optimizer=tf.keras.optimizers.Adam(learning_rate=0.001), metrics=['accuracy'])\n",
    "history = model.fit(X_train, y_train_enc, epochs=25, batch_size=5, verbose=1, validation_split=0.2)"
   ]
  },
  {
   "cell_type": "markdown",
   "id": "54460ecb-ba7c-4c41-b5bd-492497d7d5d7",
   "metadata": {},
   "source": [
    "We must now pre-process our raw input images to be grayscale and 28x28 in size.\n"
   ]
  },
  {
   "cell_type": "markdown",
   "id": "4ae0dce7-24cf-4d71-8381-b0c1b87c8982",
   "metadata": {},
   "source": [
    "We will now convert the image to an array, and reshape it such that it has a dimension of (1, 784).\n"
   ]
  },
  {
   "cell_type": "markdown",
   "id": "d77175bc-1c27-48f1-8d58-5b014c143de6",
   "metadata": {},
   "source": [
    "Finally, we will feed the array as an input to our model, and use the argmax function to determine the most likely digit label.\n"
   ]
  },
  {
   "cell_type": "markdown",
   "id": "6317e5da-9ca4-48c1-b2d4-01256f55b8fb",
   "metadata": {},
   "source": [
    "We got it right! You are free to experiment with different custom images by simply changing the URL.\n"
   ]
  },
  {
   "cell_type": "markdown",
   "id": "95698317-9f1f-4bb4-98b6-082a4200ad62",
   "metadata": {},
   "source": [
    "# Exercises\n"
   ]
  },
  {
   "cell_type": "markdown",
   "id": "5d3cd68b-2886-4c3d-ac81-da5169f4bfb2",
   "metadata": {},
   "source": [
    "For these exercises, we will be using the Fashion-MNIST dataset. It consists of 60,000 28x28 grayscale training images and 10,000 test images for 10 different categories, listed below:\n"
   ]
  },
  {
   "cell_type": "markdown",
   "id": "9cd389f0-994c-4f69-a87e-977491cbb8c5",
   "metadata": {},
   "source": [
    "0.  T-shirt\n",
    "1.  Trouser\n",
    "2.  Pullover\n",
    "3.  Dress\n",
    "4.  Coat\n",
    "5.  Sandal\n",
    "6.  Shirt\n",
    "7.  Sneaker\n",
    "8.  Bag\n",
    "9.  Ankle boot\n"
   ]
  },
  {
   "cell_type": "markdown",
   "id": "a3be35bd-1671-47d4-a19d-833573bfaad6",
   "metadata": {},
   "source": [
    "### Exercise 1 - Loading and plotting the images\n"
   ]
  },
  {
   "cell_type": "markdown",
   "id": "ccebc39a-6ab8-49c2-9dce-357c3186659e",
   "metadata": {},
   "source": [
    "Similar to the MNIST hand-written digits dataset, Fashion-MNIST is available for loading through Keras. Load the dataset using Keras in a similar manner. Plot some sample images from the training set.\n"
   ]
  },
  {
   "cell_type": "markdown",
   "id": "0c79e8d2-3a93-4dff-a9c8-1515a402cb1e",
   "metadata": {},
   "source": [
    "<details>\n",
    "    <summary>Click here for Solution</summary>\n",
    "\n",
    "```python\n",
    "(X_train, y_train), (X_test, y_test) = fashion_mnist.load_data()\n",
    "\n",
    "\n",
    "plt.rcParams['figure.figsize'] = (6,6) \n",
    "\n",
    "for i in range(4):\n",
    "    plt.subplot(2,2,i+1)\n",
    "    num = random.randint(0, len(X_train))\n",
    "    plt.imshow(X_train[num], cmap='gray', interpolation='none')\n",
    "    plt.title(\"class {}\".format(y_train[num]))\n",
    "    \n",
    "plt.tight_layout()\n",
    "```\n",
    "\n",
    "</details>\n"
   ]
  },
  {
   "cell_type": "markdown",
   "id": "b7e5c5e2-41ed-436f-b65b-fdad4f4f6b23",
   "metadata": {},
   "source": [
    "### Exercise 2 - Preparing the data\n"
   ]
  },
  {
   "cell_type": "markdown",
   "id": "0dae1df4-c266-4785-885d-f1a2c7fa0e99",
   "metadata": {},
   "source": [
    "Convert all grayscale images of size 28x28 to a 784-length vector. Change integers to 32-bit floating point numbers and normalize the input to be in the range \\[0, 1], rather than \\[0-255].\n"
   ]
  },
  {
   "cell_type": "markdown",
   "id": "64a35876-00a9-4219-b359-13cdd46fa17e",
   "metadata": {},
   "source": [
    "<details>\n",
    "    <summary>Click here for Solution</summary>\n",
    "\n",
    "```python\n",
    "X_train = X_train.reshape(X_train.shape[0], X_train.shape[1]* X_train.shape[2])\n",
    "X_test = X_test.reshape(X_test.shape[0], X_test.shape[1] * X_test.shape[2])\n",
    "\n",
    "print(X_train.shape)\n",
    "print(X_test.shape)\n",
    "\n",
    "X_train = X_train.astype('float32')\n",
    "X_test = X_test.astype('float32')\n",
    "\n",
    "X_train /= 255\n",
    "X_test /= 255\n",
    "```\n",
    "\n",
    "</details>\n"
   ]
  },
  {
   "cell_type": "markdown",
   "id": "71a2420a-3a9d-4d8f-a37a-b76eba2dd88b",
   "metadata": {},
   "source": [
    "### Exercise 3 - One-hot encoding\n"
   ]
  },
  {
   "cell_type": "markdown",
   "id": "3cb27b00-e95c-4879-b9fd-f18e1bde44d0",
   "metadata": {},
   "source": [
    "Create one-hot encoded representations of the target variable using the `OneHotEncoder()` function from sklearn.\n"
   ]
  },
  {
   "cell_type": "markdown",
   "id": "df3baf9c-02a2-4135-bbab-7fd197700496",
   "metadata": {},
   "source": [
    "<details>\n",
    "    <summary>Click here for Solution</summary>\n",
    "\n",
    "```python\n",
    "enc = OneHotEncoder(sparse=False)\n",
    "enc.fit(y_train.reshape(-1, 1))\n",
    "print(enc.categories_)\n",
    "y_train_enc = enc.transform(y_train.reshape(-1,1))\n",
    "y_test_enc = enc.transform(y_test.reshape(-1,1))\n",
    "```\n",
    "\n",
    "</details>\n"
   ]
  },
  {
   "cell_type": "markdown",
   "id": "95af2a47-31a6-4c72-81d5-25aeba0bd7bd",
   "metadata": {},
   "source": [
    "### Exercise 4 - Build model architecture\n"
   ]
  },
  {
   "cell_type": "markdown",
   "id": "2cfe03d1-b1ba-4e64-952a-2dd3ed114751",
   "metadata": {},
   "source": [
    "Build a CNN model with 2 hidden layers, that uses softmax as the activation function, and categorical cross-entropy as the loss function.\n"
   ]
  },
  {
   "cell_type": "markdown",
   "id": "bc2b859e-9337-449f-9622-4a54af989fb1",
   "metadata": {},
   "source": [
    "<details>\n",
    "    <summary>Click here for Solution</summary>\n",
    "\n",
    "```python\n",
    "feature_vector_shape = X_train.shape[1]\n",
    "input_shape = (feature_vector_shape,)\n",
    "num_classes = 10\n",
    "loss_function_used = CategoricalCrossentropy(from_logits=True)\n",
    "\n",
    "model = Sequential()\n",
    "model.add(Dense(12, input_shape=input_shape, activation='relu', kernel_initializer='he_uniform'))\n",
    "model.add(Dense(8, activation='relu', kernel_initializer='he_uniform'))\n",
    "model.add(Dense(num_classes, activation='softmax'))\n",
    "\n",
    "\n",
    "model.compile(loss=loss_function_used, optimizer=tf.keras.optimizers.Adam(lr=0.001), metrics=['accuracy'])\n",
    "history = model.fit(X_train, y_train_enc, epochs=25, batch_size=5, verbose=1, validation_split=0.2)\n",
    "\n",
    "test_results = model.evaluate(X_test, y_test_enc, verbose=1)\n",
    "print(f'Test results - Loss: {test_results[0]} - Accuracy: {test_results[1]*100}%')\n",
    "\n",
    "\n",
    "```\n",
    "\n",
    "</details>\n"
   ]
  },
  {
   "cell_type": "markdown",
   "id": "6373cc45-fed7-490c-970c-f3e2b61500d1",
   "metadata": {},
   "source": [
    "### (Optional) Exercise 5 - Sparse Categorical Cross Entropy\n"
   ]
  },
  {
   "cell_type": "markdown",
   "id": "1734cfa7-4a72-46bb-99cb-09a895cacc40",
   "metadata": {},
   "source": [
    "We saw that when using categorical cross-entropy, the ground truth labels need to be one-hot encoded. Keras provides another loss function called sparse cross-entropy where we can leave the labels as integers.\n",
    "\n",
    "Build a CNN model with two hidden layers, that uses softmax as the activation function, and sparse categorical cross-entropy as the loss function. Make sure to use the non-one-hot encoded ground-truth labels.  \n"
   ]
  },
  {
   "cell_type": "markdown",
   "id": "b98ad9b5-98db-4ea5-860b-465c22a8e290",
   "metadata": {},
   "source": [
    "<details>\n",
    "    <summary>Click here for Solution</summary>\n",
    "\n",
    "```python\n",
    "feature_vector_shape = X_train.shape[1]\n",
    "input_shape = (feature_vector_shape,)\n",
    "num_classes = 10\n",
    "loss_function_used = SparseCategoricalCrossentropy()\n",
    "\n",
    "model = Sequential()\n",
    "model.add(Dense(12, input_shape=input_shape, activation='relu', kernel_initializer='he_uniform'))\n",
    "model.add(Dense(8, activation='relu', kernel_initializer='he_uniform'))\n",
    "model.add(Dense(num_classes, activation='softmax'))\n",
    "\n",
    "\n",
    "model.compile(loss=loss_function_used, optimizer=tf.keras.optimizers.Adam(lr=0.001), metrics=['accuracy'])\n",
    "history = model.fit(X_train, y_train, epochs=25, batch_size=5, verbose=1, validation_split=0.2)\n",
    "\n",
    "test_results = model.evaluate(X_test, y_test, verbose=1)\n",
    "print(f'Test results - Loss: {test_results[0]} - Accuracy: {test_results[1]*100}%')\n",
    "\n",
    "```\n",
    "\n",
    "</details>\n"
   ]
  },
  {
   "cell_type": "markdown",
   "id": "c7717e1e-52db-4dfe-89a3-ce0f97214566",
   "metadata": {},
   "source": [
    "## References\n"
   ]
  },
  {
   "cell_type": "markdown",
   "id": "1b03ba73-d7bb-4eef-95af-7cd6903a37dd",
   "metadata": {},
   "source": [
    "Bishop, C., 2006. Pattern Recognition and Machine Learning.\n"
   ]
  },
  {
   "cell_type": "markdown",
   "id": "925a7a6e-bd57-4b31-a4b9-f0e67d302356",
   "metadata": {},
   "source": [
    "## Authors\n"
   ]
  },
  {
   "cell_type": "markdown",
   "id": "8849f23c-3735-4c79-993f-ec4c8e0a140b",
   "metadata": {},
   "source": [
    "[Kopal Garg](https://www.linkedin.com/in/gargkopal/?utm_medium=Exinfluencer&utm_source=Exinfluencer&utm_content=000026UJ&utm_term=10006555&utm_id=NA-SkillsNetwork-Channel-SkillsNetworkCoursesIBMDeveloperSkillsNetworkML311Coursera35714171-2022-01-01)\n"
   ]
  },
  {
   "cell_type": "markdown",
   "id": "60c8a3ed-4d28-4773-9cb2-166ecf95b175",
   "metadata": {},
   "source": [
    "## Change Log\n"
   ]
  },
  {
   "cell_type": "markdown",
   "id": "086a5fc8-6113-424c-ab60-bd96b5dd199b",
   "metadata": {},
   "source": [
    "|Date (YYYY-MM-DD)|Version|Changed By|Change Description|\n",
    "|-|-|-|-|\n",
    "|2022-05-20|0.1|Kopal Garg|Create Lab|\n",
    "|2022-09-06|0.1|Steve Hord|QA pass edits|\n"
   ]
  },
  {
   "cell_type": "markdown",
   "id": "57014375-4704-496e-9c57-28447c692a02",
   "metadata": {},
   "source": [
    "Copyright © 2022 IBM Corporation. All rights reserved.\n"
   ]
  }
 ],
 "metadata": {
  "kernelspec": {
   "display_name": "data_science_path",
   "language": "python",
   "name": "python3"
  },
  "language_info": {
   "codemirror_mode": {
    "name": "ipython",
    "version": 3
   },
   "file_extension": ".py",
   "mimetype": "text/x-python",
   "name": "python",
   "nbconvert_exporter": "python",
   "pygments_lexer": "ipython3",
   "version": "3.10.4"
  },
  "prev_pub_hash": "7c554d395fcc33239e85a68a8ac8696e4a54ba7070f2eb51e600e9d7ce57417d"
 },
 "nbformat": 4,
 "nbformat_minor": 4
}
