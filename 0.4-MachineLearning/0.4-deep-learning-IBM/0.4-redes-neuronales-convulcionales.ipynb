{
 "cells": [
  {
   "cell_type": "markdown",
   "metadata": {},
   "source": [
    "### Categorical Cross Entropy\n",
    "\n",
    "Preparación de datos para redes neuronales\n",
    "\n",
    "- Es fundamental realizar transformaciones en los datos para asegurar que las redes neuronales funcionen de manera óptima, especialmente en problemas de clasificación multicategoría.\n",
    "- Se utiliza la codificación one-hot para representar variables categóricas, creando vectores que indican la presencia de cada categoría.\n",
    "\n",
    "**Clasificación binaria y multicategoría**\n",
    "\n",
    "- En problemas de clasificación binaria, se utiliza una capa final con un solo nodo y una función de activación sigmoide, que produce una salida entre 0 y 1, interpretada como probabilidad.\n",
    "- Para la clasificación multicategoría, se extiende el uso de la función sigmoide a la función softmax, que normaliza las salidas para que sumen 1, permitiendo obtener probabilidades para cada clase.\n",
    "\n",
    "**Función de pérdida y retropropagación**\n",
    "\n",
    "- La función de pérdida utilizada en la clasificación multicategoría es la entropía cruzada categórica, que se basa en la función log-loss.\n",
    "- La derivada de esta función tiene propiedades favorables cuando se utiliza con softmax, facilitando el proceso de retropropagación."
   ]
  }
 ],
 "metadata": {
  "language_info": {
   "name": "python"
  }
 },
 "nbformat": 4,
 "nbformat_minor": 2
}
