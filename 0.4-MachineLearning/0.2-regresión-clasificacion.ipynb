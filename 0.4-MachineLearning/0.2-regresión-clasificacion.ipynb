{
 "cells": [
  {
   "cell_type": "markdown",
   "metadata": {},
   "source": [
    "# Problemas de regresión y clasificación\n",
    "\n",
    "**Regresión y clasificación** son dos tipos fundamentales de problemas que se abordan en el aprendizaje supervisado de Machine Learning. La elección entre uno u otro depende del tipo de variable objetivo o respuesta que se quiera predecir.\n",
    "\n",
    "### Regresión\n",
    "Regresión es una técnica utilizada para predecir un valor continuo, es decir, un número. El objetivo de los modelos de regresión es encontrar una función matemática que relacione las variables de entrada (también llamadas características o predictores) con una variable de salida continua.\n",
    "\n",
    "### Modelos Comunes de Regresión:\n",
    "- **Regresión Lineal:** Estima la relación lineal entre las variables de entrada y la variable de salida.\n",
    "- **Regresión Polinómica:** Una extensión de la regresión lineal que puede modelar relaciones no lineales.\n",
    "- **Regresión Ridge y Lasso:** Variaciones de la regresión lineal que incluyen regularización para evitar el sobreajuste.\n",
    "- **Árboles de Decisión para Regresión:** Modelos que dividen el espacio de características en regiones y predicen un valor para cada región.\n",
    "\n",
    "### Clasificación\n",
    "\n",
    "**Clasificación** es una técnica utilizada para predecir categorías o clases discretas. Aquí, la variable de salida es cualitativa, lo que significa que pertenece a uno de varios grupos o categorías.\n",
    "\n",
    "**Modelos Comunes de Clasificación:**\n",
    "\n",
    "- **Regresión Logística:** Predice la probabilidad de que una instancia pertenezca a una clase particular, generalmente en problemas binarios.\n",
    "- **Máquinas de Soporte Vectorial (SVM):** Encuentra el mejor hiperplano que separa las clases en el espacio de características.\n",
    "- **Árboles de Decisión para Clasificación:** Clasifican los datos basándose en una serie de reglas derivadas de las características de entrada.\n",
    "- **K-Vecinos Más Cercanos (KNN):** Clasifica una instancia basándose en la mayoría de las clases de sus vecinos más cercanos.\n",
    "- **Redes Neuronales:** Utilizan múltiples capas de neuronas para aprender patrones complejos y realizar tareas de clasificación."
   ]
  }
 ],
 "metadata": {
  "language_info": {
   "name": "python"
  }
 },
 "nbformat": 4,
 "nbformat_minor": 2
}
