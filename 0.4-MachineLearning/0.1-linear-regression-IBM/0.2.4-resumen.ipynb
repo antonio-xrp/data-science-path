{
 "cells": [
  {
   "cell_type": "markdown",
   "metadata": {},
   "source": [
    "# Resumen/Revisión\n",
    "\n",
    "### Divisiones de entrenamiento y prueba  \n",
    "Dividir sus datos en un conjunto de entrenamiento y otro de prueba puede ayudarle a elegir un modelo que tenga más posibilidades de generalizar y que no esté sobreajustado.\n",
    "\n",
    "Los datos de entrenamiento se utilizan para ajustar el modelo, mientras que los datos de prueba se utilizan para medir el error y el rendimiento.\n",
    "\n",
    "El error de entrenamiento tiende a disminuir con un modelo más complejo. \n",
    "\n",
    "### Regresión polinómica \n",
    "\n",
    "Los términos polinómicos le ayudan a capturar los efectos no lineales de sus características.\n",
    "\n",
    "Otros algoritmos que le ayudan a ampliar sus modelos lineales son:\n",
    "\n",
    "- Regresión logística\n",
    "\n",
    "- Vecinos más próximos a K\n",
    "\n",
    "- Árboles de decisión\n",
    "\n",
    "- Máquinas de vectores de apoyo\n",
    "\n",
    "- Bosques aleatorios\n",
    "\n",
    "- Métodos conjuntos\n",
    "\n",
    "- Enfoques de aprendizaje profundo\n",
    "\n"
   ]
  }
 ],
 "metadata": {
  "language_info": {
   "name": "python"
  }
 },
 "nbformat": 4,
 "nbformat_minor": 2
}
