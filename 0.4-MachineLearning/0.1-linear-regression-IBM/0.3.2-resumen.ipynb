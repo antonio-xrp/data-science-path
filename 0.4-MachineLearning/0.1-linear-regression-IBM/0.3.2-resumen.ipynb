{
 "cells": [
  {
   "cell_type": "markdown",
   "metadata": {},
   "source": [
    "# Resumen/Revisión\n",
    "\n",
    "### Validación cruzada\n",
    "\n",
    "Los tres enfoques de validación cruzada más comunes son:\n",
    "\n",
    "- validación cruzada k-fold\n",
    "\n",
    "- validación cruzada por omisión\n",
    "\n",
    "- validación cruzada estratificada\n",
    "\n",
    "\n",
    "El método de validación cruzada consiste en dividir el conjunto de datos en 3 partes:\n",
    "\n",
    "- conjunto de entrenamiento - es una porción de los datos utilizada para entrenar el modelo\n",
    "\n",
    "- conjunto de validación - es una porción de los datos utilizada para optimizar los hiperparámetros del modelo\n",
    "\n",
    "- conjunto de prueba - es una porción de los datos utilizados para evaluar el modelo \n",
    "\n",
    "\n",
    "### Sintaxis de validación cruzada\n",
    "\n",
    "la biblioteca `Scikit Learn` contiene muchos métodos que pueden realizar la división de los datos en conjuntos de entrenamiento, prueba y validación. Los métodos más populares que cubrimos en este módulo son:\n",
    "\n",
    "- train_test_split - crea una única división en conjuntos de entrenamiento y prueba (Si tienes muchos datos y solo necesitas una evaluación rápida o para modelos sencillos.\n",
    ")\n",
    "\n",
    "- k-fold - crea un número de divisiones k-fold, permitiendo la validación cruzada (Cuando tienes un dataset pequeño o mediano, y deseas asegurarte de que el modelo no dependa de una única división de los datos. Es útil para hacer una evaluación más robusta.)\n",
    "\n",
    "- cross_val_score - evalúa la puntuación del modelo mediante validación cruzada (Si quieres obtener el rendimiento promedio del modelo usando k-fold. Ideal para comparar modelos y evaluar su rendimiento general con múltiples particiones.)\n",
    "\n",
    "- cross_val_predict - produce la predicción fuera de bolsa para cada fila (Si necesitas las predicciones generadas durante la validación cruzada, por ejemplo, para evaluar métricas como la curva ROC o las predicciones de cada fold.)\n",
    "\n",
    "- gridSearchCV - explora los parámetros para seleccionar el mejor conjunto de hiperparámetros con la mejor puntuación fuera de la muestra"
   ]
  }
 ],
 "metadata": {
  "language_info": {
   "name": "python"
  }
 },
 "nbformat": 4,
 "nbformat_minor": 2
}
