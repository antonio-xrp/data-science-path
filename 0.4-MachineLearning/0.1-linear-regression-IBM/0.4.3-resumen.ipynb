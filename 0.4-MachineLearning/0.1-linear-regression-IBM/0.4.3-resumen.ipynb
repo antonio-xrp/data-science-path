{
 "cells": [
  {
   "cell_type": "markdown",
   "metadata": {},
   "source": [
    "# Resumen/Revisión\n",
    "\n",
    "El **equilibrio entre sesgo y varianza** descompone el error cuadrático medio del modelo en dos partes: **Sesgo y Varianza**.\n",
    "\n",
    "**El sesgo** es una medida de lo cerca que está el modelo de la función real que intentamos modelar. Si su modelo tiene un sesgo alto, el modelo está infraajustado; esto significa que obtendrá malos resultados en los datos de entrenamiento y de prueba, pero los resultados relativos serán similares.\n",
    "\n",
    "Las formas de mejorar el sesgo incluyen hacer el modelo más complejo, añadir polinomios de orden superior, obtener más características o encontrar más datos.\n",
    "\n",
    "\n",
    "**Varianza:** es la diferencia cuadrática media de cada modelo que entrena en relación con la predicción media de cada modelo. Si su modelo tiene una varianza alta, normalmente se ajustará en exceso a los datos; esto significa que le irá bien en los datos de entrenamiento pero no en los de prueba.\n",
    "\n",
    "\n",
    "Puede mejorar la varianza haciendo que el modelo sea menos complejo, es decir, bajando el orden del polinomio, obteniendo más datos o utilizando la regulazación. En este módulo se tratan 3 técnicas de regulazación: Ridge, LASSO y Red elástica.\n",
    "\n",
    "### Ridge (Regularización L2)\n",
    "\n",
    "- penaliza la magnitud del tamaño de los coeficientes de regresión añadiendo un término de escuadra\n",
    "\n",
    "\n",
    "- obliga a que los coeficientes sean menores, pero no 0\n",
    "\n",
    "\n",
    "- minimiza las características irrelevantes y no las elimina\n",
    "\n",
    "\n",
    "- más rápido de entrenar\n",
    "\n",
    "\n",
    "\n",
    "### LASSO (Regularización L1)\n",
    "\n",
    "- penaliza el valor absoluto de los coeficientes\n",
    "\n",
    "\n",
    "- fija las características irrelevantes en 0\n",
    "\n",
    "\n",
    "- encuentra las características que no necesita\n",
    "\n",
    "\n",
    "\n",
    "### red elástica (Regularización L1+L2)\n",
    "\n",
    "- penaliza la magnitud del tamaño de la regresión y el valor absoluto de los coeficientes\n",
    "\n",
    "\n",
    "- establece las características irrelevantes en 0 y obliga a que los coeficientes sean menores\n",
    "\n",
    "\n"
   ]
  }
 ],
 "metadata": {
  "language_info": {
   "name": "python"
  }
 },
 "nbformat": 4,
 "nbformat_minor": 2
}
