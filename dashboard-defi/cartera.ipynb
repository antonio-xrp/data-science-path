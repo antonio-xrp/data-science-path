{
 "cells": [
  {
   "cell_type": "markdown",
   "metadata": {},
   "source": [
    "### Cartera de inversión Crypto"
   ]
  },
  {
   "cell_type": "code",
   "execution_count": 1,
   "metadata": {},
   "outputs": [],
   "source": [
    "import numpy as np\n",
    "import pandas as pd\n",
    "import yfinance as yf\n",
    "import warnings\n",
    "\n",
    "warnings.filterwarnings(\"ignore\")\n",
    "pd.options.display.float_format = '{:.4%}'.format"
   ]
  },
  {
   "cell_type": "code",
   "execution_count": 2,
   "metadata": {},
   "outputs": [],
   "source": [
    "# Data range\n",
    "start = '2020-01-01'\n",
    "end = '2024-7-09'\n",
    "\n",
    "# Tickers of assets \n",
    "main = ['BTC-USD', 'ETH-USD']\n",
    "Defi = ['SOL-USD', 'BNB-USD', 'SUI20947-USD','FTM-USD','TON11419-USD', 'AVAX-USD', 'ADA-USD','APT21794-USD', 'UNI7083-USD', 'BCH-USD'] #'TRX-USD'\n",
    "finance = ['XRP-USD','LINK-USD', 'AAVE-USD', 'HBAR-USD']\n",
    "memes = ['DOGE-USD','PEPE24478-USD', 'WIF-USD', 'BONK-USD', 'FOXY30591-USD']\n",
    "l2 = ['MNT27075-USD']\n",
    "ia = ['RNDR-USD', 'NEAR-USD', 'GRT6719-USD', 'ICP-USD', 'TAO22974-USD']\n",
    "assets = main + Defi + finance + memes + l2 + ia"
   ]
  },
  {
   "cell_type": "code",
   "execution_count": 3,
   "metadata": {},
   "outputs": [
    {
     "name": "stderr",
     "output_type": "stream",
     "text": [
      "[*********************100%***********************]  27 of 27 completed\n"
     ]
    }
   ],
   "source": [
    "assets.sort()\n",
    "# Downloading data\n",
    "data = yf.download(assets, start=start, end=end)\n",
    "data = data.loc[:,('Adj Close', slice(None))]\n",
    "data.columns = assets"
   ]
  },
  {
   "cell_type": "code",
   "execution_count": 4,
   "metadata": {},
   "outputs": [
    {
     "data": {
      "text/html": [
       "<div>\n",
       "<style scoped>\n",
       "    .dataframe tbody tr th:only-of-type {\n",
       "        vertical-align: middle;\n",
       "    }\n",
       "\n",
       "    .dataframe tbody tr th {\n",
       "        vertical-align: top;\n",
       "    }\n",
       "\n",
       "    .dataframe thead th {\n",
       "        text-align: right;\n",
       "    }\n",
       "</style>\n",
       "<table border=\"1\" class=\"dataframe\">\n",
       "  <thead>\n",
       "    <tr style=\"text-align: right;\">\n",
       "      <th></th>\n",
       "      <th>AAVE-USD</th>\n",
       "      <th>ADA-USD</th>\n",
       "      <th>APT21794-USD</th>\n",
       "      <th>AVAX-USD</th>\n",
       "      <th>BCH-USD</th>\n",
       "      <th>BNB-USD</th>\n",
       "      <th>BONK-USD</th>\n",
       "      <th>BTC-USD</th>\n",
       "      <th>DOGE-USD</th>\n",
       "      <th>ETH-USD</th>\n",
       "      <th>...</th>\n",
       "      <th>NEAR-USD</th>\n",
       "      <th>PEPE24478-USD</th>\n",
       "      <th>RNDR-USD</th>\n",
       "      <th>SOL-USD</th>\n",
       "      <th>SUI20947-USD</th>\n",
       "      <th>TAO22974-USD</th>\n",
       "      <th>TON11419-USD</th>\n",
       "      <th>UNI7083-USD</th>\n",
       "      <th>WIF-USD</th>\n",
       "      <th>XRP-USD</th>\n",
       "    </tr>\n",
       "    <tr>\n",
       "      <th>Date</th>\n",
       "      <th></th>\n",
       "      <th></th>\n",
       "      <th></th>\n",
       "      <th></th>\n",
       "      <th></th>\n",
       "      <th></th>\n",
       "      <th></th>\n",
       "      <th></th>\n",
       "      <th></th>\n",
       "      <th></th>\n",
       "      <th></th>\n",
       "      <th></th>\n",
       "      <th></th>\n",
       "      <th></th>\n",
       "      <th></th>\n",
       "      <th></th>\n",
       "      <th></th>\n",
       "      <th></th>\n",
       "      <th></th>\n",
       "      <th></th>\n",
       "      <th></th>\n",
       "    </tr>\n",
       "  </thead>\n",
       "  <tbody>\n",
       "    <tr>\n",
       "      <th>2024-04-13 00:00:00+00:00</th>\n",
       "      <td>-17.2088%</td>\n",
       "      <td>-11.0544%</td>\n",
       "      <td>-10.3773%</td>\n",
       "      <td>-13.5455%</td>\n",
       "      <td>-9.9637%</td>\n",
       "      <td>-7.0560%</td>\n",
       "      <td>-11.7647%</td>\n",
       "      <td>-5.0217%</td>\n",
       "      <td>-12.2734%</td>\n",
       "      <td>-7.3430%</td>\n",
       "      <td>...</td>\n",
       "      <td>-9.6555%</td>\n",
       "      <td>-16.6667%</td>\n",
       "      <td>-8.8303%</td>\n",
       "      <td>-9.3037%</td>\n",
       "      <td>-14.2445%</td>\n",
       "      <td>-5.5358%</td>\n",
       "      <td>-10.5781%</td>\n",
       "      <td>-12.7512%</td>\n",
       "      <td>-12.2248%</td>\n",
       "      <td>-12.3255%</td>\n",
       "    </tr>\n",
       "    <tr>\n",
       "      <th>2024-04-14 00:00:00+00:00</th>\n",
       "      <td>6.3199%</td>\n",
       "      <td>4.6891%</td>\n",
       "      <td>8.8653%</td>\n",
       "      <td>9.5017%</td>\n",
       "      <td>9.6404%</td>\n",
       "      <td>2.3306%</td>\n",
       "      <td>6.6667%</td>\n",
       "      <td>3.0041%</td>\n",
       "      <td>5.9523%</td>\n",
       "      <td>5.0598%</td>\n",
       "      <td>...</td>\n",
       "      <td>9.2103%</td>\n",
       "      <td>0.0000%</td>\n",
       "      <td>19.5944%</td>\n",
       "      <td>8.5712%</td>\n",
       "      <td>12.4693%</td>\n",
       "      <td>15.2696%</td>\n",
       "      <td>13.6811%</td>\n",
       "      <td>8.5578%</td>\n",
       "      <td>30.1178%</td>\n",
       "      <td>4.8748%</td>\n",
       "    </tr>\n",
       "    <tr>\n",
       "      <th>2024-04-15 00:00:00+00:00</th>\n",
       "      <td>-3.6146%</td>\n",
       "      <td>-1.7308%</td>\n",
       "      <td>-4.4530%</td>\n",
       "      <td>-5.7863%</td>\n",
       "      <td>-3.7855%</td>\n",
       "      <td>-2.5288%</td>\n",
       "      <td>-6.2500%</td>\n",
       "      <td>-3.5177%</td>\n",
       "      <td>-0.5644%</td>\n",
       "      <td>-1.7530%</td>\n",
       "      <td>...</td>\n",
       "      <td>-8.6235%</td>\n",
       "      <td>0.0000%</td>\n",
       "      <td>-7.4174%</td>\n",
       "      <td>-8.4452%</td>\n",
       "      <td>-2.2212%</td>\n",
       "      <td>-10.4525%</td>\n",
       "      <td>-2.9962%</td>\n",
       "      <td>-3.5824%</td>\n",
       "      <td>-9.8633%</td>\n",
       "      <td>-1.2944%</td>\n",
       "    </tr>\n",
       "    <tr>\n",
       "      <th>2024-04-16 00:00:00+00:00</th>\n",
       "      <td>2.2570%</td>\n",
       "      <td>-0.4753%</td>\n",
       "      <td>1.4042%</td>\n",
       "      <td>-1.1121%</td>\n",
       "      <td>-4.0370%</td>\n",
       "      <td>-2.7213%</td>\n",
       "      <td>0.0000%</td>\n",
       "      <td>0.6080%</td>\n",
       "      <td>-3.3340%</td>\n",
       "      <td>-0.5378%</td>\n",
       "      <td>...</td>\n",
       "      <td>5.2864%</td>\n",
       "      <td>0.0000%</td>\n",
       "      <td>-0.2429%</td>\n",
       "      <td>-1.6095%</td>\n",
       "      <td>4.5328%</td>\n",
       "      <td>-4.9077%</td>\n",
       "      <td>-3.3236%</td>\n",
       "      <td>-0.8304%</td>\n",
       "      <td>-2.4637%</td>\n",
       "      <td>-0.2081%</td>\n",
       "    </tr>\n",
       "    <tr>\n",
       "      <th>2024-04-17 00:00:00+00:00</th>\n",
       "      <td>-3.6887%</td>\n",
       "      <td>-3.1203%</td>\n",
       "      <td>-1.2104%</td>\n",
       "      <td>-3.5091%</td>\n",
       "      <td>-4.8825%</td>\n",
       "      <td>-0.6346%</td>\n",
       "      <td>-6.6667%</td>\n",
       "      <td>-3.9729%</td>\n",
       "      <td>-5.3747%</td>\n",
       "      <td>-3.2478%</td>\n",
       "      <td>...</td>\n",
       "      <td>-1.6378%</td>\n",
       "      <td>0.0000%</td>\n",
       "      <td>-7.4012%</td>\n",
       "      <td>-3.2383%</td>\n",
       "      <td>2.7757%</td>\n",
       "      <td>-8.9608%</td>\n",
       "      <td>-4.0642%</td>\n",
       "      <td>-4.2964%</td>\n",
       "      <td>-9.8201%</td>\n",
       "      <td>-0.3733%</td>\n",
       "    </tr>\n",
       "  </tbody>\n",
       "</table>\n",
       "<p>5 rows × 27 columns</p>\n",
       "</div>"
      ],
      "text/plain": [
       "                           AAVE-USD   ADA-USD  APT21794-USD  AVAX-USD  \\\n",
       "Date                                                                    \n",
       "2024-04-13 00:00:00+00:00 -17.2088% -11.0544%     -10.3773% -13.5455%   \n",
       "2024-04-14 00:00:00+00:00   6.3199%   4.6891%       8.8653%   9.5017%   \n",
       "2024-04-15 00:00:00+00:00  -3.6146%  -1.7308%      -4.4530%  -5.7863%   \n",
       "2024-04-16 00:00:00+00:00   2.2570%  -0.4753%       1.4042%  -1.1121%   \n",
       "2024-04-17 00:00:00+00:00  -3.6887%  -3.1203%      -1.2104%  -3.5091%   \n",
       "\n",
       "                           BCH-USD  BNB-USD  BONK-USD  BTC-USD  DOGE-USD  \\\n",
       "Date                                                                       \n",
       "2024-04-13 00:00:00+00:00 -9.9637% -7.0560% -11.7647% -5.0217% -12.2734%   \n",
       "2024-04-14 00:00:00+00:00  9.6404%  2.3306%   6.6667%  3.0041%   5.9523%   \n",
       "2024-04-15 00:00:00+00:00 -3.7855% -2.5288%  -6.2500% -3.5177%  -0.5644%   \n",
       "2024-04-16 00:00:00+00:00 -4.0370% -2.7213%   0.0000%  0.6080%  -3.3340%   \n",
       "2024-04-17 00:00:00+00:00 -4.8825% -0.6346%  -6.6667% -3.9729%  -5.3747%   \n",
       "\n",
       "                           ETH-USD  ...  NEAR-USD  PEPE24478-USD  RNDR-USD  \\\n",
       "Date                                ...                                      \n",
       "2024-04-13 00:00:00+00:00 -7.3430%  ...  -9.6555%      -16.6667%  -8.8303%   \n",
       "2024-04-14 00:00:00+00:00  5.0598%  ...   9.2103%        0.0000%  19.5944%   \n",
       "2024-04-15 00:00:00+00:00 -1.7530%  ...  -8.6235%        0.0000%  -7.4174%   \n",
       "2024-04-16 00:00:00+00:00 -0.5378%  ...   5.2864%        0.0000%  -0.2429%   \n",
       "2024-04-17 00:00:00+00:00 -3.2478%  ...  -1.6378%        0.0000%  -7.4012%   \n",
       "\n",
       "                           SOL-USD  SUI20947-USD  TAO22974-USD  TON11419-USD  \\\n",
       "Date                                                                           \n",
       "2024-04-13 00:00:00+00:00 -9.3037%     -14.2445%      -5.5358%     -10.5781%   \n",
       "2024-04-14 00:00:00+00:00  8.5712%      12.4693%      15.2696%      13.6811%   \n",
       "2024-04-15 00:00:00+00:00 -8.4452%      -2.2212%     -10.4525%      -2.9962%   \n",
       "2024-04-16 00:00:00+00:00 -1.6095%       4.5328%      -4.9077%      -3.3236%   \n",
       "2024-04-17 00:00:00+00:00 -3.2383%       2.7757%      -8.9608%      -4.0642%   \n",
       "\n",
       "                           UNI7083-USD   WIF-USD   XRP-USD  \n",
       "Date                                                        \n",
       "2024-04-13 00:00:00+00:00    -12.7512% -12.2248% -12.3255%  \n",
       "2024-04-14 00:00:00+00:00      8.5578%  30.1178%   4.8748%  \n",
       "2024-04-15 00:00:00+00:00     -3.5824%  -9.8633%  -1.2944%  \n",
       "2024-04-16 00:00:00+00:00     -0.8304%  -2.4637%  -0.2081%  \n",
       "2024-04-17 00:00:00+00:00     -4.2964%  -9.8201%  -0.3733%  \n",
       "\n",
       "[5 rows x 27 columns]"
      ]
     },
     "metadata": {},
     "output_type": "display_data"
    }
   ],
   "source": [
    "# Calculating Returns\n",
    "\n",
    "Y = data[assets].pct_change().dropna()\n",
    "display(Y.head())"
   ]
  },
  {
   "cell_type": "markdown",
   "metadata": {},
   "source": [
    "### 2. Estimating Mean Variance Portfolios\n",
    "### 2.1. Calculating the portfolio that maximizes Sharpe Ratio"
   ]
  },
  {
   "cell_type": "code",
   "execution_count": 5,
   "metadata": {},
   "outputs": [
    {
     "data": {
      "text/html": [
       "<div>\n",
       "<style scoped>\n",
       "    .dataframe tbody tr th:only-of-type {\n",
       "        vertical-align: middle;\n",
       "    }\n",
       "\n",
       "    .dataframe tbody tr th {\n",
       "        vertical-align: top;\n",
       "    }\n",
       "\n",
       "    .dataframe thead th {\n",
       "        text-align: right;\n",
       "    }\n",
       "</style>\n",
       "<table border=\"1\" class=\"dataframe\">\n",
       "  <thead>\n",
       "    <tr style=\"text-align: right;\">\n",
       "      <th></th>\n",
       "      <th>weights</th>\n",
       "    </tr>\n",
       "  </thead>\n",
       "  <tbody>\n",
       "    <tr>\n",
       "      <th>AAVE-USD</th>\n",
       "      <td>0.0000%</td>\n",
       "    </tr>\n",
       "    <tr>\n",
       "      <th>ADA-USD</th>\n",
       "      <td>0.0000%</td>\n",
       "    </tr>\n",
       "    <tr>\n",
       "      <th>APT21794-USD</th>\n",
       "      <td>0.0000%</td>\n",
       "    </tr>\n",
       "    <tr>\n",
       "      <th>AVAX-USD</th>\n",
       "      <td>0.0000%</td>\n",
       "    </tr>\n",
       "    <tr>\n",
       "      <th>BCH-USD</th>\n",
       "      <td>0.0000%</td>\n",
       "    </tr>\n",
       "    <tr>\n",
       "      <th>BNB-USD</th>\n",
       "      <td>0.0000%</td>\n",
       "    </tr>\n",
       "    <tr>\n",
       "      <th>BONK-USD</th>\n",
       "      <td>27.7812%</td>\n",
       "    </tr>\n",
       "    <tr>\n",
       "      <th>BTC-USD</th>\n",
       "      <td>0.0000%</td>\n",
       "    </tr>\n",
       "    <tr>\n",
       "      <th>DOGE-USD</th>\n",
       "      <td>0.0000%</td>\n",
       "    </tr>\n",
       "    <tr>\n",
       "      <th>ETH-USD</th>\n",
       "      <td>0.0000%</td>\n",
       "    </tr>\n",
       "    <tr>\n",
       "      <th>FOXY30591-USD</th>\n",
       "      <td>0.0000%</td>\n",
       "    </tr>\n",
       "    <tr>\n",
       "      <th>FTM-USD</th>\n",
       "      <td>0.0000%</td>\n",
       "    </tr>\n",
       "    <tr>\n",
       "      <th>GRT6719-USD</th>\n",
       "      <td>0.0000%</td>\n",
       "    </tr>\n",
       "    <tr>\n",
       "      <th>HBAR-USD</th>\n",
       "      <td>0.0000%</td>\n",
       "    </tr>\n",
       "    <tr>\n",
       "      <th>ICP-USD</th>\n",
       "      <td>0.0000%</td>\n",
       "    </tr>\n",
       "    <tr>\n",
       "      <th>LINK-USD</th>\n",
       "      <td>0.0000%</td>\n",
       "    </tr>\n",
       "    <tr>\n",
       "      <th>MNT27075-USD</th>\n",
       "      <td>0.0000%</td>\n",
       "    </tr>\n",
       "    <tr>\n",
       "      <th>NEAR-USD</th>\n",
       "      <td>0.0000%</td>\n",
       "    </tr>\n",
       "    <tr>\n",
       "      <th>PEPE24478-USD</th>\n",
       "      <td>44.6822%</td>\n",
       "    </tr>\n",
       "    <tr>\n",
       "      <th>RNDR-USD</th>\n",
       "      <td>0.0000%</td>\n",
       "    </tr>\n",
       "    <tr>\n",
       "      <th>SOL-USD</th>\n",
       "      <td>0.0000%</td>\n",
       "    </tr>\n",
       "    <tr>\n",
       "      <th>SUI20947-USD</th>\n",
       "      <td>0.0000%</td>\n",
       "    </tr>\n",
       "    <tr>\n",
       "      <th>TAO22974-USD</th>\n",
       "      <td>0.0000%</td>\n",
       "    </tr>\n",
       "    <tr>\n",
       "      <th>TON11419-USD</th>\n",
       "      <td>27.5365%</td>\n",
       "    </tr>\n",
       "    <tr>\n",
       "      <th>UNI7083-USD</th>\n",
       "      <td>0.0000%</td>\n",
       "    </tr>\n",
       "    <tr>\n",
       "      <th>WIF-USD</th>\n",
       "      <td>0.0000%</td>\n",
       "    </tr>\n",
       "    <tr>\n",
       "      <th>XRP-USD</th>\n",
       "      <td>0.0000%</td>\n",
       "    </tr>\n",
       "  </tbody>\n",
       "</table>\n",
       "</div>"
      ],
      "text/plain": [
       "               weights\n",
       "AAVE-USD       0.0000%\n",
       "ADA-USD        0.0000%\n",
       "APT21794-USD   0.0000%\n",
       "AVAX-USD       0.0000%\n",
       "BCH-USD        0.0000%\n",
       "BNB-USD        0.0000%\n",
       "BONK-USD      27.7812%\n",
       "BTC-USD        0.0000%\n",
       "DOGE-USD       0.0000%\n",
       "ETH-USD        0.0000%\n",
       "FOXY30591-USD  0.0000%\n",
       "FTM-USD        0.0000%\n",
       "GRT6719-USD    0.0000%\n",
       "HBAR-USD       0.0000%\n",
       "ICP-USD        0.0000%\n",
       "LINK-USD       0.0000%\n",
       "MNT27075-USD   0.0000%\n",
       "NEAR-USD       0.0000%\n",
       "PEPE24478-USD 44.6822%\n",
       "RNDR-USD       0.0000%\n",
       "SOL-USD        0.0000%\n",
       "SUI20947-USD   0.0000%\n",
       "TAO22974-USD   0.0000%\n",
       "TON11419-USD  27.5365%\n",
       "UNI7083-USD    0.0000%\n",
       "WIF-USD        0.0000%\n",
       "XRP-USD        0.0000%"
      ]
     },
     "metadata": {},
     "output_type": "display_data"
    }
   ],
   "source": [
    "import riskfolio as rp\n",
    "\n",
    "# Building the portfolio object\n",
    "port = rp.Portfolio(returns =Y)\n",
    "\n",
    "# Calculating optimal portfolio\n",
    "\n",
    "# Select method and estimate input parameters:\n",
    "\n",
    "method_mu='hist' # Method to estimate expected returns based on historical data.\n",
    "method_cov='hist' # Method to estimate covariance matrix based on historical data.\n",
    "\n",
    "port.assets_stats(method_mu=method_mu, method_cov=method_cov)\n",
    "\n",
    "# Estimate optimal portfolio:\n",
    "\n",
    "model ='Classic' \n",
    "rm = 'MV'\n",
    "obj = 'Sharpe'\n",
    "hist = True\n",
    "rf = 0\n",
    "l = 0\n",
    "\n",
    "w = port.optimization(model=model, rm=rm, obj=obj, rf=rf, l=l, hist=hist)\n",
    "\n",
    "display(w)"
   ]
  },
  {
   "cell_type": "code",
   "execution_count": 6,
   "metadata": {},
   "outputs": [
    {
     "data": {
      "image/png": "[encoded data removed]",
      "text/plain": [
       "<Figure size 1000x600 with 1 Axes>"
      ]
     },
     "metadata": {},
     "output_type": "display_data"
    }
   ],
   "source": [
    "# Plotting the composition of the portfolio\n",
    "\n",
    "ax = rp.plot_pie(w=w, title='Sharpe Mean Variance', others=0.05, nrow=25, cmap = \"tab20\",\n",
    "                 height=6, width=10, ax=None);\n"
   ]
  },
  {
   "cell_type": "markdown",
   "metadata": {},
   "source": [
    "### 2.3 Calculate efficient frontier"
   ]
  },
  {
   "cell_type": "code",
   "execution_count": 7,
   "metadata": {},
   "outputs": [
    {
     "data": {
      "text/html": [
       "<div>\n",
       "<style scoped>\n",
       "    .dataframe tbody tr th:only-of-type {\n",
       "        vertical-align: middle;\n",
       "    }\n",
       "\n",
       "    .dataframe tbody tr th {\n",
       "        vertical-align: top;\n",
       "    }\n",
       "\n",
       "    .dataframe thead th {\n",
       "        text-align: right;\n",
       "    }\n",
       "</style>\n",
       "<table border=\"1\" class=\"dataframe\">\n",
       "  <thead>\n",
       "    <tr style=\"text-align: right;\">\n",
       "      <th></th>\n",
       "      <th>AAVE-USD</th>\n",
       "      <th>ADA-USD</th>\n",
       "      <th>APT21794-USD</th>\n",
       "      <th>AVAX-USD</th>\n",
       "      <th>BCH-USD</th>\n",
       "      <th>BNB-USD</th>\n",
       "      <th>BONK-USD</th>\n",
       "      <th>BTC-USD</th>\n",
       "      <th>DOGE-USD</th>\n",
       "      <th>ETH-USD</th>\n",
       "      <th>...</th>\n",
       "      <th>NEAR-USD</th>\n",
       "      <th>PEPE24478-USD</th>\n",
       "      <th>RNDR-USD</th>\n",
       "      <th>SOL-USD</th>\n",
       "      <th>SUI20947-USD</th>\n",
       "      <th>TAO22974-USD</th>\n",
       "      <th>TON11419-USD</th>\n",
       "      <th>UNI7083-USD</th>\n",
       "      <th>WIF-USD</th>\n",
       "      <th>XRP-USD</th>\n",
       "    </tr>\n",
       "  </thead>\n",
       "  <tbody>\n",
       "    <tr>\n",
       "      <th>0</th>\n",
       "      <td>0.0000%</td>\n",
       "      <td>0.0000%</td>\n",
       "      <td>0.0000%</td>\n",
       "      <td>0.0000%</td>\n",
       "      <td>0.0000%</td>\n",
       "      <td>16.6638%</td>\n",
       "      <td>0.0000%</td>\n",
       "      <td>55.1178%</td>\n",
       "      <td>0.0000%</td>\n",
       "      <td>0.0000%</td>\n",
       "      <td>...</td>\n",
       "      <td>0.0000%</td>\n",
       "      <td>0.0000%</td>\n",
       "      <td>0.0000%</td>\n",
       "      <td>0.0000%</td>\n",
       "      <td>0.0000%</td>\n",
       "      <td>0.0000%</td>\n",
       "      <td>0.0000%</td>\n",
       "      <td>0.0000%</td>\n",
       "      <td>0.0000%</td>\n",
       "      <td>28.2183%</td>\n",
       "    </tr>\n",
       "    <tr>\n",
       "      <th>1</th>\n",
       "      <td>0.0000%</td>\n",
       "      <td>0.0000%</td>\n",
       "      <td>0.0000%</td>\n",
       "      <td>0.0000%</td>\n",
       "      <td>0.0000%</td>\n",
       "      <td>18.9047%</td>\n",
       "      <td>0.0000%</td>\n",
       "      <td>51.9120%</td>\n",
       "      <td>0.0000%</td>\n",
       "      <td>0.7858%</td>\n",
       "      <td>...</td>\n",
       "      <td>0.0000%</td>\n",
       "      <td>2.6248%</td>\n",
       "      <td>0.0000%</td>\n",
       "      <td>0.0000%</td>\n",
       "      <td>0.0000%</td>\n",
       "      <td>0.0000%</td>\n",
       "      <td>13.9213%</td>\n",
       "      <td>0.0000%</td>\n",
       "      <td>0.0000%</td>\n",
       "      <td>11.8514%</td>\n",
       "    </tr>\n",
       "    <tr>\n",
       "      <th>2</th>\n",
       "      <td>0.0000%</td>\n",
       "      <td>0.0000%</td>\n",
       "      <td>0.0000%</td>\n",
       "      <td>0.0000%</td>\n",
       "      <td>0.0000%</td>\n",
       "      <td>17.6233%</td>\n",
       "      <td>0.0000%</td>\n",
       "      <td>48.7269%</td>\n",
       "      <td>0.0000%</td>\n",
       "      <td>3.3585%</td>\n",
       "      <td>...</td>\n",
       "      <td>0.0000%</td>\n",
       "      <td>5.4157%</td>\n",
       "      <td>0.0000%</td>\n",
       "      <td>0.0000%</td>\n",
       "      <td>0.0000%</td>\n",
       "      <td>0.0000%</td>\n",
       "      <td>19.4084%</td>\n",
       "      <td>0.0000%</td>\n",
       "      <td>0.0000%</td>\n",
       "      <td>5.4672%</td>\n",
       "    </tr>\n",
       "    <tr>\n",
       "      <th>3</th>\n",
       "      <td>0.0000%</td>\n",
       "      <td>0.0000%</td>\n",
       "      <td>0.0000%</td>\n",
       "      <td>0.0000%</td>\n",
       "      <td>0.0000%</td>\n",
       "      <td>16.6461%</td>\n",
       "      <td>0.8799%</td>\n",
       "      <td>46.1161%</td>\n",
       "      <td>0.0000%</td>\n",
       "      <td>4.9269%</td>\n",
       "      <td>...</td>\n",
       "      <td>0.0000%</td>\n",
       "      <td>7.2951%</td>\n",
       "      <td>0.0000%</td>\n",
       "      <td>0.0000%</td>\n",
       "      <td>0.0000%</td>\n",
       "      <td>0.0000%</td>\n",
       "      <td>23.7792%</td>\n",
       "      <td>0.0000%</td>\n",
       "      <td>0.0000%</td>\n",
       "      <td>0.3567%</td>\n",
       "    </tr>\n",
       "    <tr>\n",
       "      <th>4</th>\n",
       "      <td>0.0000%</td>\n",
       "      <td>0.0000%</td>\n",
       "      <td>0.0000%</td>\n",
       "      <td>0.0000%</td>\n",
       "      <td>0.0000%</td>\n",
       "      <td>13.9172%</td>\n",
       "      <td>2.0550%</td>\n",
       "      <td>41.1715%</td>\n",
       "      <td>0.0000%</td>\n",
       "      <td>5.7585%</td>\n",
       "      <td>...</td>\n",
       "      <td>0.0000%</td>\n",
       "      <td>8.9732%</td>\n",
       "      <td>0.0000%</td>\n",
       "      <td>0.0000%</td>\n",
       "      <td>0.0000%</td>\n",
       "      <td>0.0000%</td>\n",
       "      <td>28.1246%</td>\n",
       "      <td>0.0000%</td>\n",
       "      <td>0.0000%</td>\n",
       "      <td>0.0000%</td>\n",
       "    </tr>\n",
       "  </tbody>\n",
       "</table>\n",
       "<p>5 rows × 27 columns</p>\n",
       "</div>"
      ],
      "text/plain": [
       "   AAVE-USD  ADA-USD  APT21794-USD  AVAX-USD  BCH-USD  BNB-USD  BONK-USD  \\\n",
       "0   0.0000%  0.0000%       0.0000%   0.0000%  0.0000% 16.6638%   0.0000%   \n",
       "1   0.0000%  0.0000%       0.0000%   0.0000%  0.0000% 18.9047%   0.0000%   \n",
       "2   0.0000%  0.0000%       0.0000%   0.0000%  0.0000% 17.6233%   0.0000%   \n",
       "3   0.0000%  0.0000%       0.0000%   0.0000%  0.0000% 16.6461%   0.8799%   \n",
       "4   0.0000%  0.0000%       0.0000%   0.0000%  0.0000% 13.9172%   2.0550%   \n",
       "\n",
       "   BTC-USD  DOGE-USD  ETH-USD  ...  NEAR-USD  PEPE24478-USD  RNDR-USD  \\\n",
       "0 55.1178%   0.0000%  0.0000%  ...   0.0000%        0.0000%   0.0000%   \n",
       "1 51.9120%   0.0000%  0.7858%  ...   0.0000%        2.6248%   0.0000%   \n",
       "2 48.7269%   0.0000%  3.3585%  ...   0.0000%        5.4157%   0.0000%   \n",
       "3 46.1161%   0.0000%  4.9269%  ...   0.0000%        7.2951%   0.0000%   \n",
       "4 41.1715%   0.0000%  5.7585%  ...   0.0000%        8.9732%   0.0000%   \n",
       "\n",
       "   SOL-USD  SUI20947-USD  TAO22974-USD  TON11419-USD  UNI7083-USD  WIF-USD  \\\n",
       "0  0.0000%       0.0000%       0.0000%       0.0000%      0.0000%  0.0000%   \n",
       "1  0.0000%       0.0000%       0.0000%      13.9213%      0.0000%  0.0000%   \n",
       "2  0.0000%       0.0000%       0.0000%      19.4084%      0.0000%  0.0000%   \n",
       "3  0.0000%       0.0000%       0.0000%      23.7792%      0.0000%  0.0000%   \n",
       "4  0.0000%       0.0000%       0.0000%      28.1246%      0.0000%  0.0000%   \n",
       "\n",
       "   XRP-USD  \n",
       "0 28.2183%  \n",
       "1 11.8514%  \n",
       "2  5.4672%  \n",
       "3  0.3567%  \n",
       "4  0.0000%  \n",
       "\n",
       "[5 rows x 27 columns]"
      ]
     },
     "metadata": {},
     "output_type": "display_data"
    }
   ],
   "source": [
    "points = 50 # Number of points of the frontier\n",
    "\n",
    "frontier = port.efficient_frontier(model=model, rm=rm, points=points, rf=rf, hist=hist)\n",
    "\n",
    "display(frontier.T.head())"
   ]
  },
  {
   "cell_type": "code",
   "execution_count": 8,
   "metadata": {},
   "outputs": [
    {
     "data": {
      "image/png": "[encoded data removed]",
      "text/plain": [
       "<Figure size 1000x600 with 3 Axes>"
      ]
     },
     "metadata": {},
     "output_type": "display_data"
    }
   ],
   "source": [
    "# Plotting the efficient frontier\n",
    "\n",
    "label = 'Max Risk Adjusted Return Portfolio' # Title of point\n",
    "mu = port.mu # Expected returns\n",
    "cov = port.cov # Covariance matrix\n",
    "returns = port.returns # Returns of the assets\n",
    "\n",
    "ax = rp.plot_frontier(w_frontier=frontier, mu=mu, cov=cov, returns=returns, rm=rm,\n",
    "                      rf=rf, alpha=0.05, cmap='viridis', w=w, label=label,\n",
    "                      marker='*', s=16, c='r', height=6, width=10, ax=None)"
   ]
  },
  {
   "cell_type": "code",
   "execution_count": 9,
   "metadata": {},
   "outputs": [
    {
     "ename": "NameError",
     "evalue": "name 'plt' is not defined",
     "output_type": "error",
     "traceback": [
      "\u001b[0;31m---------------------------------------------------------------------------\u001b[0m",
      "\u001b[0;31mNameError\u001b[0m                                 Traceback (most recent call last)",
      "Cell \u001b[0;32mIn[9], line 4\u001b[0m\n\u001b[1;32m      1\u001b[0m \u001b[38;5;66;03m# Plotting efficient frontier composition\u001b[39;00m\n\u001b[1;32m      3\u001b[0m ax \u001b[38;5;241m=\u001b[39m rp\u001b[38;5;241m.\u001b[39mplot_frontier_area(w_frontier\u001b[38;5;241m=\u001b[39mfrontier, cmap\u001b[38;5;241m=\u001b[39m\u001b[38;5;124m\"\u001b[39m\u001b[38;5;124mtab20\u001b[39m\u001b[38;5;124m\"\u001b[39m, height\u001b[38;5;241m=\u001b[39m\u001b[38;5;241m6\u001b[39m, width\u001b[38;5;241m=\u001b[39m\u001b[38;5;241m10\u001b[39m, ax\u001b[38;5;241m=\u001b[39m\u001b[38;5;28;01mNone\u001b[39;00m)\n\u001b[0;32m----> 4\u001b[0m \u001b[43mplt\u001b[49m\u001b[38;5;241m.\u001b[39mshow()\n",
      "\u001b[0;31mNameError\u001b[0m: name 'plt' is not defined"
     ]
    },
    {
     "data": {
      "image/png": "[encoded data removed]",
      "text/plain": [
       "<Figure size 1000x600 with 1 Axes>"
      ]
     },
     "metadata": {},
     "output_type": "display_data"
    }
   ],
   "source": [
    "# Plotting efficient frontier composition\n",
    "\n",
    "ax = rp.plot_frontier_area(w_frontier=frontier, cmap=\"tab20\", height=6, width=10, ax=None)\n",
    "plt.show()"
   ]
  },
  {
   "cell_type": "markdown",
   "metadata": {},
   "source": [
    "### 3. Estimating Mean Risk Portfolios\n",
    "\n",
    "In this part I will calculate optimal portfolios for several risk measures. First I'm going to calculate the portfolio that maximizes risk adjusted return when CVaR is the risk measure, then I'm going to calculate the portfolios that maximize the risk adjusted return for all available risk measures."
   ]
  },
  {
   "cell_type": "code",
   "execution_count": null,
   "metadata": {},
   "outputs": [
    {
     "data": {
      "text/html": [
       "<div>\n",
       "<style scoped>\n",
       "    .dataframe tbody tr th:only-of-type {\n",
       "        vertical-align: middle;\n",
       "    }\n",
       "\n",
       "    .dataframe tbody tr th {\n",
       "        vertical-align: top;\n",
       "    }\n",
       "\n",
       "    .dataframe thead th {\n",
       "        text-align: right;\n",
       "    }\n",
       "</style>\n",
       "<table border=\"1\" class=\"dataframe\">\n",
       "  <thead>\n",
       "    <tr style=\"text-align: right;\">\n",
       "      <th></th>\n",
       "      <th>AAVE-USD</th>\n",
       "      <th>ADA-USD</th>\n",
       "      <th>APT21794-USD</th>\n",
       "      <th>AVAX-USD</th>\n",
       "      <th>BCH-USD</th>\n",
       "      <th>BNB-USD</th>\n",
       "      <th>BONK-USD</th>\n",
       "      <th>BTC-USD</th>\n",
       "      <th>DOGE-USD</th>\n",
       "      <th>ETH-USD</th>\n",
       "      <th>...</th>\n",
       "      <th>NEAR-USD</th>\n",
       "      <th>PEPE24478-USD</th>\n",
       "      <th>RNDR-USD</th>\n",
       "      <th>SOL-USD</th>\n",
       "      <th>SUI20947-USD</th>\n",
       "      <th>TAO22974-USD</th>\n",
       "      <th>TON11419-USD</th>\n",
       "      <th>UNI7083-USD</th>\n",
       "      <th>WIF-USD</th>\n",
       "      <th>XRP-USD</th>\n",
       "    </tr>\n",
       "  </thead>\n",
       "  <tbody>\n",
       "    <tr>\n",
       "      <th>weights</th>\n",
       "      <td>0.000000%</td>\n",
       "      <td>0.000000%</td>\n",
       "      <td>0.000000%</td>\n",
       "      <td>0.000000%</td>\n",
       "      <td>0.000000%</td>\n",
       "      <td>0.000000%</td>\n",
       "      <td>53.676976%</td>\n",
       "      <td>0.000000%</td>\n",
       "      <td>0.000000%</td>\n",
       "      <td>0.000000%</td>\n",
       "      <td>...</td>\n",
       "      <td>0.000000%</td>\n",
       "      <td>46.323023%</td>\n",
       "      <td>0.000000%</td>\n",
       "      <td>0.000000%</td>\n",
       "      <td>0.000000%</td>\n",
       "      <td>0.000000%</td>\n",
       "      <td>0.000000%</td>\n",
       "      <td>0.000000%</td>\n",
       "      <td>0.000000%</td>\n",
       "      <td>0.000000%</td>\n",
       "    </tr>\n",
       "  </tbody>\n",
       "</table>\n",
       "<p>1 rows × 27 columns</p>\n",
       "</div>"
      ],
      "text/plain": [
       "         AAVE-USD   ADA-USD  APT21794-USD  AVAX-USD   BCH-USD   BNB-USD  \\\n",
       "weights 0.000000% 0.000000%     0.000000% 0.000000% 0.000000% 0.000000%   \n",
       "\n",
       "          BONK-USD   BTC-USD  DOGE-USD   ETH-USD  ...  NEAR-USD  \\\n",
       "weights 53.676976% 0.000000% 0.000000% 0.000000%  ... 0.000000%   \n",
       "\n",
       "         PEPE24478-USD  RNDR-USD   SOL-USD  SUI20947-USD  TAO22974-USD  \\\n",
       "weights     46.323023% 0.000000% 0.000000%     0.000000%     0.000000%   \n",
       "\n",
       "         TON11419-USD  UNI7083-USD   WIF-USD   XRP-USD  \n",
       "weights     0.000000%    0.000000% 0.000000% 0.000000%  \n",
       "\n",
       "[1 rows x 27 columns]"
      ]
     },
     "metadata": {},
     "output_type": "display_data"
    }
   ],
   "source": [
    "rm = 'CVaR' # Risk measure\n",
    "\n",
    "w = port.optimization(model=model, rm=rm, obj=obj, rf=rf, l=l, hist=hist)\n",
    "\n",
    "display(w.T)"
   ]
  },
  {
   "cell_type": "markdown",
   "metadata": {},
   "source": [
    "### 3.2 Plotting portfolio composition\n"
   ]
  },
  {
   "cell_type": "code",
   "execution_count": null,
   "metadata": {},
   "outputs": [],
   "source": [
    "ax = rp.plot_pie(w=w, title='Sharpe Mean CVaR', others=0.05, nrow=25, cmap = \"tab20\",\n",
    "                 height=6, width=10, ax=None)\n"
   ]
  },
  {
   "cell_type": "markdown",
   "metadata": {},
   "source": [
    "### 3.3 Calculate efficient frontier\n"
   ]
  },
  {
   "cell_type": "code",
   "execution_count": null,
   "metadata": {},
   "outputs": [
    {
     "data": {
      "text/html": [
       "<div>\n",
       "<style scoped>\n",
       "    .dataframe tbody tr th:only-of-type {\n",
       "        vertical-align: middle;\n",
       "    }\n",
       "\n",
       "    .dataframe tbody tr th {\n",
       "        vertical-align: top;\n",
       "    }\n",
       "\n",
       "    .dataframe thead th {\n",
       "        text-align: right;\n",
       "    }\n",
       "</style>\n",
       "<table border=\"1\" class=\"dataframe\">\n",
       "  <thead>\n",
       "    <tr style=\"text-align: right;\">\n",
       "      <th></th>\n",
       "      <th>AAVE-USD</th>\n",
       "      <th>ADA-USD</th>\n",
       "      <th>APT21794-USD</th>\n",
       "      <th>AVAX-USD</th>\n",
       "      <th>BCH-USD</th>\n",
       "      <th>BNB-USD</th>\n",
       "      <th>BONK-USD</th>\n",
       "      <th>BTC-USD</th>\n",
       "      <th>DOGE-USD</th>\n",
       "      <th>ETH-USD</th>\n",
       "      <th>...</th>\n",
       "      <th>NEAR-USD</th>\n",
       "      <th>PEPE24478-USD</th>\n",
       "      <th>RNDR-USD</th>\n",
       "      <th>SOL-USD</th>\n",
       "      <th>SUI20947-USD</th>\n",
       "      <th>TAO22974-USD</th>\n",
       "      <th>TON11419-USD</th>\n",
       "      <th>UNI7083-USD</th>\n",
       "      <th>WIF-USD</th>\n",
       "      <th>XRP-USD</th>\n",
       "    </tr>\n",
       "  </thead>\n",
       "  <tbody>\n",
       "    <tr>\n",
       "      <th>0</th>\n",
       "      <td>0.000000%</td>\n",
       "      <td>0.000000%</td>\n",
       "      <td>0.000000%</td>\n",
       "      <td>0.000000%</td>\n",
       "      <td>0.000000%</td>\n",
       "      <td>0.000000%</td>\n",
       "      <td>0.000000%</td>\n",
       "      <td>95.478973%</td>\n",
       "      <td>0.000000%</td>\n",
       "      <td>0.000000%</td>\n",
       "      <td>...</td>\n",
       "      <td>0.000000%</td>\n",
       "      <td>0.000000%</td>\n",
       "      <td>0.000000%</td>\n",
       "      <td>0.000000%</td>\n",
       "      <td>0.000000%</td>\n",
       "      <td>4.521027%</td>\n",
       "      <td>0.000000%</td>\n",
       "      <td>0.000000%</td>\n",
       "      <td>0.000000%</td>\n",
       "      <td>0.000000%</td>\n",
       "    </tr>\n",
       "    <tr>\n",
       "      <th>1</th>\n",
       "      <td>0.000000%</td>\n",
       "      <td>0.000000%</td>\n",
       "      <td>0.000000%</td>\n",
       "      <td>0.000000%</td>\n",
       "      <td>0.000000%</td>\n",
       "      <td>0.000000%</td>\n",
       "      <td>6.451123%</td>\n",
       "      <td>93.548877%</td>\n",
       "      <td>0.000000%</td>\n",
       "      <td>0.000000%</td>\n",
       "      <td>...</td>\n",
       "      <td>0.000000%</td>\n",
       "      <td>0.000000%</td>\n",
       "      <td>0.000000%</td>\n",
       "      <td>0.000000%</td>\n",
       "      <td>0.000000%</td>\n",
       "      <td>0.000000%</td>\n",
       "      <td>0.000000%</td>\n",
       "      <td>0.000000%</td>\n",
       "      <td>0.000000%</td>\n",
       "      <td>0.000000%</td>\n",
       "    </tr>\n",
       "    <tr>\n",
       "      <th>2</th>\n",
       "      <td>0.000000%</td>\n",
       "      <td>0.000000%</td>\n",
       "      <td>0.000000%</td>\n",
       "      <td>0.000000%</td>\n",
       "      <td>0.000000%</td>\n",
       "      <td>0.000000%</td>\n",
       "      <td>11.500725%</td>\n",
       "      <td>88.499275%</td>\n",
       "      <td>0.000000%</td>\n",
       "      <td>0.000000%</td>\n",
       "      <td>...</td>\n",
       "      <td>0.000000%</td>\n",
       "      <td>0.000000%</td>\n",
       "      <td>0.000000%</td>\n",
       "      <td>0.000000%</td>\n",
       "      <td>0.000000%</td>\n",
       "      <td>0.000000%</td>\n",
       "      <td>0.000000%</td>\n",
       "      <td>0.000000%</td>\n",
       "      <td>0.000000%</td>\n",
       "      <td>0.000000%</td>\n",
       "    </tr>\n",
       "    <tr>\n",
       "      <th>3</th>\n",
       "      <td>0.000000%</td>\n",
       "      <td>0.000000%</td>\n",
       "      <td>0.000000%</td>\n",
       "      <td>0.000000%</td>\n",
       "      <td>0.000000%</td>\n",
       "      <td>0.000000%</td>\n",
       "      <td>16.440743%</td>\n",
       "      <td>83.559257%</td>\n",
       "      <td>0.000000%</td>\n",
       "      <td>0.000000%</td>\n",
       "      <td>...</td>\n",
       "      <td>0.000000%</td>\n",
       "      <td>0.000000%</td>\n",
       "      <td>0.000000%</td>\n",
       "      <td>0.000000%</td>\n",
       "      <td>0.000000%</td>\n",
       "      <td>0.000000%</td>\n",
       "      <td>0.000000%</td>\n",
       "      <td>0.000000%</td>\n",
       "      <td>0.000000%</td>\n",
       "      <td>0.000000%</td>\n",
       "    </tr>\n",
       "    <tr>\n",
       "      <th>4</th>\n",
       "      <td>0.000000%</td>\n",
       "      <td>0.000000%</td>\n",
       "      <td>0.000000%</td>\n",
       "      <td>0.000000%</td>\n",
       "      <td>0.000000%</td>\n",
       "      <td>0.000000%</td>\n",
       "      <td>20.936004%</td>\n",
       "      <td>79.063996%</td>\n",
       "      <td>0.000000%</td>\n",
       "      <td>0.000000%</td>\n",
       "      <td>...</td>\n",
       "      <td>0.000000%</td>\n",
       "      <td>0.000000%</td>\n",
       "      <td>0.000000%</td>\n",
       "      <td>0.000000%</td>\n",
       "      <td>0.000000%</td>\n",
       "      <td>0.000000%</td>\n",
       "      <td>0.000000%</td>\n",
       "      <td>0.000000%</td>\n",
       "      <td>0.000000%</td>\n",
       "      <td>0.000000%</td>\n",
       "    </tr>\n",
       "  </tbody>\n",
       "</table>\n",
       "<p>5 rows × 27 columns</p>\n",
       "</div>"
      ],
      "text/plain": [
       "   AAVE-USD   ADA-USD  APT21794-USD  AVAX-USD   BCH-USD   BNB-USD   BONK-USD  \\\n",
       "0 0.000000% 0.000000%     0.000000% 0.000000% 0.000000% 0.000000%  0.000000%   \n",
       "1 0.000000% 0.000000%     0.000000% 0.000000% 0.000000% 0.000000%  6.451123%   \n",
       "2 0.000000% 0.000000%     0.000000% 0.000000% 0.000000% 0.000000% 11.500725%   \n",
       "3 0.000000% 0.000000%     0.000000% 0.000000% 0.000000% 0.000000% 16.440743%   \n",
       "4 0.000000% 0.000000%     0.000000% 0.000000% 0.000000% 0.000000% 20.936004%   \n",
       "\n",
       "     BTC-USD  DOGE-USD   ETH-USD  ...  NEAR-USD  PEPE24478-USD  RNDR-USD  \\\n",
       "0 95.478973% 0.000000% 0.000000%  ... 0.000000%      0.000000% 0.000000%   \n",
       "1 93.548877% 0.000000% 0.000000%  ... 0.000000%      0.000000% 0.000000%   \n",
       "2 88.499275% 0.000000% 0.000000%  ... 0.000000%      0.000000% 0.000000%   \n",
       "3 83.559257% 0.000000% 0.000000%  ... 0.000000%      0.000000% 0.000000%   \n",
       "4 79.063996% 0.000000% 0.000000%  ... 0.000000%      0.000000% 0.000000%   \n",
       "\n",
       "    SOL-USD  SUI20947-USD  TAO22974-USD  TON11419-USD  UNI7083-USD   WIF-USD  \\\n",
       "0 0.000000%     0.000000%     4.521027%     0.000000%    0.000000% 0.000000%   \n",
       "1 0.000000%     0.000000%     0.000000%     0.000000%    0.000000% 0.000000%   \n",
       "2 0.000000%     0.000000%     0.000000%     0.000000%    0.000000% 0.000000%   \n",
       "3 0.000000%     0.000000%     0.000000%     0.000000%    0.000000% 0.000000%   \n",
       "4 0.000000%     0.000000%     0.000000%     0.000000%    0.000000% 0.000000%   \n",
       "\n",
       "    XRP-USD  \n",
       "0 0.000000%  \n",
       "1 0.000000%  \n",
       "2 0.000000%  \n",
       "3 0.000000%  \n",
       "4 0.000000%  \n",
       "\n",
       "[5 rows x 27 columns]"
      ]
     },
     "metadata": {},
     "output_type": "display_data"
    }
   ],
   "source": [
    "points = 50 # Number of points of the frontier\n",
    "\n",
    "frontier = port.efficient_frontier(model=model, rm=rm, points=points, rf=rf, hist=hist)\n",
    "\n",
    "display(frontier.T.head())"
   ]
  },
  {
   "cell_type": "code",
   "execution_count": null,
   "metadata": {},
   "outputs": [],
   "source": [
    "label = 'Max Risk Adjusted Return Portfolio' # Title of point\n",
    "\n",
    "ax = rp.plot_frontier(w_frontier=frontier, mu=mu, cov=cov, returns=returns, rm=rm,\n",
    "                      rf=rf, alpha=0.05, cmap='viridis', w=w, label=label,\n",
    "                      marker='*', s=16, c='r', height=6, width=10, ax=None)\n"
   ]
  },
  {
   "cell_type": "code",
   "execution_count": null,
   "metadata": {},
   "outputs": [],
   "source": [
    "# Plotting efficient frontier composition\n",
    "\n",
    "ax = rp.plot_frontier_area(w_frontier=frontier, cmap=\"tab20\", height=6, width=10, ax=None)\n"
   ]
  },
  {
   "cell_type": "code",
   "execution_count": null,
   "metadata": {},
   "outputs": [],
   "source": [
    "# Risk Measures available:\n",
    "#\n",
    "# 'MV': Standard Deviation.\n",
    "# 'MAD': Mean Absolute Deviation.\n",
    "# 'MSV': Semi Standard Deviation.\n",
    "# 'FLPM': First Lower Partial Moment (Omega Ratio).\n",
    "# 'SLPM': Second Lower Partial Moment (Sortino Ratio).\n",
    "# 'CVaR': Conditional Value at Risk.\n",
    "# 'EVaR': Entropic Value at Risk.\n",
    "# 'WR': Worst Realization (Minimax)\n",
    "# 'MDD': Maximum Drawdown of uncompounded cumulative returns (Calmar Ratio).\n",
    "# 'ADD': Average Drawdown of uncompounded cumulative returns.\n",
    "# 'CDaR': Conditional Drawdown at Risk of uncompounded cumulative returns.\n",
    "# 'EDaR': Entropic Drawdown at Risk of uncompounded cumulative returns.\n",
    "# 'UCI': Ulcer Index of uncompounded cumulative returns.\n",
    "\n",
    "rms = ['MV', 'MAD', 'MSV', 'FLPM', 'SLPM', 'CVaR',\n",
    "       'EVaR', 'WR', 'MDD', 'ADD', 'CDaR', 'UCI', 'EDaR']\n",
    "\n",
    "w_s = pd.DataFrame([])\n",
    "\n",
    "for i in rms:\n",
    "    w = port.optimization(model=model, rm=i, obj=obj, rf=rf, l=l, hist=hist)\n",
    "    w_s = pd.concat([w_s, w], axis=1)\n",
    "    \n",
    "w_s.columns = rms"
   ]
  },
  {
   "cell_type": "code",
   "execution_count": null,
   "metadata": {},
   "outputs": [
    {
     "data": {
      "text/html": [
       "<style type=\"text/css\">\n",
       "#T_dd60f_row0_col0, #T_dd60f_row0_col1, #T_dd60f_row0_col2, #T_dd60f_row0_col3, #T_dd60f_row0_col4, #T_dd60f_row0_col5, #T_dd60f_row0_col6, #T_dd60f_row0_col7, #T_dd60f_row0_col8, #T_dd60f_row0_col9, #T_dd60f_row0_col10, #T_dd60f_row0_col11, #T_dd60f_row0_col12, #T_dd60f_row1_col0, #T_dd60f_row1_col1, #T_dd60f_row1_col2, #T_dd60f_row1_col3, #T_dd60f_row1_col4, #T_dd60f_row1_col5, #T_dd60f_row1_col6, #T_dd60f_row1_col7, #T_dd60f_row1_col8, #T_dd60f_row1_col9, #T_dd60f_row1_col10, #T_dd60f_row1_col11, #T_dd60f_row1_col12, #T_dd60f_row2_col0, #T_dd60f_row2_col1, #T_dd60f_row2_col2, #T_dd60f_row2_col3, #T_dd60f_row2_col4, #T_dd60f_row2_col5, #T_dd60f_row2_col6, #T_dd60f_row2_col7, #T_dd60f_row2_col8, #T_dd60f_row2_col9, #T_dd60f_row2_col10, #T_dd60f_row2_col11, #T_dd60f_row2_col12, #T_dd60f_row3_col0, #T_dd60f_row3_col1, #T_dd60f_row3_col2, #T_dd60f_row3_col3, #T_dd60f_row3_col4, #T_dd60f_row3_col5, #T_dd60f_row3_col6, #T_dd60f_row3_col7, #T_dd60f_row3_col8, #T_dd60f_row3_col9, #T_dd60f_row3_col10, #T_dd60f_row3_col11, #T_dd60f_row3_col12, #T_dd60f_row4_col0, #T_dd60f_row4_col1, #T_dd60f_row4_col2, #T_dd60f_row4_col3, #T_dd60f_row4_col4, #T_dd60f_row4_col5, #T_dd60f_row4_col6, #T_dd60f_row4_col7, #T_dd60f_row4_col8, #T_dd60f_row4_col9, #T_dd60f_row4_col10, #T_dd60f_row4_col11, #T_dd60f_row4_col12, #T_dd60f_row5_col0, #T_dd60f_row5_col1, #T_dd60f_row5_col2, #T_dd60f_row5_col3, #T_dd60f_row5_col4, #T_dd60f_row5_col5, #T_dd60f_row5_col6, #T_dd60f_row5_col7, #T_dd60f_row5_col8, #T_dd60f_row5_col9, #T_dd60f_row5_col10, #T_dd60f_row5_col11, #T_dd60f_row5_col12, #T_dd60f_row6_col3, #T_dd60f_row7_col0, #T_dd60f_row7_col1, #T_dd60f_row7_col2, #T_dd60f_row7_col3, #T_dd60f_row7_col4, #T_dd60f_row7_col5, #T_dd60f_row7_col6, #T_dd60f_row7_col7, #T_dd60f_row7_col8, #T_dd60f_row7_col9, #T_dd60f_row7_col10, #T_dd60f_row7_col11, #T_dd60f_row7_col12, #T_dd60f_row8_col0, #T_dd60f_row8_col1, #T_dd60f_row8_col2, #T_dd60f_row8_col3, #T_dd60f_row8_col4, #T_dd60f_row8_col5, #T_dd60f_row8_col6, #T_dd60f_row8_col7, #T_dd60f_row8_col8, #T_dd60f_row8_col9, #T_dd60f_row8_col10, #T_dd60f_row8_col11, #T_dd60f_row8_col12, #T_dd60f_row9_col0, #T_dd60f_row9_col1, #T_dd60f_row9_col2, #T_dd60f_row9_col3, #T_dd60f_row9_col4, #T_dd60f_row9_col5, #T_dd60f_row9_col6, #T_dd60f_row9_col7, #T_dd60f_row9_col8, #T_dd60f_row9_col9, #T_dd60f_row9_col10, #T_dd60f_row9_col11, #T_dd60f_row9_col12, #T_dd60f_row10_col0, #T_dd60f_row10_col1, #T_dd60f_row10_col2, #T_dd60f_row10_col3, #T_dd60f_row10_col4, #T_dd60f_row10_col5, #T_dd60f_row10_col6, #T_dd60f_row10_col7, #T_dd60f_row10_col8, #T_dd60f_row10_col9, #T_dd60f_row10_col10, #T_dd60f_row10_col11, #T_dd60f_row10_col12, #T_dd60f_row11_col0, #T_dd60f_row11_col1, #T_dd60f_row11_col2, #T_dd60f_row11_col3, #T_dd60f_row11_col4, #T_dd60f_row11_col5, #T_dd60f_row11_col6, #T_dd60f_row11_col7, #T_dd60f_row11_col8, #T_dd60f_row11_col9, #T_dd60f_row11_col10, #T_dd60f_row11_col11, #T_dd60f_row11_col12, #T_dd60f_row12_col0, #T_dd60f_row12_col1, #T_dd60f_row12_col2, #T_dd60f_row12_col3, #T_dd60f_row12_col4, #T_dd60f_row12_col5, #T_dd60f_row12_col6, #T_dd60f_row12_col7, #T_dd60f_row12_col8, #T_dd60f_row12_col9, #T_dd60f_row12_col10, #T_dd60f_row12_col11, #T_dd60f_row12_col12, #T_dd60f_row13_col0, #T_dd60f_row13_col1, #T_dd60f_row13_col2, #T_dd60f_row13_col3, #T_dd60f_row13_col4, #T_dd60f_row13_col5, #T_dd60f_row13_col6, #T_dd60f_row13_col7, #T_dd60f_row13_col8, #T_dd60f_row13_col9, #T_dd60f_row13_col10, #T_dd60f_row13_col11, #T_dd60f_row13_col12, #T_dd60f_row14_col0, #T_dd60f_row14_col1, #T_dd60f_row14_col2, #T_dd60f_row14_col3, #T_dd60f_row14_col4, #T_dd60f_row14_col5, #T_dd60f_row14_col6, #T_dd60f_row14_col7, #T_dd60f_row14_col8, #T_dd60f_row14_col9, #T_dd60f_row14_col10, #T_dd60f_row14_col11, #T_dd60f_row14_col12, #T_dd60f_row15_col0, #T_dd60f_row15_col1, #T_dd60f_row15_col2, #T_dd60f_row15_col3, #T_dd60f_row15_col4, #T_dd60f_row15_col5, #T_dd60f_row15_col6, #T_dd60f_row15_col7, #T_dd60f_row15_col8, #T_dd60f_row15_col9, #T_dd60f_row15_col10, #T_dd60f_row15_col11, #T_dd60f_row15_col12, #T_dd60f_row16_col0, #T_dd60f_row16_col1, #T_dd60f_row16_col2, #T_dd60f_row16_col3, #T_dd60f_row16_col4, #T_dd60f_row16_col5, #T_dd60f_row16_col6, #T_dd60f_row16_col7, #T_dd60f_row16_col8, #T_dd60f_row16_col9, #T_dd60f_row16_col10, #T_dd60f_row16_col11, #T_dd60f_row16_col12, #T_dd60f_row17_col0, #T_dd60f_row17_col1, #T_dd60f_row17_col2, #T_dd60f_row17_col3, #T_dd60f_row17_col4, #T_dd60f_row17_col5, #T_dd60f_row17_col6, #T_dd60f_row17_col7, #T_dd60f_row17_col8, #T_dd60f_row17_col9, #T_dd60f_row17_col10, #T_dd60f_row17_col11, #T_dd60f_row17_col12, #T_dd60f_row19_col0, #T_dd60f_row19_col1, #T_dd60f_row19_col2, #T_dd60f_row19_col3, #T_dd60f_row19_col4, #T_dd60f_row19_col5, #T_dd60f_row19_col6, #T_dd60f_row19_col7, #T_dd60f_row19_col8, #T_dd60f_row19_col9, #T_dd60f_row19_col10, #T_dd60f_row19_col11, #T_dd60f_row19_col12, #T_dd60f_row20_col0, #T_dd60f_row20_col1, #T_dd60f_row20_col2, #T_dd60f_row20_col3, #T_dd60f_row20_col4, #T_dd60f_row20_col5, #T_dd60f_row20_col6, #T_dd60f_row20_col7, #T_dd60f_row20_col8, #T_dd60f_row20_col9, #T_dd60f_row20_col10, #T_dd60f_row20_col11, #T_dd60f_row20_col12, #T_dd60f_row21_col0, #T_dd60f_row21_col1, #T_dd60f_row21_col2, #T_dd60f_row21_col3, #T_dd60f_row21_col4, #T_dd60f_row21_col5, #T_dd60f_row21_col6, #T_dd60f_row21_col7, #T_dd60f_row21_col8, #T_dd60f_row21_col9, #T_dd60f_row21_col10, #T_dd60f_row21_col11, #T_dd60f_row21_col12, #T_dd60f_row22_col0, #T_dd60f_row22_col1, #T_dd60f_row22_col2, #T_dd60f_row22_col3, #T_dd60f_row22_col4, #T_dd60f_row22_col5, #T_dd60f_row22_col6, #T_dd60f_row22_col7, #T_dd60f_row22_col8, #T_dd60f_row22_col9, #T_dd60f_row22_col10, #T_dd60f_row22_col11, #T_dd60f_row22_col12, #T_dd60f_row23_col3, #T_dd60f_row23_col5, #T_dd60f_row23_col6, #T_dd60f_row23_col7, #T_dd60f_row24_col0, #T_dd60f_row24_col1, #T_dd60f_row24_col2, #T_dd60f_row24_col3, #T_dd60f_row24_col4, #T_dd60f_row24_col5, #T_dd60f_row24_col6, #T_dd60f_row24_col7, #T_dd60f_row24_col8, #T_dd60f_row24_col9, #T_dd60f_row24_col10, #T_dd60f_row24_col11, #T_dd60f_row24_col12, #T_dd60f_row25_col0, #T_dd60f_row25_col1, #T_dd60f_row25_col2, #T_dd60f_row25_col3, #T_dd60f_row25_col4, #T_dd60f_row25_col5, #T_dd60f_row25_col6, #T_dd60f_row25_col7, #T_dd60f_row25_col8, #T_dd60f_row25_col9, #T_dd60f_row25_col10, #T_dd60f_row25_col11, #T_dd60f_row25_col12, #T_dd60f_row26_col0, #T_dd60f_row26_col1, #T_dd60f_row26_col2, #T_dd60f_row26_col3, #T_dd60f_row26_col4, #T_dd60f_row26_col5, #T_dd60f_row26_col6, #T_dd60f_row26_col7, #T_dd60f_row26_col8, #T_dd60f_row26_col9, #T_dd60f_row26_col10, #T_dd60f_row26_col11, #T_dd60f_row26_col12 {\n",
       "  background-color: #ffffe5;\n",
       "  color: #000000;\n",
       "}\n",
       "#T_dd60f_row6_col0 {\n",
       "  background-color: #42ab5d;\n",
       "  color: #f1f1f1;\n",
       "}\n",
       "#T_dd60f_row6_col1 {\n",
       "  background-color: #def2a7;\n",
       "  color: #000000;\n",
       "}\n",
       "#T_dd60f_row6_col2 {\n",
       "  background-color: #006234;\n",
       "  color: #f1f1f1;\n",
       "}\n",
       "#T_dd60f_row6_col4 {\n",
       "  background-color: #00492b;\n",
       "  color: #f1f1f1;\n",
       "}\n",
       "#T_dd60f_row6_col5, #T_dd60f_row6_col6, #T_dd60f_row6_col7, #T_dd60f_row18_col0, #T_dd60f_row18_col1, #T_dd60f_row18_col2, #T_dd60f_row18_col3, #T_dd60f_row18_col4, #T_dd60f_row23_col8, #T_dd60f_row23_col9, #T_dd60f_row23_col10, #T_dd60f_row23_col11, #T_dd60f_row23_col12 {\n",
       "  background-color: #004529;\n",
       "  color: #f1f1f1;\n",
       "}\n",
       "#T_dd60f_row6_col8 {\n",
       "  background-color: #cbea9c;\n",
       "  color: #000000;\n",
       "}\n",
       "#T_dd60f_row6_col9 {\n",
       "  background-color: #f2fab5;\n",
       "  color: #000000;\n",
       "}\n",
       "#T_dd60f_row6_col10 {\n",
       "  background-color: #ebf7b0;\n",
       "  color: #000000;\n",
       "}\n",
       "#T_dd60f_row6_col11 {\n",
       "  background-color: #f4fbb7;\n",
       "  color: #000000;\n",
       "}\n",
       "#T_dd60f_row6_col12 {\n",
       "  background-color: #e9f6af;\n",
       "  color: #000000;\n",
       "}\n",
       "#T_dd60f_row18_col5 {\n",
       "  background-color: #036b38;\n",
       "  color: #f1f1f1;\n",
       "}\n",
       "#T_dd60f_row18_col6 {\n",
       "  background-color: #ddf2a6;\n",
       "  color: #000000;\n",
       "}\n",
       "#T_dd60f_row18_col7 {\n",
       "  background-color: #fcfed7;\n",
       "  color: #000000;\n",
       "}\n",
       "#T_dd60f_row18_col8 {\n",
       "  background-color: #ecf7b1;\n",
       "  color: #000000;\n",
       "}\n",
       "#T_dd60f_row18_col9 {\n",
       "  background-color: #a1d889;\n",
       "  color: #000000;\n",
       "}\n",
       "#T_dd60f_row18_col10 {\n",
       "  background-color: #bce395;\n",
       "  color: #000000;\n",
       "}\n",
       "#T_dd60f_row18_col11 {\n",
       "  background-color: #53b466;\n",
       "  color: #f1f1f1;\n",
       "}\n",
       "#T_dd60f_row18_col12 {\n",
       "  background-color: #cfec9e;\n",
       "  color: #000000;\n",
       "}\n",
       "#T_dd60f_row23_col0 {\n",
       "  background-color: #45ad5f;\n",
       "  color: #f1f1f1;\n",
       "}\n",
       "#T_dd60f_row23_col1 {\n",
       "  background-color: #d9f0a3;\n",
       "  color: #000000;\n",
       "}\n",
       "#T_dd60f_row23_col2 {\n",
       "  background-color: #f8fcc0;\n",
       "  color: #000000;\n",
       "}\n",
       "#T_dd60f_row23_col4 {\n",
       "  background-color: #f9fdc4;\n",
       "  color: #000000;\n",
       "}\n",
       "</style>\n",
       "<table id=\"T_dd60f\">\n",
       "  <thead>\n",
       "    <tr>\n",
       "      <th class=\"blank level0\" >&nbsp;</th>\n",
       "      <th id=\"T_dd60f_level0_col0\" class=\"col_heading level0 col0\" >MV</th>\n",
       "      <th id=\"T_dd60f_level0_col1\" class=\"col_heading level0 col1\" >MAD</th>\n",
       "      <th id=\"T_dd60f_level0_col2\" class=\"col_heading level0 col2\" >MSV</th>\n",
       "      <th id=\"T_dd60f_level0_col3\" class=\"col_heading level0 col3\" >FLPM</th>\n",
       "      <th id=\"T_dd60f_level0_col4\" class=\"col_heading level0 col4\" >SLPM</th>\n",
       "      <th id=\"T_dd60f_level0_col5\" class=\"col_heading level0 col5\" >CVaR</th>\n",
       "      <th id=\"T_dd60f_level0_col6\" class=\"col_heading level0 col6\" >EVaR</th>\n",
       "      <th id=\"T_dd60f_level0_col7\" class=\"col_heading level0 col7\" >WR</th>\n",
       "      <th id=\"T_dd60f_level0_col8\" class=\"col_heading level0 col8\" >MDD</th>\n",
       "      <th id=\"T_dd60f_level0_col9\" class=\"col_heading level0 col9\" >ADD</th>\n",
       "      <th id=\"T_dd60f_level0_col10\" class=\"col_heading level0 col10\" >CDaR</th>\n",
       "      <th id=\"T_dd60f_level0_col11\" class=\"col_heading level0 col11\" >UCI</th>\n",
       "      <th id=\"T_dd60f_level0_col12\" class=\"col_heading level0 col12\" >EDaR</th>\n",
       "    </tr>\n",
       "  </thead>\n",
       "  <tbody>\n",
       "    <tr>\n",
       "      <th id=\"T_dd60f_level0_row0\" class=\"row_heading level0 row0\" >AAVE-USD</th>\n",
       "      <td id=\"T_dd60f_row0_col0\" class=\"data row0 col0\" >0.00%</td>\n",
       "      <td id=\"T_dd60f_row0_col1\" class=\"data row0 col1\" >0.00%</td>\n",
       "      <td id=\"T_dd60f_row0_col2\" class=\"data row0 col2\" >0.00%</td>\n",
       "      <td id=\"T_dd60f_row0_col3\" class=\"data row0 col3\" >0.00%</td>\n",
       "      <td id=\"T_dd60f_row0_col4\" class=\"data row0 col4\" >0.00%</td>\n",
       "      <td id=\"T_dd60f_row0_col5\" class=\"data row0 col5\" >0.00%</td>\n",
       "      <td id=\"T_dd60f_row0_col6\" class=\"data row0 col6\" >0.00%</td>\n",
       "      <td id=\"T_dd60f_row0_col7\" class=\"data row0 col7\" >0.00%</td>\n",
       "      <td id=\"T_dd60f_row0_col8\" class=\"data row0 col8\" >0.00%</td>\n",
       "      <td id=\"T_dd60f_row0_col9\" class=\"data row0 col9\" >0.00%</td>\n",
       "      <td id=\"T_dd60f_row0_col10\" class=\"data row0 col10\" >0.00%</td>\n",
       "      <td id=\"T_dd60f_row0_col11\" class=\"data row0 col11\" >0.00%</td>\n",
       "      <td id=\"T_dd60f_row0_col12\" class=\"data row0 col12\" >0.00%</td>\n",
       "    </tr>\n",
       "    <tr>\n",
       "      <th id=\"T_dd60f_level0_row1\" class=\"row_heading level0 row1\" >ADA-USD</th>\n",
       "      <td id=\"T_dd60f_row1_col0\" class=\"data row1 col0\" >0.00%</td>\n",
       "      <td id=\"T_dd60f_row1_col1\" class=\"data row1 col1\" >0.00%</td>\n",
       "      <td id=\"T_dd60f_row1_col2\" class=\"data row1 col2\" >0.00%</td>\n",
       "      <td id=\"T_dd60f_row1_col3\" class=\"data row1 col3\" >0.00%</td>\n",
       "      <td id=\"T_dd60f_row1_col4\" class=\"data row1 col4\" >0.00%</td>\n",
       "      <td id=\"T_dd60f_row1_col5\" class=\"data row1 col5\" >0.00%</td>\n",
       "      <td id=\"T_dd60f_row1_col6\" class=\"data row1 col6\" >0.00%</td>\n",
       "      <td id=\"T_dd60f_row1_col7\" class=\"data row1 col7\" >0.00%</td>\n",
       "      <td id=\"T_dd60f_row1_col8\" class=\"data row1 col8\" >0.00%</td>\n",
       "      <td id=\"T_dd60f_row1_col9\" class=\"data row1 col9\" >0.00%</td>\n",
       "      <td id=\"T_dd60f_row1_col10\" class=\"data row1 col10\" >0.00%</td>\n",
       "      <td id=\"T_dd60f_row1_col11\" class=\"data row1 col11\" >0.00%</td>\n",
       "      <td id=\"T_dd60f_row1_col12\" class=\"data row1 col12\" >0.00%</td>\n",
       "    </tr>\n",
       "    <tr>\n",
       "      <th id=\"T_dd60f_level0_row2\" class=\"row_heading level0 row2\" >APT21794-USD</th>\n",
       "      <td id=\"T_dd60f_row2_col0\" class=\"data row2 col0\" >0.00%</td>\n",
       "      <td id=\"T_dd60f_row2_col1\" class=\"data row2 col1\" >0.00%</td>\n",
       "      <td id=\"T_dd60f_row2_col2\" class=\"data row2 col2\" >0.00%</td>\n",
       "      <td id=\"T_dd60f_row2_col3\" class=\"data row2 col3\" >0.00%</td>\n",
       "      <td id=\"T_dd60f_row2_col4\" class=\"data row2 col4\" >0.00%</td>\n",
       "      <td id=\"T_dd60f_row2_col5\" class=\"data row2 col5\" >0.00%</td>\n",
       "      <td id=\"T_dd60f_row2_col6\" class=\"data row2 col6\" >0.00%</td>\n",
       "      <td id=\"T_dd60f_row2_col7\" class=\"data row2 col7\" >0.00%</td>\n",
       "      <td id=\"T_dd60f_row2_col8\" class=\"data row2 col8\" >0.00%</td>\n",
       "      <td id=\"T_dd60f_row2_col9\" class=\"data row2 col9\" >0.00%</td>\n",
       "      <td id=\"T_dd60f_row2_col10\" class=\"data row2 col10\" >0.00%</td>\n",
       "      <td id=\"T_dd60f_row2_col11\" class=\"data row2 col11\" >0.00%</td>\n",
       "      <td id=\"T_dd60f_row2_col12\" class=\"data row2 col12\" >0.00%</td>\n",
       "    </tr>\n",
       "    <tr>\n",
       "      <th id=\"T_dd60f_level0_row3\" class=\"row_heading level0 row3\" >AVAX-USD</th>\n",
       "      <td id=\"T_dd60f_row3_col0\" class=\"data row3 col0\" >0.00%</td>\n",
       "      <td id=\"T_dd60f_row3_col1\" class=\"data row3 col1\" >0.00%</td>\n",
       "      <td id=\"T_dd60f_row3_col2\" class=\"data row3 col2\" >0.00%</td>\n",
       "      <td id=\"T_dd60f_row3_col3\" class=\"data row3 col3\" >0.00%</td>\n",
       "      <td id=\"T_dd60f_row3_col4\" class=\"data row3 col4\" >0.00%</td>\n",
       "      <td id=\"T_dd60f_row3_col5\" class=\"data row3 col5\" >0.00%</td>\n",
       "      <td id=\"T_dd60f_row3_col6\" class=\"data row3 col6\" >0.00%</td>\n",
       "      <td id=\"T_dd60f_row3_col7\" class=\"data row3 col7\" >0.00%</td>\n",
       "      <td id=\"T_dd60f_row3_col8\" class=\"data row3 col8\" >0.00%</td>\n",
       "      <td id=\"T_dd60f_row3_col9\" class=\"data row3 col9\" >0.00%</td>\n",
       "      <td id=\"T_dd60f_row3_col10\" class=\"data row3 col10\" >0.00%</td>\n",
       "      <td id=\"T_dd60f_row3_col11\" class=\"data row3 col11\" >0.00%</td>\n",
       "      <td id=\"T_dd60f_row3_col12\" class=\"data row3 col12\" >0.00%</td>\n",
       "    </tr>\n",
       "    <tr>\n",
       "      <th id=\"T_dd60f_level0_row4\" class=\"row_heading level0 row4\" >BCH-USD</th>\n",
       "      <td id=\"T_dd60f_row4_col0\" class=\"data row4 col0\" >0.00%</td>\n",
       "      <td id=\"T_dd60f_row4_col1\" class=\"data row4 col1\" >0.00%</td>\n",
       "      <td id=\"T_dd60f_row4_col2\" class=\"data row4 col2\" >0.00%</td>\n",
       "      <td id=\"T_dd60f_row4_col3\" class=\"data row4 col3\" >0.00%</td>\n",
       "      <td id=\"T_dd60f_row4_col4\" class=\"data row4 col4\" >0.00%</td>\n",
       "      <td id=\"T_dd60f_row4_col5\" class=\"data row4 col5\" >0.00%</td>\n",
       "      <td id=\"T_dd60f_row4_col6\" class=\"data row4 col6\" >0.00%</td>\n",
       "      <td id=\"T_dd60f_row4_col7\" class=\"data row4 col7\" >0.00%</td>\n",
       "      <td id=\"T_dd60f_row4_col8\" class=\"data row4 col8\" >0.00%</td>\n",
       "      <td id=\"T_dd60f_row4_col9\" class=\"data row4 col9\" >0.00%</td>\n",
       "      <td id=\"T_dd60f_row4_col10\" class=\"data row4 col10\" >0.00%</td>\n",
       "      <td id=\"T_dd60f_row4_col11\" class=\"data row4 col11\" >0.00%</td>\n",
       "      <td id=\"T_dd60f_row4_col12\" class=\"data row4 col12\" >0.00%</td>\n",
       "    </tr>\n",
       "    <tr>\n",
       "      <th id=\"T_dd60f_level0_row5\" class=\"row_heading level0 row5\" >BNB-USD</th>\n",
       "      <td id=\"T_dd60f_row5_col0\" class=\"data row5 col0\" >0.00%</td>\n",
       "      <td id=\"T_dd60f_row5_col1\" class=\"data row5 col1\" >0.00%</td>\n",
       "      <td id=\"T_dd60f_row5_col2\" class=\"data row5 col2\" >0.00%</td>\n",
       "      <td id=\"T_dd60f_row5_col3\" class=\"data row5 col3\" >0.00%</td>\n",
       "      <td id=\"T_dd60f_row5_col4\" class=\"data row5 col4\" >0.00%</td>\n",
       "      <td id=\"T_dd60f_row5_col5\" class=\"data row5 col5\" >0.00%</td>\n",
       "      <td id=\"T_dd60f_row5_col6\" class=\"data row5 col6\" >0.00%</td>\n",
       "      <td id=\"T_dd60f_row5_col7\" class=\"data row5 col7\" >0.00%</td>\n",
       "      <td id=\"T_dd60f_row5_col8\" class=\"data row5 col8\" >0.00%</td>\n",
       "      <td id=\"T_dd60f_row5_col9\" class=\"data row5 col9\" >0.00%</td>\n",
       "      <td id=\"T_dd60f_row5_col10\" class=\"data row5 col10\" >0.00%</td>\n",
       "      <td id=\"T_dd60f_row5_col11\" class=\"data row5 col11\" >0.00%</td>\n",
       "      <td id=\"T_dd60f_row5_col12\" class=\"data row5 col12\" >0.00%</td>\n",
       "    </tr>\n",
       "    <tr>\n",
       "      <th id=\"T_dd60f_level0_row6\" class=\"row_heading level0 row6\" >BONK-USD</th>\n",
       "      <td id=\"T_dd60f_row6_col0\" class=\"data row6 col0\" >27.78%</td>\n",
       "      <td id=\"T_dd60f_row6_col1\" class=\"data row6 col1\" >15.53%</td>\n",
       "      <td id=\"T_dd60f_row6_col2\" class=\"data row6 col2\" >44.73%</td>\n",
       "      <td id=\"T_dd60f_row6_col3\" class=\"data row6 col3\" >0.00%</td>\n",
       "      <td id=\"T_dd60f_row6_col4\" class=\"data row6 col4\" >47.34%</td>\n",
       "      <td id=\"T_dd60f_row6_col5\" class=\"data row6 col5\" >53.68%</td>\n",
       "      <td id=\"T_dd60f_row6_col6\" class=\"data row6 col6\" >81.06%</td>\n",
       "      <td id=\"T_dd60f_row6_col7\" class=\"data row6 col7\" >96.03%</td>\n",
       "      <td id=\"T_dd60f_row6_col8\" class=\"data row6 col8\" >19.76%</td>\n",
       "      <td id=\"T_dd60f_row6_col9\" class=\"data row6 col9\" >9.43%</td>\n",
       "      <td id=\"T_dd60f_row6_col10\" class=\"data row6 col10\" >11.72%</td>\n",
       "      <td id=\"T_dd60f_row6_col11\" class=\"data row6 col11\" >8.08%</td>\n",
       "      <td id=\"T_dd60f_row6_col12\" class=\"data row6 col12\" >12.62%</td>\n",
       "    </tr>\n",
       "    <tr>\n",
       "      <th id=\"T_dd60f_level0_row7\" class=\"row_heading level0 row7\" >BTC-USD</th>\n",
       "      <td id=\"T_dd60f_row7_col0\" class=\"data row7 col0\" >0.00%</td>\n",
       "      <td id=\"T_dd60f_row7_col1\" class=\"data row7 col1\" >0.00%</td>\n",
       "      <td id=\"T_dd60f_row7_col2\" class=\"data row7 col2\" >0.00%</td>\n",
       "      <td id=\"T_dd60f_row7_col3\" class=\"data row7 col3\" >0.00%</td>\n",
       "      <td id=\"T_dd60f_row7_col4\" class=\"data row7 col4\" >0.00%</td>\n",
       "      <td id=\"T_dd60f_row7_col5\" class=\"data row7 col5\" >0.00%</td>\n",
       "      <td id=\"T_dd60f_row7_col6\" class=\"data row7 col6\" >0.00%</td>\n",
       "      <td id=\"T_dd60f_row7_col7\" class=\"data row7 col7\" >0.00%</td>\n",
       "      <td id=\"T_dd60f_row7_col8\" class=\"data row7 col8\" >0.00%</td>\n",
       "      <td id=\"T_dd60f_row7_col9\" class=\"data row7 col9\" >0.00%</td>\n",
       "      <td id=\"T_dd60f_row7_col10\" class=\"data row7 col10\" >0.00%</td>\n",
       "      <td id=\"T_dd60f_row7_col11\" class=\"data row7 col11\" >0.00%</td>\n",
       "      <td id=\"T_dd60f_row7_col12\" class=\"data row7 col12\" >0.00%</td>\n",
       "    </tr>\n",
       "    <tr>\n",
       "      <th id=\"T_dd60f_level0_row8\" class=\"row_heading level0 row8\" >DOGE-USD</th>\n",
       "      <td id=\"T_dd60f_row8_col0\" class=\"data row8 col0\" >0.00%</td>\n",
       "      <td id=\"T_dd60f_row8_col1\" class=\"data row8 col1\" >0.00%</td>\n",
       "      <td id=\"T_dd60f_row8_col2\" class=\"data row8 col2\" >0.00%</td>\n",
       "      <td id=\"T_dd60f_row8_col3\" class=\"data row8 col3\" >0.00%</td>\n",
       "      <td id=\"T_dd60f_row8_col4\" class=\"data row8 col4\" >0.00%</td>\n",
       "      <td id=\"T_dd60f_row8_col5\" class=\"data row8 col5\" >0.00%</td>\n",
       "      <td id=\"T_dd60f_row8_col6\" class=\"data row8 col6\" >0.00%</td>\n",
       "      <td id=\"T_dd60f_row8_col7\" class=\"data row8 col7\" >0.00%</td>\n",
       "      <td id=\"T_dd60f_row8_col8\" class=\"data row8 col8\" >0.00%</td>\n",
       "      <td id=\"T_dd60f_row8_col9\" class=\"data row8 col9\" >0.00%</td>\n",
       "      <td id=\"T_dd60f_row8_col10\" class=\"data row8 col10\" >0.00%</td>\n",
       "      <td id=\"T_dd60f_row8_col11\" class=\"data row8 col11\" >0.00%</td>\n",
       "      <td id=\"T_dd60f_row8_col12\" class=\"data row8 col12\" >0.00%</td>\n",
       "    </tr>\n",
       "    <tr>\n",
       "      <th id=\"T_dd60f_level0_row9\" class=\"row_heading level0 row9\" >ETH-USD</th>\n",
       "      <td id=\"T_dd60f_row9_col0\" class=\"data row9 col0\" >0.00%</td>\n",
       "      <td id=\"T_dd60f_row9_col1\" class=\"data row9 col1\" >0.00%</td>\n",
       "      <td id=\"T_dd60f_row9_col2\" class=\"data row9 col2\" >0.00%</td>\n",
       "      <td id=\"T_dd60f_row9_col3\" class=\"data row9 col3\" >0.00%</td>\n",
       "      <td id=\"T_dd60f_row9_col4\" class=\"data row9 col4\" >0.00%</td>\n",
       "      <td id=\"T_dd60f_row9_col5\" class=\"data row9 col5\" >0.00%</td>\n",
       "      <td id=\"T_dd60f_row9_col6\" class=\"data row9 col6\" >0.00%</td>\n",
       "      <td id=\"T_dd60f_row9_col7\" class=\"data row9 col7\" >0.00%</td>\n",
       "      <td id=\"T_dd60f_row9_col8\" class=\"data row9 col8\" >0.00%</td>\n",
       "      <td id=\"T_dd60f_row9_col9\" class=\"data row9 col9\" >0.00%</td>\n",
       "      <td id=\"T_dd60f_row9_col10\" class=\"data row9 col10\" >0.00%</td>\n",
       "      <td id=\"T_dd60f_row9_col11\" class=\"data row9 col11\" >0.00%</td>\n",
       "      <td id=\"T_dd60f_row9_col12\" class=\"data row9 col12\" >0.00%</td>\n",
       "    </tr>\n",
       "    <tr>\n",
       "      <th id=\"T_dd60f_level0_row10\" class=\"row_heading level0 row10\" >FOXY30591-USD</th>\n",
       "      <td id=\"T_dd60f_row10_col0\" class=\"data row10 col0\" >0.00%</td>\n",
       "      <td id=\"T_dd60f_row10_col1\" class=\"data row10 col1\" >0.00%</td>\n",
       "      <td id=\"T_dd60f_row10_col2\" class=\"data row10 col2\" >0.00%</td>\n",
       "      <td id=\"T_dd60f_row10_col3\" class=\"data row10 col3\" >0.00%</td>\n",
       "      <td id=\"T_dd60f_row10_col4\" class=\"data row10 col4\" >0.00%</td>\n",
       "      <td id=\"T_dd60f_row10_col5\" class=\"data row10 col5\" >0.00%</td>\n",
       "      <td id=\"T_dd60f_row10_col6\" class=\"data row10 col6\" >0.00%</td>\n",
       "      <td id=\"T_dd60f_row10_col7\" class=\"data row10 col7\" >0.00%</td>\n",
       "      <td id=\"T_dd60f_row10_col8\" class=\"data row10 col8\" >0.00%</td>\n",
       "      <td id=\"T_dd60f_row10_col9\" class=\"data row10 col9\" >0.00%</td>\n",
       "      <td id=\"T_dd60f_row10_col10\" class=\"data row10 col10\" >0.00%</td>\n",
       "      <td id=\"T_dd60f_row10_col11\" class=\"data row10 col11\" >0.00%</td>\n",
       "      <td id=\"T_dd60f_row10_col12\" class=\"data row10 col12\" >0.00%</td>\n",
       "    </tr>\n",
       "    <tr>\n",
       "      <th id=\"T_dd60f_level0_row11\" class=\"row_heading level0 row11\" >FTM-USD</th>\n",
       "      <td id=\"T_dd60f_row11_col0\" class=\"data row11 col0\" >0.00%</td>\n",
       "      <td id=\"T_dd60f_row11_col1\" class=\"data row11 col1\" >0.00%</td>\n",
       "      <td id=\"T_dd60f_row11_col2\" class=\"data row11 col2\" >0.00%</td>\n",
       "      <td id=\"T_dd60f_row11_col3\" class=\"data row11 col3\" >0.00%</td>\n",
       "      <td id=\"T_dd60f_row11_col4\" class=\"data row11 col4\" >0.00%</td>\n",
       "      <td id=\"T_dd60f_row11_col5\" class=\"data row11 col5\" >0.00%</td>\n",
       "      <td id=\"T_dd60f_row11_col6\" class=\"data row11 col6\" >0.00%</td>\n",
       "      <td id=\"T_dd60f_row11_col7\" class=\"data row11 col7\" >0.00%</td>\n",
       "      <td id=\"T_dd60f_row11_col8\" class=\"data row11 col8\" >0.00%</td>\n",
       "      <td id=\"T_dd60f_row11_col9\" class=\"data row11 col9\" >0.00%</td>\n",
       "      <td id=\"T_dd60f_row11_col10\" class=\"data row11 col10\" >0.00%</td>\n",
       "      <td id=\"T_dd60f_row11_col11\" class=\"data row11 col11\" >0.00%</td>\n",
       "      <td id=\"T_dd60f_row11_col12\" class=\"data row11 col12\" >0.00%</td>\n",
       "    </tr>\n",
       "    <tr>\n",
       "      <th id=\"T_dd60f_level0_row12\" class=\"row_heading level0 row12\" >GRT6719-USD</th>\n",
       "      <td id=\"T_dd60f_row12_col0\" class=\"data row12 col0\" >0.00%</td>\n",
       "      <td id=\"T_dd60f_row12_col1\" class=\"data row12 col1\" >0.00%</td>\n",
       "      <td id=\"T_dd60f_row12_col2\" class=\"data row12 col2\" >0.00%</td>\n",
       "      <td id=\"T_dd60f_row12_col3\" class=\"data row12 col3\" >0.00%</td>\n",
       "      <td id=\"T_dd60f_row12_col4\" class=\"data row12 col4\" >0.00%</td>\n",
       "      <td id=\"T_dd60f_row12_col5\" class=\"data row12 col5\" >0.00%</td>\n",
       "      <td id=\"T_dd60f_row12_col6\" class=\"data row12 col6\" >0.00%</td>\n",
       "      <td id=\"T_dd60f_row12_col7\" class=\"data row12 col7\" >0.00%</td>\n",
       "      <td id=\"T_dd60f_row12_col8\" class=\"data row12 col8\" >0.00%</td>\n",
       "      <td id=\"T_dd60f_row12_col9\" class=\"data row12 col9\" >0.00%</td>\n",
       "      <td id=\"T_dd60f_row12_col10\" class=\"data row12 col10\" >0.00%</td>\n",
       "      <td id=\"T_dd60f_row12_col11\" class=\"data row12 col11\" >0.00%</td>\n",
       "      <td id=\"T_dd60f_row12_col12\" class=\"data row12 col12\" >0.00%</td>\n",
       "    </tr>\n",
       "    <tr>\n",
       "      <th id=\"T_dd60f_level0_row13\" class=\"row_heading level0 row13\" >HBAR-USD</th>\n",
       "      <td id=\"T_dd60f_row13_col0\" class=\"data row13 col0\" >0.00%</td>\n",
       "      <td id=\"T_dd60f_row13_col1\" class=\"data row13 col1\" >0.00%</td>\n",
       "      <td id=\"T_dd60f_row13_col2\" class=\"data row13 col2\" >0.00%</td>\n",
       "      <td id=\"T_dd60f_row13_col3\" class=\"data row13 col3\" >0.00%</td>\n",
       "      <td id=\"T_dd60f_row13_col4\" class=\"data row13 col4\" >0.00%</td>\n",
       "      <td id=\"T_dd60f_row13_col5\" class=\"data row13 col5\" >0.00%</td>\n",
       "      <td id=\"T_dd60f_row13_col6\" class=\"data row13 col6\" >0.00%</td>\n",
       "      <td id=\"T_dd60f_row13_col7\" class=\"data row13 col7\" >0.00%</td>\n",
       "      <td id=\"T_dd60f_row13_col8\" class=\"data row13 col8\" >0.00%</td>\n",
       "      <td id=\"T_dd60f_row13_col9\" class=\"data row13 col9\" >0.00%</td>\n",
       "      <td id=\"T_dd60f_row13_col10\" class=\"data row13 col10\" >0.00%</td>\n",
       "      <td id=\"T_dd60f_row13_col11\" class=\"data row13 col11\" >0.00%</td>\n",
       "      <td id=\"T_dd60f_row13_col12\" class=\"data row13 col12\" >0.00%</td>\n",
       "    </tr>\n",
       "    <tr>\n",
       "      <th id=\"T_dd60f_level0_row14\" class=\"row_heading level0 row14\" >ICP-USD</th>\n",
       "      <td id=\"T_dd60f_row14_col0\" class=\"data row14 col0\" >0.00%</td>\n",
       "      <td id=\"T_dd60f_row14_col1\" class=\"data row14 col1\" >0.00%</td>\n",
       "      <td id=\"T_dd60f_row14_col2\" class=\"data row14 col2\" >0.00%</td>\n",
       "      <td id=\"T_dd60f_row14_col3\" class=\"data row14 col3\" >0.00%</td>\n",
       "      <td id=\"T_dd60f_row14_col4\" class=\"data row14 col4\" >0.00%</td>\n",
       "      <td id=\"T_dd60f_row14_col5\" class=\"data row14 col5\" >0.00%</td>\n",
       "      <td id=\"T_dd60f_row14_col6\" class=\"data row14 col6\" >0.00%</td>\n",
       "      <td id=\"T_dd60f_row14_col7\" class=\"data row14 col7\" >0.00%</td>\n",
       "      <td id=\"T_dd60f_row14_col8\" class=\"data row14 col8\" >0.00%</td>\n",
       "      <td id=\"T_dd60f_row14_col9\" class=\"data row14 col9\" >0.00%</td>\n",
       "      <td id=\"T_dd60f_row14_col10\" class=\"data row14 col10\" >0.00%</td>\n",
       "      <td id=\"T_dd60f_row14_col11\" class=\"data row14 col11\" >0.00%</td>\n",
       "      <td id=\"T_dd60f_row14_col12\" class=\"data row14 col12\" >0.00%</td>\n",
       "    </tr>\n",
       "    <tr>\n",
       "      <th id=\"T_dd60f_level0_row15\" class=\"row_heading level0 row15\" >LINK-USD</th>\n",
       "      <td id=\"T_dd60f_row15_col0\" class=\"data row15 col0\" >0.00%</td>\n",
       "      <td id=\"T_dd60f_row15_col1\" class=\"data row15 col1\" >0.00%</td>\n",
       "      <td id=\"T_dd60f_row15_col2\" class=\"data row15 col2\" >0.00%</td>\n",
       "      <td id=\"T_dd60f_row15_col3\" class=\"data row15 col3\" >0.00%</td>\n",
       "      <td id=\"T_dd60f_row15_col4\" class=\"data row15 col4\" >0.00%</td>\n",
       "      <td id=\"T_dd60f_row15_col5\" class=\"data row15 col5\" >0.00%</td>\n",
       "      <td id=\"T_dd60f_row15_col6\" class=\"data row15 col6\" >0.00%</td>\n",
       "      <td id=\"T_dd60f_row15_col7\" class=\"data row15 col7\" >0.00%</td>\n",
       "      <td id=\"T_dd60f_row15_col8\" class=\"data row15 col8\" >0.00%</td>\n",
       "      <td id=\"T_dd60f_row15_col9\" class=\"data row15 col9\" >0.00%</td>\n",
       "      <td id=\"T_dd60f_row15_col10\" class=\"data row15 col10\" >0.00%</td>\n",
       "      <td id=\"T_dd60f_row15_col11\" class=\"data row15 col11\" >0.00%</td>\n",
       "      <td id=\"T_dd60f_row15_col12\" class=\"data row15 col12\" >0.00%</td>\n",
       "    </tr>\n",
       "    <tr>\n",
       "      <th id=\"T_dd60f_level0_row16\" class=\"row_heading level0 row16\" >MNT27075-USD</th>\n",
       "      <td id=\"T_dd60f_row16_col0\" class=\"data row16 col0\" >0.00%</td>\n",
       "      <td id=\"T_dd60f_row16_col1\" class=\"data row16 col1\" >0.00%</td>\n",
       "      <td id=\"T_dd60f_row16_col2\" class=\"data row16 col2\" >0.00%</td>\n",
       "      <td id=\"T_dd60f_row16_col3\" class=\"data row16 col3\" >0.00%</td>\n",
       "      <td id=\"T_dd60f_row16_col4\" class=\"data row16 col4\" >0.00%</td>\n",
       "      <td id=\"T_dd60f_row16_col5\" class=\"data row16 col5\" >0.00%</td>\n",
       "      <td id=\"T_dd60f_row16_col6\" class=\"data row16 col6\" >0.00%</td>\n",
       "      <td id=\"T_dd60f_row16_col7\" class=\"data row16 col7\" >0.00%</td>\n",
       "      <td id=\"T_dd60f_row16_col8\" class=\"data row16 col8\" >0.00%</td>\n",
       "      <td id=\"T_dd60f_row16_col9\" class=\"data row16 col9\" >0.00%</td>\n",
       "      <td id=\"T_dd60f_row16_col10\" class=\"data row16 col10\" >0.00%</td>\n",
       "      <td id=\"T_dd60f_row16_col11\" class=\"data row16 col11\" >0.00%</td>\n",
       "      <td id=\"T_dd60f_row16_col12\" class=\"data row16 col12\" >0.00%</td>\n",
       "    </tr>\n",
       "    <tr>\n",
       "      <th id=\"T_dd60f_level0_row17\" class=\"row_heading level0 row17\" >NEAR-USD</th>\n",
       "      <td id=\"T_dd60f_row17_col0\" class=\"data row17 col0\" >0.00%</td>\n",
       "      <td id=\"T_dd60f_row17_col1\" class=\"data row17 col1\" >0.00%</td>\n",
       "      <td id=\"T_dd60f_row17_col2\" class=\"data row17 col2\" >0.00%</td>\n",
       "      <td id=\"T_dd60f_row17_col3\" class=\"data row17 col3\" >0.00%</td>\n",
       "      <td id=\"T_dd60f_row17_col4\" class=\"data row17 col4\" >0.00%</td>\n",
       "      <td id=\"T_dd60f_row17_col5\" class=\"data row17 col5\" >0.00%</td>\n",
       "      <td id=\"T_dd60f_row17_col6\" class=\"data row17 col6\" >0.00%</td>\n",
       "      <td id=\"T_dd60f_row17_col7\" class=\"data row17 col7\" >0.00%</td>\n",
       "      <td id=\"T_dd60f_row17_col8\" class=\"data row17 col8\" >0.00%</td>\n",
       "      <td id=\"T_dd60f_row17_col9\" class=\"data row17 col9\" >0.00%</td>\n",
       "      <td id=\"T_dd60f_row17_col10\" class=\"data row17 col10\" >0.00%</td>\n",
       "      <td id=\"T_dd60f_row17_col11\" class=\"data row17 col11\" >0.00%</td>\n",
       "      <td id=\"T_dd60f_row17_col12\" class=\"data row17 col12\" >0.00%</td>\n",
       "    </tr>\n",
       "    <tr>\n",
       "      <th id=\"T_dd60f_level0_row18\" class=\"row_heading level0 row18\" >PEPE24478-USD</th>\n",
       "      <td id=\"T_dd60f_row18_col0\" class=\"data row18 col0\" >44.68%</td>\n",
       "      <td id=\"T_dd60f_row18_col1\" class=\"data row18 col1\" >67.41%</td>\n",
       "      <td id=\"T_dd60f_row18_col2\" class=\"data row18 col2\" >49.83%</td>\n",
       "      <td id=\"T_dd60f_row18_col3\" class=\"data row18 col3\" >100.00%</td>\n",
       "      <td id=\"T_dd60f_row18_col4\" class=\"data row18 col4\" >48.12%</td>\n",
       "      <td id=\"T_dd60f_row18_col5\" class=\"data row18 col5\" >46.32%</td>\n",
       "      <td id=\"T_dd60f_row18_col6\" class=\"data row18 col6\" >18.94%</td>\n",
       "      <td id=\"T_dd60f_row18_col7\" class=\"data row18 col7\" >3.97%</td>\n",
       "      <td id=\"T_dd60f_row18_col8\" class=\"data row18 col8\" >11.99%</td>\n",
       "      <td id=\"T_dd60f_row18_col9\" class=\"data row18 col9\" >26.04%</td>\n",
       "      <td id=\"T_dd60f_row18_col10\" class=\"data row18 col10\" >22.08%</td>\n",
       "      <td id=\"T_dd60f_row18_col11\" class=\"data row18 col11\" >33.90%</td>\n",
       "      <td id=\"T_dd60f_row18_col12\" class=\"data row18 col12\" >19.13%</td>\n",
       "    </tr>\n",
       "    <tr>\n",
       "      <th id=\"T_dd60f_level0_row19\" class=\"row_heading level0 row19\" >RNDR-USD</th>\n",
       "      <td id=\"T_dd60f_row19_col0\" class=\"data row19 col0\" >0.00%</td>\n",
       "      <td id=\"T_dd60f_row19_col1\" class=\"data row19 col1\" >0.00%</td>\n",
       "      <td id=\"T_dd60f_row19_col2\" class=\"data row19 col2\" >0.00%</td>\n",
       "      <td id=\"T_dd60f_row19_col3\" class=\"data row19 col3\" >0.00%</td>\n",
       "      <td id=\"T_dd60f_row19_col4\" class=\"data row19 col4\" >0.00%</td>\n",
       "      <td id=\"T_dd60f_row19_col5\" class=\"data row19 col5\" >0.00%</td>\n",
       "      <td id=\"T_dd60f_row19_col6\" class=\"data row19 col6\" >0.00%</td>\n",
       "      <td id=\"T_dd60f_row19_col7\" class=\"data row19 col7\" >0.00%</td>\n",
       "      <td id=\"T_dd60f_row19_col8\" class=\"data row19 col8\" >0.00%</td>\n",
       "      <td id=\"T_dd60f_row19_col9\" class=\"data row19 col9\" >0.00%</td>\n",
       "      <td id=\"T_dd60f_row19_col10\" class=\"data row19 col10\" >0.00%</td>\n",
       "      <td id=\"T_dd60f_row19_col11\" class=\"data row19 col11\" >0.00%</td>\n",
       "      <td id=\"T_dd60f_row19_col12\" class=\"data row19 col12\" >0.00%</td>\n",
       "    </tr>\n",
       "    <tr>\n",
       "      <th id=\"T_dd60f_level0_row20\" class=\"row_heading level0 row20\" >SOL-USD</th>\n",
       "      <td id=\"T_dd60f_row20_col0\" class=\"data row20 col0\" >0.00%</td>\n",
       "      <td id=\"T_dd60f_row20_col1\" class=\"data row20 col1\" >0.00%</td>\n",
       "      <td id=\"T_dd60f_row20_col2\" class=\"data row20 col2\" >0.00%</td>\n",
       "      <td id=\"T_dd60f_row20_col3\" class=\"data row20 col3\" >0.00%</td>\n",
       "      <td id=\"T_dd60f_row20_col4\" class=\"data row20 col4\" >0.00%</td>\n",
       "      <td id=\"T_dd60f_row20_col5\" class=\"data row20 col5\" >0.00%</td>\n",
       "      <td id=\"T_dd60f_row20_col6\" class=\"data row20 col6\" >0.00%</td>\n",
       "      <td id=\"T_dd60f_row20_col7\" class=\"data row20 col7\" >0.00%</td>\n",
       "      <td id=\"T_dd60f_row20_col8\" class=\"data row20 col8\" >0.00%</td>\n",
       "      <td id=\"T_dd60f_row20_col9\" class=\"data row20 col9\" >0.00%</td>\n",
       "      <td id=\"T_dd60f_row20_col10\" class=\"data row20 col10\" >0.00%</td>\n",
       "      <td id=\"T_dd60f_row20_col11\" class=\"data row20 col11\" >0.00%</td>\n",
       "      <td id=\"T_dd60f_row20_col12\" class=\"data row20 col12\" >0.00%</td>\n",
       "    </tr>\n",
       "    <tr>\n",
       "      <th id=\"T_dd60f_level0_row21\" class=\"row_heading level0 row21\" >SUI20947-USD</th>\n",
       "      <td id=\"T_dd60f_row21_col0\" class=\"data row21 col0\" >0.00%</td>\n",
       "      <td id=\"T_dd60f_row21_col1\" class=\"data row21 col1\" >0.00%</td>\n",
       "      <td id=\"T_dd60f_row21_col2\" class=\"data row21 col2\" >0.00%</td>\n",
       "      <td id=\"T_dd60f_row21_col3\" class=\"data row21 col3\" >0.00%</td>\n",
       "      <td id=\"T_dd60f_row21_col4\" class=\"data row21 col4\" >0.00%</td>\n",
       "      <td id=\"T_dd60f_row21_col5\" class=\"data row21 col5\" >0.00%</td>\n",
       "      <td id=\"T_dd60f_row21_col6\" class=\"data row21 col6\" >0.00%</td>\n",
       "      <td id=\"T_dd60f_row21_col7\" class=\"data row21 col7\" >0.00%</td>\n",
       "      <td id=\"T_dd60f_row21_col8\" class=\"data row21 col8\" >0.00%</td>\n",
       "      <td id=\"T_dd60f_row21_col9\" class=\"data row21 col9\" >0.00%</td>\n",
       "      <td id=\"T_dd60f_row21_col10\" class=\"data row21 col10\" >0.00%</td>\n",
       "      <td id=\"T_dd60f_row21_col11\" class=\"data row21 col11\" >0.00%</td>\n",
       "      <td id=\"T_dd60f_row21_col12\" class=\"data row21 col12\" >0.00%</td>\n",
       "    </tr>\n",
       "    <tr>\n",
       "      <th id=\"T_dd60f_level0_row22\" class=\"row_heading level0 row22\" >TAO22974-USD</th>\n",
       "      <td id=\"T_dd60f_row22_col0\" class=\"data row22 col0\" >0.00%</td>\n",
       "      <td id=\"T_dd60f_row22_col1\" class=\"data row22 col1\" >0.00%</td>\n",
       "      <td id=\"T_dd60f_row22_col2\" class=\"data row22 col2\" >0.00%</td>\n",
       "      <td id=\"T_dd60f_row22_col3\" class=\"data row22 col3\" >0.00%</td>\n",
       "      <td id=\"T_dd60f_row22_col4\" class=\"data row22 col4\" >0.00%</td>\n",
       "      <td id=\"T_dd60f_row22_col5\" class=\"data row22 col5\" >0.00%</td>\n",
       "      <td id=\"T_dd60f_row22_col6\" class=\"data row22 col6\" >0.00%</td>\n",
       "      <td id=\"T_dd60f_row22_col7\" class=\"data row22 col7\" >0.00%</td>\n",
       "      <td id=\"T_dd60f_row22_col8\" class=\"data row22 col8\" >0.00%</td>\n",
       "      <td id=\"T_dd60f_row22_col9\" class=\"data row22 col9\" >0.00%</td>\n",
       "      <td id=\"T_dd60f_row22_col10\" class=\"data row22 col10\" >0.00%</td>\n",
       "      <td id=\"T_dd60f_row22_col11\" class=\"data row22 col11\" >0.00%</td>\n",
       "      <td id=\"T_dd60f_row22_col12\" class=\"data row22 col12\" >0.00%</td>\n",
       "    </tr>\n",
       "    <tr>\n",
       "      <th id=\"T_dd60f_level0_row23\" class=\"row_heading level0 row23\" >TON11419-USD</th>\n",
       "      <td id=\"T_dd60f_row23_col0\" class=\"data row23 col0\" >27.54%</td>\n",
       "      <td id=\"T_dd60f_row23_col1\" class=\"data row23 col1\" >17.06%</td>\n",
       "      <td id=\"T_dd60f_row23_col2\" class=\"data row23 col2\" >5.45%</td>\n",
       "      <td id=\"T_dd60f_row23_col3\" class=\"data row23 col3\" >0.00%</td>\n",
       "      <td id=\"T_dd60f_row23_col4\" class=\"data row23 col4\" >4.55%</td>\n",
       "      <td id=\"T_dd60f_row23_col5\" class=\"data row23 col5\" >0.00%</td>\n",
       "      <td id=\"T_dd60f_row23_col6\" class=\"data row23 col6\" >0.00%</td>\n",
       "      <td id=\"T_dd60f_row23_col7\" class=\"data row23 col7\" >0.00%</td>\n",
       "      <td id=\"T_dd60f_row23_col8\" class=\"data row23 col8\" >68.24%</td>\n",
       "      <td id=\"T_dd60f_row23_col9\" class=\"data row23 col9\" >64.54%</td>\n",
       "      <td id=\"T_dd60f_row23_col10\" class=\"data row23 col10\" >66.20%</td>\n",
       "      <td id=\"T_dd60f_row23_col11\" class=\"data row23 col11\" >58.01%</td>\n",
       "      <td id=\"T_dd60f_row23_col12\" class=\"data row23 col12\" >68.24%</td>\n",
       "    </tr>\n",
       "    <tr>\n",
       "      <th id=\"T_dd60f_level0_row24\" class=\"row_heading level0 row24\" >UNI7083-USD</th>\n",
       "      <td id=\"T_dd60f_row24_col0\" class=\"data row24 col0\" >0.00%</td>\n",
       "      <td id=\"T_dd60f_row24_col1\" class=\"data row24 col1\" >0.00%</td>\n",
       "      <td id=\"T_dd60f_row24_col2\" class=\"data row24 col2\" >0.00%</td>\n",
       "      <td id=\"T_dd60f_row24_col3\" class=\"data row24 col3\" >0.00%</td>\n",
       "      <td id=\"T_dd60f_row24_col4\" class=\"data row24 col4\" >0.00%</td>\n",
       "      <td id=\"T_dd60f_row24_col5\" class=\"data row24 col5\" >0.00%</td>\n",
       "      <td id=\"T_dd60f_row24_col6\" class=\"data row24 col6\" >0.00%</td>\n",
       "      <td id=\"T_dd60f_row24_col7\" class=\"data row24 col7\" >0.00%</td>\n",
       "      <td id=\"T_dd60f_row24_col8\" class=\"data row24 col8\" >0.00%</td>\n",
       "      <td id=\"T_dd60f_row24_col9\" class=\"data row24 col9\" >0.00%</td>\n",
       "      <td id=\"T_dd60f_row24_col10\" class=\"data row24 col10\" >0.00%</td>\n",
       "      <td id=\"T_dd60f_row24_col11\" class=\"data row24 col11\" >0.00%</td>\n",
       "      <td id=\"T_dd60f_row24_col12\" class=\"data row24 col12\" >0.00%</td>\n",
       "    </tr>\n",
       "    <tr>\n",
       "      <th id=\"T_dd60f_level0_row25\" class=\"row_heading level0 row25\" >WIF-USD</th>\n",
       "      <td id=\"T_dd60f_row25_col0\" class=\"data row25 col0\" >0.00%</td>\n",
       "      <td id=\"T_dd60f_row25_col1\" class=\"data row25 col1\" >0.00%</td>\n",
       "      <td id=\"T_dd60f_row25_col2\" class=\"data row25 col2\" >0.00%</td>\n",
       "      <td id=\"T_dd60f_row25_col3\" class=\"data row25 col3\" >0.00%</td>\n",
       "      <td id=\"T_dd60f_row25_col4\" class=\"data row25 col4\" >0.00%</td>\n",
       "      <td id=\"T_dd60f_row25_col5\" class=\"data row25 col5\" >0.00%</td>\n",
       "      <td id=\"T_dd60f_row25_col6\" class=\"data row25 col6\" >0.00%</td>\n",
       "      <td id=\"T_dd60f_row25_col7\" class=\"data row25 col7\" >0.00%</td>\n",
       "      <td id=\"T_dd60f_row25_col8\" class=\"data row25 col8\" >0.00%</td>\n",
       "      <td id=\"T_dd60f_row25_col9\" class=\"data row25 col9\" >0.00%</td>\n",
       "      <td id=\"T_dd60f_row25_col10\" class=\"data row25 col10\" >0.00%</td>\n",
       "      <td id=\"T_dd60f_row25_col11\" class=\"data row25 col11\" >0.00%</td>\n",
       "      <td id=\"T_dd60f_row25_col12\" class=\"data row25 col12\" >0.00%</td>\n",
       "    </tr>\n",
       "    <tr>\n",
       "      <th id=\"T_dd60f_level0_row26\" class=\"row_heading level0 row26\" >XRP-USD</th>\n",
       "      <td id=\"T_dd60f_row26_col0\" class=\"data row26 col0\" >0.00%</td>\n",
       "      <td id=\"T_dd60f_row26_col1\" class=\"data row26 col1\" >0.00%</td>\n",
       "      <td id=\"T_dd60f_row26_col2\" class=\"data row26 col2\" >0.00%</td>\n",
       "      <td id=\"T_dd60f_row26_col3\" class=\"data row26 col3\" >0.00%</td>\n",
       "      <td id=\"T_dd60f_row26_col4\" class=\"data row26 col4\" >0.00%</td>\n",
       "      <td id=\"T_dd60f_row26_col5\" class=\"data row26 col5\" >0.00%</td>\n",
       "      <td id=\"T_dd60f_row26_col6\" class=\"data row26 col6\" >0.00%</td>\n",
       "      <td id=\"T_dd60f_row26_col7\" class=\"data row26 col7\" >0.00%</td>\n",
       "      <td id=\"T_dd60f_row26_col8\" class=\"data row26 col8\" >0.00%</td>\n",
       "      <td id=\"T_dd60f_row26_col9\" class=\"data row26 col9\" >0.00%</td>\n",
       "      <td id=\"T_dd60f_row26_col10\" class=\"data row26 col10\" >0.00%</td>\n",
       "      <td id=\"T_dd60f_row26_col11\" class=\"data row26 col11\" >0.00%</td>\n",
       "      <td id=\"T_dd60f_row26_col12\" class=\"data row26 col12\" >0.00%</td>\n",
       "    </tr>\n",
       "  </tbody>\n",
       "</table>\n"
      ],
      "text/plain": [
       "<pandas.io.formats.style.Styler at 0x7fc0ae835390>"
      ]
     },
     "execution_count": 134,
     "metadata": {},
     "output_type": "execute_result"
    }
   ],
   "source": [
    "w_s.style.format(\"{:.2%}\").background_gradient(cmap='YlGn')\n"
   ]
  },
  {
   "cell_type": "code",
   "execution_count": null,
   "metadata": {},
   "outputs": [
    {
     "data": {
      "text/plain": [
       "<Axes: >"
      ]
     },
     "execution_count": 135,
     "metadata": {},
     "output_type": "execute_result"
    }
   ],
   "source": [
    "import matplotlib.pyplot as plt\n",
    "\n",
    "# Plotting a comparison of assets weights for each portfolio\n",
    "\n",
    "fig = plt.gcf()\n",
    "fig.set_figwidth(14)\n",
    "fig.set_figheight(6)\n",
    "ax = fig.subplots(nrows=1, ncols=1)\n",
    "\n",
    "w_s.plot.bar(ax=ax)"
   ]
  },
  {
   "cell_type": "code",
   "execution_count": null,
   "metadata": {},
   "outputs": [
    {
     "data": {
      "text/html": [
       "<div>\n",
       "<style scoped>\n",
       "    .dataframe tbody tr th:only-of-type {\n",
       "        vertical-align: middle;\n",
       "    }\n",
       "\n",
       "    .dataframe tbody tr th {\n",
       "        vertical-align: top;\n",
       "    }\n",
       "\n",
       "    .dataframe thead th {\n",
       "        text-align: right;\n",
       "    }\n",
       "</style>\n",
       "<table border=\"1\" class=\"dataframe\">\n",
       "  <thead>\n",
       "    <tr style=\"text-align: right;\">\n",
       "      <th></th>\n",
       "      <th>Assets</th>\n",
       "      <th>Industry</th>\n",
       "    </tr>\n",
       "  </thead>\n",
       "  <tbody>\n",
       "    <tr>\n",
       "      <th>14</th>\n",
       "      <td>AAVE-USD</td>\n",
       "      <td>FINANCE-CRYPTO</td>\n",
       "    </tr>\n",
       "    <tr>\n",
       "      <th>8</th>\n",
       "      <td>ADA-USD</td>\n",
       "      <td>DEFI-CRYPTO</td>\n",
       "    </tr>\n",
       "    <tr>\n",
       "      <th>9</th>\n",
       "      <td>APT21794-USD</td>\n",
       "      <td>DEFI-CRYPTO</td>\n",
       "    </tr>\n",
       "    <tr>\n",
       "      <th>7</th>\n",
       "      <td>AVAX-USD</td>\n",
       "      <td>DEFI-CRYPTO</td>\n",
       "    </tr>\n",
       "    <tr>\n",
       "      <th>11</th>\n",
       "      <td>BCH-USD</td>\n",
       "      <td>DEFI-CRYPTO</td>\n",
       "    </tr>\n",
       "    <tr>\n",
       "      <th>3</th>\n",
       "      <td>BNB-USD</td>\n",
       "      <td>DEFI-CRYPTO</td>\n",
       "    </tr>\n",
       "    <tr>\n",
       "      <th>19</th>\n",
       "      <td>BONK-USD</td>\n",
       "      <td>MEME-CRYPTO</td>\n",
       "    </tr>\n",
       "    <tr>\n",
       "      <th>0</th>\n",
       "      <td>BTC-USD</td>\n",
       "      <td>MAIN-CRYPTO</td>\n",
       "    </tr>\n",
       "    <tr>\n",
       "      <th>16</th>\n",
       "      <td>DOGE-USD</td>\n",
       "      <td>MEME-CRYPTO</td>\n",
       "    </tr>\n",
       "    <tr>\n",
       "      <th>1</th>\n",
       "      <td>ETH-USD</td>\n",
       "      <td>MAIN-CRYPTO</td>\n",
       "    </tr>\n",
       "    <tr>\n",
       "      <th>20</th>\n",
       "      <td>FOXY30591-USD</td>\n",
       "      <td>MEME-CRYPTO</td>\n",
       "    </tr>\n",
       "    <tr>\n",
       "      <th>5</th>\n",
       "      <td>FTM-USD</td>\n",
       "      <td>DEFI-CRYPTO</td>\n",
       "    </tr>\n",
       "    <tr>\n",
       "      <th>24</th>\n",
       "      <td>GRT6719-USD</td>\n",
       "      <td>AI</td>\n",
       "    </tr>\n",
       "    <tr>\n",
       "      <th>15</th>\n",
       "      <td>HBAR-USD</td>\n",
       "      <td>FINANCE-CRYPTO</td>\n",
       "    </tr>\n",
       "    <tr>\n",
       "      <th>25</th>\n",
       "      <td>ICP-USD</td>\n",
       "      <td>AI</td>\n",
       "    </tr>\n",
       "    <tr>\n",
       "      <th>13</th>\n",
       "      <td>LINK-USD</td>\n",
       "      <td>FINANCE-CRYPTO</td>\n",
       "    </tr>\n",
       "    <tr>\n",
       "      <th>21</th>\n",
       "      <td>MNT27075-USD</td>\n",
       "      <td>L2</td>\n",
       "    </tr>\n",
       "    <tr>\n",
       "      <th>23</th>\n",
       "      <td>NEAR-USD</td>\n",
       "      <td>AI</td>\n",
       "    </tr>\n",
       "    <tr>\n",
       "      <th>17</th>\n",
       "      <td>PEPE24478-USD</td>\n",
       "      <td>MEME-CRYPTO</td>\n",
       "    </tr>\n",
       "    <tr>\n",
       "      <th>22</th>\n",
       "      <td>RNDR-USD</td>\n",
       "      <td>AI</td>\n",
       "    </tr>\n",
       "    <tr>\n",
       "      <th>2</th>\n",
       "      <td>SOL-USD</td>\n",
       "      <td>DEFI-CRYPTO</td>\n",
       "    </tr>\n",
       "    <tr>\n",
       "      <th>4</th>\n",
       "      <td>SUI20947-USD</td>\n",
       "      <td>DEFI-CRYPTO</td>\n",
       "    </tr>\n",
       "    <tr>\n",
       "      <th>26</th>\n",
       "      <td>TAO22974-USD</td>\n",
       "      <td>AI</td>\n",
       "    </tr>\n",
       "    <tr>\n",
       "      <th>6</th>\n",
       "      <td>TON11419-USD</td>\n",
       "      <td>DEFI-CRYPTO</td>\n",
       "    </tr>\n",
       "    <tr>\n",
       "      <th>10</th>\n",
       "      <td>UNI7083-USD</td>\n",
       "      <td>DEFI-CRYPTO</td>\n",
       "    </tr>\n",
       "    <tr>\n",
       "      <th>18</th>\n",
       "      <td>WIF-USD</td>\n",
       "      <td>MEME-CRYPTO</td>\n",
       "    </tr>\n",
       "    <tr>\n",
       "      <th>12</th>\n",
       "      <td>XRP-USD</td>\n",
       "      <td>FINANCE-CRYPTO</td>\n",
       "    </tr>\n",
       "  </tbody>\n",
       "</table>\n",
       "</div>"
      ],
      "text/plain": [
       "           Assets        Industry\n",
       "14       AAVE-USD  FINANCE-CRYPTO\n",
       "8         ADA-USD     DEFI-CRYPTO\n",
       "9    APT21794-USD     DEFI-CRYPTO\n",
       "7        AVAX-USD     DEFI-CRYPTO\n",
       "11        BCH-USD     DEFI-CRYPTO\n",
       "3         BNB-USD     DEFI-CRYPTO\n",
       "19       BONK-USD     MEME-CRYPTO\n",
       "0         BTC-USD     MAIN-CRYPTO\n",
       "16       DOGE-USD     MEME-CRYPTO\n",
       "1         ETH-USD     MAIN-CRYPTO\n",
       "20  FOXY30591-USD     MEME-CRYPTO\n",
       "5         FTM-USD     DEFI-CRYPTO\n",
       "24    GRT6719-USD              AI\n",
       "15       HBAR-USD  FINANCE-CRYPTO\n",
       "25        ICP-USD              AI\n",
       "13       LINK-USD  FINANCE-CRYPTO\n",
       "21   MNT27075-USD              L2\n",
       "23       NEAR-USD              AI\n",
       "17  PEPE24478-USD     MEME-CRYPTO\n",
       "22       RNDR-USD              AI\n",
       "2         SOL-USD     DEFI-CRYPTO\n",
       "4    SUI20947-USD     DEFI-CRYPTO\n",
       "26   TAO22974-USD              AI\n",
       "6    TON11419-USD     DEFI-CRYPTO\n",
       "10    UNI7083-USD     DEFI-CRYPTO\n",
       "18        WIF-USD     MEME-CRYPTO\n",
       "12        XRP-USD  FINANCE-CRYPTO"
      ]
     },
     "execution_count": 136,
     "metadata": {},
     "output_type": "execute_result"
    }
   ],
   "source": [
    "asset_classes = {'Assets': ['BTC-USD', 'ETH-USD','SOL-USD', 'BNB-USD', 'SUI20947-USD','FTM-USD','TON11419-USD', 'AVAX-USD', 'ADA-USD','APT21794-USD', 'UNI7083-USD', 'BCH-USD','XRP-USD','LINK-USD', 'AAVE-USD', 'HBAR-USD', 'DOGE-USD','PEPE24478-USD', 'WIF-USD', 'BONK-USD', 'FOXY30591-USD','MNT27075-USD','RNDR-USD', 'NEAR-USD', 'GRT6719-USD', 'ICP-USD', 'TAO22974-USD'],\n",
    "                 'Industry': ['MAIN-CRYPTO','MAIN-CRYPTO', 'DEFI-CRYPTO', 'DEFI-CRYPTO','DEFI-CRYPTO', 'DEFI-CRYPTO', 'DEFI-CRYPTO','DEFI-CRYPTO',\n",
    "                              'DEFI-CRYPTO', 'DEFI-CRYPTO', 'DEFI-CRYPTO', 'DEFI-CRYPTO', 'FINANCE-CRYPTO', 'FINANCE-CRYPTO', 'FINANCE-CRYPTO', 'FINANCE-CRYPTO','MEME-CRYPTO', 'MEME-CRYPTO', 'MEME-CRYPTO', 'MEME-CRYPTO', 'MEME-CRYPTO','L2', 'AI', 'AI','AI', 'AI', 'AI']}\n",
    "\n",
    "asset_classes = pd.DataFrame(asset_classes)\n",
    "asset_classes = asset_classes.sort_values(by=['Assets'])\n",
    "asset_classes"
   ]
  },
  {
   "cell_type": "code",
   "execution_count": null,
   "metadata": {},
   "outputs": [
    {
     "data": {
      "text/html": [
       "<div>\n",
       "<style scoped>\n",
       "    .dataframe tbody tr th:only-of-type {\n",
       "        vertical-align: middle;\n",
       "    }\n",
       "\n",
       "    .dataframe tbody tr th {\n",
       "        vertical-align: top;\n",
       "    }\n",
       "\n",
       "    .dataframe thead th {\n",
       "        text-align: right;\n",
       "    }\n",
       "</style>\n",
       "<table border=\"1\" class=\"dataframe\">\n",
       "  <thead>\n",
       "    <tr style=\"text-align: right;\">\n",
       "      <th></th>\n",
       "      <th>disabled</th>\n",
       "      <th>Type</th>\n",
       "      <th>Set</th>\n",
       "      <th>Position</th>\n",
       "      <th>Sign</th>\n",
       "      <th>Weight</th>\n",
       "      <th>Type Relative</th>\n",
       "      <th>Relative Set</th>\n",
       "      <th>Relative</th>\n",
       "      <th>Factor</th>\n",
       "    </tr>\n",
       "  </thead>\n",
       "  <tbody>\n",
       "    <tr>\n",
       "      <th>0</th>\n",
       "      <td>False</td>\n",
       "      <td>All assets</td>\n",
       "      <td></td>\n",
       "      <td></td>\n",
       "      <td>&lt;=</td>\n",
       "      <td>10.000000%</td>\n",
       "      <td></td>\n",
       "      <td></td>\n",
       "      <td></td>\n",
       "      <td></td>\n",
       "    </tr>\n",
       "    <tr>\n",
       "      <th>1</th>\n",
       "      <td>False</td>\n",
       "      <td>Classes</td>\n",
       "      <td>Industry</td>\n",
       "      <td>MAIN-CRYPTO</td>\n",
       "      <td>&lt;=</td>\n",
       "      <td>40.000000%</td>\n",
       "      <td></td>\n",
       "      <td></td>\n",
       "      <td></td>\n",
       "      <td></td>\n",
       "    </tr>\n",
       "    <tr>\n",
       "      <th>2</th>\n",
       "      <td>False</td>\n",
       "      <td>Classes</td>\n",
       "      <td>Industry</td>\n",
       "      <td>MEME-CRYPTO</td>\n",
       "      <td>&lt;=</td>\n",
       "      <td>10.000000%</td>\n",
       "      <td></td>\n",
       "      <td></td>\n",
       "      <td></td>\n",
       "      <td></td>\n",
       "    </tr>\n",
       "    <tr>\n",
       "      <th>3</th>\n",
       "      <td>False</td>\n",
       "      <td>Classes</td>\n",
       "      <td>Industry</td>\n",
       "      <td>DEFI-CRYPTO</td>\n",
       "      <td>&lt;=</td>\n",
       "      <td>25.000000%</td>\n",
       "      <td></td>\n",
       "      <td></td>\n",
       "      <td></td>\n",
       "      <td></td>\n",
       "    </tr>\n",
       "    <tr>\n",
       "      <th>4</th>\n",
       "      <td>False</td>\n",
       "      <td>Classes</td>\n",
       "      <td>Industry</td>\n",
       "      <td>AI</td>\n",
       "      <td>&lt;=</td>\n",
       "      <td>20.000000%</td>\n",
       "      <td></td>\n",
       "      <td></td>\n",
       "      <td></td>\n",
       "      <td></td>\n",
       "    </tr>\n",
       "  </tbody>\n",
       "</table>\n",
       "</div>"
      ],
      "text/plain": [
       "   disabled        Type       Set     Position Sign     Weight Type Relative  \\\n",
       "0     False  All assets                          <= 10.000000%                 \n",
       "1     False     Classes  Industry  MAIN-CRYPTO   <= 40.000000%                 \n",
       "2     False     Classes  Industry  MEME-CRYPTO   <= 10.000000%                 \n",
       "3     False     Classes  Industry  DEFI-CRYPTO   <= 25.000000%                 \n",
       "4     False     Classes  Industry           AI   <= 20.000000%                 \n",
       "\n",
       "  Relative Set Relative Factor  \n",
       "0                               \n",
       "1                               \n",
       "2                               \n",
       "3                               \n",
       "4                               "
      ]
     },
     "metadata": {},
     "output_type": "display_data"
    }
   ],
   "source": [
    "constraints = {'disabled': [False, False, False, False, False],\n",
    "               'Type':[\"All assets\",'Classes', 'Classes', 'Classes','Classes'],\n",
    "               'Set':['', 'Industry', 'Industry', 'Industry', 'Industry'],\n",
    "               'Position':['','MAIN-CRYPTO', 'MEME-CRYPTO', 'DEFI-CRYPTO', 'AI'],\n",
    "               'Sign':['<=','<=', '<=', '<=', '<='],\n",
    "               'Weight': [0.10, 0.40, 0.1, 0.25, 0.20],\n",
    "                'Type Relative': ['', '', '','',''],\n",
    "               'Relative Set': ['', '', '', '',''],\n",
    "               'Relative': ['', '', '', '',''],\n",
    "               'Factor': ['', '', '','','']}\n",
    "constraints = pd.DataFrame(constraints)\n",
    "\n",
    "display(constraints)"
   ]
  },
  {
   "cell_type": "code",
   "execution_count": null,
   "metadata": {},
   "outputs": [],
   "source": [
    "A, B = rp.assets_constraints(constraints, asset_classes)"
   ]
  },
  {
   "cell_type": "code",
   "execution_count": null,
   "metadata": {},
   "outputs": [
    {
     "data": {
      "text/html": [
       "<div>\n",
       "<style scoped>\n",
       "    .dataframe tbody tr th:only-of-type {\n",
       "        vertical-align: middle;\n",
       "    }\n",
       "\n",
       "    .dataframe tbody tr th {\n",
       "        vertical-align: top;\n",
       "    }\n",
       "\n",
       "    .dataframe thead th {\n",
       "        text-align: right;\n",
       "    }\n",
       "</style>\n",
       "<table border=\"1\" class=\"dataframe\">\n",
       "  <thead>\n",
       "    <tr style=\"text-align: right;\">\n",
       "      <th></th>\n",
       "      <th>AAVE-USD</th>\n",
       "      <th>ADA-USD</th>\n",
       "      <th>APT21794-USD</th>\n",
       "      <th>AVAX-USD</th>\n",
       "      <th>BCH-USD</th>\n",
       "      <th>BNB-USD</th>\n",
       "      <th>BONK-USD</th>\n",
       "      <th>BTC-USD</th>\n",
       "      <th>DOGE-USD</th>\n",
       "      <th>ETH-USD</th>\n",
       "      <th>...</th>\n",
       "      <th>NEAR-USD</th>\n",
       "      <th>PEPE24478-USD</th>\n",
       "      <th>RNDR-USD</th>\n",
       "      <th>SOL-USD</th>\n",
       "      <th>SUI20947-USD</th>\n",
       "      <th>TAO22974-USD</th>\n",
       "      <th>TON11419-USD</th>\n",
       "      <th>UNI7083-USD</th>\n",
       "      <th>WIF-USD</th>\n",
       "      <th>XRP-USD</th>\n",
       "    </tr>\n",
       "  </thead>\n",
       "  <tbody>\n",
       "    <tr>\n",
       "      <th>weights</th>\n",
       "      <td>0.000000%</td>\n",
       "      <td>0.000000%</td>\n",
       "      <td>0.000000%</td>\n",
       "      <td>0.000000%</td>\n",
       "      <td>0.000000%</td>\n",
       "      <td>0.000000%</td>\n",
       "      <td>0.000000%</td>\n",
       "      <td>0.000000%</td>\n",
       "      <td>0.000000%</td>\n",
       "      <td>40.000000%</td>\n",
       "      <td>...</td>\n",
       "      <td>0.000000%</td>\n",
       "      <td>10.000000%</td>\n",
       "      <td>0.000000%</td>\n",
       "      <td>0.000000%</td>\n",
       "      <td>0.000000%</td>\n",
       "      <td>0.000000%</td>\n",
       "      <td>25.000000%</td>\n",
       "      <td>0.000000%</td>\n",
       "      <td>0.000000%</td>\n",
       "      <td>0.000000%</td>\n",
       "    </tr>\n",
       "  </tbody>\n",
       "</table>\n",
       "<p>1 rows × 27 columns</p>\n",
       "</div>"
      ],
      "text/plain": [
       "         AAVE-USD   ADA-USD  APT21794-USD  AVAX-USD   BCH-USD   BNB-USD  \\\n",
       "weights 0.000000% 0.000000%     0.000000% 0.000000% 0.000000% 0.000000%   \n",
       "\n",
       "         BONK-USD   BTC-USD  DOGE-USD    ETH-USD  ...  NEAR-USD  \\\n",
       "weights 0.000000% 0.000000% 0.000000% 40.000000%  ... 0.000000%   \n",
       "\n",
       "         PEPE24478-USD  RNDR-USD   SOL-USD  SUI20947-USD  TAO22974-USD  \\\n",
       "weights     10.000000% 0.000000% 0.000000%     0.000000%     0.000000%   \n",
       "\n",
       "         TON11419-USD  UNI7083-USD   WIF-USD   XRP-USD  \n",
       "weights    25.000000%    0.000000% 0.000000% 0.000000%  \n",
       "\n",
       "[1 rows x 27 columns]"
      ]
     },
     "metadata": {},
     "output_type": "display_data"
    }
   ],
   "source": [
    "port.ainequality = A\n",
    "port.binequality = B\n",
    "\n",
    "model = 'Classic'\n",
    "rm = 'MV'\n",
    "obj = 'Sharpe'\n",
    "rf = 0\n",
    "\n",
    "w = port.optimization(model=model, rm=rm, obj=obj, rf=rf, l=l, hist=hist)\n",
    "\n",
    "display(w.T)"
   ]
  },
  {
   "cell_type": "code",
   "execution_count": null,
   "metadata": {},
   "outputs": [
    {
     "data": {
      "text/html": [
       "<div>\n",
       "<style scoped>\n",
       "    .dataframe tbody tr th:only-of-type {\n",
       "        vertical-align: middle;\n",
       "    }\n",
       "\n",
       "    .dataframe tbody tr th {\n",
       "        vertical-align: top;\n",
       "    }\n",
       "\n",
       "    .dataframe thead th {\n",
       "        text-align: right;\n",
       "    }\n",
       "</style>\n",
       "<table border=\"1\" class=\"dataframe\">\n",
       "  <thead>\n",
       "    <tr style=\"text-align: right;\">\n",
       "      <th></th>\n",
       "      <th>weights</th>\n",
       "    </tr>\n",
       "  </thead>\n",
       "  <tbody>\n",
       "    <tr>\n",
       "      <th>AAVE-USD</th>\n",
       "      <td>0.000000%</td>\n",
       "    </tr>\n",
       "    <tr>\n",
       "      <th>ADA-USD</th>\n",
       "      <td>0.000000%</td>\n",
       "    </tr>\n",
       "    <tr>\n",
       "      <th>APT21794-USD</th>\n",
       "      <td>0.000000%</td>\n",
       "    </tr>\n",
       "    <tr>\n",
       "      <th>AVAX-USD</th>\n",
       "      <td>0.000000%</td>\n",
       "    </tr>\n",
       "    <tr>\n",
       "      <th>BCH-USD</th>\n",
       "      <td>0.000000%</td>\n",
       "    </tr>\n",
       "    <tr>\n",
       "      <th>BNB-USD</th>\n",
       "      <td>0.000000%</td>\n",
       "    </tr>\n",
       "    <tr>\n",
       "      <th>BONK-USD</th>\n",
       "      <td>0.000000%</td>\n",
       "    </tr>\n",
       "    <tr>\n",
       "      <th>BTC-USD</th>\n",
       "      <td>0.000000%</td>\n",
       "    </tr>\n",
       "    <tr>\n",
       "      <th>DOGE-USD</th>\n",
       "      <td>0.000000%</td>\n",
       "    </tr>\n",
       "    <tr>\n",
       "      <th>ETH-USD</th>\n",
       "      <td>40.000000%</td>\n",
       "    </tr>\n",
       "    <tr>\n",
       "      <th>FOXY30591-USD</th>\n",
       "      <td>0.000000%</td>\n",
       "    </tr>\n",
       "    <tr>\n",
       "      <th>FTM-USD</th>\n",
       "      <td>0.000000%</td>\n",
       "    </tr>\n",
       "    <tr>\n",
       "      <th>GRT6719-USD</th>\n",
       "      <td>0.000000%</td>\n",
       "    </tr>\n",
       "    <tr>\n",
       "      <th>HBAR-USD</th>\n",
       "      <td>11.412996%</td>\n",
       "    </tr>\n",
       "    <tr>\n",
       "      <th>ICP-USD</th>\n",
       "      <td>0.000000%</td>\n",
       "    </tr>\n",
       "    <tr>\n",
       "      <th>LINK-USD</th>\n",
       "      <td>13.587004%</td>\n",
       "    </tr>\n",
       "    <tr>\n",
       "      <th>MNT27075-USD</th>\n",
       "      <td>0.000000%</td>\n",
       "    </tr>\n",
       "    <tr>\n",
       "      <th>NEAR-USD</th>\n",
       "      <td>0.000000%</td>\n",
       "    </tr>\n",
       "    <tr>\n",
       "      <th>PEPE24478-USD</th>\n",
       "      <td>10.000000%</td>\n",
       "    </tr>\n",
       "    <tr>\n",
       "      <th>RNDR-USD</th>\n",
       "      <td>0.000000%</td>\n",
       "    </tr>\n",
       "    <tr>\n",
       "      <th>SOL-USD</th>\n",
       "      <td>0.000000%</td>\n",
       "    </tr>\n",
       "    <tr>\n",
       "      <th>SUI20947-USD</th>\n",
       "      <td>0.000000%</td>\n",
       "    </tr>\n",
       "    <tr>\n",
       "      <th>TAO22974-USD</th>\n",
       "      <td>0.000000%</td>\n",
       "    </tr>\n",
       "    <tr>\n",
       "      <th>TON11419-USD</th>\n",
       "      <td>25.000000%</td>\n",
       "    </tr>\n",
       "    <tr>\n",
       "      <th>UNI7083-USD</th>\n",
       "      <td>0.000000%</td>\n",
       "    </tr>\n",
       "    <tr>\n",
       "      <th>WIF-USD</th>\n",
       "      <td>0.000000%</td>\n",
       "    </tr>\n",
       "    <tr>\n",
       "      <th>XRP-USD</th>\n",
       "      <td>0.000000%</td>\n",
       "    </tr>\n",
       "  </tbody>\n",
       "</table>\n",
       "</div>"
      ],
      "text/plain": [
       "                 weights\n",
       "AAVE-USD       0.000000%\n",
       "ADA-USD        0.000000%\n",
       "APT21794-USD   0.000000%\n",
       "AVAX-USD       0.000000%\n",
       "BCH-USD        0.000000%\n",
       "BNB-USD        0.000000%\n",
       "BONK-USD       0.000000%\n",
       "BTC-USD        0.000000%\n",
       "DOGE-USD       0.000000%\n",
       "ETH-USD       40.000000%\n",
       "FOXY30591-USD  0.000000%\n",
       "FTM-USD        0.000000%\n",
       "GRT6719-USD    0.000000%\n",
       "HBAR-USD      11.412996%\n",
       "ICP-USD        0.000000%\n",
       "LINK-USD      13.587004%\n",
       "MNT27075-USD   0.000000%\n",
       "NEAR-USD       0.000000%\n",
       "PEPE24478-USD 10.000000%\n",
       "RNDR-USD       0.000000%\n",
       "SOL-USD        0.000000%\n",
       "SUI20947-USD   0.000000%\n",
       "TAO22974-USD   0.000000%\n",
       "TON11419-USD  25.000000%\n",
       "UNI7083-USD    0.000000%\n",
       "WIF-USD        0.000000%\n",
       "XRP-USD        0.000000%"
      ]
     },
     "execution_count": 140,
     "metadata": {},
     "output_type": "execute_result"
    }
   ],
   "source": [
    "w\n"
   ]
  },
  {
   "cell_type": "code",
   "execution_count": null,
   "metadata": {},
   "outputs": [
    {
     "data": {
      "application/vnd.plotly.v1+json": {
       "config": {
        "plotlyServerURL": "https://plot.ly"
       },
       "data": [
        {
         "hole": 0.4,
         "labels": [
          "AAVE-USD",
          "ADA-USD",
          "APT21794-USD",
          "AVAX-USD",
          "BCH-USD",
          "BNB-USD",
          "BONK-USD",
          "BTC-USD",
          "DOGE-USD",
          "ETH-USD",
          "FOXY30591-USD",
          "FTM-USD",
          "GRT6719-USD",
          "HBAR-USD",
          "ICP-USD",
          "LINK-USD",
          "MNT27075-USD",
          "NEAR-USD",
          "PEPE24478-USD",
          "RNDR-USD",
          "SOL-USD",
          "SUI20947-USD",
          "TAO22974-USD",
          "TON11419-USD",
          "UNI7083-USD",
          "WIF-USD",
          "XRP-USD"
         ],
         "textinfo": "label+percent",
         "textposition": "inside",
         "type": "pie",
         "values": [
          9.471623443672529e-11,
          1.2732491278234567e-11,
          8.52947538831516e-12,
          9.818823271872162e-12,
          9.253432162498643e-12,
          2.061863960108222e-11,
          4.238021780409308e-11,
          5.5607572518948666e-11,
          4.815887645012487e-12,
          0.39999999984159773,
          6.891336629214463e-12,
          8.809252436256714e-12,
          1.9785364206911588e-11,
          0.11412995999140078,
          9.295658195298007e-12,
          0.13587003982302123,
          1.192641358274775e-11,
          6.034304785438829e-11,
          0.09999999993313718,
          6.580588179210637e-11,
          2.9107049394839446e-11,
          7.72699416449475e-12,
          7.791869144707102e-12,
          0.24999999963994857,
          2.3081684531304908e-10,
          5.7038040234290304e-12,
          4.8418300037081596e-11
         ]
        }
       ],
       "layout": {
        "template": {
         "data": {
          "bar": [
           {
            "error_x": {
             "color": "#2a3f5f"
            },
            "error_y": {
             "color": "#2a3f5f"
            },
            "marker": {
             "line": {
              "color": "#E5ECF6",
              "width": 0.5
             },
             "pattern": {
              "fillmode": "overlay",
              "size": 10,
              "solidity": 0.2
             }
            },
            "type": "bar"
           }
          ],
          "barpolar": [
           {
            "marker": {
             "line": {
              "color": "#E5ECF6",
              "width": 0.5
             },
             "pattern": {
              "fillmode": "overlay",
              "size": 10,
              "solidity": 0.2
             }
            },
            "type": "barpolar"
           }
          ],
          "carpet": [
           {
            "aaxis": {
             "endlinecolor": "#2a3f5f",
             "gridcolor": "white",
             "linecolor": "white",
             "minorgridcolor": "white",
             "startlinecolor": "#2a3f5f"
            },
            "baxis": {
             "endlinecolor": "#2a3f5f",
             "gridcolor": "white",
             "linecolor": "white",
             "minorgridcolor": "white",
             "startlinecolor": "#2a3f5f"
            },
            "type": "carpet"
           }
          ],
          "choropleth": [
           {
            "colorbar": {
             "outlinewidth": 0,
             "ticks": ""
            },
            "type": "choropleth"
           }
          ],
          "contour": [
           {
            "colorbar": {
             "outlinewidth": 0,
             "ticks": ""
            },
            "colorscale": [
             [
              0,
              "#0d0887"
             ],
             [
              0.1111111111111111,
              "#46039f"
             ],
             [
              0.2222222222222222,
              "#7201a8"
             ],
             [
              0.3333333333333333,
              "#9c179e"
             ],
             [
              0.4444444444444444,
              "#bd3786"
             ],
             [
              0.5555555555555556,
              "#d8576b"
             ],
             [
              0.6666666666666666,
              "#ed7953"
             ],
             [
              0.7777777777777778,
              "#fb9f3a"
             ],
             [
              0.8888888888888888,
              "#fdca26"
             ],
             [
              1,
              "#f0f921"
             ]
            ],
            "type": "contour"
           }
          ],
          "contourcarpet": [
           {
            "colorbar": {
             "outlinewidth": 0,
             "ticks": ""
            },
            "type": "contourcarpet"
           }
          ],
          "heatmap": [
           {
            "colorbar": {
             "outlinewidth": 0,
             "ticks": ""
            },
            "colorscale": [
             [
              0,
              "#0d0887"
             ],
             [
              0.1111111111111111,
              "#46039f"
             ],
             [
              0.2222222222222222,
              "#7201a8"
             ],
             [
              0.3333333333333333,
              "#9c179e"
             ],
             [
              0.4444444444444444,
              "#bd3786"
             ],
             [
              0.5555555555555556,
              "#d8576b"
             ],
             [
              0.6666666666666666,
              "#ed7953"
             ],
             [
              0.7777777777777778,
              "#fb9f3a"
             ],
             [
              0.8888888888888888,
              "#fdca26"
             ],
             [
              1,
              "#f0f921"
             ]
            ],
            "type": "heatmap"
           }
          ],
          "heatmapgl": [
           {
            "colorbar": {
             "outlinewidth": 0,
             "ticks": ""
            },
            "colorscale": [
             [
              0,
              "#0d0887"
             ],
             [
              0.1111111111111111,
              "#46039f"
             ],
             [
              0.2222222222222222,
              "#7201a8"
             ],
             [
              0.3333333333333333,
              "#9c179e"
             ],
             [
              0.4444444444444444,
              "#bd3786"
             ],
             [
              0.5555555555555556,
              "#d8576b"
             ],
             [
              0.6666666666666666,
              "#ed7953"
             ],
             [
              0.7777777777777778,
              "#fb9f3a"
             ],
             [
              0.8888888888888888,
              "#fdca26"
             ],
             [
              1,
              "#f0f921"
             ]
            ],
            "type": "heatmapgl"
           }
          ],
          "histogram": [
           {
            "marker": {
             "pattern": {
              "fillmode": "overlay",
              "size": 10,
              "solidity": 0.2
             }
            },
            "type": "histogram"
           }
          ],
          "histogram2d": [
           {
            "colorbar": {
             "outlinewidth": 0,
             "ticks": ""
            },
            "colorscale": [
             [
              0,
              "#0d0887"
             ],
             [
              0.1111111111111111,
              "#46039f"
             ],
             [
              0.2222222222222222,
              "#7201a8"
             ],
             [
              0.3333333333333333,
              "#9c179e"
             ],
             [
              0.4444444444444444,
              "#bd3786"
             ],
             [
              0.5555555555555556,
              "#d8576b"
             ],
             [
              0.6666666666666666,
              "#ed7953"
             ],
             [
              0.7777777777777778,
              "#fb9f3a"
             ],
             [
              0.8888888888888888,
              "#fdca26"
             ],
             [
              1,
              "#f0f921"
             ]
            ],
            "type": "histogram2d"
           }
          ],
          "histogram2dcontour": [
           {
            "colorbar": {
             "outlinewidth": 0,
             "ticks": ""
            },
            "colorscale": [
             [
              0,
              "#0d0887"
             ],
             [
              0.1111111111111111,
              "#46039f"
             ],
             [
              0.2222222222222222,
              "#7201a8"
             ],
             [
              0.3333333333333333,
              "#9c179e"
             ],
             [
              0.4444444444444444,
              "#bd3786"
             ],
             [
              0.5555555555555556,
              "#d8576b"
             ],
             [
              0.6666666666666666,
              "#ed7953"
             ],
             [
              0.7777777777777778,
              "#fb9f3a"
             ],
             [
              0.8888888888888888,
              "#fdca26"
             ],
             [
              1,
              "#f0f921"
             ]
            ],
            "type": "histogram2dcontour"
           }
          ],
          "mesh3d": [
           {
            "colorbar": {
             "outlinewidth": 0,
             "ticks": ""
            },
            "type": "mesh3d"
           }
          ],
          "parcoords": [
           {
            "line": {
             "colorbar": {
              "outlinewidth": 0,
              "ticks": ""
             }
            },
            "type": "parcoords"
           }
          ],
          "pie": [
           {
            "automargin": true,
            "type": "pie"
           }
          ],
          "scatter": [
           {
            "fillpattern": {
             "fillmode": "overlay",
             "size": 10,
             "solidity": 0.2
            },
            "type": "scatter"
           }
          ],
          "scatter3d": [
           {
            "line": {
             "colorbar": {
              "outlinewidth": 0,
              "ticks": ""
             }
            },
            "marker": {
             "colorbar": {
              "outlinewidth": 0,
              "ticks": ""
             }
            },
            "type": "scatter3d"
           }
          ],
          "scattercarpet": [
           {
            "marker": {
             "colorbar": {
              "outlinewidth": 0,
              "ticks": ""
             }
            },
            "type": "scattercarpet"
           }
          ],
          "scattergeo": [
           {
            "marker": {
             "colorbar": {
              "outlinewidth": 0,
              "ticks": ""
             }
            },
            "type": "scattergeo"
           }
          ],
          "scattergl": [
           {
            "marker": {
             "colorbar": {
              "outlinewidth": 0,
              "ticks": ""
             }
            },
            "type": "scattergl"
           }
          ],
          "scattermapbox": [
           {
            "marker": {
             "colorbar": {
              "outlinewidth": 0,
              "ticks": ""
             }
            },
            "type": "scattermapbox"
           }
          ],
          "scatterpolar": [
           {
            "marker": {
             "colorbar": {
              "outlinewidth": 0,
              "ticks": ""
             }
            },
            "type": "scatterpolar"
           }
          ],
          "scatterpolargl": [
           {
            "marker": {
             "colorbar": {
              "outlinewidth": 0,
              "ticks": ""
             }
            },
            "type": "scatterpolargl"
           }
          ],
          "scatterternary": [
           {
            "marker": {
             "colorbar": {
              "outlinewidth": 0,
              "ticks": ""
             }
            },
            "type": "scatterternary"
           }
          ],
          "surface": [
           {
            "colorbar": {
             "outlinewidth": 0,
             "ticks": ""
            },
            "colorscale": [
             [
              0,
              "#0d0887"
             ],
             [
              0.1111111111111111,
              "#46039f"
             ],
             [
              0.2222222222222222,
              "#7201a8"
             ],
             [
              0.3333333333333333,
              "#9c179e"
             ],
             [
              0.4444444444444444,
              "#bd3786"
             ],
             [
              0.5555555555555556,
              "#d8576b"
             ],
             [
              0.6666666666666666,
              "#ed7953"
             ],
             [
              0.7777777777777778,
              "#fb9f3a"
             ],
             [
              0.8888888888888888,
              "#fdca26"
             ],
             [
              1,
              "#f0f921"
             ]
            ],
            "type": "surface"
           }
          ],
          "table": [
           {
            "cells": {
             "fill": {
              "color": "#EBF0F8"
             },
             "line": {
              "color": "white"
             }
            },
            "header": {
             "fill": {
              "color": "#C8D4E3"
             },
             "line": {
              "color": "white"
             }
            },
            "type": "table"
           }
          ]
         },
         "layout": {
          "annotationdefaults": {
           "arrowcolor": "#2a3f5f",
           "arrowhead": 0,
           "arrowwidth": 1
          },
          "autotypenumbers": "strict",
          "coloraxis": {
           "colorbar": {
            "outlinewidth": 0,
            "ticks": ""
           }
          },
          "colorscale": {
           "diverging": [
            [
             0,
             "#8e0152"
            ],
            [
             0.1,
             "#c51b7d"
            ],
            [
             0.2,
             "#de77ae"
            ],
            [
             0.3,
             "#f1b6da"
            ],
            [
             0.4,
             "#fde0ef"
            ],
            [
             0.5,
             "#f7f7f7"
            ],
            [
             0.6,
             "#e6f5d0"
            ],
            [
             0.7,
             "#b8e186"
            ],
            [
             0.8,
             "#7fbc41"
            ],
            [
             0.9,
             "#4d9221"
            ],
            [
             1,
             "#276419"
            ]
           ],
           "sequential": [
            [
             0,
             "#0d0887"
            ],
            [
             0.1111111111111111,
             "#46039f"
            ],
            [
             0.2222222222222222,
             "#7201a8"
            ],
            [
             0.3333333333333333,
             "#9c179e"
            ],
            [
             0.4444444444444444,
             "#bd3786"
            ],
            [
             0.5555555555555556,
             "#d8576b"
            ],
            [
             0.6666666666666666,
             "#ed7953"
            ],
            [
             0.7777777777777778,
             "#fb9f3a"
            ],
            [
             0.8888888888888888,
             "#fdca26"
            ],
            [
             1,
             "#f0f921"
            ]
           ],
           "sequentialminus": [
            [
             0,
             "#0d0887"
            ],
            [
             0.1111111111111111,
             "#46039f"
            ],
            [
             0.2222222222222222,
             "#7201a8"
            ],
            [
             0.3333333333333333,
             "#9c179e"
            ],
            [
             0.4444444444444444,
             "#bd3786"
            ],
            [
             0.5555555555555556,
             "#d8576b"
            ],
            [
             0.6666666666666666,
             "#ed7953"
            ],
            [
             0.7777777777777778,
             "#fb9f3a"
            ],
            [
             0.8888888888888888,
             "#fdca26"
            ],
            [
             1,
             "#f0f921"
            ]
           ]
          },
          "colorway": [
           "#636efa",
           "#EF553B",
           "#00cc96",
           "#ab63fa",
           "#FFA15A",
           "#19d3f3",
           "#FF6692",
           "#B6E880",
           "#FF97FF",
           "#FECB52"
          ],
          "font": {
           "color": "#2a3f5f"
          },
          "geo": {
           "bgcolor": "white",
           "lakecolor": "white",
           "landcolor": "#E5ECF6",
           "showlakes": true,
           "showland": true,
           "subunitcolor": "white"
          },
          "hoverlabel": {
           "align": "left"
          },
          "hovermode": "closest",
          "mapbox": {
           "style": "light"
          },
          "paper_bgcolor": "white",
          "plot_bgcolor": "#E5ECF6",
          "polar": {
           "angularaxis": {
            "gridcolor": "white",
            "linecolor": "white",
            "ticks": ""
           },
           "bgcolor": "#E5ECF6",
           "radialaxis": {
            "gridcolor": "white",
            "linecolor": "white",
            "ticks": ""
           }
          },
          "scene": {
           "xaxis": {
            "backgroundcolor": "#E5ECF6",
            "gridcolor": "white",
            "gridwidth": 2,
            "linecolor": "white",
            "showbackground": true,
            "ticks": "",
            "zerolinecolor": "white"
           },
           "yaxis": {
            "backgroundcolor": "#E5ECF6",
            "gridcolor": "white",
            "gridwidth": 2,
            "linecolor": "white",
            "showbackground": true,
            "ticks": "",
            "zerolinecolor": "white"
           },
           "zaxis": {
            "backgroundcolor": "#E5ECF6",
            "gridcolor": "white",
            "gridwidth": 2,
            "linecolor": "white",
            "showbackground": true,
            "ticks": "",
            "zerolinecolor": "white"
           }
          },
          "shapedefaults": {
           "line": {
            "color": "#2a3f5f"
           }
          },
          "ternary": {
           "aaxis": {
            "gridcolor": "white",
            "linecolor": "white",
            "ticks": ""
           },
           "baxis": {
            "gridcolor": "white",
            "linecolor": "white",
            "ticks": ""
           },
           "bgcolor": "#E5ECF6",
           "caxis": {
            "gridcolor": "white",
            "linecolor": "white",
            "ticks": ""
           }
          },
          "title": {
           "x": 0.05
          },
          "xaxis": {
           "automargin": true,
           "gridcolor": "white",
           "linecolor": "white",
           "ticks": "",
           "title": {
            "standoff": 15
           },
           "zerolinecolor": "white",
           "zerolinewidth": 2
          },
          "yaxis": {
           "automargin": true,
           "gridcolor": "white",
           "linecolor": "white",
           "ticks": "",
           "title": {
            "standoff": 15
           },
           "zerolinecolor": "white",
           "zerolinewidth": 2
          }
         }
        },
        "title": {
         "text": "portfolio"
        },
        "uniformtext": {
         "minsize": 10
        }
       }
      }
     },
     "metadata": {},
     "output_type": "display_data"
    }
   ],
   "source": [
    "import plotly.graph_objects as go\n",
    "\n",
    "fig = go.Figure(data=[go.Pie(labels=w.index, \n",
    "                             values=w.weights, \n",
    "                             hole=.4, \n",
    "                             textinfo='label+percent',\n",
    "                             textposition='outside',\n",
    "                             )])\n",
    "\n",
    "fig.update_traces(textposition='inside')\n",
    "fig.update_layout(uniformtext_minsize=10, title_text=\"portfolio\")\n",
    "\n",
    "fig.show()"
   ]
  }
 ],
 "metadata": {
  "kernelspec": {
   "display_name": "data_science_path",
   "language": "python",
   "name": "python3"
  },
  "language_info": {
   "codemirror_mode": {
    "name": "ipython",
    "version": 3
   },
   "file_extension": ".py",
   "mimetype": "text/x-python",
   "name": "python",
   "nbconvert_exporter": "python",
   "pygments_lexer": "ipython3",
   "version": "3.10.4"
  }
 },
 "nbformat": 4,
 "nbformat_minor": 4
}
