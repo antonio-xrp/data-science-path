{
 "cells": [
  {
   "cell_type": "markdown",
   "metadata": {},
   "source": [
    "<table style=\"float:left; border:none\">\n",
    "   <tr style=\"border:none\">\n",
    "       <td style=\"border:none\">\n",
    "           <a href=\"https://bokeh.org/\" target=\"_blank\">\n",
    "           <img\n",
    "               src=\"assets/bokeh-transparent.png\"\n",
    "               style=\"width:50px\"\n",
    "           >\n",
    "           </a>\n",
    "       </td>\n",
    "       <td style=\"border:none\">\n",
    "           <h1>Bokeh Tutorial</h1>\n",
    "       </td>\n",
    "   </tr>\n",
    "</table>\n",
    "\n",
    "<div style=\"float:right;\"><a href=\"TOC.ipynb\" target=\"_blank\">Table of contents</a><br><h2>13 Exporting and embedding</h2></div>"
   ]
  },
  {
   "cell_type": "markdown",
   "metadata": {},
   "source": [
    "So far, you have used `output_notebook()` to generate interactive Bokeh output directly in Jupyter notebooks.\n",
    "\n",
    "You can also use Bokeh to generate **standalone HTML files** or **embed Bokeh documents\n",
    "in other contexts**.\n",
    "Bokeh also supports **export to SVG and PNG files**."
   ]
  },
  {
   "cell_type": "markdown",
   "metadata": {},
   "source": [
    "### Standalone HTML files\n",
    "\n",
    "Bokeh allows you to save a document as a standalone HTML file.\n",
    "This is useful for sharing your work with others or for embedding it in a website.\n",
    "The HTML document that Bokeh creates includes all the data and JavaScript code for\n",
    "your document.\n",
    "\n",
    "Creating a standalone HTML file is a two-step process:\n",
    "- First, you use the `output_file()` function to specify some file-related options:\n",
    "    - `filename` is the name of the HTML file to generate\n",
    "    - `title` is the title of the HTML document\n",
    "    - `mode` specifies how BokehJS should be included in the HTML file.\n",
    "        By default, BokehJS will be loaded from Bokeh's Content Delivery Network (CDN).\n",
    "        This means that the HTML file will not work offline.\n",
    "        To include BokehJS in the HTML file instead, set `mode` to `\"inline\"`. This way,\n",
    "        the HTML file will work offline, but it will be larger.\n",
    "- Second, you use either `show()` or `save()` to generate the HTML file:\n",
    "    - `save()` will save the HTML file to disk\n",
    "    - `show()` will save the HTML file and open it in a new browser tab\n",
    "\n",
    "Run the following code cell to generate a standalone HTML file:"
   ]
  },
  {
   "cell_type": "code",
   "execution_count": 1,
   "metadata": {},
   "outputs": [
    {
     "data": {
      "text/plain": [
       "'/home/antonio/git-ml/data-science-path/tutorial/notebooks/custom_filename.html'"
      ]
     },
     "execution_count": 1,
     "metadata": {},
     "output_type": "execute_result"
    }
   ],
   "source": [
    "from bokeh.plotting import figure, output_file, save\n",
    "\n",
    "# prepare some data\n",
    "x = [1, 2, 3, 4, 5]\n",
    "y = [4, 5, 5, 7, 2]\n",
    "\n",
    "# set output to static HTML file\n",
    "output_file(filename=\"custom_filename.html\", title=\"Static HTML file\")\n",
    "\n",
    "# create a new plot\n",
    "p = figure(sizing_mode=\"stretch_width\", height=250)\n",
    "\n",
    "# add a circle renderer\n",
    "circle = p.scatter(x, y, fill_color=\"red\", size=15)\n",
    "\n",
    "# save the results to a file\n",
    "# 🔁 replace with show(p) to see the HTML file opened in a browser window\n",
    "save(p)"
   ]
  },
  {
   "cell_type": "markdown",
   "metadata": {},
   "source": [
    "<p style=\"background-color: #dddddd; padding: 10px;\">\n",
    " ✨ The HTML output file of the complete dashboard is hosted at: <a href=\"https://bokeh.github.io/tutorial/\">bokeh.github.io/tutorial ↗️</a>\n",
    "</p>"
   ]
  },
  {
   "cell_type": "markdown",
   "metadata": {},
   "source": [
    "Calling `output_file` **switches Bokeh to file output mode persistently**.\n",
    "This means that all subsequent calls to `show` will generate output to the specified file.\n",
    "\n",
    "To reset the output mode, call `reset_output`:"
   ]
  },
  {
   "cell_type": "code",
   "execution_count": 2,
   "metadata": {},
   "outputs": [],
   "source": [
    "from bokeh.io import reset_output\n",
    "\n",
    "reset_output()"
   ]
  },
  {
   "cell_type": "markdown",
   "metadata": {},
   "source": [
    "Since you are currently running Bokeh in a Jupyter notebook, you can also use the\n",
    "`output_notebook()` function. This switches Bokeh back to notebook output mode."
   ]
  },
  {
   "cell_type": "code",
   "execution_count": 3,
   "metadata": {},
   "outputs": [
    {
     "data": {
      "text/html": [
       "    <style>\n",
       "        .bk-notebook-logo {\n",
       "            display: block;\n",
       "            width: 20px;\n",
       "            height: 20px;\n",
       "            background-image: url(data:image/png;base64,iVBORw0KGgoAAAANSUhEUgAAABQAAAAUCAYAAACNiR0NAAAABHNCSVQICAgIfAhkiAAAAAlwSFlzAAALEgAACxIB0t1+/AAAABx0RVh0U29mdHdhcmUAQWRvYmUgRmlyZXdvcmtzIENTNui8sowAAAOkSURBVDiNjZRtaJVlGMd/1/08zzln5zjP1LWcU9N0NkN8m2CYjpgQYQXqSs0I84OLIC0hkEKoPtiH3gmKoiJDU7QpLgoLjLIQCpEsNJ1vqUOdO7ppbuec5+V+rj4ctwzd8IIbbi6u+8f1539dt3A78eXC7QizUF7gyV1fD1Yqg4JWz84yffhm0qkFqBogB9rM8tZdtwVsPUhWhGcFJngGeWrPzHm5oaMmkfEg1usvLFyc8jLRqDOMru7AyC8saQr7GG7f5fvDeH7Ej8CM66nIF+8yngt6HWaKh7k49Soy9nXurCi1o3qUbS3zWfrYeQDTB/Qj6kX6Ybhw4B+bOYoLKCC9H3Nu/leUTZ1JdRWkkn2ldcCamzrcf47KKXdAJllSlxAOkRgyHsGC/zRday5Qld9DyoM4/q/rUoy/CXh3jzOu3bHUVZeU+DEn8FInkPBFlu3+nW3Nw0mk6vCDiWg8CeJaxEwuHS3+z5RgY+YBR6V1Z1nxSOfoaPa4LASWxxdNp+VWTk7+4vzaou8v8PN+xo+KY2xsw6une2frhw05CTYOmQvsEhjhWjn0bmXPjpE1+kplmmkP3suftwTubK9Vq22qKmrBhpY4jvd5afdRA3wGjFAgcnTK2s4hY0/GPNIb0nErGMCRxWOOX64Z8RAC4oCXdklmEvcL8o0BfkNK4lUg9HTl+oPlQxdNo3Mg4Nv175e/1LDGzZen30MEjRUtmXSfiTVu1kK8W4txyV6BMKlbgk3lMwYCiusNy9fVfvvwMxv8Ynl6vxoByANLTWplvuj/nF9m2+PDtt1eiHPBr1oIfhCChQMBw6Aw0UulqTKZdfVvfG7VcfIqLG9bcldL/+pdWTLxLUy8Qq38heUIjh4XlzZxzQm19lLFlr8vdQ97rjZVOLf8nclzckbcD4wxXMidpX30sFd37Fv/GtwwhzhxGVAprjbg0gCAEeIgwCZyTV2Z1REEW8O4py0wsjeloKoMr6iCY6dP92H6Vw/oTyICIthibxjm/DfN9lVz8IqtqKYLUXfoKVMVQVVJOElGjrnnUt9T9wbgp8AyYKaGlqingHZU/uG2NTZSVqwHQTWkx9hxjkpWDaCg6Ckj5qebgBVbT3V3NNXMSiWSDdGV3hrtzla7J+duwPOToIg42ChPQOQjspnSlp1V+Gjdged7+8UN5CRAV7a5EdFNwCjEaBR27b3W890TE7g24NAP/mMDXRWrGoFPQI9ls/MWO2dWFAar/xcOIImbbpA3zgAAAABJRU5ErkJggg==);\n",
       "        }\n",
       "    </style>\n",
       "    <div>\n",
       "        <a href=\"https://bokeh.org\" target=\"_blank\" class=\"bk-notebook-logo\"></a>\n",
       "        <span id=\"df6a75c8-fccd-4859-85f9-8ed4b7a32852\">Loading BokehJS ...</span>\n",
       "    </div>\n"
      ]
     },
     "metadata": {},
     "output_type": "display_data"
    },
    {
     "data": {
      "application/javascript": "'use strict';\n(function(root) {\n  function now() {\n    return new Date();\n  }\n\n  const force = true;\n\n  if (typeof root._bokeh_onload_callbacks === \"undefined\" || force === true) {\n    root._bokeh_onload_callbacks = [];\n    root._bokeh_is_loading = undefined;\n  }\n\nconst JS_MIME_TYPE = 'application/javascript';\n  const HTML_MIME_TYPE = 'text/html';\n  const EXEC_MIME_TYPE = 'application/vnd.bokehjs_exec.v0+json';\n  const CLASS_NAME = 'output_bokeh rendered_html';\n\n  /**\n   * Render data to the DOM node\n   */\n  function render(props, node) {\n    const script = document.createElement(\"script\");\n    node.appendChild(script);\n  }\n\n  /**\n   * Handle when an output is cleared or removed\n   */\n  function handleClearOutput(event, handle) {\n    function drop(id) {\n      const view = Bokeh.index.get_by_id(id)\n      if (view != null) {\n        view.model.document.clear()\n        Bokeh.index.delete(view)\n      }\n    }\n\n    const cell = handle.cell;\n\n    const id = cell.output_area._bokeh_element_id;\n    const server_id = cell.output_area._bokeh_server_id;\n\n    // Clean up Bokeh references\n    if (id != null) {\n      drop(id)\n    }\n\n    if (server_id !== undefined) {\n      // Clean up Bokeh references\n      const cmd_clean = \"from bokeh.io.state import curstate; print(curstate().uuid_to_server['\" + server_id + \"'].get_sessions()[0].document.roots[0]._id)\";\n      cell.notebook.kernel.execute(cmd_clean, {\n        iopub: {\n          output: function(msg) {\n            const id = msg.content.text.trim()\n            drop(id)\n          }\n        }\n      });\n      // Destroy server and session\n      const cmd_destroy = \"import bokeh.io.notebook as ion; ion.destroy_server('\" + server_id + \"')\";\n      cell.notebook.kernel.execute(cmd_destroy);\n    }\n  }\n\n  /**\n   * Handle when a new output is added\n   */\n  function handleAddOutput(event, handle) {\n    const output_area = handle.output_area;\n    const output = handle.output;\n\n    // limit handleAddOutput to display_data with EXEC_MIME_TYPE content only\n    if ((output.output_type != \"display_data\") || (!Object.prototype.hasOwnProperty.call(output.data, EXEC_MIME_TYPE))) {\n      return\n    }\n\n    const toinsert = output_area.element.find(\".\" + CLASS_NAME.split(' ')[0]);\n\n    if (output.metadata[EXEC_MIME_TYPE][\"id\"] !== undefined) {\n      toinsert[toinsert.length - 1].firstChild.textContent = output.data[JS_MIME_TYPE];\n      // store reference to embed id on output_area\n      output_area._bokeh_element_id = output.metadata[EXEC_MIME_TYPE][\"id\"];\n    }\n    if (output.metadata[EXEC_MIME_TYPE][\"server_id\"] !== undefined) {\n      const bk_div = document.createElement(\"div\");\n      bk_div.innerHTML = output.data[HTML_MIME_TYPE];\n      const script_attrs = bk_div.children[0].attributes;\n      for (let i = 0; i < script_attrs.length; i++) {\n        toinsert[toinsert.length - 1].firstChild.setAttribute(script_attrs[i].name, script_attrs[i].value);\n        toinsert[toinsert.length - 1].firstChild.textContent = bk_div.children[0].textContent\n      }\n      // store reference to server id on output_area\n      output_area._bokeh_server_id = output.metadata[EXEC_MIME_TYPE][\"server_id\"];\n    }\n  }\n\n  function register_renderer(events, OutputArea) {\n\n    function append_mime(data, metadata, element) {\n      // create a DOM node to render to\n      const toinsert = this.create_output_subarea(\n        metadata,\n        CLASS_NAME,\n        EXEC_MIME_TYPE\n      );\n      this.keyboard_manager.register_events(toinsert);\n      // Render to node\n      const props = {data: data, metadata: metadata[EXEC_MIME_TYPE]};\n      render(props, toinsert[toinsert.length - 1]);\n      element.append(toinsert);\n      return toinsert\n    }\n\n    /* Handle when an output is cleared or removed */\n    events.on('clear_output.CodeCell', handleClearOutput);\n    events.on('delete.Cell', handleClearOutput);\n\n    /* Handle when a new output is added */\n    events.on('output_added.OutputArea', handleAddOutput);\n\n    /**\n     * Register the mime type and append_mime function with output_area\n     */\n    OutputArea.prototype.register_mime_type(EXEC_MIME_TYPE, append_mime, {\n      /* Is output safe? */\n      safe: true,\n      /* Index of renderer in `output_area.display_order` */\n      index: 0\n    });\n  }\n\n  // register the mime type if in Jupyter Notebook environment and previously unregistered\n  if (root.Jupyter !== undefined) {\n    const events = require('base/js/events');\n    const OutputArea = require('notebook/js/outputarea').OutputArea;\n\n    if (OutputArea.prototype.mime_types().indexOf(EXEC_MIME_TYPE) == -1) {\n      register_renderer(events, OutputArea);\n    }\n  }\n  if (typeof (root._bokeh_timeout) === \"undefined\" || force === true) {\n    root._bokeh_timeout = Date.now() + 5000;\n    root._bokeh_failed_load = false;\n  }\n\n  const NB_LOAD_WARNING = {'data': {'text/html':\n     \"<div style='background-color: #fdd'>\\n\"+\n     \"<p>\\n\"+\n     \"BokehJS does not appear to have successfully loaded. If loading BokehJS from CDN, this \\n\"+\n     \"may be due to a slow or bad network connection. Possible fixes:\\n\"+\n     \"</p>\\n\"+\n     \"<ul>\\n\"+\n     \"<li>re-rerun `output_notebook()` to attempt to load from CDN again, or</li>\\n\"+\n     \"<li>use INLINE resources instead, as so:</li>\\n\"+\n     \"</ul>\\n\"+\n     \"<code>\\n\"+\n     \"from bokeh.resources import INLINE\\n\"+\n     \"output_notebook(resources=INLINE)\\n\"+\n     \"</code>\\n\"+\n     \"</div>\"}};\n\n  function display_loaded(error = null) {\n    const el = document.getElementById(\"df6a75c8-fccd-4859-85f9-8ed4b7a32852\");\n    if (el != null) {\n      const html = (() => {\n        if (typeof root.Bokeh === \"undefined\") {\n          if (error == null) {\n            return \"BokehJS is loading ...\";\n          } else {\n            return \"BokehJS failed to load.\";\n          }\n        } else {\n          const prefix = `BokehJS ${root.Bokeh.version}`;\n          if (error == null) {\n            return `${prefix} successfully loaded.`;\n          } else {\n            return `${prefix} <b>encountered errors</b> while loading and may not function as expected.`;\n          }\n        }\n      })();\n      el.innerHTML = html;\n\n      if (error != null) {\n        const wrapper = document.createElement(\"div\");\n        wrapper.style.overflow = \"auto\";\n        wrapper.style.height = \"5em\";\n        wrapper.style.resize = \"vertical\";\n        const content = document.createElement(\"div\");\n        content.style.fontFamily = \"monospace\";\n        content.style.whiteSpace = \"pre-wrap\";\n        content.style.backgroundColor = \"rgb(255, 221, 221)\";\n        content.textContent = error.stack ?? error.toString();\n        wrapper.append(content);\n        el.append(wrapper);\n      }\n    } else if (Date.now() < root._bokeh_timeout) {\n      setTimeout(() => display_loaded(error), 100);\n    }\n  }\n\n  function run_callbacks() {\n    try {\n      root._bokeh_onload_callbacks.forEach(function(callback) {\n        if (callback != null)\n          callback();\n      });\n    } finally {\n      delete root._bokeh_onload_callbacks\n    }\n    console.debug(\"Bokeh: all callbacks have finished\");\n  }\n\n  function load_libs(css_urls, js_urls, callback) {\n    if (css_urls == null) css_urls = [];\n    if (js_urls == null) js_urls = [];\n\n    root._bokeh_onload_callbacks.push(callback);\n    if (root._bokeh_is_loading > 0) {\n      console.debug(\"Bokeh: BokehJS is being loaded, scheduling callback at\", now());\n      return null;\n    }\n    if (js_urls == null || js_urls.length === 0) {\n      run_callbacks();\n      return null;\n    }\n    console.debug(\"Bokeh: BokehJS not loaded, scheduling load and callback at\", now());\n    root._bokeh_is_loading = css_urls.length + js_urls.length;\n\n    function on_load() {\n      root._bokeh_is_loading--;\n      if (root._bokeh_is_loading === 0) {\n        console.debug(\"Bokeh: all BokehJS libraries/stylesheets loaded\");\n        run_callbacks()\n      }\n    }\n\n    function on_error(url) {\n      console.error(\"failed to load \" + url);\n    }\n\n    for (let i = 0; i < css_urls.length; i++) {\n      const url = css_urls[i];\n      const element = document.createElement(\"link\");\n      element.onload = on_load;\n      element.onerror = on_error.bind(null, url);\n      element.rel = \"stylesheet\";\n      element.type = \"text/css\";\n      element.href = url;\n      console.debug(\"Bokeh: injecting link tag for BokehJS stylesheet: \", url);\n      document.body.appendChild(element);\n    }\n\n    for (let i = 0; i < js_urls.length; i++) {\n      const url = js_urls[i];\n      const element = document.createElement('script');\n      element.onload = on_load;\n      element.onerror = on_error.bind(null, url);\n      element.async = false;\n      element.src = url;\n      console.debug(\"Bokeh: injecting script tag for BokehJS library: \", url);\n      document.head.appendChild(element);\n    }\n  };\n\n  function inject_raw_css(css) {\n    const element = document.createElement(\"style\");\n    element.appendChild(document.createTextNode(css));\n    document.body.appendChild(element);\n  }\n\n  const js_urls = [\"https://cdn.bokeh.org/bokeh/release/bokeh-3.6.1.min.js\", \"https://cdn.bokeh.org/bokeh/release/bokeh-gl-3.6.1.min.js\", \"https://cdn.bokeh.org/bokeh/release/bokeh-widgets-3.6.1.min.js\", \"https://cdn.bokeh.org/bokeh/release/bokeh-tables-3.6.1.min.js\", \"https://cdn.bokeh.org/bokeh/release/bokeh-mathjax-3.6.1.min.js\"];\n  const css_urls = [];\n\n  const inline_js = [    function(Bokeh) {\n      Bokeh.set_log_level(\"info\");\n    },\nfunction(Bokeh) {\n    }\n  ];\n\n  function run_inline_js() {\n    if (root.Bokeh !== undefined || force === true) {\n      try {\n            for (let i = 0; i < inline_js.length; i++) {\n      inline_js[i].call(root, root.Bokeh);\n    }\n\n      } catch (error) {display_loaded(error);throw error;\n      }if (force === true) {\n        display_loaded();\n      }} else if (Date.now() < root._bokeh_timeout) {\n      setTimeout(run_inline_js, 100);\n    } else if (!root._bokeh_failed_load) {\n      console.log(\"Bokeh: BokehJS failed to load within specified timeout.\");\n      root._bokeh_failed_load = true;\n    } else if (force !== true) {\n      const cell = $(document.getElementById(\"df6a75c8-fccd-4859-85f9-8ed4b7a32852\")).parents('.cell').data().cell;\n      cell.output_area.append_execute_result(NB_LOAD_WARNING)\n    }\n  }\n\n  if (root._bokeh_is_loading === 0) {\n    console.debug(\"Bokeh: BokehJS loaded, going straight to plotting\");\n    run_inline_js();\n  } else {\n    load_libs(css_urls, js_urls, function() {\n      console.debug(\"Bokeh: BokehJS plotting callback run at\", now());\n      run_inline_js();\n    });\n  }\n}(window));",
      "application/vnd.bokehjs_load.v0+json": ""
     },
     "metadata": {},
     "output_type": "display_data"
    }
   ],
   "source": [
    "from bokeh.io import output_notebook\n",
    "\n",
    "output_notebook()"
   ]
  },
  {
   "cell_type": "markdown",
   "metadata": {},
   "source": [
    "### Embedding Bokeh documents\n",
    "\n",
    "Using the `output_file()` function creates a file that contains nothing but the Bokeh\n",
    "document.\n",
    "However, you can also embed Bokeh documents as an element of a larger web page.\n",
    "This way, you can include Bokeh in a Jinja template, for example.\n",
    "\n",
    "One way to do this is to use the `components()` function.\n",
    "This function returns a tuple containing two elements:\n",
    "* The first element is a `script` element that contains the JavaScript code for the\n",
    "    Bokeh document.\n",
    "* The second element is a `div` element that contains the HTML code for the Bokeh\n",
    "    document.\n",
    "\n",
    "You can then use these elements in your own HTML code.\n",
    "\n",
    "The following code cell shows how to use the `components()` function:"
   ]
  },
  {
   "cell_type": "code",
   "execution_count": 4,
   "metadata": {},
   "outputs": [],
   "source": [
    "# from bokeh.plotting import figure\n",
    "from bokeh.embed import components\n",
    "\n",
    "plot = figure()\n",
    "plot.scatter([1, 2], [3, 4])\n",
    "\n",
    "script, div = components(plot)"
   ]
  },
  {
   "cell_type": "markdown",
   "metadata": {},
   "source": [
    "This is the script generated by this example:"
   ]
  },
  {
   "cell_type": "code",
   "execution_count": 5,
   "metadata": {},
   "outputs": [
    {
     "data": {
      "text/plain": [
       "'    <script type=\"text/javascript\">\\n        (function() {\\n  const fn = function() {\\n    Bokeh.safely(function() {\\n      (function(root) {\\n        function embed_document(root) {\\n        const docs_json = \\'{\"90d0ff4c-5a73-4c11-b994-edaed372c521\":{\"version\":\"3.6.1\",\"title\":\"Bokeh Application\",\"roots\":[{\"type\":\"object\",\"name\":\"Figure\",\"id\":\"p1044\",\"attributes\":{\"x_range\":{\"type\":\"object\",\"name\":\"DataRange1d\",\"id\":\"p1045\"},\"y_range\":{\"type\":\"object\",\"name\":\"DataRange1d\",\"id\":\"p1046\"},\"x_scale\":{\"type\":\"object\",\"name\":\"LinearScale\",\"id\":\"p1053\"},\"y_scale\":{\"type\":\"object\",\"name\":\"LinearScale\",\"id\":\"p1054\"},\"title\":{\"type\":\"object\",\"name\":\"Title\",\"id\":\"p1051\"},\"renderers\":[{\"type\":\"object\",\"name\":\"GlyphRenderer\",\"id\":\"p1084\",\"attributes\":{\"data_source\":{\"type\":\"object\",\"name\":\"ColumnDataSource\",\"id\":\"p1078\",\"attributes\":{\"selected\":{\"type\":\"object\",\"name\":\"Selection\",\"id\":\"p1079\",\"attributes\":{\"indices\":[],\"line_indices\":[]}},\"selection_policy\":{\"type\":\"object\",\"name\":\"UnionRenderers\",\"id\":\"p1080\"},\"data\":{\"type\":\"map\",\"entries\":[[\"x\",[1,2]],[\"y\",[3,4]]]}}},\"view\":{\"type\":\"object\",\"name\":\"CDSView\",\"id\":\"p1085\",\"attributes\":{\"filter\":{\"type\":\"object\",\"name\":\"AllIndices\",\"id\":\"p1086\"}}},\"glyph\":{\"type\":\"object\",\"name\":\"Scatter\",\"id\":\"p1081\",\"attributes\":{\"x\":{\"type\":\"field\",\"field\":\"x\"},\"y\":{\"type\":\"field\",\"field\":\"y\"},\"line_color\":{\"type\":\"value\",\"value\":\"#1f77b4\"},\"fill_color\":{\"type\":\"value\",\"value\":\"#1f77b4\"}}},\"nonselection_glyph\":{\"type\":\"object\",\"name\":\"Scatter\",\"id\":\"p1082\",\"attributes\":{\"x\":{\"type\":\"field\",\"field\":\"x\"},\"y\":{\"type\":\"field\",\"field\":\"y\"},\"line_color\":{\"type\":\"value\",\"value\":\"#1f77b4\"},\"line_alpha\":{\"type\":\"value\",\"value\":0.1},\"fill_color\":{\"type\":\"value\",\"value\":\"#1f77b4\"},\"fill_alpha\":{\"type\":\"value\",\"value\":0.1},\"hatch_alpha\":{\"type\":\"value\",\"value\":0.1}}},\"muted_glyph\":{\"type\":\"object\",\"name\":\"Scatter\",\"id\":\"p1083\",\"attributes\":{\"x\":{\"type\":\"field\",\"field\":\"x\"},\"y\":{\"type\":\"field\",\"field\":\"y\"},\"line_color\":{\"type\":\"value\",\"value\":\"#1f77b4\"},\"line_alpha\":{\"type\":\"value\",\"value\":0.2},\"fill_color\":{\"type\":\"value\",\"value\":\"#1f77b4\"},\"fill_alpha\":{\"type\":\"value\",\"value\":0.2},\"hatch_alpha\":{\"type\":\"value\",\"value\":0.2}}}}}],\"toolbar\":{\"type\":\"object\",\"name\":\"Toolbar\",\"id\":\"p1052\",\"attributes\":{\"tools\":[{\"type\":\"object\",\"name\":\"PanTool\",\"id\":\"p1065\"},{\"type\":\"object\",\"name\":\"WheelZoomTool\",\"id\":\"p1066\",\"attributes\":{\"renderers\":\"auto\"}},{\"type\":\"object\",\"name\":\"BoxZoomTool\",\"id\":\"p1067\",\"attributes\":{\"overlay\":{\"type\":\"object\",\"name\":\"BoxAnnotation\",\"id\":\"p1068\",\"attributes\":{\"syncable\":false,\"line_color\":\"black\",\"line_alpha\":1.0,\"line_width\":2,\"line_dash\":[4,4],\"fill_color\":\"lightgrey\",\"fill_alpha\":0.5,\"level\":\"overlay\",\"visible\":false,\"left\":{\"type\":\"number\",\"value\":\"nan\"},\"right\":{\"type\":\"number\",\"value\":\"nan\"},\"top\":{\"type\":\"number\",\"value\":\"nan\"},\"bottom\":{\"type\":\"number\",\"value\":\"nan\"},\"left_units\":\"canvas\",\"right_units\":\"canvas\",\"top_units\":\"canvas\",\"bottom_units\":\"canvas\",\"handles\":{\"type\":\"object\",\"name\":\"BoxInteractionHandles\",\"id\":\"p1074\",\"attributes\":{\"all\":{\"type\":\"object\",\"name\":\"AreaVisuals\",\"id\":\"p1073\",\"attributes\":{\"fill_color\":\"white\",\"hover_fill_color\":\"lightgray\"}}}}}}}},{\"type\":\"object\",\"name\":\"SaveTool\",\"id\":\"p1075\"},{\"type\":\"object\",\"name\":\"ResetTool\",\"id\":\"p1076\"},{\"type\":\"object\",\"name\":\"HelpTool\",\"id\":\"p1077\"}]}},\"left\":[{\"type\":\"object\",\"name\":\"LinearAxis\",\"id\":\"p1060\",\"attributes\":{\"ticker\":{\"type\":\"object\",\"name\":\"BasicTicker\",\"id\":\"p1061\",\"attributes\":{\"mantissas\":[1,2,5]}},\"formatter\":{\"type\":\"object\",\"name\":\"BasicTickFormatter\",\"id\":\"p1062\"},\"major_label_policy\":{\"type\":\"object\",\"name\":\"AllLabels\",\"id\":\"p1063\"}}}],\"below\":[{\"type\":\"object\",\"name\":\"LinearAxis\",\"id\":\"p1055\",\"attributes\":{\"ticker\":{\"type\":\"object\",\"name\":\"BasicTicker\",\"id\":\"p1056\",\"attributes\":{\"mantissas\":[1,2,5]}},\"formatter\":{\"type\":\"object\",\"name\":\"BasicTickFormatter\",\"id\":\"p1057\"},\"major_label_policy\":{\"type\":\"object\",\"name\":\"AllLabels\",\"id\":\"p1058\"}}}],\"center\":[{\"type\":\"object\",\"name\":\"Grid\",\"id\":\"p1059\",\"attributes\":{\"axis\":{\"id\":\"p1055\"}}},{\"type\":\"object\",\"name\":\"Grid\",\"id\":\"p1064\",\"attributes\":{\"dimension\":1,\"axis\":{\"id\":\"p1060\"}}}]}}]}}\\';\\n        const render_items = [{\"docid\":\"90d0ff4c-5a73-4c11-b994-edaed372c521\",\"roots\":{\"p1044\":\"d6b8dbce-2434-4f18-bf51-2961a506540d\"},\"root_ids\":[\"p1044\"]}];\\n        root.Bokeh.embed.embed_items(docs_json, render_items);\\n        }\\n        if (root.Bokeh !== undefined) {\\n          embed_document(root);\\n        } else {\\n          let attempts = 0;\\n          const timer = setInterval(function(root) {\\n            if (root.Bokeh !== undefined) {\\n              clearInterval(timer);\\n              embed_document(root);\\n            } else {\\n              attempts++;\\n              if (attempts > 100) {\\n                clearInterval(timer);\\n                console.log(\"Bokeh: ERROR: Unable to run BokehJS code because BokehJS library is missing\");\\n              }\\n            }\\n          }, 10, root)\\n        }\\n      })(window);\\n    });\\n  };\\n  if (document.readyState != \"loading\") fn();\\n  else document.addEventListener(\"DOMContentLoaded\", fn);\\n})();\\n    </script>\\n'"
      ]
     },
     "execution_count": 5,
     "metadata": {},
     "output_type": "execute_result"
    }
   ],
   "source": [
    "script"
   ]
  },
  {
   "cell_type": "markdown",
   "metadata": {},
   "source": [
    "And this is the div to embed in the HTML page:"
   ]
  },
  {
   "cell_type": "code",
   "execution_count": 6,
   "metadata": {},
   "outputs": [
    {
     "data": {
      "text/plain": [
       "'<div id=\"d6b8dbce-2434-4f18-bf51-2961a506540d\" data-root-id=\"p1044\" style=\"display: contents;\"></div>'"
      ]
     },
     "execution_count": 6,
     "metadata": {},
     "output_type": "execute_result"
    }
   ],
   "source": [
    "div"
   ]
  },
  {
   "cell_type": "markdown",
   "metadata": {},
   "source": [
    "Using Bokeh with these components requires the underlying HTML document to also load\n",
    "the BokehJS library itself. This can either be a local JS file you embed or you can\n",
    "load BokehJS from the Bokeh CDN.\n",
    "See [Web pages](https://docs.bokeh.org/en/latest/docs/user_guide/output/embed.html)\n",
    "in the user guide for more information."
   ]
  },
  {
   "cell_type": "markdown",
   "metadata": {},
   "source": [
    "### SVG and PNG export\n",
    "\n",
    "In addition to storing visualizations in HTML, you can also export a Bokeh document as\n",
    "an SVG or PNG file.\n",
    "\n",
    "Before you can use these file export options, you need to **install the `selenium`\n",
    "Python package** using either `conda` or `pip`. Uncomment and run one of the following two options:"
   ]
  },
  {
   "cell_type": "code",
   "execution_count": 7,
   "metadata": {},
   "outputs": [],
   "source": [
    "# !conda install selenium firefox geckodriver -c conda-forge -y\n",
    "# !pip install selenium"
   ]
  },
  {
   "cell_type": "markdown",
   "metadata": {},
   "source": [
    "See [Additional dependencies](https://docs.bokeh.org/en/latest/docs/user_guide/output/export.html#additional-dependencies)\n",
    "in the user guide for more details and options.\n",
    "\n",
    "After installing selenium, you can use the `export_png()` function:"
   ]
  },
  {
   "cell_type": "code",
   "execution_count": 8,
   "metadata": {},
   "outputs": [],
   "source": [
    "# !pip install selenium"
   ]
  },
  {
   "cell_type": "code",
   "execution_count": 9,
   "metadata": {},
   "outputs": [
    {
     "data": {
      "text/plain": [
       "'/home/antonio/git-ml/data-science-path/tutorial/notebooks/plot.png'"
      ]
     },
     "execution_count": 9,
     "metadata": {},
     "output_type": "execute_result"
    }
   ],
   "source": [
    "from bokeh.io import export_png\n",
    "\n",
    "p = figure(width=300, height=300)\n",
    "circle = p.scatter([1, 2, 3], [2, 5, 4])\n",
    "\n",
    "# save the results to a file\n",
    "export_png(p, filename=\"plot.png\")"
   ]
  },
  {
   "cell_type": "markdown",
   "metadata": {},
   "source": [
    "This is the resulting PNG file:"
   ]
  },
  {
   "cell_type": "code",
   "execution_count": 10,
   "metadata": {},
   "outputs": [
    {
     "data": {
      "image/png": "[encoded data removed]",
      "text/plain": [
       "<IPython.core.display.Image object>"
      ]
     },
     "metadata": {},
     "output_type": "display_data"
    }
   ],
   "source": [
    "from IPython.display import display, Image\n",
    "\n",
    "display(Image(filename=export_png(p)))"
   ]
  },
  {
   "cell_type": "markdown",
   "metadata": {},
   "source": [
    "Similarly, you can also export a Bokeh document as an SVG file:"
   ]
  },
  {
   "cell_type": "code",
   "execution_count": 11,
   "metadata": {},
   "outputs": [
    {
     "data": {
      "text/plain": [
       "['plot.svg']"
      ]
     },
     "execution_count": 11,
     "metadata": {},
     "output_type": "execute_result"
    }
   ],
   "source": [
    "from bokeh.io import export_svg\n",
    "\n",
    "export_svg(p, filename=\"plot.svg\")"
   ]
  },
  {
   "cell_type": "markdown",
   "metadata": {},
   "source": [
    "The resulting SVG looks like this:"
   ]
  },
  {
   "cell_type": "code",
   "execution_count": 12,
   "metadata": {},
   "outputs": [
    {
     "data": {
      "image/svg+xml": [
       "<svg xmlns=\"http://www.w3.org/2000/svg\" version=\"1.1\" width=\"300\" height=\"300\"><defs/><image width=\"300\" height=\"300\" preserveAspectRatio=\"none\" href=\"data:image/png;base64,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\"/></svg>"
      ],
      "text/plain": [
       "<IPython.core.display.SVG object>"
      ]
     },
     "metadata": {},
     "output_type": "display_data"
    }
   ],
   "source": [
    "from IPython.display import SVG\n",
    "\n",
    "display(SVG(filename=export_svg(p)[0]))"
   ]
  },
  {
   "cell_type": "markdown",
   "metadata": {},
   "source": [
    "For more information about exporting to PNG and SVG, see\n",
    "[PNG and SVG export](https://docs.bokeh.org/en/latest/docs/user_guide/output/export.html)\n",
    "in the user guide."
   ]
  },
  {
   "cell_type": "markdown",
   "metadata": {},
   "source": [
    "# Next section\n",
    "\n",
    "<a href=\"14_next_steps.ipynb\" target=\"_blank\">\n",
    "    <img src=\"assets/arrow.svg\" alt=\"Next section\" width=\"100\" align=\"right\">\n",
    "</a>\n",
    "\n",
    "The [next chapter](14_next_steps.ipynb) contains some next steps and additional\n",
    "resources that will be helpful to know when working with Bokeh."
   ]
  }
 ],
 "metadata": {
  "kernelspec": {
   "display_name": "data_science_path",
   "language": "python",
   "name": "python3"
  },
  "language_info": {
   "codemirror_mode": {
    "name": "ipython",
    "version": 3
   },
   "file_extension": ".py",
   "mimetype": "text/x-python",
   "name": "python",
   "nbconvert_exporter": "python",
   "pygments_lexer": "ipython3",
   "version": "3.10.4"
  }
 },
 "nbformat": 4,
 "nbformat_minor": 4
}
