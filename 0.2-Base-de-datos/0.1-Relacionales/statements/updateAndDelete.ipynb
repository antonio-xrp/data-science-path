{
 "cells": [
  {
   "cell_type": "markdown",
   "metadata": {},
   "source": [
    "- Para actualizar el campo de una columna en especifico, toda sentencia UPDATE debe de llevar WHERE\n",
    "```sql\n",
    "UPDATE usuarios SET correo = \"thony4301@gmail.com\", direccion =\"jr los andes\" WHERE usuario_id =1;\n",
    "```\n",
    "\n",
    "- Para eliminar una fila, siempre lleva un where\n",
    "```sql\n",
    "DELETE FROM usuarios WHERE usuario_id = 4;\n",
    "```\n",
    "\n",
    "- Para eliminar de verdad una tabla o reinicar toda la tabla\n",
    "```sql\n",
    "TRUNCATE TABLE usuarios;\n"
   ]
  },
  {
   "cell_type": "markdown",
   "metadata": {},
   "source": [
    "```"
   ]
  }
 ],
 "metadata": {
  "language_info": {
   "name": "python"
  }
 },
 "nbformat": 4,
 "nbformat_minor": 2
}
