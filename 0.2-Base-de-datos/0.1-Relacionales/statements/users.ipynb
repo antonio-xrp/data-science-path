{
 "cells": [
  {
   "cell_type": "markdown",
   "metadata": {},
   "source": [
    "```sql\n",
    "CREATE USER 'antonio'@'localhost' IDENTIFIED BY 'qwerty';\n",
    "```\n",
    "\n",
    "### agregar todos los privilegios a un usuario\n",
    "\n",
    "```sql\n",
    "GRANT ALL PRIVILEGES ON antonio_db TO 'antonio'@'localhost';\n",
    "```\n",
    "\n",
    "### Como buena práctica despues de asignar privilegios correr el código\n",
    "```sql\n",
    "FLUSH PRIVILEGES;\n",
    "```\n",
    "\n",
    "### Para ver los privilegios asignados a un usuario\n",
    "```sql\n",
    "SHOW GRANTS FOR 'antonio'@'localhost';\n",
    "```\n",
    "\n",
    "### Para revocar todos los privilegios asignados a un usuario\n",
    "```sql\n",
    "REVOKE ALL, GRANT OPTION FROM 'antonio'@'localhost';\n",
    "```\n",
    "\n",
    "### para eliminar un usuario\n",
    "```sql\n",
    "DROP USER 'antonio'@'localhost';\n",
    "```"
   ]
  }
 ],
 "metadata": {
  "language_info": {
   "name": "python"
  }
 },
 "nbformat": 4,
 "nbformat_minor": 2
}
