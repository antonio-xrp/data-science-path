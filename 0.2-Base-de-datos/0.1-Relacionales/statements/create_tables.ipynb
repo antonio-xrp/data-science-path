{
 "cells": [
  {
   "cell_type": "markdown",
   "metadata": {},
   "source": [
    "```sql\n",
    "CREATE DATABASE curso_sql;\n",
    "CREATE DATABASE IF NOT EXISTS curso_sql;"
   ]
  },
  {
   "cell_type": "markdown",
   "metadata": {},
   "source": [
    "1. Para seleccionar una base de datos lo cual usaremos\n",
    "```sql\n",
    "USE antonio_db;"
   ]
  },
  {
   "cell_type": "markdown",
   "metadata": {},
   "source": [
    "- PARA MOSTRAR LAS TABLAS DE UNA BASE DE DATOS\n",
    "```sql\n",
    "SHOW TABLES;\n",
    "```\n",
    "\n",
    "- PARA describir una tabla en particular `DESCRIBE nombre_tabla`\n",
    "```sql\n",
    "DESCRIBE host_sumary;\n",
    "```\n",
    "- PARA CREAR UNA TABLA\n",
    "```sql\n",
    "CREATE TABLE usuarios(\n",
    "\tnombre VARCHAR(50),\n",
    "    correo VARCHAR(50)\n",
    ");\n",
    "```\n",
    "- Para agregar una columna más a una tabla\n",
    "```sql \n",
    "ALTER TABLE usuarios ADD COLUMN cumpleaños VARCHAR(15);\n",
    "```\n",
    "\n",
    "- Para modificar el tipo de dato de una columna\n",
    "```sql \n",
    "ALTER TABLE usuarios MODIFY cumpleaños DATE;\n",
    "```\n",
    "\n",
    "- Para modificar el nombre de una columna\n",
    "```sql \n",
    "ALTER TABLE usuarios RENAME COLUMN cumpleaños to nacimiento;\n",
    "```\n",
    "\n",
    "- Para eliminar una columna de una tabla\n",
    "```sql \n",
    "ALTER TABLE usuarios DROP COLUMN nacimiento;\n",
    "```\n",
    "\n",
    "- Para eliminar una tabla\n",
    "```sql \n",
    "DROP TABLE usuarios;\n",
    "```\n",
    "\n",
    "- Creamos una tabla con una llave primaria usuario_id, de modo INT autoincrementable y UNSIGNED que significa entero pero sin signo\n",
    "```sql \n",
    "\n",
    "CREATE TABLE usuarios(\n",
    "\tusuario_id INT UNSIGNED AUTO_INCREMENT PRIMARY KEY,\n",
    "    nombre VARCHAR(30) NOT NULL,\n",
    "    apellidos VARCHAR(59) NOT NULL,\n",
    "    correo VARCHAR(50) UNIQUE,\n",
    "    direccion VARCHAR(100) DEFAULT \"SIN DIRECCION\",\n",
    "    edad INT DEFAULT 0\n",
    ");\n",
    "```\n",
    "\n"
   ]
  }
 ],
 "metadata": {
  "language_info": {
   "name": "python"
  }
 },
 "nbformat": 4,
 "nbformat_minor": 2
}
