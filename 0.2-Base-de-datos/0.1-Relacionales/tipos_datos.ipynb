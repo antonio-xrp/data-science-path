{
 "cells": [
  {
   "cell_type": "markdown",
   "metadata": {},
   "source": [
    "|Tipo     |    Descripción                                                                 |\n",
    "|---------|--------------------------------------------------------------------------------|\n",
    "|VARCHAR  |Cadena de texto variable, con una longitud máxima especificada                  |\n",
    "|CHAR     |Cadena de texto fija, con una logitud específica                                |    \n",
    "|INT      |Número entero, positivo o negativo.                                             |        \n",
    "|BIGINT   |Número entero grande, positivo o negativo.                                      |\n",
    "|FLOAT    |Número decimal de precisión simple.                                             |\n",
    "|DOUBLE   |Número decimal de doble precisión.                                              |\n",
    "|DECIMAL  |Número decimal con precisión fija.                                              |\n",
    "|DATE     |Fecha, con valores de año, mes y día.                                           |     \n",
    "|TIME     |Hora, con valores de hora, minutos y segundas.                                  | \n",
    "|DATETIME |Fecha y hora combinadas.                                                        | \n",
    "|TIMESTAMP|Marca de tiempo, que indica un momento específico en el tiempo.                 | \n",
    "|BOOLEAN  |Valore booleano, verdadero o falso.                                             |        \n",
    "|BLOB     |Objeto binario grande, para almacenar datos binarios, como imágenes o archivos. |\n",
    "|JSON     |Formato de texto estructurado para el intercambio de datos.                     |"
   ]
  },
  {
   "cell_type": "markdown",
   "metadata": {},
   "source": [
    "### Comandos básicos\n",
    "\n",
    "|Comando   |    Descripción                                                                                                          |\n",
    "|----------|-------------------------------------------------------------------------------------------------------------------------|\n",
    "|SELECT    |Recupera datos de una o varias tablas. Es una de las sentencias más comunes en SQL                                       |\n",
    "|INSERT    |Agrega nuevos datos a una tabla                                                                                          |    \n",
    "|UPDATE    |Actualiza los datos existentes en una tabla                                                                              |        \n",
    "|DELATE    |Elimina datos de una tabla                                                                                               |\n",
    "|CREATE    |Crea una nueva tabla, vista,indice, procedimiento almacenado u otra estructura de base de datos                          |\n",
    "|ALTER     |Número decimal de doble precisión.                                                                                       |\n",
    "|DROP      |Número decimal con precisión fija.                                                                                       |\n",
    "|GRANT     |Concede permisos a un usuario o grupo de usuarios para realizar operaciones en una tabla o en la base de datos en general|     \n",
    "|REVOKE    |Retira los permisos previamente otorgados a un usuario o grupo de usuarios                                               | \n",
    "|JOIN      |Combina datos de dos o más tablas en función de una columna común                                                        | \n",
    "|UNION     |Combina los resultados de dos o más consultas en una sola tabla                                                          | \n",
    "|GROUP BY  |Agrupa los resultados de una consulta en función de una o más columnas                                                   |        \n",
    "|HAVING    |Permita filtrar los resultados de una consulta agrupada                                                                  |\n",
    "|ORDER BY  |Ordena los resultados de una consulta en función de una o más columnas                                                   |\n",
    "|LIMIT     |Limita el número de filas devueltas por una consulta                                                                     |"
   ]
  },
  {
   "cell_type": "markdown",
   "metadata": {},
   "source": [
    "|Tipo       |    Descripción                                               |\n",
    "|-----------|--------------------------------------------------------------|\n",
    "|AVG()      |Devuelve el valor promedio de una columna numérica            |\n",
    "|COUNT()    |Cuenta el número de filas o valores distintos en una columna  |    \n",
    "|MAX()      |Devuelve el valor máximo de una columna                       |        \n",
    "|MIN()      |Devuelve el valor min de una columna                          |\n",
    "|SUM()      |Devulve la suma de los valores de una columna numérica        |\n",
    "|CONCAT()   |Concatena dos o más cadenas de texto                          |\n",
    "|SUBSTRING()|Devuelve una parte de una cadena de texto                     |\n",
    "|UPPER()    |convierte una cadena de texto en mayuscula                    |     \n",
    "|LOWER()    |convierte una cadena de texto en minúscula.                   | \n",
    "|LEFT()     |Devuelve los carácteres iniciales de una cadena de texto      | \n",
    "|RIGHT()    |Devuelve los carácteres finales de una cadena de texto        | \n",
    "|DATE()     |Extra la fecha de un valor de fecha y hora                    |        \n",
    "|YEAR()     |Devuelve el año de una fecha.                                 |\n",
    "|MONTH()    |Devuelve el mes de una fecha                                  |\n",
    "|DAy()      |Devuelve el dia de una fecha                                  |\n",
    "|ROUND()    |Redondea un valor numérico al número de decimales especificado|"
   ]
  },
  {
   "cell_type": "markdown",
   "metadata": {},
   "source": [
    "### Buenas prácticas\n",
    "1. Comandos y palabras reservadas de SQL van en MAYUSCULA.\n",
    "1. Nombres de objetos y datos van en minúscula con _snake_case_.\n",
    "1. Para strings usuar comillas simples (`''`)\n",
    "1. Todas las sentencias terminan con punto y coma (`;`)"
   ]
  },
  {
   "cell_type": "markdown",
   "metadata": {},
   "source": []
  }
 ],
 "metadata": {
  "language_info": {
   "name": "python"
  }
 },
 "nbformat": 4,
 "nbformat_minor": 2
}
