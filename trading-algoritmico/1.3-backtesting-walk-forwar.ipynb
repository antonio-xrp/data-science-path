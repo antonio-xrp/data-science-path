{
 "cells": [
  {
   "cell_type": "code",
   "execution_count": 6,
   "metadata": {},
   "outputs": [],
   "source": [
    "import matplotlib.pyplot as plt\n",
    "import numpy as np\n",
    "import pandas as pd\n",
    "# Ejemplo de Walk-Forward Optimization\n",
    "import yfinance as yf"
   ]
  },
  {
   "cell_type": "code",
   "execution_count": 7,
   "metadata": {},
   "outputs": [],
   "source": [
    "df_original = yf.Ticker('NQ=F')\n",
    "df_original = df_original.history(start='2010-01-01', end='2024-01-01')"
   ]
  },
  {
   "cell_type": "markdown",
   "metadata": {},
   "source": [
    "### Función de backtest para cada combinación de parámetros\n"
   ]
  },
  {
   "cell_type": "code",
   "execution_count": 8,
   "metadata": {},
   "outputs": [],
   "source": [
    "def backtest_strategy(data,sma_1,sma_2):\n",
    "    df = data.copy()\n",
    "    df['SMA_1'] = df['Close'].rolling(window=sma_1).mean()\n",
    "    df['SMA_2'] = df['Close'].rolling(window=sma_2).mean()\n",
    "\n",
    "    df['Signal'] = 0\n",
    "    df.loc[df['SMA_1'] > df['SMA_2'], 'Signal'] = 1\n",
    "    df.loc[df['SMA_1'] < df['SMA_2'], 'Signal'] = -1\n",
    "\n",
    "    df['Position'] = df['Signal'].shift()\n",
    "    df['Strategy_Returns'] = df['Position'] * df['Close'].pct_change()\n",
    "\n",
    "    df.dropna(inplace=True)\n",
    "\n",
    "    # Retornar el DataFrame con los cálculos\n",
    "    return df"
   ]
  },
  {
   "cell_type": "markdown",
   "metadata": {},
   "source": [
    "### Configuración de la optimización walk-forward\n"
   ]
  },
  {
   "cell_type": "code",
   "execution_count": 9,
   "metadata": {},
   "outputs": [],
   "source": [
    "train_window = 3 * 252  # 3 años de datos para entrenamiento (252 días de trading por año)\n",
    "validation_window = 1 * 252  # 1 año de datos para validación\n",
    "total_window = train_window + validation_window"
   ]
  },
  {
   "cell_type": "markdown",
   "metadata": {},
   "source": [
    "### Rango de valores para optimización de medias móviles\n"
   ]
  },
  {
   "cell_type": "code",
   "execution_count": 10,
   "metadata": {},
   "outputs": [],
   "source": [
    "sma_1_range = range(10, 50, 5)\n",
    "sma_2_range = range(100, 300, 25)"
   ]
  },
  {
   "cell_type": "markdown",
   "metadata": {},
   "source": [
    "### Listas para acumular resultados\n"
   ]
  },
  {
   "cell_type": "code",
   "execution_count": 11,
   "metadata": {},
   "outputs": [],
   "source": [
    "validation_returns = []\n",
    "train_returns = []"
   ]
  },
  {
   "cell_type": "markdown",
   "metadata": {},
   "source": [
    "### Realizar la optimización Walk-Forward\n"
   ]
  },
  {
   "cell_type": "markdown",
   "metadata": {},
   "source": [
    "La optimización walk-forward es un método que evalúa el rendimiento de una estrategia financiera ajustando sus parámetros en ventanas móviles de entrenamiento y validación.\n",
    "\n",
    "- Ventana de entrenamiento: Se utiliza para optimizar los parámetros de la estrategia (por ejemplo, medias móviles SMA).\n",
    "- Ventana de validación: Sirve para probar la estrategia con los parámetros seleccionados en un período de datos no visto.\n",
    "\n",
    "Este proceso se repite avanzando (o \"caminando\") hacia adelante en el tiempo, lo que proporciona una evaluación más realista y robusta de cómo funcionaría la estrategia en el futuro.\n",
    "\n",
    "El objetivo principal es evitar el sobreajuste (overfitting), es decir, que una estrategia funcione bien solo en los datos históricos usados para entrenarla.\n",
    "\n"
   ]
  },
  {
   "cell_type": "code",
   "execution_count": 14,
   "metadata": {},
   "outputs": [
    {
     "name": "stdout",
     "output_type": "stream",
     "text": [
      "Periodo 1: Mejores parámetros en entrenamiento: SMA_1: 40, SMA_2: 150\n",
      "Rendimiento en entrenamiento: 5.04%, Rendimiento en validación: 12.94%\n",
      "\n",
      "Periodo 2: Mejores parámetros en entrenamiento: SMA_1: 25, SMA_2: 250\n",
      "Rendimiento en entrenamiento: 45.55%, Rendimiento en validación: -1.68%\n",
      "\n",
      "Periodo 3: Mejores parámetros en entrenamiento: SMA_1: 10, SMA_2: 250\n",
      "Rendimiento en entrenamiento: 56.74%, Rendimiento en validación: -2.27%\n",
      "\n",
      "Periodo 4: Mejores parámetros en entrenamiento: SMA_1: 45, SMA_2: 125\n",
      "Rendimiento en entrenamiento: 29.82%, Rendimiento en validación: 13.62%\n",
      "\n",
      "Periodo 5: Mejores parámetros en entrenamiento: SMA_1: 40, SMA_2: 125\n",
      "Rendimiento en entrenamiento: 5.38%, Rendimiento en validación: 18.25%\n",
      "\n",
      "Periodo 6: Mejores parámetros en entrenamiento: SMA_1: 40, SMA_2: 250\n",
      "Rendimiento en entrenamiento: 27.83%, Rendimiento en validación: -1.65%\n",
      "\n",
      "Periodo 7: Mejores parámetros en entrenamiento: SMA_1: 40, SMA_2: 125\n",
      "Rendimiento en entrenamiento: 73.02%, Rendimiento en validación: 13.62%\n",
      "\n",
      "Periodo 8: Mejores parámetros en entrenamiento: SMA_1: 15, SMA_2: 125\n",
      "Rendimiento en entrenamiento: 57.14%, Rendimiento en validación: 22.09%\n",
      "\n",
      "Periodo 9: Mejores parámetros en entrenamiento: SMA_1: 45, SMA_2: 275\n",
      "Rendimiento en entrenamiento: 61.70%, Rendimiento en validación: 0.00%\n",
      "\n",
      "Periodo 10: Mejores parámetros en entrenamiento: SMA_1: 45, SMA_2: 250\n",
      "Rendimiento en entrenamiento: 76.00%, Rendimiento en validación: -1.50%\n",
      "\n"
     ]
    }
   ],
   "source": [
    "for start in range(0, len(df_original) - total_window, validation_window):\n",
    "    # Separar los datos en entrenamiento y validación\n",
    "    train_data = df_original[start:start + train_window]\n",
    "    validation_data = df_original[start + train_window:start + total_window]\n",
    "\n",
    "    # Optimización en el conjunto de entrenamiento\n",
    "    best_params = None\n",
    "    best_return_train = -np.inf\n",
    "\n",
    "    for sma_1 in sma_1_range:\n",
    "        for sma_2 in sma_2_range:\n",
    "            df_train_result = backtest_strategy(train_data, sma_1, sma_2)\n",
    "            total_return_train = (df_train_result['Strategy_Returns'] + 1).prod() - 1\n",
    "            \n",
    "            if total_return_train > best_return_train:\n",
    "                best_return_train = total_return_train\n",
    "                best_params = (sma_1, sma_2)\n",
    "    \n",
    "    train_returns.append(best_return_train)\n",
    "\n",
    "    # Evaluar en el conjunto de validación con los mejores parámetros\n",
    "    df_validation_result = backtest_strategy(validation_data, best_params[0], best_params[1])\n",
    "    total_return_validation = (df_validation_result['Strategy_Returns'] + 1).prod() - 1\n",
    "    validation_returns.append(total_return_validation)\n",
    "\n",
    "    print(f'Periodo {start // validation_window + 1}: Mejores parámetros en entrenamiento: SMA_1: {best_params[0]}, SMA_2: {best_params[1]}')\n",
    "    print(f'Rendimiento en entrenamiento: {best_return_train:.2%}, Rendimiento en validación: {total_return_validation:.2%}\\n')"
   ]
  },
  {
   "cell_type": "markdown",
   "metadata": {},
   "source": [
    "### Evaluar el rendimiento total en validación fuera de muestra\n"
   ]
  },
  {
   "cell_type": "code",
   "execution_count": 15,
   "metadata": {},
   "outputs": [
    {
     "name": "stdout",
     "output_type": "stream",
     "text": [
      "Rendimiento promedio en validación fuera de muestra: 7.34%\n"
     ]
    }
   ],
   "source": [
    "print(f'Rendimiento promedio en validación fuera de muestra: {np.mean(validation_returns):.2%}')"
   ]
  }
 ],
 "metadata": {
  "kernelspec": {
   "display_name": "data_science_path",
   "language": "python",
   "name": "python3"
  },
  "language_info": {
   "codemirror_mode": {
    "name": "ipython",
    "version": 3
   },
   "file_extension": ".py",
   "mimetype": "text/x-python",
   "name": "python",
   "nbconvert_exporter": "python",
   "pygments_lexer": "ipython3",
   "version": "3.10.13"
  }
 },
 "nbformat": 4,
 "nbformat_minor": 2
}
