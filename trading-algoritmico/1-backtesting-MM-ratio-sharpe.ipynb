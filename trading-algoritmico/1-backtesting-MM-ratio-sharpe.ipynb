{
 "cells": [
  {
   "cell_type": "code",
   "execution_count": 12,
   "metadata": {},
   "outputs": [],
   "source": [
    "import numpy as np\n",
    "import pandas as pd\n",
    "# Drawdown Máximo\n",
    "import yfinance as yf"
   ]
  },
  {
   "cell_type": "code",
   "execution_count": 13,
   "metadata": {},
   "outputs": [],
   "source": [
    "df = yf.Ticker('NQ=F')\n",
    "df = df.history(start='2010-01-01', end='2024-01-01')"
   ]
  },
  {
   "cell_type": "code",
   "execution_count": 14,
   "metadata": {},
   "outputs": [],
   "source": [
    "def backtest_strategy(sma_1, sma_2):\n",
    "    df['SMA_50'] = df['Close'].rolling(window=sma_1).mean()\n",
    "    df['SMA_200'] = df['Close'].rolling(window=sma_2).mean()\n",
    "\n",
    "    df['Signal'] = 0\n",
    "    df.loc[df['SMA_50'] > df['SMA_200'], 'Signal'] = 1\n",
    "    df.loc[df['SMA_50'] < df['SMA_200'], 'Signal'] = -1\n",
    "\n",
    "    df['Position'] = df['Signal'].shift()\n",
    "    df['Strategy_Returns'] = df['Position'] * df['Close'].pct_change()\n",
    "    df.dropna(inplace=True)\n",
    "\n",
    "    # Calcular drawdown máximo\n",
    "    df['Cumulative_Returns'] = (df['Strategy_Returns'] + 1).cumprod()\n",
    "    df['Peak'] = df['Cumulative_Returns'].cummax()\n",
    "    df['Drawdown'] = (df['Cumulative_Returns'] - df['Peak']) / df['Peak']\n",
    "    max_drawdown = df['Drawdown'].min()\n",
    "    \n",
    "    return max_drawdown"
   ]
  },
  {
   "cell_type": "markdown",
   "metadata": {},
   "source": [
    "### Optimización mediante Grid Search\n"
   ]
  },
  {
   "cell_type": "code",
   "execution_count": 15,
   "metadata": {},
   "outputs": [],
   "source": [
    "best_params = None\n",
    "best_drawdown = np.inf"
   ]
  },
  {
   "cell_type": "code",
   "execution_count": 16,
   "metadata": {},
   "outputs": [
    {
     "name": "stdout",
     "output_type": "stream",
     "text": [
      "Probando SMA_1: 10, SMA_2: 100 - Máximo Drawdown: -66.29%\n",
      "Probando SMA_1: 10, SMA_2: 150 - Máximo Drawdown: -54.39%\n",
      "Probando SMA_1: 10, SMA_2: 200 - Máximo Drawdown: -46.01%\n",
      "Probando SMA_1: 10, SMA_2: 250 - Máximo Drawdown: -39.38%\n",
      "Probando SMA_1: 20, SMA_2: 100 - Máximo Drawdown: -45.21%\n",
      "Probando SMA_1: 20, SMA_2: 150 - Máximo Drawdown: -42.76%\n",
      "Probando SMA_1: 20, SMA_2: 200 - Máximo Drawdown: -43.90%\n",
      "Probando SMA_1: 20, SMA_2: 250 - Máximo Drawdown: -44.37%\n",
      "Probando SMA_1: 30, SMA_2: 100 - Máximo Drawdown: -43.40%\n",
      "Probando SMA_1: 30, SMA_2: 150 - Máximo Drawdown: -39.59%\n",
      "Probando SMA_1: 30, SMA_2: 200 - Máximo Drawdown: -32.03%\n",
      "Probando SMA_1: 30, SMA_2: 250 - Máximo Drawdown: -36.24%\n",
      "Probando SMA_1: 40, SMA_2: 100 - Máximo Drawdown: -42.12%\n",
      "Probando SMA_1: 40, SMA_2: 150 - Máximo Drawdown: -31.81%\n",
      "Probando SMA_1: 40, SMA_2: 200 - Máximo Drawdown: -28.51%\n",
      "Probando SMA_1: 40, SMA_2: 250 - Máximo Drawdown: -20.40%\n",
      "Probando SMA_1: 50, SMA_2: 100 - Máximo Drawdown: -23.65%\n",
      "Probando SMA_1: 50, SMA_2: 150 - Máximo Drawdown: -19.70%\n",
      "Probando SMA_1: 50, SMA_2: 200 - Máximo Drawdown: -17.31%\n",
      "Probando SMA_1: 50, SMA_2: 250 - Máximo Drawdown: -1.69%\n",
      "Probando SMA_1: 60, SMA_2: 100 - Máximo Drawdown: nan%\n",
      "Probando SMA_1: 60, SMA_2: 150 - Máximo Drawdown: nan%\n",
      "Probando SMA_1: 60, SMA_2: 200 - Máximo Drawdown: nan%\n",
      "Probando SMA_1: 60, SMA_2: 250 - Máximo Drawdown: nan%\n",
      "Probando SMA_1: 70, SMA_2: 100 - Máximo Drawdown: nan%\n",
      "Probando SMA_1: 70, SMA_2: 150 - Máximo Drawdown: nan%\n",
      "Probando SMA_1: 70, SMA_2: 200 - Máximo Drawdown: nan%\n",
      "Probando SMA_1: 70, SMA_2: 250 - Máximo Drawdown: nan%\n",
      "Probando SMA_1: 80, SMA_2: 100 - Máximo Drawdown: nan%\n",
      "Probando SMA_1: 80, SMA_2: 150 - Máximo Drawdown: nan%\n",
      "Probando SMA_1: 80, SMA_2: 200 - Máximo Drawdown: nan%\n",
      "Probando SMA_1: 80, SMA_2: 250 - Máximo Drawdown: nan%\n",
      "Probando SMA_1: 90, SMA_2: 100 - Máximo Drawdown: nan%\n",
      "Probando SMA_1: 90, SMA_2: 150 - Máximo Drawdown: nan%\n",
      "Probando SMA_1: 90, SMA_2: 200 - Máximo Drawdown: nan%\n",
      "Probando SMA_1: 90, SMA_2: 250 - Máximo Drawdown: nan%\n"
     ]
    }
   ],
   "source": [
    "for sma_1 in range(10, 100, 10):\n",
    "    for sma_2 in range(100, 300, 50):\n",
    "        drawdown = backtest_strategy(sma_1, sma_2)\n",
    "        print(f'Probando SMA_1: {sma_1}, SMA_2: {sma_2} - Máximo Drawdown: {drawdown:.2%}')\n",
    "        \n",
    "        if abs(drawdown) < abs(best_drawdown):  # Compara la magnitud del drawdown\n",
    "            best_drawdown = drawdown\n",
    "            best_params = (sma_1, sma_2)"
   ]
  },
  {
   "cell_type": "code",
   "execution_count": 17,
   "metadata": {},
   "outputs": [
    {
     "name": "stdout",
     "output_type": "stream",
     "text": [
      "Los mejores parámetros son: (50, 250) con un Máximo Drawdown de -1.69%\n"
     ]
    }
   ],
   "source": [
    "print(f'Los mejores parámetros son: {best_params} con un Máximo Drawdown de {best_drawdown:.2%}')"
   ]
  }
 ],
 "metadata": {
  "kernelspec": {
   "display_name": "data_science_path",
   "language": "python",
   "name": "python3"
  },
  "language_info": {
   "codemirror_mode": {
    "name": "ipython",
    "version": 3
   },
   "file_extension": ".py",
   "mimetype": "text/x-python",
   "name": "python",
   "nbconvert_exporter": "python",
   "pygments_lexer": "ipython3",
   "version": "3.10.13"
  }
 },
 "nbformat": 4,
 "nbformat_minor": 2
}
