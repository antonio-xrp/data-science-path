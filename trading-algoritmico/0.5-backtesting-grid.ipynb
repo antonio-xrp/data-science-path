{
 "cells": [
  {
   "cell_type": "code",
   "execution_count": 1,
   "metadata": {},
   "outputs": [],
   "source": [
    "'''6.3.2'''\n",
    "import numpy as np\n",
    "import pandas as pd\n",
    "# Grid Search\n",
    "import yfinance as yf\n",
    "from sklearn.model_selection import ParameterGrid"
   ]
  },
  {
   "cell_type": "code",
   "execution_count": 2,
   "metadata": {},
   "outputs": [],
   "source": [
    "df = yf.Ticker('NQ=F')\n",
    "df = df.history(start='2010-01-01', end='2024-01-01')"
   ]
  },
  {
   "cell_type": "markdown",
   "metadata": {},
   "source": [
    "### Rango de valores para las medias móviles"
   ]
  },
  {
   "cell_type": "code",
   "execution_count": 3,
   "metadata": {},
   "outputs": [],
   "source": [
    "param_grid = {'SMA_1': [10, 20, 50],\n",
    "              'SMA_2':[100, 150, 200]}"
   ]
  },
  {
   "cell_type": "markdown",
   "metadata": {},
   "source": [
    "### Función de backtest para cada combinación de parámetros\n"
   ]
  },
  {
   "cell_type": "code",
   "execution_count": 4,
   "metadata": {},
   "outputs": [],
   "source": [
    "def backtest_strategy(sma_1, sma_2):\n",
    "    df['SMA_50'] = df['Close'].rolling(window=sma_1).mean()\n",
    "    df['SMA_200'] = df['Close'].rolling(window=sma_2).mean()\n",
    "    \n",
    "    df['Signal'] = 0\n",
    "    df.loc[df['SMA_50'] > df['SMA_200'], 'Signal'] = 1\n",
    "    df.loc[df['SMA_50'] < df['SMA_200'], 'Signal'] = -1\n",
    "\n",
    "    df['Position'] = df['Signal'].shift()\n",
    "    df['Strategy_Returns'] = df['Position'] * df['Close'].pct_change()\n",
    "    df.dropna(inplace=True)\n",
    "\n",
    "    #Rendimiento total de la estrategia\n",
    "    return (df['Strategy_Returns'] + 1).prod() - 1"
   ]
  },
  {
   "cell_type": "markdown",
   "metadata": {},
   "source": [
    "### Iteramos sobre todas las combinaciones posibles en la grid\n"
   ]
  },
  {
   "cell_type": "code",
   "execution_count": 5,
   "metadata": {},
   "outputs": [],
   "source": [
    "best_params = None\n",
    "best_return = -np.inf"
   ]
  },
  {
   "cell_type": "code",
   "execution_count": 6,
   "metadata": {},
   "outputs": [
    {
     "name": "stdout",
     "output_type": "stream",
     "text": [
      "Probando SMA_1: 10, SMA_2: 100 - Rendimiento Total: -29.26%\n",
      "Probando SMA_1: 10, SMA_2: 150 - Rendimiento Total: 16.33%\n",
      "Probando SMA_1: 10, SMA_2: 200 - Rendimiento Total: 101.77%\n",
      "Probando SMA_1: 20, SMA_2: 100 - Rendimiento Total: 22.00%\n",
      "Probando SMA_1: 20, SMA_2: 150 - Rendimiento Total: 99.71%\n",
      "Probando SMA_1: 20, SMA_2: 200 - Rendimiento Total: 147.17%\n",
      "Probando SMA_1: 50, SMA_2: 100 - Rendimiento Total: 68.16%\n",
      "Probando SMA_1: 50, SMA_2: 150 - Rendimiento Total: 132.22%\n",
      "Probando SMA_1: 50, SMA_2: 200 - Rendimiento Total: 137.16%\n",
      "Los mejores parámetros son: {'SMA_1': 20, 'SMA_2': 200} con un rendimiento total de 147.17%\n"
     ]
    }
   ],
   "source": [
    "for params in ParameterGrid(param_grid):\n",
    "    sma_1 = params['SMA_1']\n",
    "    sma_2 = params['SMA_2']\n",
    "    total_return = backtest_strategy(sma_1, sma_2)\n",
    "    print(f'Probando SMA_1: {sma_1}, SMA_2: {sma_2} - Rendimiento Total: {total_return:.2%}')\n",
    "\n",
    "    if total_return > best_return:\n",
    "        best_return = total_return\n",
    "        best_params = params\n",
    "\n",
    "print(f'Los mejores parámetros son: {best_params} con un rendimiento total de {best_return:.2%}')"
   ]
  }
 ],
 "metadata": {
  "kernelspec": {
   "display_name": "data_science_path",
   "language": "python",
   "name": "python3"
  },
  "language_info": {
   "codemirror_mode": {
    "name": "ipython",
    "version": 3
   },
   "file_extension": ".py",
   "mimetype": "text/x-python",
   "name": "python",
   "nbconvert_exporter": "python",
   "pygments_lexer": "ipython3",
   "version": "3.10.13"
  }
 },
 "nbformat": 4,
 "nbformat_minor": 2
}
