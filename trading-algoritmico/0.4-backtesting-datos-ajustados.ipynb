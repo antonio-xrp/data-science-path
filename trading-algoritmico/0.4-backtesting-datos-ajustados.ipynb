{
 "cells": [
  {
   "cell_type": "code",
   "execution_count": 1,
   "metadata": {},
   "outputs": [],
   "source": [
    "import numpy as np\n",
    "import pandas as pd\n",
    "# Ejemplo de ajuste de parámetros en Python\n",
    "import yfinance as yf"
   ]
  },
  {
   "cell_type": "code",
   "execution_count": 2,
   "metadata": {},
   "outputs": [],
   "source": [
    "df = yf.Ticker('AAPL')\n",
    "df = df.history(start='2015-01-01', end='2024-01-01')"
   ]
  },
  {
   "cell_type": "markdown",
   "metadata": {},
   "source": [
    "### Definir función para calcular el rendimiento de la estrategia\n"
   ]
  },
  {
   "cell_type": "code",
   "execution_count": 3,
   "metadata": {},
   "outputs": [],
   "source": [
    "def backtest_strategy(short_window, long_window):\n",
    "    df['SMA_short'] = df['Close'].rolling(window=short_window).mean()\n",
    "    df['SMA_long'] = df['Close'].rolling(window=long_window).mean()\n",
    "    df['Signal'] = np.where(df['SMA_short'] > df['SMA_long'], 1, -1)\n",
    "    df['Position'] = df['Signal'].shift()\n",
    "    df['Strategy_Returns'] = df['Position'] * df['Close'].pct_change()\n",
    "    return (df['Strategy_Returns'] + 1).cumprod().iloc[-1] -1 # Retorno total"
   ]
  },
  {
   "cell_type": "markdown",
   "metadata": {},
   "source": [
    "### Definir el rango de parámetros a probar\n"
   ]
  },
  {
   "cell_type": "code",
   "execution_count": 4,
   "metadata": {},
   "outputs": [],
   "source": [
    "short_windows = range(10, 100, 10) # De 10 a 90 días\n",
    "long_windows = range(50, 200, 10) # De 50 a 190 días"
   ]
  },
  {
   "cell_type": "markdown",
   "metadata": {},
   "source": [
    "### Probar todas las combinaciones de parámetros\n"
   ]
  },
  {
   "cell_type": "code",
   "execution_count": 5,
   "metadata": {},
   "outputs": [],
   "source": [
    "best_performance = -np.inf\n",
    "best_params = (None, None)"
   ]
  },
  {
   "cell_type": "code",
   "execution_count": 6,
   "metadata": {},
   "outputs": [
    {
     "name": "stdout",
     "output_type": "stream",
     "text": [
      "Mejores parámetros: SMA corta=80, SMA larga=180\n",
      "Mejor rendimiento: 313.70%\n"
     ]
    }
   ],
   "source": [
    "for short_window in short_windows:\n",
    "    for long_window in long_windows:\n",
    "        if short_window >= long_window:\n",
    "            continue  # Evitar combinaciones donde la media corta sea mayor o igual a la larga\n",
    "        performance = backtest_strategy(short_window, long_window)\n",
    "        if performance > best_performance:\n",
    "            best_performance = performance\n",
    "            best_params = (short_window, long_window)\n",
    "\n",
    "print(f\"Mejores parámetros: SMA corta={best_params[0]}, SMA larga={best_params[1]}\")\n",
    "print(f\"Mejor rendimiento: {best_performance:.2%}\")"
   ]
  }
 ],
 "metadata": {
  "kernelspec": {
   "display_name": "data_science_path",
   "language": "python",
   "name": "python3"
  },
  "language_info": {
   "codemirror_mode": {
    "name": "ipython",
    "version": 3
   },
   "file_extension": ".py",
   "mimetype": "text/x-python",
   "name": "python",
   "nbconvert_exporter": "python",
   "pygments_lexer": "ipython3",
   "version": "3.10.13"
  }
 },
 "nbformat": 4,
 "nbformat_minor": 2
}
