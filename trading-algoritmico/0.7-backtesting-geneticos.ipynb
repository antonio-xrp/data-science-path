{
 "cells": [
  {
   "cell_type": "code",
   "execution_count": 45,
   "metadata": {},
   "outputs": [],
   "source": [
    "import random\n",
    "import numpy as np\n",
    "import pandas as pd\n",
    "# Algoritmos Genéticos\n",
    "import yfinance as yf\n",
    "from deap import algorithms, base, creator, tools"
   ]
  },
  {
   "cell_type": "code",
   "execution_count": 46,
   "metadata": {},
   "outputs": [],
   "source": [
    "df_original = yf.Ticker('NQ=F')\n",
    "df_original = df_original.history(start='2010-01-01', end='2024-01-01')"
   ]
  },
  {
   "cell_type": "markdown",
   "metadata": {},
   "source": [
    "### Función de backtest para cada combinación de parámetros\n"
   ]
  },
  {
   "cell_type": "code",
   "execution_count": 47,
   "metadata": {},
   "outputs": [],
   "source": [
    "def backtest_strategy(sma_1, sma_2):\n",
    "    # Asegurarse de que sean enteros\n",
    "    sma_1 = int(sma_1)\n",
    "    sma_2 = int(sma_2)\n",
    "    \n",
    "    # Hacer una copia del DataFrame original para cada evaluación\n",
    "    df = df_original.copy()\n",
    "    \n",
    "    # Calcular medias móviles\n",
    "    df['SMA_50'] = df['Close'].rolling(window=sma_1).mean()\n",
    "    df['SMA_200'] = df['Close'].rolling(window=sma_2).mean()\n",
    "    \n",
    "    # Definir reglas de entrada y salida\n",
    "    df['Signal'] = 0\n",
    "    df.loc[df['SMA_50'] > df['SMA_200'], 'Signal'] = 1\n",
    "    df.loc[df['SMA_50'] < df['SMA_200'], 'Signal'] = -1\n",
    "    \n",
    "    # Simular la ejecución de las órdenes\n",
    "    df['Position'] = df['Signal'].shift()\n",
    "    df['Strategy_Returns'] = df['Position'] * df['Close'].pct_change()\n",
    "    \n",
    "    # Eliminar NaNs\n",
    "    df.dropna(inplace=True)\n",
    "    \n",
    "    # Rendimiento total de la estrategia\n",
    "    return (df['Strategy_Returns'] + 1).prod() - 1"
   ]
  },
  {
   "cell_type": "markdown",
   "metadata": {},
   "source": [
    "### Función de evaluación\n"
   ]
  },
  {
   "cell_type": "code",
   "execution_count": 48,
   "metadata": {},
   "outputs": [],
   "source": [
    "def evaluate(individual):\n",
    "    sma_1, sma_2 = individual\n",
    "    # Validar que ambos valores sean mayores que 0 y que SMA_1 < SMA_2\n",
    "    if sma_1 <= 0 or sma_2 <= 0 or sma_1 >= sma_2:\n",
    "        return -np.inf,  # Penalización por una configuración inválida\n",
    "    total_return = backtest_strategy(sma_1, sma_2)\n",
    "    return (total_return,)"
   ]
  },
  {
   "cell_type": "markdown",
   "metadata": {},
   "source": [
    "### Crear individuo y configuración genética\n"
   ]
  },
  {
   "cell_type": "code",
   "execution_count": 49,
   "metadata": {},
   "outputs": [
    {
     "name": "stderr",
     "output_type": "stream",
     "text": [
      "/home/antonio/anaconda3/envs/data_science_path/lib/python3.10/site-packages/deap/creator.py:185: RuntimeWarning: A class named 'FitnessMax' has already been created and it will be overwritten. Consider deleting previous creation of that class or rename it.\n",
      "  warnings.warn(\"A class named '{0}' has already been created and it \"\n",
      "/home/antonio/anaconda3/envs/data_science_path/lib/python3.10/site-packages/deap/creator.py:185: RuntimeWarning: A class named 'Individual' has already been created and it will be overwritten. Consider deleting previous creation of that class or rename it.\n",
      "  warnings.warn(\"A class named '{0}' has already been created and it \"\n"
     ]
    }
   ],
   "source": [
    "creator.create(\"FitnessMax\", base.Fitness, weights=(1.0,))\n",
    "creator.create(\"Individual\", list, fitness=creator.FitnessMax)\n",
    "\n",
    "toolbox = base.Toolbox()\n"
   ]
  },
  {
   "cell_type": "markdown",
   "metadata": {},
   "source": [
    "### Registro de los atributos de las medias móviles como enteros\n"
   ]
  },
  {
   "cell_type": "code",
   "execution_count": 50,
   "metadata": {},
   "outputs": [],
   "source": [
    "toolbox.register(\"attr_sma1\", random.randint, 10, 100)\n",
    "toolbox.register(\"attr_sma2\", random.randint, 100, 300)\n",
    "toolbox.register(\"individual\", tools.initCycle, creator.Individual, \n",
    "                 (toolbox.attr_sma1, toolbox.attr_sma2), n=1)\n",
    "toolbox.register(\"population\", tools.initRepeat, list, toolbox.individual)"
   ]
  },
  {
   "cell_type": "markdown",
   "metadata": {},
   "source": [
    "### Registro de la función de evaluación\n"
   ]
  },
  {
   "cell_type": "code",
   "execution_count": 51,
   "metadata": {},
   "outputs": [],
   "source": [
    "toolbox.register(\"evaluate\", evaluate)"
   ]
  },
  {
   "cell_type": "markdown",
   "metadata": {},
   "source": [
    "### Operadores genéticos: cruza y mutación ajustados para enteros\n"
   ]
  },
  {
   "cell_type": "code",
   "execution_count": 53,
   "metadata": {},
   "outputs": [],
   "source": [
    "toolbox.register(\"mate\", tools.cxUniform, indpb=0.5)  # cxUniform mezcla valores enteros\n",
    "toolbox.register(\"mutate\", tools.mutUniformInt, low=[10, 100], up=[100, 300], indpb=0.2)  # mutUniformInt para mantener enteros\n",
    "toolbox.register(\"select\", tools.selTournament, tournsize=3)"
   ]
  },
  {
   "cell_type": "markdown",
   "metadata": {},
   "source": [
    "### Ejecutar algoritmo genético"
   ]
  },
  {
   "cell_type": "code",
   "execution_count": 54,
   "metadata": {},
   "outputs": [],
   "source": [
    "population = toolbox.population(n=10)"
   ]
  },
  {
   "cell_type": "markdown",
   "metadata": {},
   "source": [
    "### Algoritmo evolutivo simple"
   ]
  },
  {
   "cell_type": "code",
   "execution_count": 55,
   "metadata": {},
   "outputs": [
    {
     "name": "stdout",
     "output_type": "stream",
     "text": [
      "gen\tnevals\n",
      "0  \t10    \n",
      "1  \t8     \n",
      "2  \t10    \n",
      "3  \t8     \n",
      "4  \t9     \n",
      "5  \t8     \n",
      "6  \t7     \n",
      "7  \t8     \n",
      "8  \t8     \n",
      "9  \t8     \n",
      "10 \t10    \n"
     ]
    },
    {
     "data": {
      "text/plain": [
       "([[72, 182],\n",
       "  [72, 271],\n",
       "  [72, 271],\n",
       "  [72, 271],\n",
       "  [72, 271],\n",
       "  [72, 271],\n",
       "  [72, 271],\n",
       "  [72, 271],\n",
       "  [72, 271],\n",
       "  [72, 271]],\n",
       " [{'gen': 0, 'nevals': 10},\n",
       "  {'gen': 1, 'nevals': 8},\n",
       "  {'gen': 2, 'nevals': 10},\n",
       "  {'gen': 3, 'nevals': 8},\n",
       "  {'gen': 4, 'nevals': 9},\n",
       "  {'gen': 5, 'nevals': 8},\n",
       "  {'gen': 6, 'nevals': 7},\n",
       "  {'gen': 7, 'nevals': 8},\n",
       "  {'gen': 8, 'nevals': 8},\n",
       "  {'gen': 9, 'nevals': 8},\n",
       "  {'gen': 10, 'nevals': 10}])"
      ]
     },
     "execution_count": 55,
     "metadata": {},
     "output_type": "execute_result"
    }
   ],
   "source": [
    "algorithms.eaSimple(population, toolbox, cxpb=0.7, mutpb=0.2, ngen=10, verbose=True)"
   ]
  },
  {
   "cell_type": "markdown",
   "metadata": {},
   "source": [
    "### Imprimir los mejores resultados"
   ]
  },
  {
   "cell_type": "code",
   "execution_count": 57,
   "metadata": {},
   "outputs": [],
   "source": [
    "best_individual = tools.selBest(population, k=1)[0]\n",
    "best_return = evaluate(best_individual)[0]  # Calcular el mejor rendimiento"
   ]
  },
  {
   "cell_type": "code",
   "execution_count": 58,
   "metadata": {},
   "outputs": [
    {
     "name": "stdout",
     "output_type": "stream",
     "text": [
      "Los mejores parámetros son SMA_1: 72, SMA_2: 271\n",
      "El mejor rendimiento total es: 388.59%\n"
     ]
    }
   ],
   "source": [
    "print(f'Los mejores parámetros son SMA_1: {int(best_individual[0])}, SMA_2: {int(best_individual[1])}')\n",
    "print(f'El mejor rendimiento total es: {best_return:.2%}')"
   ]
  }
 ],
 "metadata": {
  "kernelspec": {
   "display_name": "data_science_path",
   "language": "python",
   "name": "python3"
  },
  "language_info": {
   "codemirror_mode": {
    "name": "ipython",
    "version": 3
   },
   "file_extension": ".py",
   "mimetype": "text/x-python",
   "name": "python",
   "nbconvert_exporter": "python",
   "pygments_lexer": "ipython3",
   "version": "3.10.13"
  }
 },
 "nbformat": 4,
 "nbformat_minor": 2
}
