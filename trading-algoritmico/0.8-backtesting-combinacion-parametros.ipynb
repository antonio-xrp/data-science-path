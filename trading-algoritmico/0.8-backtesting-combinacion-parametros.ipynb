{
 "cells": [
  {
   "cell_type": "code",
   "execution_count": 34,
   "metadata": {},
   "outputs": [],
   "source": [
    "import random\n",
    "\n",
    "import matplotlib.pyplot as plt\n",
    "import numpy as np\n",
    "import pandas as pd\n",
    "# Simulated Annealing\n",
    "import yfinance as yf\n"
   ]
  },
  {
   "cell_type": "code",
   "execution_count": 35,
   "metadata": {},
   "outputs": [
    {
     "name": "stderr",
     "output_type": "stream",
     "text": [
      "[*********************100%***********************]  1 of 1 completed\n"
     ]
    }
   ],
   "source": [
    "df_original = yf.Tickers('NQ=F')\n",
    "df_original = df_original.history(start='2010-01-01', end='2024-01-01')"
   ]
  },
  {
   "cell_type": "code",
   "execution_count": 36,
   "metadata": {},
   "outputs": [
    {
     "data": {
      "text/plain": [
       "MultiIndex([(       'Close', 'NQ=F'),\n",
       "            (   'Dividends', 'NQ=F'),\n",
       "            (        'High', 'NQ=F'),\n",
       "            (         'Low', 'NQ=F'),\n",
       "            (        'Open', 'NQ=F'),\n",
       "            ('Stock Splits', 'NQ=F'),\n",
       "            (      'Volume', 'NQ=F')],\n",
       "           names=['Price', 'Ticker'])"
      ]
     },
     "execution_count": 36,
     "metadata": {},
     "output_type": "execute_result"
    }
   ],
   "source": [
    "df_original.columns"
   ]
  },
  {
   "cell_type": "markdown",
   "metadata": {},
   "source": [
    "### Función de backtest para cada combinación de parámetros\n"
   ]
  },
  {
   "cell_type": "code",
   "execution_count": 37,
   "metadata": {},
   "outputs": [],
   "source": [
    "def backtest_strategy(sma_1, sma_2):\n",
    "    df = df_original.copy()\n",
    "    df['SMA_50'] = df['Close'].rolling(window=sma_1).mean()\n",
    "    df['SMA_200'] = df['Close'].rolling(window=sma_2).mean()\n",
    "\n",
    "    df['Signal'] = 0\n",
    "    df.loc[df['SMA_50'] > df['SMA_200'], 'Signal'] = 1\n",
    "    df.loc[df['SMA_50'] < df['SMA_200'], 'Signal'] = -1\n",
    "\n",
    "    df['Position'] = df['Signal'].shift()\n",
    "    df['Strategy_Returns'] = df['Position'] * df['Close'].squeeze().pct_change()\n",
    "\n",
    "    df.dropna(inplace=True)\n",
    "\n",
    "    # Rendimiento total de la estrategia\n",
    "    return (df['Strategy_Returns'] + 1).prod() - 1"
   ]
  },
  {
   "cell_type": "markdown",
   "metadata": {},
   "source": [
    "### Función de aceptación de Simulated Annealing"
   ]
  },
  {
   "cell_type": "code",
   "execution_count": 38,
   "metadata": {},
   "outputs": [],
   "source": [
    "def acceptance_probability(old_cost, new_cost, temperature):\n",
    "    if new_cost > old_cost:\n",
    "        return 1.0\n",
    "    else:\n",
    "        return np.exp((new_cost - old_cost) / temperature)"
   ]
  },
  {
   "cell_type": "markdown",
   "metadata": {},
   "source": [
    "### Función de Simulated Annealing\n"
   ]
  },
  {
   "cell_type": "code",
   "execution_count": 39,
   "metadata": {},
   "outputs": [],
   "source": [
    "def simulated_annealing(initial_sma_1, initial_sma_2, initial_temp, cooling_rate, max_iter):\n",
    "    current_sma_1 = initial_sma_1\n",
    "    current_sma_2 = initial_sma_2\n",
    "    current_cost = backtest_strategy(current_sma_1, current_sma_2)\n",
    "    best_sma_1, best_sma_2 = current_sma_1, current_sma_2\n",
    "    best_cost = current_cost\n",
    "    temp = initial_temp\n",
    "\n",
    "    for i in range(max_iter):\n",
    "        # Generar nuevos parámetros vecinos (cercanos a los actuales)\n",
    "        new_sma_1 = current_sma_1 + random.randint(-5, 5)\n",
    "        new_sma_2 = current_sma_2 + random.randint(-5, 5)\n",
    "\n",
    "        # Asegurarse de que los parámetros tengan sentido (evitar valores negativos o cruces imposibles)\n",
    "        new_sma_1 = max(10, new_sma_1)\n",
    "        new_sma_2 = max(20, new_sma_2)\n",
    "        new_sma_2 = max(new_sma_1 + 10, new_sma_2)  # Asegurar que SMA_2 sea mayor que SMA_1\n",
    "\n",
    "        # Calcular el nuevo costo (rendimiento) con los nuevos parámetros\n",
    "        new_cost = backtest_strategy(new_sma_1, new_sma_2)\n",
    "\n",
    "        # Decidir si aceptamos la nueva solución o no\n",
    "        if acceptance_probability(current_cost, new_cost, temp) > random.random():\n",
    "            current_sma_1 = new_sma_1\n",
    "            current_sma_2 = new_sma_2\n",
    "            current_cost = new_cost\n",
    "\n",
    "        # Actualizar la mejor solución encontrada\n",
    "        if new_cost > best_cost:\n",
    "            best_sma_1, best_sma_2 = new_sma_1, new_sma_2\n",
    "            best_cost = new_cost\n",
    "\n",
    "        # Enfriar la temperatura\n",
    "        temp *= cooling_rate\n",
    "\n",
    "        print(f'Iteración {i+1}: Mejor SMA_1 = {best_sma_1}, Mejor SMA_2 = {best_sma_2}, Mejor Rendimiento = {best_cost:.2%}')\n",
    "    \n",
    "    return best_sma_1, best_sma_2, best_cost\n"
   ]
  },
  {
   "cell_type": "markdown",
   "metadata": {},
   "source": [
    "### Parámetros iniciales para Simulated Annealing\n"
   ]
  },
  {
   "cell_type": "code",
   "execution_count": 40,
   "metadata": {},
   "outputs": [],
   "source": [
    "initial_sma_1 = 100\n",
    "initial_sma_2 = 300\n",
    "initial_temp = 1000\n",
    "cooling_rate = 0.95\n",
    "max_iter = 100"
   ]
  },
  {
   "cell_type": "markdown",
   "metadata": {},
   "source": [
    "### Ejecutar el algoritmo de Simulated Annealing\n"
   ]
  },
  {
   "cell_type": "code",
   "execution_count": 41,
   "metadata": {},
   "outputs": [
    {
     "name": "stdout",
     "output_type": "stream",
     "text": [
      "Iteración 1: Mejor SMA_1 = 100, Mejor SMA_2 = 300, Mejor Rendimiento = 310.68%\n",
      "Iteración 2: Mejor SMA_1 = 100, Mejor SMA_2 = 304, Mejor Rendimiento = 314.83%\n",
      "Iteración 3: Mejor SMA_1 = 100, Mejor SMA_2 = 304, Mejor Rendimiento = 314.83%\n",
      "Iteración 4: Mejor SMA_1 = 100, Mejor SMA_2 = 304, Mejor Rendimiento = 314.83%\n",
      "Iteración 5: Mejor SMA_1 = 100, Mejor SMA_2 = 304, Mejor Rendimiento = 314.83%\n",
      "Iteración 6: Mejor SMA_1 = 100, Mejor SMA_2 = 304, Mejor Rendimiento = 314.83%\n",
      "Iteración 7: Mejor SMA_1 = 100, Mejor SMA_2 = 304, Mejor Rendimiento = 314.83%\n",
      "Iteración 8: Mejor SMA_1 = 100, Mejor SMA_2 = 304, Mejor Rendimiento = 314.83%\n",
      "Iteración 9: Mejor SMA_1 = 100, Mejor SMA_2 = 304, Mejor Rendimiento = 314.83%\n"
     ]
    },
    {
     "name": "stdout",
     "output_type": "stream",
     "text": [
      "Iteración 10: Mejor SMA_1 = 100, Mejor SMA_2 = 304, Mejor Rendimiento = 314.83%\n",
      "Iteración 11: Mejor SMA_1 = 100, Mejor SMA_2 = 304, Mejor Rendimiento = 314.83%\n",
      "Iteración 12: Mejor SMA_1 = 100, Mejor SMA_2 = 304, Mejor Rendimiento = 314.83%\n",
      "Iteración 13: Mejor SMA_1 = 100, Mejor SMA_2 = 304, Mejor Rendimiento = 314.83%\n",
      "Iteración 14: Mejor SMA_1 = 100, Mejor SMA_2 = 304, Mejor Rendimiento = 314.83%\n",
      "Iteración 15: Mejor SMA_1 = 100, Mejor SMA_2 = 304, Mejor Rendimiento = 314.83%\n",
      "Iteración 16: Mejor SMA_1 = 100, Mejor SMA_2 = 304, Mejor Rendimiento = 314.83%\n",
      "Iteración 17: Mejor SMA_1 = 100, Mejor SMA_2 = 304, Mejor Rendimiento = 314.83%\n",
      "Iteración 18: Mejor SMA_1 = 100, Mejor SMA_2 = 304, Mejor Rendimiento = 314.83%\n",
      "Iteración 19: Mejor SMA_1 = 100, Mejor SMA_2 = 304, Mejor Rendimiento = 314.83%\n",
      "Iteración 20: Mejor SMA_1 = 100, Mejor SMA_2 = 304, Mejor Rendimiento = 314.83%\n",
      "Iteración 21: Mejor SMA_1 = 100, Mejor SMA_2 = 304, Mejor Rendimiento = 314.83%\n",
      "Iteración 22: Mejor SMA_1 = 100, Mejor SMA_2 = 304, Mejor Rendimiento = 314.83%\n",
      "Iteración 23: Mejor SMA_1 = 100, Mejor SMA_2 = 304, Mejor Rendimiento = 314.83%\n",
      "Iteración 24: Mejor SMA_1 = 100, Mejor SMA_2 = 304, Mejor Rendimiento = 314.83%\n",
      "Iteración 25: Mejor SMA_1 = 100, Mejor SMA_2 = 304, Mejor Rendimiento = 314.83%\n",
      "Iteración 26: Mejor SMA_1 = 100, Mejor SMA_2 = 304, Mejor Rendimiento = 314.83%\n",
      "Iteración 27: Mejor SMA_1 = 100, Mejor SMA_2 = 304, Mejor Rendimiento = 314.83%\n",
      "Iteración 28: Mejor SMA_1 = 100, Mejor SMA_2 = 304, Mejor Rendimiento = 314.83%\n",
      "Iteración 29: Mejor SMA_1 = 100, Mejor SMA_2 = 304, Mejor Rendimiento = 314.83%\n",
      "Iteración 30: Mejor SMA_1 = 100, Mejor SMA_2 = 304, Mejor Rendimiento = 314.83%\n",
      "Iteración 31: Mejor SMA_1 = 100, Mejor SMA_2 = 304, Mejor Rendimiento = 314.83%\n",
      "Iteración 32: Mejor SMA_1 = 100, Mejor SMA_2 = 304, Mejor Rendimiento = 314.83%\n",
      "Iteración 33: Mejor SMA_1 = 100, Mejor SMA_2 = 304, Mejor Rendimiento = 314.83%\n",
      "Iteración 34: Mejor SMA_1 = 100, Mejor SMA_2 = 304, Mejor Rendimiento = 314.83%\n",
      "Iteración 35: Mejor SMA_1 = 100, Mejor SMA_2 = 304, Mejor Rendimiento = 314.83%\n",
      "Iteración 36: Mejor SMA_1 = 100, Mejor SMA_2 = 304, Mejor Rendimiento = 314.83%\n",
      "Iteración 37: Mejor SMA_1 = 100, Mejor SMA_2 = 304, Mejor Rendimiento = 314.83%\n",
      "Iteración 38: Mejor SMA_1 = 100, Mejor SMA_2 = 304, Mejor Rendimiento = 314.83%\n",
      "Iteración 39: Mejor SMA_1 = 100, Mejor SMA_2 = 304, Mejor Rendimiento = 314.83%\n",
      "Iteración 40: Mejor SMA_1 = 100, Mejor SMA_2 = 304, Mejor Rendimiento = 314.83%\n",
      "Iteración 41: Mejor SMA_1 = 100, Mejor SMA_2 = 304, Mejor Rendimiento = 314.83%\n",
      "Iteración 42: Mejor SMA_1 = 100, Mejor SMA_2 = 304, Mejor Rendimiento = 314.83%\n",
      "Iteración 43: Mejor SMA_1 = 100, Mejor SMA_2 = 304, Mejor Rendimiento = 314.83%\n",
      "Iteración 44: Mejor SMA_1 = 100, Mejor SMA_2 = 304, Mejor Rendimiento = 314.83%\n",
      "Iteración 45: Mejor SMA_1 = 100, Mejor SMA_2 = 304, Mejor Rendimiento = 314.83%\n",
      "Iteración 46: Mejor SMA_1 = 100, Mejor SMA_2 = 304, Mejor Rendimiento = 314.83%\n",
      "Iteración 47: Mejor SMA_1 = 100, Mejor SMA_2 = 304, Mejor Rendimiento = 314.83%\n",
      "Iteración 48: Mejor SMA_1 = 100, Mejor SMA_2 = 304, Mejor Rendimiento = 314.83%\n",
      "Iteración 49: Mejor SMA_1 = 100, Mejor SMA_2 = 304, Mejor Rendimiento = 314.83%\n",
      "Iteración 50: Mejor SMA_1 = 100, Mejor SMA_2 = 304, Mejor Rendimiento = 314.83%\n",
      "Iteración 51: Mejor SMA_1 = 100, Mejor SMA_2 = 304, Mejor Rendimiento = 314.83%\n",
      "Iteración 52: Mejor SMA_1 = 100, Mejor SMA_2 = 304, Mejor Rendimiento = 314.83%\n",
      "Iteración 53: Mejor SMA_1 = 100, Mejor SMA_2 = 304, Mejor Rendimiento = 314.83%\n",
      "Iteración 54: Mejor SMA_1 = 100, Mejor SMA_2 = 304, Mejor Rendimiento = 314.83%\n",
      "Iteración 55: Mejor SMA_1 = 100, Mejor SMA_2 = 304, Mejor Rendimiento = 314.83%\n",
      "Iteración 56: Mejor SMA_1 = 100, Mejor SMA_2 = 304, Mejor Rendimiento = 314.83%\n",
      "Iteración 57: Mejor SMA_1 = 100, Mejor SMA_2 = 304, Mejor Rendimiento = 314.83%\n",
      "Iteración 58: Mejor SMA_1 = 100, Mejor SMA_2 = 304, Mejor Rendimiento = 314.83%\n",
      "Iteración 59: Mejor SMA_1 = 100, Mejor SMA_2 = 304, Mejor Rendimiento = 314.83%\n",
      "Iteración 60: Mejor SMA_1 = 100, Mejor SMA_2 = 304, Mejor Rendimiento = 314.83%\n",
      "Iteración 61: Mejor SMA_1 = 100, Mejor SMA_2 = 304, Mejor Rendimiento = 314.83%\n",
      "Iteración 62: Mejor SMA_1 = 100, Mejor SMA_2 = 304, Mejor Rendimiento = 314.83%\n",
      "Iteración 63: Mejor SMA_1 = 100, Mejor SMA_2 = 304, Mejor Rendimiento = 314.83%\n",
      "Iteración 64: Mejor SMA_1 = 100, Mejor SMA_2 = 304, Mejor Rendimiento = 314.83%\n",
      "Iteración 65: Mejor SMA_1 = 100, Mejor SMA_2 = 304, Mejor Rendimiento = 314.83%\n",
      "Iteración 66: Mejor SMA_1 = 100, Mejor SMA_2 = 304, Mejor Rendimiento = 314.83%\n",
      "Iteración 67: Mejor SMA_1 = 100, Mejor SMA_2 = 304, Mejor Rendimiento = 314.83%\n",
      "Iteración 68: Mejor SMA_1 = 100, Mejor SMA_2 = 304, Mejor Rendimiento = 314.83%\n",
      "Iteración 69: Mejor SMA_1 = 100, Mejor SMA_2 = 304, Mejor Rendimiento = 314.83%\n",
      "Iteración 70: Mejor SMA_1 = 100, Mejor SMA_2 = 304, Mejor Rendimiento = 314.83%\n",
      "Iteración 71: Mejor SMA_1 = 100, Mejor SMA_2 = 304, Mejor Rendimiento = 314.83%\n",
      "Iteración 72: Mejor SMA_1 = 100, Mejor SMA_2 = 304, Mejor Rendimiento = 314.83%\n",
      "Iteración 73: Mejor SMA_1 = 100, Mejor SMA_2 = 304, Mejor Rendimiento = 314.83%\n",
      "Iteración 74: Mejor SMA_1 = 100, Mejor SMA_2 = 304, Mejor Rendimiento = 314.83%\n",
      "Iteración 75: Mejor SMA_1 = 100, Mejor SMA_2 = 304, Mejor Rendimiento = 314.83%\n",
      "Iteración 76: Mejor SMA_1 = 100, Mejor SMA_2 = 304, Mejor Rendimiento = 314.83%\n",
      "Iteración 77: Mejor SMA_1 = 100, Mejor SMA_2 = 304, Mejor Rendimiento = 314.83%\n",
      "Iteración 78: Mejor SMA_1 = 100, Mejor SMA_2 = 304, Mejor Rendimiento = 314.83%\n",
      "Iteración 79: Mejor SMA_1 = 100, Mejor SMA_2 = 304, Mejor Rendimiento = 314.83%\n",
      "Iteración 80: Mejor SMA_1 = 100, Mejor SMA_2 = 304, Mejor Rendimiento = 314.83%\n",
      "Iteración 81: Mejor SMA_1 = 100, Mejor SMA_2 = 304, Mejor Rendimiento = 314.83%\n",
      "Iteración 82: Mejor SMA_1 = 100, Mejor SMA_2 = 304, Mejor Rendimiento = 314.83%\n",
      "Iteración 83: Mejor SMA_1 = 100, Mejor SMA_2 = 304, Mejor Rendimiento = 314.83%\n",
      "Iteración 84: Mejor SMA_1 = 100, Mejor SMA_2 = 304, Mejor Rendimiento = 314.83%\n",
      "Iteración 85: Mejor SMA_1 = 100, Mejor SMA_2 = 304, Mejor Rendimiento = 314.83%\n",
      "Iteración 86: Mejor SMA_1 = 100, Mejor SMA_2 = 304, Mejor Rendimiento = 314.83%\n",
      "Iteración 87: Mejor SMA_1 = 100, Mejor SMA_2 = 304, Mejor Rendimiento = 314.83%\n",
      "Iteración 88: Mejor SMA_1 = 100, Mejor SMA_2 = 304, Mejor Rendimiento = 314.83%\n",
      "Iteración 89: Mejor SMA_1 = 100, Mejor SMA_2 = 304, Mejor Rendimiento = 314.83%\n",
      "Iteración 90: Mejor SMA_1 = 100, Mejor SMA_2 = 304, Mejor Rendimiento = 314.83%\n",
      "Iteración 91: Mejor SMA_1 = 100, Mejor SMA_2 = 304, Mejor Rendimiento = 314.83%\n",
      "Iteración 92: Mejor SMA_1 = 100, Mejor SMA_2 = 304, Mejor Rendimiento = 314.83%\n",
      "Iteración 93: Mejor SMA_1 = 100, Mejor SMA_2 = 304, Mejor Rendimiento = 314.83%\n",
      "Iteración 94: Mejor SMA_1 = 100, Mejor SMA_2 = 304, Mejor Rendimiento = 314.83%\n",
      "Iteración 95: Mejor SMA_1 = 100, Mejor SMA_2 = 304, Mejor Rendimiento = 314.83%\n",
      "Iteración 96: Mejor SMA_1 = 100, Mejor SMA_2 = 304, Mejor Rendimiento = 314.83%\n",
      "Iteración 97: Mejor SMA_1 = 100, Mejor SMA_2 = 304, Mejor Rendimiento = 314.83%\n",
      "Iteración 98: Mejor SMA_1 = 100, Mejor SMA_2 = 304, Mejor Rendimiento = 314.83%\n",
      "Iteración 99: Mejor SMA_1 = 100, Mejor SMA_2 = 304, Mejor Rendimiento = 314.83%\n",
      "Iteración 100: Mejor SMA_1 = 100, Mejor SMA_2 = 304, Mejor Rendimiento = 314.83%\n"
     ]
    }
   ],
   "source": [
    "best_sma_1, best_sma_2, best_return = simulated_annealing(initial_sma_1, initial_sma_2, \n",
    "                                                          initial_temp, cooling_rate, max_iter)"
   ]
  },
  {
   "cell_type": "code",
   "execution_count": 43,
   "metadata": {},
   "outputs": [
    {
     "name": "stdout",
     "output_type": "stream",
     "text": [
      "Los mejores parámetros son SMA_1: 100, SMA_2: 304 con un rendimiento total de 314.83%\n"
     ]
    }
   ],
   "source": [
    "print(f'Los mejores parámetros son SMA_1: {best_sma_1}, SMA_2: {best_sma_2} con un rendimiento total de {best_return:.2%}')\n"
   ]
  }
 ],
 "metadata": {
  "kernelspec": {
   "display_name": "data_science_path",
   "language": "python",
   "name": "python3"
  },
  "language_info": {
   "codemirror_mode": {
    "name": "ipython",
    "version": 3
   },
   "file_extension": ".py",
   "mimetype": "text/x-python",
   "name": "python",
   "nbconvert_exporter": "python",
   "pygments_lexer": "ipython3",
   "version": "3.10.13"
  }
 },
 "nbformat": 4,
 "nbformat_minor": 2
}
