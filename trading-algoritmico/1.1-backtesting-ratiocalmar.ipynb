{
 "cells": [
  {
   "cell_type": "code",
   "execution_count": 1,
   "metadata": {},
   "outputs": [],
   "source": [
    "import numpy as np\n",
    "import pandas as pd\n",
    "# Ratio de Calmar\n",
    "import yfinance as yf"
   ]
  },
  {
   "cell_type": "code",
   "execution_count": 2,
   "metadata": {},
   "outputs": [],
   "source": [
    "df = yf.Ticker('NQ=F')\n",
    "df = df.history(start='2000-01-01', end='2024-01-01')"
   ]
  },
  {
   "cell_type": "markdown",
   "metadata": {},
   "source": [
    "### **Concepto Clave: Ratio de Calmar**\n",
    "\n",
    "El **Ratio de Calmar** es una métrica utilizada para evaluar el desempeño de una estrategia financiera. Calcula el **retorno anualizado** ajustado por el **riesgo**, donde el riesgo está representado por el **drawdown máximo** (la mayor pérdida acumulada desde un punto máximo hasta un punto mínimo).\n",
    "\n",
    "\n",
    "$text{Ratio de Calmar} = \\frac{\\text{Retorno Anualizado}}{\\text{Drawdown Máximo Absoluto}}$\n",
    "\n",
    "\n",
    "- **Retorno Anualizado:** Promedio anual del retorno compuesto de la estrategia.  \n",
    "- **Drawdown Máximo:** La mayor caída porcentual desde el máximo acumulado al mínimo acumulado.  \n",
    "\n",
    "Un **alto Ratio de Calmar** indica que la estrategia genera buenos retornos en relación con las pérdidas máximas sufridas.\n"
   ]
  },
  {
   "cell_type": "code",
   "execution_count": 3,
   "metadata": {},
   "outputs": [],
   "source": [
    "\n",
    "def backtest_strategy(sma_1, sma_2):\n",
    "    # Cálculo de SMAs\n",
    "    df['SMA_50'] = df['Close'].rolling(window=sma_1).mean()\n",
    "    df['SMA_200'] = df['Close'].rolling(window=sma_2).mean()\n",
    "\n",
    "    # Señales de trading\n",
    "    df['Signal'] = 0\n",
    "    df.loc[df['SMA_50'] > df['SMA_200'], 'Signal'] = 1\n",
    "    df.loc[df['SMA_50'] < df['SMA_200'], 'Signal'] = -1\n",
    "\n",
    "    # Posición basada en la señal\n",
    "    df['Position'] = df['Signal'].shift()\n",
    "    \n",
    "    # Comprobar que se generaron suficientes señales\n",
    "    num_signals = df['Position'].diff().abs().sum()  # Número de cambios de señal\n",
    "    if num_signals < 10:  # Ajusta este umbral según lo que consideres relevante\n",
    "        return np.nan\n",
    "    \n",
    "    # Retornos de la estrategia\n",
    "    df['Strategy_Returns'] = df['Position'] * df['Close'].pct_change()\n",
    "    df.dropna(inplace=True)  # Eliminar filas con NaN\n",
    "    \n",
    "    # Asegurarse de que hay suficientes datos\n",
    "    if len(df) == 0:\n",
    "        return np.nan\n",
    "    \n",
    "    # Calcular drawdown máximo y rendimiento anualizado\n",
    "    df['Cumulative_Returns'] = (df['Strategy_Returns'] + 1).cumprod()\n",
    "    df['Peak'] = df['Cumulative_Returns'].cummax()\n",
    "    df['Drawdown'] = (df['Cumulative_Returns'] - df['Peak']) / df['Peak']\n",
    "    \n",
    "    max_drawdown = df['Drawdown'].min()\n",
    "    total_return = (df['Strategy_Returns'] + 1).prod() - 1\n",
    "    annualized_return = (1 + total_return) ** (252 / len(df)) - 1\n",
    "\n",
    "    # Controlar retornos anómalos\n",
    "    if total_return > 10:  # Si el retorno acumulado es absurdo\n",
    "        total_return = 10  # Ajustar a un valor razonable\n",
    "    \n",
    "    # Evitar división por cero en el Ratio de Calmar\n",
    "    if max_drawdown == 0 or np.isnan(max_drawdown):\n",
    "        return np.nan  # Retornar NaN si no hay drawdown o es cero\n",
    "    \n",
    "    calmar_ratio = annualized_return / abs(max_drawdown)\n",
    "\n",
    "    # Limitar valores desproporcionados de Calmar Ratio\n",
    "    if calmar_ratio > 10:  # Puedes ajustar este umbral\n",
    "        calmar_ratio = 10  # Limitar a un máximo razonable\n",
    "\n",
    "    return calmar_ratio"
   ]
  },
  {
   "cell_type": "markdown",
   "metadata": {},
   "source": [
    "### Optimización mediante Grid Search"
   ]
  },
  {
   "cell_type": "code",
   "execution_count": 4,
   "metadata": {},
   "outputs": [
    {
     "name": "stdout",
     "output_type": "stream",
     "text": [
      "Los mejores parámetros son: (90, 150) con un Ratio de Calmar de 0.54\n"
     ]
    }
   ],
   "source": [
    "best_params = None\n",
    "best_calmar = -np.inf\n",
    "\n",
    "for sma_1 in range(10, 100, 10):\n",
    "    for sma_2 in range(100, 300, 50):\n",
    "        calmar_ratio = backtest_strategy(sma_1, sma_2)\n",
    "        if not np.isnan(calmar_ratio):  # Evitar comparar con NaN\n",
    "            if calmar_ratio > best_calmar:\n",
    "                best_calmar = calmar_ratio\n",
    "                best_params = (sma_1, sma_2)\n",
    "\n",
    "print(f'Los mejores parámetros son: {best_params} con un Ratio de Calmar de {best_calmar:.2f}')"
   ]
  }
 ],
 "metadata": {
  "kernelspec": {
   "display_name": "data_science_path",
   "language": "python",
   "name": "python3"
  },
  "language_info": {
   "codemirror_mode": {
    "name": "ipython",
    "version": 3
   },
   "file_extension": ".py",
   "mimetype": "text/x-python",
   "name": "python",
   "nbconvert_exporter": "python",
   "pygments_lexer": "ipython3",
   "version": "3.10.13"
  }
 },
 "nbformat": 4,
 "nbformat_minor": 2
}
