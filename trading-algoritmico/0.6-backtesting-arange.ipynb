{
 "cells": [
  {
   "cell_type": "code",
   "execution_count": 75,
   "metadata": {},
   "outputs": [],
   "source": [
    "import numpy as np\n",
    "import pandas as pd\n",
    "#  Random Search\n",
    "import yfinance as yf\n",
    "from sklearn.model_selection import ParameterGrid"
   ]
  },
  {
   "cell_type": "code",
   "execution_count": 76,
   "metadata": {},
   "outputs": [],
   "source": [
    "df = yf.Ticker('NQ=F')\n",
    "df = df.history(start='2010-01-01', end='2024-01-01')"
   ]
  },
  {
   "cell_type": "markdown",
   "metadata": {},
   "source": [
    "### Definimos los rangos de parámetros\n"
   ]
  },
  {
   "cell_type": "code",
   "execution_count": 77,
   "metadata": {},
   "outputs": [],
   "source": [
    "sma_1_range = np.arange(10,100,10)\n",
    "sma_2_range = np.arange(100,300,50)"
   ]
  },
  {
   "cell_type": "markdown",
   "metadata": {},
   "source": [
    "### Función de backtest para cada combinación de parámetros\n"
   ]
  },
  {
   "cell_type": "code",
   "execution_count": 78,
   "metadata": {},
   "outputs": [],
   "source": [
    "def backtest_strategy(sma_1, sma_2):\n",
    "    df['SMA_50'] = df['Close'].rolling(window=sma_1).mean()\n",
    "    df['SMA_200'] = df['Close'].rolling(window=sma_2).mean()\n",
    "\n",
    "    df['Signal'] = 0\n",
    "    df.loc[df['SMA_50'] > df['SMA_200'], 'Signal'] = 1\n",
    "    df.loc[df['SMA_50'] < df['SMA_200'], 'Signal'] = -1\n",
    "\n",
    "    df['Position'] = df['Signal'].shift()\n",
    "    df['Strategy_Returns'] = df['Position'] * df['Close'].pct_change()\n",
    "    df.dropna(inplace=True)\n",
    "    \n",
    "    return (df['Strategy_Returns'] + 1).prod() - 1"
   ]
  },
  {
   "cell_type": "markdown",
   "metadata": {},
   "source": [
    "### Seleccionamos aleatoriamente combinaciones de parámetros\n"
   ]
  },
  {
   "cell_type": "code",
   "execution_count": 79,
   "metadata": {},
   "outputs": [],
   "source": [
    "best_params = None\n",
    "best_return = -np.inf"
   ]
  },
  {
   "cell_type": "code",
   "execution_count": 80,
   "metadata": {},
   "outputs": [
    {
     "name": "stdout",
     "output_type": "stream",
     "text": [
      "Probando SMA_1: 10, SMA_2: 250 - Rendimiento Total: 44.17%\n",
      "Probando SMA_1: 90, SMA_2: 100 - Rendimiento Total: -1.35%\n",
      "Probando SMA_1: 50, SMA_2: 150 - Rendimiento Total: 245.38%\n",
      "Probando SMA_1: 70, SMA_2: 150 - Rendimiento Total: 208.27%\n",
      "Probando SMA_1: 60, SMA_2: 100 - Rendimiento Total: 94.81%\n",
      "Los mejores parámetros son: {'SMA_1': 50, 'SMA_2': 150} con un rendimiento total de 245.38%\n"
     ]
    }
   ],
   "source": [
    "for _ in range(5):  # 5 pruebas aleatorias\n",
    "    sma_1 = np.random.choice(sma_1_range)\n",
    "    sma_2 = np.random.choice(sma_2_range)\n",
    "    \n",
    "    total_return = backtest_strategy(sma_1, sma_2)\n",
    "    print(f'Probando SMA_1: {sma_1}, SMA_2: {sma_2} - Rendimiento Total: {total_return:.2%}')\n",
    "    \n",
    "    if total_return > best_return:\n",
    "        best_return = total_return\n",
    "        best_params = {'SMA_1': sma_1, 'SMA_2': sma_2}\n",
    "\n",
    "print(f'Los mejores parámetros son: {best_params} con un rendimiento total de {best_return:.2%}')"
   ]
  }
 ],
 "metadata": {
  "kernelspec": {
   "display_name": "data_science_path",
   "language": "python",
   "name": "python3"
  },
  "language_info": {
   "codemirror_mode": {
    "name": "ipython",
    "version": 3
   },
   "file_extension": ".py",
   "mimetype": "text/x-python",
   "name": "python",
   "nbconvert_exporter": "python",
   "pygments_lexer": "ipython3",
   "version": "3.10.13"
  }
 },
 "nbformat": 4,
 "nbformat_minor": 2
}
