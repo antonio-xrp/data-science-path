{
 "cells": [
  {
   "cell_type": "code",
   "execution_count": 19,
   "metadata": {},
   "outputs": [],
   "source": [
    "import numpy as np\n",
    "import pandas as pd\n",
    "# Ratio de Sharpe\n",
    "import yfinance as yf"
   ]
  },
  {
   "cell_type": "code",
   "execution_count": 20,
   "metadata": {},
   "outputs": [],
   "source": [
    "df = yf.Ticker('NQ=F')\n",
    "df = df.history(start='2010-01-01', end='2024-01-01')"
   ]
  },
  {
   "cell_type": "code",
   "execution_count": 21,
   "metadata": {},
   "outputs": [],
   "source": [
    "def backtest_strategy(sma_1, sma_2):\n",
    "    df['SMA_50'] = df['Close'].rolling(window=sma_1).mean()\n",
    "    df['SMA_200'] = df['Close'].rolling(window=sma_2).mean()\n",
    "\n",
    "    df['Signal'] = 0\n",
    "    df.loc[df['SMA_50'] > df['SMA_200'], 'Signal'] = 1\n",
    "    df.loc[df['SMA_50'] < df['SMA_200'], 'Signal'] = -1\n",
    "\n",
    "    df['Position'] = df['Signal'].shift()\n",
    "    df['Strategy_Returns'] = df['Position'] * df['Close'].pct_change()\n",
    "    df.dropna(inplace=True)\n",
    "\n",
    "    # Calcular el ratio de Sharpe\n",
    "    risk_free_rate = 0.01  # 1% tasa libre de riesgo\n",
    "    excess_return = df['Strategy_Returns'].mean() - (risk_free_rate / 252)\n",
    "    sharpe_ratio = excess_return / df['Strategy_Returns'].std()\n",
    "    \n",
    "    return sharpe_ratio"
   ]
  },
  {
   "cell_type": "markdown",
   "metadata": {},
   "source": [
    "### Optimización mediante Grid Search\n"
   ]
  },
  {
   "cell_type": "code",
   "execution_count": 22,
   "metadata": {},
   "outputs": [],
   "source": [
    "best_params = None\n",
    "best_sharpe = -np.inf"
   ]
  },
  {
   "cell_type": "code",
   "execution_count": 23,
   "metadata": {},
   "outputs": [
    {
     "name": "stdout",
     "output_type": "stream",
     "text": [
      "Probando SMA_1: 10, SMA_2: 100 - Ratio de Sharpe: -0.00\n",
      "Probando SMA_1: 10, SMA_2: 150 - Ratio de Sharpe: 0.01\n",
      "Probando SMA_1: 10, SMA_2: 200 - Ratio de Sharpe: 0.02\n",
      "Probando SMA_1: 10, SMA_2: 250 - Ratio de Sharpe: 0.02\n",
      "Probando SMA_1: 20, SMA_2: 100 - Ratio de Sharpe: 0.01\n",
      "Probando SMA_1: 20, SMA_2: 150 - Ratio de Sharpe: 0.02\n",
      "Probando SMA_1: 20, SMA_2: 200 - Ratio de Sharpe: 0.02\n",
      "Probando SMA_1: 20, SMA_2: 250 - Ratio de Sharpe: 0.02\n",
      "Probando SMA_1: 30, SMA_2: 100 - Ratio de Sharpe: 0.01\n",
      "Probando SMA_1: 30, SMA_2: 150 - Ratio de Sharpe: 0.04\n",
      "Probando SMA_1: 30, SMA_2: 200 - Ratio de Sharpe: 0.04\n",
      "Probando SMA_1: 30, SMA_2: 250 - Ratio de Sharpe: 0.03\n",
      "Probando SMA_1: 40, SMA_2: 100 - Ratio de Sharpe: 0.01\n",
      "Probando SMA_1: 40, SMA_2: 150 - Ratio de Sharpe: 0.04\n",
      "Probando SMA_1: 40, SMA_2: 200 - Ratio de Sharpe: 0.04\n",
      "Probando SMA_1: 40, SMA_2: 250 - Ratio de Sharpe: 0.04\n",
      "Probando SMA_1: 50, SMA_2: 100 - Ratio de Sharpe: 0.03\n",
      "Probando SMA_1: 50, SMA_2: 150 - Ratio de Sharpe: 0.05\n",
      "Probando SMA_1: 50, SMA_2: 200 - Ratio de Sharpe: 0.07\n",
      "Probando SMA_1: 50, SMA_2: 250 - Ratio de Sharpe: 0.37\n",
      "Probando SMA_1: 60, SMA_2: 100 - Ratio de Sharpe: nan\n",
      "Probando SMA_1: 60, SMA_2: 150 - Ratio de Sharpe: nan\n",
      "Probando SMA_1: 60, SMA_2: 200 - Ratio de Sharpe: nan\n",
      "Probando SMA_1: 60, SMA_2: 250 - Ratio de Sharpe: nan\n",
      "Probando SMA_1: 70, SMA_2: 100 - Ratio de Sharpe: nan\n",
      "Probando SMA_1: 70, SMA_2: 150 - Ratio de Sharpe: nan\n",
      "Probando SMA_1: 70, SMA_2: 200 - Ratio de Sharpe: nan\n",
      "Probando SMA_1: 70, SMA_2: 250 - Ratio de Sharpe: nan\n",
      "Probando SMA_1: 80, SMA_2: 100 - Ratio de Sharpe: nan\n",
      "Probando SMA_1: 80, SMA_2: 150 - Ratio de Sharpe: nan\n",
      "Probando SMA_1: 80, SMA_2: 200 - Ratio de Sharpe: nan\n",
      "Probando SMA_1: 80, SMA_2: 250 - Ratio de Sharpe: nan\n",
      "Probando SMA_1: 90, SMA_2: 100 - Ratio de Sharpe: nan\n",
      "Probando SMA_1: 90, SMA_2: 150 - Ratio de Sharpe: nan\n",
      "Probando SMA_1: 90, SMA_2: 200 - Ratio de Sharpe: nan\n",
      "Probando SMA_1: 90, SMA_2: 250 - Ratio de Sharpe: nan\n"
     ]
    }
   ],
   "source": [
    "for sma_1 in range(10, 100, 10):\n",
    "    for sma_2 in range(100, 300, 50):\n",
    "        sharpe = backtest_strategy(sma_1, sma_2)\n",
    "        print(f'Probando SMA_1: {sma_1}, SMA_2: {sma_2} - Ratio de Sharpe: {sharpe:.2f}')\n",
    "        \n",
    "        if sharpe > best_sharpe:\n",
    "            best_sharpe = sharpe\n",
    "            best_params = (sma_1, sma_2)"
   ]
  },
  {
   "cell_type": "code",
   "execution_count": 24,
   "metadata": {},
   "outputs": [
    {
     "name": "stdout",
     "output_type": "stream",
     "text": [
      "Los mejores parámetros son: (50, 250) con un Ratio de Sharpe de 0.37\n"
     ]
    }
   ],
   "source": [
    "print(f'Los mejores parámetros son: {best_params} con un Ratio de Sharpe de {best_sharpe:.2f}')"
   ]
  }
 ],
 "metadata": {
  "kernelspec": {
   "display_name": "data_science_path",
   "language": "python",
   "name": "python3"
  },
  "language_info": {
   "codemirror_mode": {
    "name": "ipython",
    "version": 3
   },
   "file_extension": ".py",
   "mimetype": "text/x-python",
   "name": "python",
   "nbconvert_exporter": "python",
   "pygments_lexer": "ipython3",
   "version": "3.10.13"
  }
 },
 "nbformat": 4,
 "nbformat_minor": 2
}
