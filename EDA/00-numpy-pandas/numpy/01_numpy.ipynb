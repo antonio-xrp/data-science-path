{
 "cells": [
  {
   "cell_type": "markdown",
   "metadata": {},
   "source": [
    "Vamos a aprender de 2 librerías muy importantes para la manipulación en la ciencia de datos (Numpy y Pandas)"
   ]
  },
  {
   "cell_type": "markdown",
   "metadata": {},
   "source": [
    "# ¿Por qué NumPy?\n"
   ]
  },
  {
   "cell_type": "markdown",
   "metadata": {},
   "source": [
    "Es una librería enfocada al cálculo numérico y manejo de Arrays.\n",
    "\n"
   ]
  },
  {
   "cell_type": "markdown",
   "metadata": {},
   "source": [
    "* Es muy veloz, hasta 50 veces más rápido que usar una lista de Python o C.\n",
    "* Optimiza el almacenamiento en memoria.\n",
    "* Maneja distintos tipos de datos."
   ]
  },
  {
   "cell_type": "markdown",
   "metadata": {},
   "source": [
    "Es una librería muy poderosa, se pueden crear redes neuronales desde cero."
   ]
  },
  {
   "cell_type": "markdown",
   "metadata": {},
   "source": [
    "## ¿Por qué Pandas?\n",
    "\n",
    "Pandas está enfocada a la manipulación y análisis de datos.\n",
    "\n",
    "* Al estar construido sobre NumPy es veloz.\n",
    "* Requiere poco código para manipular los datos.\n",
    "* Soporta múltiples formatos de archivos.\n",
    "* Ordena los datos en una alienación inteligente.\n",
    "\n",
    "Se pueden manejar grandes cantidades de datos, hacer analítica y generar dashboards."
   ]
  },
  {
   "cell_type": "markdown",
   "metadata": {},
   "source": [
    "## Libraries"
   ]
  },
  {
   "cell_type": "code",
   "execution_count": 12,
   "metadata": {},
   "outputs": [
    {
     "name": "stdout",
     "output_type": "stream",
     "text": [
      "The autoreload extension is already loaded. To reload it, use:\n",
      "  %reload_ext autoreload\n"
     ]
    }
   ],
   "source": [
    "%load_ext autoreload\n",
    "%autoreload 2  \n",
    "\n",
    "\n",
    "#Activa la recarga automática para todos los módulos importados, incluso aquellos que se importarán en el futuro."
   ]
  },
  {
   "cell_type": "code",
   "execution_count": 13,
   "metadata": {},
   "outputs": [],
   "source": [
    "import numpy as np\n",
    "import pandas as pd\n"
   ]
  }
 ],
 "metadata": {
  "kernelspec": {
   "display_name": "base",
   "language": "python",
   "name": "python3"
  },
  "language_info": {
   "codemirror_mode": {
    "name": "ipython",
    "version": 3
   },
   "file_extension": ".py",
   "mimetype": "text/x-python",
   "name": "python",
   "nbconvert_exporter": "python",
   "pygments_lexer": "ipython3",
   "version": "3.11.5"
  }
 },
 "nbformat": 4,
 "nbformat_minor": 2
}
