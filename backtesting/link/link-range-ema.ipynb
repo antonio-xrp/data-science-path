{
 "cells": [
  {
   "cell_type": "code",
   "execution_count": 29,
   "metadata": {},
   "outputs": [],
   "source": [
    "import pandas as pd\n",
    "import matplotlib.pyplot as plt\n",
    "import seaborn as sns\n",
    "import yfinance as yf\n",
    "import numpy as np\n",
    "import talib as ta"
   ]
  },
  {
   "cell_type": "code",
   "execution_count": 30,
   "metadata": {},
   "outputs": [],
   "source": [
    "%matplotlib inline\n",
    "sns.set_theme(rc={\"figure.figsize\" : [20,5]},\n",
    "              style='dark')\n",
    "#sns.set_style(\"dark\")\n",
    "sns.set_context(context='notebook')\n",
    "plt.style.use('dark_background')"
   ]
  },
  {
   "cell_type": "code",
   "execution_count": 31,
   "metadata": {},
   "outputs": [],
   "source": [
    "activo = 'LINK-USD'\n",
    "df = yf.Ticker(activo)\n",
    "df = df.history(start='2018-01-01', end='2024-11-28')"
   ]
  },
  {
   "cell_type": "code",
   "execution_count": 32,
   "metadata": {},
   "outputs": [],
   "source": [
    "#Definir función para calcular el rendimiento de la estrategia\n",
    "def backtest_strategy(short_window, long_window):\n",
    "    df['EMA_short'] = ta.EMA(df['Close'], timeperiod=short_window)\n",
    "    df['EMA_long'] = ta.EMA(df['Close'], timeperiod=long_window)\n",
    "    df['Signal'] = np.where(df['EMA_short'] > df['EMA_long'], 1, -1)\n",
    "    df['Position'] = df['Signal'].shift()\n",
    "    df['Strategy_Returns'] = df['Position'] * df['Close'].pct_change()\n",
    "    return (df['Strategy_Returns'] + 1).cumprod().iloc[-1] -1 # Retorno total"
   ]
  },
  {
   "cell_type": "code",
   "execution_count": 33,
   "metadata": {},
   "outputs": [],
   "source": [
    "# Definir el rango de parámetros a probar\n",
    "short_windows = range(2, 100, 1) # De 10 a 100 días \n",
    "long_windows = range(2, 200, 1) # de 10 a 200 días"
   ]
  },
  {
   "cell_type": "code",
   "execution_count": 34,
   "metadata": {},
   "outputs": [],
   "source": [
    "# probar todas las combinaciones de parámetros\n",
    "best_performance = -np.inf\n",
    "best_params = (None, None)"
   ]
  },
  {
   "cell_type": "code",
   "execution_count": 35,
   "metadata": {},
   "outputs": [
    {
     "name": "stdout",
     "output_type": "stream",
     "text": [
      "Mejores parámetros: SMA corta=5, SMA larga=6\n",
      "Mejor rendimiento: 1143.93%\n"
     ]
    }
   ],
   "source": [
    "for short_window in short_windows:\n",
    "    for long_window in long_windows:\n",
    "        if short_window >= long_window:\n",
    "            continue  # Evitar combinaciones donde la media corta sea mayor o igual a la larga\n",
    "        performance = backtest_strategy(short_window, long_window)\n",
    "        if performance > best_performance:\n",
    "            best_performance = performance\n",
    "            best_params = (short_window, long_window)\n",
    "\n",
    "print(f\"Mejores parámetros: SMA corta={best_params[0]}, SMA larga={best_params[1]}\")\n",
    "print(f\"Mejor rendimiento: {best_performance:.2%}\")"
   ]
  }
 ],
 "metadata": {
  "kernelspec": {
   "display_name": "data_science_path",
   "language": "python",
   "name": "python3"
  },
  "language_info": {
   "codemirror_mode": {
    "name": "ipython",
    "version": 3
   },
   "file_extension": ".py",
   "mimetype": "text/x-python",
   "name": "python",
   "nbconvert_exporter": "python",
   "pygments_lexer": "ipython3",
   "version": "3.10.13"
  }
 },
 "nbformat": 4,
 "nbformat_minor": 2
}
