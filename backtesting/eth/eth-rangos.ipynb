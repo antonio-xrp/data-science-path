{
 "cells": [
  {
   "cell_type": "code",
   "execution_count": 14,
   "metadata": {},
   "outputs": [],
   "source": [
    "import pandas as pd\n",
    "import matplotlib.pyplot as plt\n",
    "import yfinance as yf\n",
    "import numpy as np\n",
    "import talib as ta"
   ]
  },
  {
   "cell_type": "code",
   "execution_count": 15,
   "metadata": {},
   "outputs": [],
   "source": [
    "activo = 'ETH-USD'\n",
    "df = yf.Ticker(activo)\n",
    "df = df.history(start='2018-01-01', end='2024-10-01')"
   ]
  },
  {
   "cell_type": "code",
   "execution_count": 16,
   "metadata": {},
   "outputs": [],
   "source": [
    "def backtest_strategy(buy_threshold, sell_threshold):\n",
    "    df['MACD'], df['Signal_line'], df['Histogram'] = ta.MACD(df['Close'], fastperiod=12, \n",
    "                                                        slowperiod=26, signalperiod=9)\n",
    "    df['Signal'] = np.where(\n",
    "        (df['MACD'] > df['Signal_line']) & (df['Histogram'] > buy_threshold) ,1,\n",
    "        np.where(\n",
    "            (df['MACD'] < df['Signal_line']) & (df['Histogram'] < sell_threshold), -1, 0\n",
    "        )\n",
    "    )\n",
    "    df['Position'] = df['Signal'].shift()\n",
    "    df['Strategy_Returns'] = df['Position'] * df['Close'].pct_change()\n",
    "    return (df['Strategy_Returns'] + 1).cumprod().iloc[-1] -1 # Retorno total"
   ]
  },
  {
   "cell_type": "code",
   "execution_count": 17,
   "metadata": {},
   "outputs": [],
   "source": [
    "# Definir el rango de parámetros a probar\n",
    "buy_thresholds = range(-30, 0, 1)\n",
    "sell_thresholds = range(0, 30, 1)"
   ]
  },
  {
   "cell_type": "code",
   "execution_count": 18,
   "metadata": {},
   "outputs": [],
   "source": [
    "# Probar todas las combinaciones de parámetros\n",
    "best_performance = -np.inf\n",
    "best_params = (None, None)"
   ]
  },
  {
   "cell_type": "code",
   "execution_count": 23,
   "metadata": {},
   "outputs": [
    {
     "name": "stdout",
     "output_type": "stream",
     "text": [
      "Mejores parámetros: Buy Threshold=-30, sell Threshold=0\n",
      "Mejor Rendimiento: 375.94%\n"
     ]
    }
   ],
   "source": [
    "for buy_threshold in buy_thresholds:\n",
    "    for sell_threshold in sell_thresholds:\n",
    "        if buy_threshold >= sell_threshold:\n",
    "            continue\n",
    "        performance = backtest_strategy(buy_threshold, sell_threshold)\n",
    "        if performance > best_performance:\n",
    "            best_performance = performance\n",
    "            best_params = (buy_threshold, sell_threshold)\n",
    "\n",
    "print(f\"Mejores parámetros: Buy Threshold={best_params[0]}, sell Threshold={best_params[1]}\")\n",
    "print(f'Mejor Rendimiento: {best_performance:.2%}')"
   ]
  }
 ],
 "metadata": {
  "kernelspec": {
   "display_name": "data_science_path",
   "language": "python",
   "name": "python3"
  },
  "language_info": {
   "codemirror_mode": {
    "name": "ipython",
    "version": 3
   },
   "file_extension": ".py",
   "mimetype": "text/x-python",
   "name": "python",
   "nbconvert_exporter": "python",
   "pygments_lexer": "ipython3",
   "version": "3.10.13"
  }
 },
 "nbformat": 4,
 "nbformat_minor": 2
}
