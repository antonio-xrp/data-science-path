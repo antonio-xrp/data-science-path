{
 "cells": [
  {
   "cell_type": "code",
   "execution_count": 6,
   "metadata": {},
   "outputs": [],
   "source": [
    "import pandas as pd\n",
    "import matplotlib.pyplot as plt\n",
    "import seaborn as sns\n",
    "import yfinance as yf\n",
    "import numpy as np\n",
    "import talib as ta"
   ]
  },
  {
   "cell_type": "code",
   "execution_count": 7,
   "metadata": {},
   "outputs": [],
   "source": [
    "activo = 'BTC-USD'\n",
    "df = yf.Ticker(activo)\n",
    "df = df.history(start='2018-01-01', end='2024-11-28')"
   ]
  },
  {
   "cell_type": "code",
   "execution_count": 8,
   "metadata": {},
   "outputs": [],
   "source": [
    "def backtest_macd_strategy(fastperiod, slowperiod, signalperiod):\n",
    "    df['MACD'], df['MACD_Signal'], _ = ta.MACD(df['Close'],\n",
    "                                               fastperiod=fastperiod,\n",
    "                                               slowperiod=slowperiod,\n",
    "                                               signalperiod=signalperiod)\n",
    "    df['Signal'] = np.where(df['MACD'] > df['MACD_Signal'], 1, -1)\n",
    "    df['Position'] = df['Signal'].shift()\n",
    "    df['Strategy_Returns'] = df['Position'] * df['Close'].pct_change()\n",
    "    \n",
    "    return (df['Strategy_Returns'] + 1).cumprod().iloc[-1] - 1 # Retorno total"
   ]
  },
  {
   "cell_type": "code",
   "execution_count": 9,
   "metadata": {},
   "outputs": [],
   "source": [
    "# Definir el rango de parámetros a probar\n",
    "fast_periods = range(2, 50, 1)    # Período rápido\n",
    "slow_periods = range(10, 200, 1)  # Período lento\n",
    "signal_periods = range(2, 50, 1)  # Período de señal"
   ]
  },
  {
   "cell_type": "code",
   "execution_count": 10,
   "metadata": {},
   "outputs": [],
   "source": [
    "# Probar todas las combinaciones de parámetros\n",
    "best_performance = -np.inf\n",
    "best_params = (None, None, None)"
   ]
  },
  {
   "cell_type": "code",
   "execution_count": 11,
   "metadata": {},
   "outputs": [
    {
     "name": "stdout",
     "output_type": "stream",
     "text": [
      "Mejores parámetros: MACD rápido=3, MACD lento=118, Señal=27\n",
      "Mejor rendimiento: 7174.67%\n"
     ]
    }
   ],
   "source": [
    "for fast_period in fast_periods:\n",
    "    for slow_period in slow_periods:\n",
    "        if fast_period >= slow_period:\n",
    "            continue  # Evitar combinaciones donde el período rápido sea mayor o igual al lento\n",
    "        for signal_period in signal_periods:\n",
    "            performance = backtest_macd_strategy(fast_period, slow_period, signal_period)\n",
    "            if performance > best_performance:\n",
    "                best_performance = performance\n",
    "                best_params = (fast_period, slow_period, signal_period)\n",
    "\n",
    "\n",
    "print(f\"Mejores parámetros: MACD rápido={best_params[0]}, MACD lento={best_params[1]}, Señal={best_params[2]}\")\n",
    "print(f\"Mejor rendimiento: {best_performance:.2%}\")"
   ]
  }
 ],
 "metadata": {
  "kernelspec": {
   "display_name": "data_science_path",
   "language": "python",
   "name": "python3"
  },
  "language_info": {
   "codemirror_mode": {
    "name": "ipython",
    "version": 3
   },
   "file_extension": ".py",
   "mimetype": "text/x-python",
   "name": "python",
   "nbconvert_exporter": "python",
   "pygments_lexer": "ipython3",
   "version": "3.10.13"
  }
 },
 "nbformat": 4,
 "nbformat_minor": 2
}
