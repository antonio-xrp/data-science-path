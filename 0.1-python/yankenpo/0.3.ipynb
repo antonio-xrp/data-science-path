{
 "cells": [
  {
   "cell_type": "code",
   "execution_count": 15,
   "metadata": {},
   "outputs": [],
   "source": [
    "import sys\n",
    "import random\n",
    "from enum import Enum\n"
   ]
  },
  {
   "cell_type": "markdown",
   "metadata": {},
   "source": [
    "Ahora hace una condicional de negacion "
   ]
  },
  {
   "cell_type": "code",
   "execution_count": 16,
   "metadata": {},
   "outputs": [],
   "source": [
    "def play_rps():\n",
    "\n",
    "    class RPS(Enum):\n",
    "        ROCK = 1\n",
    "        PAPER = 2\n",
    "        SCISSORS = 3\n",
    "\n",
    "    playerchoice = input(\n",
    "        \"\\nEnter... \\n1 for Rock,\\n2 for Paper, or \\n3 for Scissors:\\n\\n\")\n",
    "\n",
    "    if playerchoice not in [\"1\", \"2\", \"3\"]:\n",
    "        print(\"You must enter 1, 2, or 3.\")\n",
    "        return play_rps()\n",
    "\n",
    "    player = int(playerchoice)\n",
    "\n",
    "    computerchoice = random.choice(\"123\")\n",
    "\n",
    "    computer = int(computerchoice)\n",
    "\n",
    "    print(\"\\nYou chose \" + str(RPS(player)).replace('RPS.', '').title() + \".\")\n",
    "    print(\"Python chose \" + str(RPS(computer)\n",
    "                                ).replace('RPS.', '').title() + \".\\n\")\n",
    "\n",
    "    if player == 1 and computer == 3:\n",
    "        print(\"🎉 You win!\")\n",
    "    elif player == 2 and computer == 1:\n",
    "        print(\"🎉 You win!\")\n",
    "    elif player == 3 and computer == 2:\n",
    "        print(\"🎉 You win!\")\n",
    "    elif player == computer:\n",
    "        print(\"😲 Tie game!\")\n",
    "    else:\n",
    "        print(\"🐍 Python wins!\")\n",
    "\n",
    "    print(\"\\nPlay again?\")\n",
    "\n",
    "    while True:\n",
    "        playagain = input(\"\\nY for Yes or \\nQ to Quit\\n\")\n",
    "        if playagain.lower() not in [\"y\", \"q\"]:\n",
    "            continue\n",
    "        else:\n",
    "            break\n",
    "\n",
    "    if playagain.lower() == \"y\":\n",
    "        return play_rps()\n",
    "    else:\n",
    "        print(\"\\n🎉🎉🎉🎉\")\n",
    "        print(\"Thank you for playing!\\n\")\n",
    "        sys.exit(\"Bye! 👋\")\n"
   ]
  },
  {
   "cell_type": "code",
   "execution_count": 17,
   "metadata": {},
   "outputs": [
    {
     "name": "stdout",
     "output_type": "stream",
     "text": [
      "\n",
      "You chose Rock.\n",
      "Python chose Rock.\n",
      "\n",
      "😲 Tie game!\n",
      "\n",
      "Play again?\n",
      "\n",
      "You chose Rock.\n",
      "Python chose Paper.\n",
      "\n",
      "🐍 Python wins!\n",
      "\n",
      "Play again?\n",
      "\n",
      "🎉🎉🎉🎉\n",
      "Thank you for playing!\n",
      "\n"
     ]
    },
    {
     "ename": "SystemExit",
     "evalue": "Bye! 👋",
     "output_type": "error",
     "traceback": [
      "An exception has occurred, use %tb to see the full traceback.\n",
      "\u001b[0;31mSystemExit\u001b[0m\u001b[0;31m:\u001b[0m Bye! 👋\n"
     ]
    }
   ],
   "source": [
    "play_rps()"
   ]
  }
 ],
 "metadata": {
  "kernelspec": {
   "display_name": "base",
   "language": "python",
   "name": "python3"
  },
  "language_info": {
   "codemirror_mode": {
    "name": "ipython",
    "version": 3
   },
   "file_extension": ".py",
   "mimetype": "text/x-python",
   "name": "python",
   "nbconvert_exporter": "python",
   "pygments_lexer": "ipython3",
   "version": "3.10.14"
  }
 },
 "nbformat": 4,
 "nbformat_minor": 2
}
