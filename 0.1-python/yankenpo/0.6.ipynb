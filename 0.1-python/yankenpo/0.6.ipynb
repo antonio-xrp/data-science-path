{
 "cells": [
  {
   "cell_type": "code",
   "execution_count": 1,
   "metadata": {},
   "outputs": [],
   "source": [
    "import sys\n",
    "import random\n",
    "from enum import Enum"
   ]
  },
  {
   "cell_type": "markdown",
   "metadata": {},
   "source": [
    "Se agrega la manera de imprimir f\"\"\n",
    "\n",
    "1. Opciones\n",
    "1. contadores\n",
    "1. Se pide al usuario ingresar 1,2,3\n",
    "1. La computadora tiene la opcion de eligir\n",
    "1. se pedira si quiere jugar nuevamente\n"
   ]
  },
  {
   "cell_type": "code",
   "execution_count": 11,
   "metadata": {},
   "outputs": [],
   "source": [
    "def rps():\n",
    "    game_count = 0\n",
    "    player_wins = 0\n",
    "    python_wins = 0\n",
    "\n",
    "    def play_rps():\n",
    "        nonlocal player_wins\n",
    "        nonlocal python_wins\n",
    "\n",
    "        # definimos las opciones\n",
    "        class RPS(Enum):\n",
    "            ROCK = 1\n",
    "            PAPER = 2\n",
    "            SCISSORS = 3\n",
    "        \n",
    "        playerchoice = input(\"\\nEnter... \\n1 for Rock,\\n2 for Paper, or \\n3 for Scissors:\\n\\n\")\n",
    "\n",
    "        # validamos la elección del jugador\n",
    "        if playerchoice.lower() not in [\"1\",\"2\",\"3\"]:\n",
    "            print(\"You must enter 1,2 or 3\")\n",
    "            return play_rps()\n",
    "\n",
    "        player = int(playerchoice)\n",
    "\n",
    "        computerchoice = random.choice(\"123\")\n",
    "        computer = int(computerchoice)\n",
    "\n",
    "        print(f\"\\nYou chose {str(RPS(player)).replace('RPS.','').title()}\")\n",
    "        print(f\"Python chose {str(RPS(computer)).replace('RPS.','').title()}\")\n",
    "\n",
    "        # determinamos el ganador\n",
    "        def decide_winner(player, computer):\n",
    "            nonlocal player_wins\n",
    "            nonlocal python_wins\n",
    "\n",
    "            if player == 1 and computer == 3:\n",
    "                player_wins += 1\n",
    "                return \"🎉 You win!\"\n",
    "            elif player == 2 and computer == 1:\n",
    "                player_wins += 1\n",
    "                return \"🎉 You win!\"\n",
    "            elif player == 3 and computer == 2:\n",
    "                player_wins += 1\n",
    "                return \"🎉 You win!\"\n",
    "            elif player == computer:\n",
    "                return \"😲 Tie game!\"\n",
    "            else: \n",
    "                python_wins += 1\n",
    "                return \"😭 Python wins!\"\n",
    "\n",
    "        game_result = decide_winner(player, computer)\n",
    "        print(game_result)\n",
    "\n",
    "        # contador de juegos\n",
    "        nonlocal game_count\n",
    "        game_count += 1\n",
    "        # bucle para repetir el juego\n",
    "        print(\"\\nPlay again?\")\n",
    "\n",
    "        while True:\n",
    "            playagain = input(\"\\Y for Yes or \\nQ to quit\\n\")\n",
    "            if playagain.lower() not in ['y', 'q']:\n",
    "                continue\n",
    "            else:\n",
    "                break\n",
    "        \n",
    "        if playagain.lower() == \"y\":\n",
    "            return play_rps()\n",
    "        else: \n",
    "            print(\"\\n🎉🎉🎉🎉\")\n",
    "            print(\"Thank you for playing!\\n\")\n",
    "            sys.exit(\"Bye! 👋\")\n",
    "            \n",
    "        \n",
    "    return play_rps()"
   ]
  },
  {
   "cell_type": "code",
   "execution_count": 12,
   "metadata": {},
   "outputs": [
    {
     "name": "stdout",
     "output_type": "stream",
     "text": [
      "\n",
      "You chose Rock\n",
      "Python chose Rock\n",
      "😲 Tie game!\n",
      "\n",
      "Play again?\n",
      "\n",
      "You chose Paper\n",
      "Python chose Scissors\n",
      "😭 Python wins!\n",
      "\n",
      "Play again?\n",
      "\n",
      "You chose Scissors\n",
      "Python chose Paper\n",
      "🎉 You win!\n",
      "\n",
      "Play again?\n",
      "\n",
      "🎉🎉🎉🎉\n",
      "Thank you for playing!\n",
      "\n"
     ]
    },
    {
     "ename": "SystemExit",
     "evalue": "Bye! 👋",
     "output_type": "error",
     "traceback": [
      "An exception has occurred, use %tb to see the full traceback.\n",
      "\u001b[0;31mSystemExit\u001b[0m\u001b[0;31m:\u001b[0m Bye! 👋\n"
     ]
    }
   ],
   "source": [
    "rock_paper_scissors = rps()"
   ]
  },
  {
   "cell_type": "code",
   "execution_count": 3,
   "metadata": {},
   "outputs": [
    {
     "name": "stdout",
     "output_type": "stream",
     "text": [
      "\n",
      "You chose Rock.\n",
      "Python chose Paper.\n",
      "\n",
      "🐍 Python wins!\n",
      "\n",
      "Game count: 1\n",
      "\n",
      "Player wins: 0\n",
      "\n",
      "Python wins: 1\n",
      "\n",
      "Play again?\n",
      "\n",
      "🎉🎉🎉🎉\n",
      "Thank you for playing!\n",
      "\n"
     ]
    },
    {
     "ename": "SystemExit",
     "evalue": "Bye! 👋",
     "output_type": "error",
     "traceback": [
      "An exception has occurred, use %tb to see the full traceback.\n",
      "\u001b[0;31mSystemExit\u001b[0m\u001b[0;31m:\u001b[0m Bye! 👋\n"
     ]
    },
    {
     "name": "stderr",
     "output_type": "stream",
     "text": [
      "/home/sathony/.local/lib/python3.10/site-packages/IPython/core/interactiveshell.py:3561: UserWarning: To exit: use 'exit', 'quit', or Ctrl-D.\n",
      "  warn(\"To exit: use 'exit', 'quit', or Ctrl-D.\", stacklevel=1)\n"
     ]
    }
   ],
   "source": []
  }
 ],
 "metadata": {
  "kernelspec": {
   "display_name": "base",
   "language": "python",
   "name": "python3"
  },
  "language_info": {
   "codemirror_mode": {
    "name": "ipython",
    "version": 3
   },
   "file_extension": ".py",
   "mimetype": "text/x-python",
   "name": "python",
   "nbconvert_exporter": "python",
   "pygments_lexer": "ipython3",
   "version": "3.10.14"
  }
 },
 "nbformat": 4,
 "nbformat_minor": 2
}
