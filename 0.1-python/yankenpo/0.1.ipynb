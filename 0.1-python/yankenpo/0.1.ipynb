{
 "cells": [
  {
   "cell_type": "code",
   "execution_count": 13,
   "metadata": {},
   "outputs": [],
   "source": [
    "import sys \n",
    "import random \n",
    "from enum import Enum"
   ]
  },
  {
   "cell_type": "markdown",
   "metadata": {},
   "source": [
    "Enumeramos las opciones "
   ]
  },
  {
   "cell_type": "code",
   "execution_count": 14,
   "metadata": {},
   "outputs": [],
   "source": [
    "class RPS(Enum):\n",
    "    ROCK = 1\n",
    "    PAPER = 2\n",
    "    SCISSORS = 3"
   ]
  },
  {
   "cell_type": "markdown",
   "metadata": {},
   "source": [
    "Entrada del dato y guardamos en una variable tipo INT"
   ]
  },
  {
   "cell_type": "code",
   "execution_count": 15,
   "metadata": {},
   "outputs": [
    {
     "name": "stdout",
     "output_type": "stream",
     "text": [
      "\n"
     ]
    }
   ],
   "source": [
    "print(\"\")\n",
    "playerchoice = input(\n",
    "    \"Enter... \\n1 for Rock, \\n2 for Paper, \\n3 for Scissors: \\n\"\n",
    ")\n",
    "\n",
    "player = int(playerchoice)"
   ]
  },
  {
   "cell_type": "markdown",
   "metadata": {},
   "source": [
    "Condicionamos si esta fuera del alcance"
   ]
  },
  {
   "cell_type": "code",
   "execution_count": 16,
   "metadata": {},
   "outputs": [],
   "source": [
    "if player < 1 or player > 3:\n",
    "    sys.exit(\"You must enter 1,2, or 3\")"
   ]
  },
  {
   "cell_type": "markdown",
   "metadata": {},
   "source": [
    "Guardamos de manera eleatoria el pick de la computadora"
   ]
  },
  {
   "cell_type": "code",
   "execution_count": 17,
   "metadata": {},
   "outputs": [],
   "source": [
    "computerchoice = random.choice(\"123\")\n",
    "computer = int(computerchoice)"
   ]
  },
  {
   "cell_type": "markdown",
   "metadata": {},
   "source": [
    "Imprimimos elecciones "
   ]
  },
  {
   "cell_type": "code",
   "execution_count": 18,
   "metadata": {},
   "outputs": [
    {
     "name": "stdout",
     "output_type": "stream",
     "text": [
      "\n",
      "You chose ROCK\n",
      "Python chose ROCK\n"
     ]
    }
   ],
   "source": [
    "print(\"\")\n",
    "print(\"You chose \" + str(RPS(player)).replace('RPS.',''))\n",
    "print(\"Python chose \" + str(RPS(computer)).replace('RPS.',''))"
   ]
  },
  {
   "cell_type": "markdown",
   "metadata": {},
   "source": [
    "Logica del negocio"
   ]
  },
  {
   "cell_type": "code",
   "execution_count": 19,
   "metadata": {},
   "outputs": [
    {
     "name": "stdout",
     "output_type": "stream",
     "text": [
      "😲 Tie game!\n"
     ]
    }
   ],
   "source": [
    "if player == 1 and computer == 3:\n",
    "    print(\"🎉 You win!\")\n",
    "elif player == 2 and computer == 1:\n",
    "    print(\"🎉 You win!\")\n",
    "elif player == 3 and computer == 2:\n",
    "    print(\"🎉 You win!\")\n",
    "elif player == computer:\n",
    "    print(\"😲 Tie game!\")\n",
    "else: \n",
    "    print(\"🐍 Python wins!\")\n"
   ]
  }
 ],
 "metadata": {
  "kernelspec": {
   "display_name": "base",
   "language": "python",
   "name": "python3"
  },
  "language_info": {
   "codemirror_mode": {
    "name": "ipython",
    "version": 3
   },
   "file_extension": ".py",
   "mimetype": "text/x-python",
   "name": "python",
   "nbconvert_exporter": "python",
   "pygments_lexer": "ipython3",
   "version": "3.10.14"
  }
 },
 "nbformat": 4,
 "nbformat_minor": 2
}
