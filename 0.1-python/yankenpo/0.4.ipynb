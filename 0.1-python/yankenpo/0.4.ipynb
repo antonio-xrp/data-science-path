{
 "cells": [
  {
   "cell_type": "code",
   "execution_count": 1,
   "metadata": {},
   "outputs": [],
   "source": [
    "import sys\n",
    "import random\n",
    "from enum import Enum"
   ]
  },
  {
   "cell_type": "markdown",
   "metadata": {},
   "source": [
    "Agregaremos un contador"
   ]
  },
  {
   "cell_type": "code",
   "execution_count": 2,
   "metadata": {},
   "outputs": [],
   "source": [
    "game_count = 0"
   ]
  },
  {
   "cell_type": "code",
   "execution_count": 12,
   "metadata": {},
   "outputs": [],
   "source": [
    "def play_rps():\n",
    "\n",
    "    class RPS(Enum):\n",
    "        ROCK = 1\n",
    "        PAPER = 2\n",
    "        SCISSORS = 3\n",
    "\n",
    "    playerchoice = input(\n",
    "        \"\\nEnter... \\n1 for Rock,\\n2 for Paper, or \\n3 for Scissors:\\n\\n\")\n",
    "\n",
    "    if playerchoice not in [\"1\", \"2\", \"3\"]:\n",
    "        print(\"You must enter 1, 2, or 3.\")\n",
    "        return play_rps()\n",
    "\n",
    "    player = int(playerchoice)\n",
    "\n",
    "    computerchoice = random.choice(\"123\")\n",
    "\n",
    "    computer = int(computerchoice)\n",
    "\n",
    "    print(\"\\nYou chose \" + str(RPS(player)).replace('RPS.', '').title() + \".\")\n",
    "    print(\"Python chose \" + str(RPS(computer)\n",
    "                                ).replace('RPS.', '').title() + \".\\n\")\n",
    "\n",
    "    def decide_winner(player, computer):\n",
    "        if player == 1 and computer == 3:\n",
    "            return \"🎉 You win!\"\n",
    "        elif player == 2 and computer == 1:\n",
    "            return \"🎉 You win!\"\n",
    "        elif player == 3 and computer == 2:\n",
    "            return \"🎉 You win!\"\n",
    "        elif player == computer:\n",
    "            return \"😲 Tie game!\"\n",
    "        else:\n",
    "            return \"🐍 Python wins!\"\n",
    "\n",
    "    game_result = decide_winner(player, computer)\n",
    "\n",
    "    print(game_result)\n",
    "\n",
    "    global game_count\n",
    "    game_count += 1\n",
    "\n",
    "    print(\"\\nGame count: \" + str(game_count))\n",
    "\n",
    "    print(\"\\nPlay again?\")\n",
    "\n",
    "    while True:\n",
    "        playagain = input(\"\\nY for Yes or \\nQ to Quit\\n\")\n",
    "        if playagain.lower() not in [\"y\", \"q\"]:\n",
    "            continue\n",
    "        else:\n",
    "            break\n",
    "\n",
    "    if playagain.lower() == \"y\":\n",
    "        return play_rps()\n",
    "    else:\n",
    "        print(\"\\n🎉🎉🎉🎉\")\n",
    "        print(\"Thank you for playing!\\n\")\n",
    "        sys.exit(\"Bye! 👋\")\n",
    "\n",
    "    "
   ]
  },
  {
   "cell_type": "code",
   "execution_count": 13,
   "metadata": {},
   "outputs": [
    {
     "name": "stdout",
     "output_type": "stream",
     "text": [
      "\n",
      "You chose Rock.\n",
      "Python chose Rock.\n",
      "\n",
      "😲 Tie game!\n",
      "\n",
      "Game count: 5\n",
      "\n",
      "Play again?\n",
      "\n",
      "You chose Paper.\n",
      "Python chose Rock.\n",
      "\n",
      "🎉 You win!\n",
      "\n",
      "Game count: 6\n",
      "\n",
      "Play again?\n",
      "\n",
      "🎉🎉🎉🎉\n",
      "Thank you for playing!\n",
      "\n"
     ]
    },
    {
     "ename": "SystemExit",
     "evalue": "Bye! 👋",
     "output_type": "error",
     "traceback": [
      "An exception has occurred, use %tb to see the full traceback.\n",
      "\u001b[0;31mSystemExit\u001b[0m\u001b[0;31m:\u001b[0m Bye! 👋\n"
     ]
    }
   ],
   "source": [
    "play_rps()"
   ]
  }
 ],
 "metadata": {
  "kernelspec": {
   "display_name": "base",
   "language": "python",
   "name": "python3"
  },
  "language_info": {
   "codemirror_mode": {
    "name": "ipython",
    "version": 3
   },
   "file_extension": ".py",
   "mimetype": "text/x-python",
   "name": "python",
   "nbconvert_exporter": "python",
   "pygments_lexer": "ipython3",
   "version": "3.10.14"
  }
 },
 "nbformat": 4,
 "nbformat_minor": 2
}
