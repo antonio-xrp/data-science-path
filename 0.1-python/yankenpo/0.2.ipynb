{
 "cells": [
  {
   "cell_type": "code",
   "execution_count": 3,
   "metadata": {},
   "outputs": [],
   "source": [
    "import sys\n",
    "import random\n",
    "from enum import Enum"
   ]
  },
  {
   "cell_type": "code",
   "execution_count": 4,
   "metadata": {},
   "outputs": [],
   "source": [
    "class RPS(Enum):\n",
    "    ROCK = 0\n",
    "    PAPER = 1\n",
    "    SCISSORS = 2"
   ]
  },
  {
   "cell_type": "markdown",
   "metadata": {},
   "source": [
    "Agregamos la funcion de jugar nuevamente"
   ]
  },
  {
   "cell_type": "code",
   "execution_count": 6,
   "metadata": {},
   "outputs": [
    {
     "name": "stdout",
     "output_type": "stream",
     "text": [
      "\n",
      "You chose: Paper\n",
      "Python chose: Scissors\n",
      "🐍 Python wins!\n",
      "\n",
      "🎉🎉🎉🎉\n",
      "Thank you for playing!\n",
      "\n"
     ]
    },
    {
     "ename": "SystemExit",
     "evalue": "Bye! 👋",
     "output_type": "error",
     "traceback": [
      "An exception has occurred, use %tb to see the full traceback.\n",
      "\u001b[0;31mSystemExit\u001b[0m\u001b[0;31m:\u001b[0m Bye! 👋\n"
     ]
    },
    {
     "name": "stderr",
     "output_type": "stream",
     "text": [
      "/home/sathony/.local/lib/python3.10/site-packages/IPython/core/interactiveshell.py:3561: UserWarning: To exit: use 'exit', 'quit', or Ctrl-D.\n",
      "  warn(\"To exit: use 'exit', 'quit', or Ctrl-D.\", stacklevel=1)\n"
     ]
    }
   ],
   "source": [
    "playagain = True\n",
    "\n",
    "while playagain:\n",
    "    playerchoice = input(\n",
    "        \"\\nEnter... \\n1 for Rrock, \\n2 for Paper, \\n3 for Scissors: \"\n",
    "    )\n",
    "    player = int(playerchoice)\n",
    "\n",
    "    if player < 1 or player > 3:\n",
    "        sys.exit(\"You must enter 1, 2, or 3.🤦‍♂️\")\n",
    "    \n",
    "    computerchoice = random.choice(\"123\")\n",
    "    computer = int(computerchoice)\n",
    "\n",
    "    print(\"\\nYou chose: \" + str(RPS(player)).replace(\"RPS.\", \"\").title())\n",
    "    print(\"Python chose: \" + str(RPS(computer)).replace(\"RPS.\", \"\").title())\n",
    "\n",
    "    if player == 1 and computer == 3:\n",
    "        print(\"🎉 You win!\")\n",
    "    elif player == 2 and computer == 1:\n",
    "        print(\"🎉 You win!\")\n",
    "    elif player == 3 and computer == 2:\n",
    "        print(\"🎉 You win!\")\n",
    "    elif player == computer:\n",
    "        print(\"😲 Tie game!\")\n",
    "    else:\n",
    "        print(\"🐍 Python wins!\")\n",
    "    \n",
    "    playagain = input(\"\\nPlay again? \\nY for yes or \\nQ to quit \\n\\n\")\n",
    "\n",
    "    if playagain.lower() == \"y\":\n",
    "        continue\n",
    "    else:\n",
    "        print(\"\\n🎉🎉🎉🎉\")\n",
    "        print(\"Thank you for playing!\\n\")\n",
    "        playagain = False\n",
    "\n",
    "sys.exit(\"Bye! 👋\")"
   ]
  }
 ],
 "metadata": {
  "kernelspec": {
   "display_name": "base",
   "language": "python",
   "name": "python3"
  },
  "language_info": {
   "codemirror_mode": {
    "name": "ipython",
    "version": 3
   },
   "file_extension": ".py",
   "mimetype": "text/x-python",
   "name": "python",
   "nbconvert_exporter": "python",
   "pygments_lexer": "ipython3",
   "version": "3.10.14"
  }
 },
 "nbformat": 4,
 "nbformat_minor": 2
}
