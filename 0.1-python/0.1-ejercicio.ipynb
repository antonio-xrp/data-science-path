{
 "cells": [
  {
   "cell_type": "markdown",
   "metadata": {},
   "source": [
    "# Ejemplos de tipos de operadores en Python\n",
    "\n",
    "1. Resta"
   ]
  },
  {
   "cell_type": "code",
   "execution_count": 3,
   "metadata": {},
   "outputs": [
    {
     "name": "stdout",
     "output_type": "stream",
     "text": [
      "El total de la cartera es: 1000\n"
     ]
    }
   ],
   "source": [
    "Ingreso = 2500\n",
    "Gastos = 1500\n",
    "\n",
    "Total = Ingreso - Gastos\n",
    "\n",
    "print(f'El total de la cartera es: {Total}')"
   ]
  },
  {
   "cell_type": "markdown",
   "metadata": {},
   "source": [
    "2. Suma"
   ]
  },
  {
   "cell_type": "code",
   "execution_count": 4,
   "metadata": {},
   "outputs": [
    {
     "name": "stdout",
     "output_type": "stream",
     "text": [
      "El total de ingreso es: 3000\n"
     ]
    }
   ],
   "source": [
    "ingreso_1 = 1200\n",
    "ingreso_2 = 1300\n",
    "ingreso_3 = 500\n",
    "\n",
    "tota_ingreso = ingreso_1 + ingreso_2 + ingreso_3\n",
    "\n",
    "print(f'El total de ingreso es: {tota_ingreso}')"
   ]
  },
  {
   "cell_type": "markdown",
   "metadata": {},
   "source": [
    "3. Multiplicación"
   ]
  },
  {
   "cell_type": "code",
   "execution_count": 5,
   "metadata": {},
   "outputs": [
    {
     "name": "stdout",
     "output_type": "stream",
     "text": [
      "El total de acciones compradas en $ es: 385.0\n"
     ]
    }
   ],
   "source": [
    "acciones_compradas = 100\n",
    "valor_accion = 3.85\n",
    "\n",
    "total_acciones = acciones_compradas * valor_accion\n",
    "\n",
    "print(f'El total de acciones compradas en $ es: {total_acciones}')"
   ]
  },
  {
   "cell_type": "markdown",
   "metadata": {},
   "source": [
    "4. División"
   ]
  },
  {
   "cell_type": "code",
   "execution_count": 12,
   "metadata": {},
   "outputs": [
    {
     "name": "stdout",
     "output_type": "stream",
     "text": [
      "El presupuesto por area es: 2185.714285714286\n",
      "El presupuesto por area es: 2185\n",
      "El presupuesto por area es: 5\n"
     ]
    }
   ],
   "source": [
    "presupuesto_total = 15300\n",
    "area_total_empresa = 7\n",
    "presupuesto_area = presupuesto_total / area_total_empresa\n",
    "\n",
    "presupuesto_area_1 = presupuesto_total // area_total_empresa\n",
    "presupuesto_area_2 = presupuesto_total % area_total_empresa\n",
    "\n",
    "\n",
    "print(f'El presupuesto por area es: {presupuesto_area}')\n",
    "print(f'El presupuesto por area es: {presupuesto_area_1}')\n",
    "print(f'El presupuesto por area es: {presupuesto_area_2}')\n"
   ]
  },
  {
   "cell_type": "markdown",
   "metadata": {},
   "source": [
    "5. Exponente"
   ]
  },
  {
   "cell_type": "code",
   "execution_count": 13,
   "metadata": {},
   "outputs": [
    {
     "name": "stdout",
     "output_type": "stream",
     "text": [
      "El total de la variable a al cuadrado es: 100\n"
     ]
    }
   ],
   "source": [
    "variable_a = 10\n",
    "\n",
    "total = variable_a ** 2\n",
    "\n",
    "print(f'El total de la variable a al cuadrado es: {total}')"
   ]
  },
  {
   "cell_type": "markdown",
   "metadata": {},
   "source": [
    "!condicionales."
   ]
  },
  {
   "cell_type": "code",
   "execution_count": 15,
   "metadata": {},
   "outputs": [
    {
     "name": "stdout",
     "output_type": "stream",
     "text": [
      "La variable 1 no es menor que la variable 2\n"
     ]
    }
   ],
   "source": [
    "variable_1 = 100\n",
    "variable_2 = 50\n",
    "\n",
    "if variable_1 < variable_2 & variable_1 == 100:\n",
    "    print('La variable 1 es menor que la variable 2')\n",
    "else:\n",
    "    print('La variable 1 no es menor que la variable 2')"
   ]
  },
  {
   "cell_type": "code",
   "execution_count": 18,
   "metadata": {},
   "outputs": [
    {
     "data": {
      "text/plain": [
       "0"
      ]
     },
     "execution_count": 18,
     "metadata": {},
     "output_type": "execute_result"
    }
   ],
   "source": [
    "12%3"
   ]
  },
  {
   "cell_type": "code",
   "execution_count": 30,
   "metadata": {},
   "outputs": [
    {
     "name": "stdout",
     "output_type": "stream",
     "text": [
      "[10, 14, 20, 22, 26, 28, 32, 34, 38, 40, 44, 46, 50, 52]\n"
     ]
    }
   ],
   "source": [
    "numeros = []\n",
    "\n",
    "for i in range(10, 56):\n",
    "    if i % 2 == 0 and  i !=16 and i %3 != 0 :\n",
    "        numeros.append(i)\n",
    "print(numeros)  \n"
   ]
  },
  {
   "cell_type": "code",
   "execution_count": 31,
   "metadata": {},
   "outputs": [
    {
     "data": {
      "text/plain": [
       "[10, 14, 20, 22, 26, 28, 32, 34, 38, 40, 44, 46, 50, 52]"
      ]
     },
     "execution_count": 31,
     "metadata": {},
     "output_type": "execute_result"
    }
   ],
   "source": [
    "[i for i in range(10,56) if i % 2 == 0 and i != 16 and i % 3 != 0]"
   ]
  },
  {
   "cell_type": "code",
   "execution_count": null,
   "metadata": {},
   "outputs": [],
   "source": []
  }
 ],
 "metadata": {
  "kernelspec": {
   "display_name": "base",
   "language": "python",
   "name": "python3"
  },
  "language_info": {
   "codemirror_mode": {
    "name": "ipython",
    "version": 3
   },
   "file_extension": ".py",
   "mimetype": "text/x-python",
   "name": "python",
   "nbconvert_exporter": "python",
   "pygments_lexer": "ipython3",
   "version": "3.10.14"
  }
 },
 "nbformat": 4,
 "nbformat_minor": 2
}
