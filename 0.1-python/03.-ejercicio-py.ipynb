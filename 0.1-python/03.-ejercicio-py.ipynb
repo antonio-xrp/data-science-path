{
 "cells": [
  {
   "cell_type": "code",
   "execution_count": 45,
   "metadata": {},
   "outputs": [
    {
     "data": {
      "text/plain": [
       "['apple', 'banana', 'grape', 'kiwi', 'orange', 'pear']"
      ]
     },
     "execution_count": 45,
     "metadata": {},
     "output_type": "execute_result"
    }
   ],
   "source": [
    "fruits = ['orange', 'pear', 'banana', 'kiwi', 'apple', 'banana']\n",
    "fruits.count('apple')\n",
    "fruits.index('pear')\n",
    "fruits.reverse()\n",
    "fruits.append('grape')\n",
    "fruits.sort()\n",
    "#fruits.pop()\n",
    "fruits.insert(0,'mango')\n",
    "fruits.pop(2)\n",
    "#fruits.clear()\n",
    "fruits.remove('mango')\n",
    "fruits"
   ]
  },
  {
   "cell_type": "code",
   "execution_count": 46,
   "metadata": {},
   "outputs": [],
   "source": [
    "contactos = [\n",
    "    {\n",
    "        'nombre': 'Juan',\n",
    "        'telefono': '1234567890',\n",
    "    },\n",
    "    {\n",
    "        'nombre': 'Maria',\n",
    "        'telefono': '0987654321',\n",
    "    },\n",
    "    {\n",
    "        'nombre': 'Pedro',\n",
    "        'telefono': '6789012345',\n",
    "    },\n",
    "]"
   ]
  },
  {
   "cell_type": "code",
   "execution_count": 26,
   "metadata": {},
   "outputs": [],
   "source": [
    "def my_agenda():\n",
    "\n",
    "    agenda = {}\n",
    "\n",
    "    def insert_contact():\n",
    "        phone = input(\"Introduce el teléfono del contacto: \")\n",
    "        if phone.isdigit() and len(phone) > 0 and len(phone) <= 11:\n",
    "            agenda[name] = phone\n",
    "        else:\n",
    "            print(\n",
    "                \"Debes introducir un número de teléfono un máximo de 11 dígitos.\")\n",
    "\n",
    "    while True:\n",
    "\n",
    "        print(\"\")\n",
    "        print(\"1. Buscar contacto\")\n",
    "        print(\"2. Insertar contacto\")\n",
    "        print(\"3. Actualizar contacto\")\n",
    "        print(\"4. Eliminar contacto\")\n",
    "        print(\"5. Salir\")\n",
    "\n",
    "        option = input(\"\\nSelecciona una opción: \")\n",
    "\n",
    "        match option:\n",
    "            case \"1\":\n",
    "                name = input(\"Introduce el nombre del contacto a buscar: \")\n",
    "                if name in agenda:\n",
    "                    print(\n",
    "                        f\"El número de teléfono de {name} es {agenda[name]}.\")\n",
    "                else:\n",
    "                    print(f\"El contacto {name} no existe.\")\n",
    "            case \"2\":\n",
    "                name = input(\"Introduce el nombre del contacto: \")\n",
    "                insert_contact()\n",
    "            case \"3\":\n",
    "                name = input(\"Introduce el nombre del contacto a actualizar: \")\n",
    "                if name in agenda:\n",
    "                    insert_contact()\n",
    "                else:\n",
    "                    print(f\"El contacto {name} no existe.\")\n",
    "            case \"4\":\n",
    "                name = input(\"Introduce el nombre del contacto a a eliminar: \")\n",
    "                if name in agenda:\n",
    "                    del agenda[name]\n",
    "                else:\n",
    "                    print(f\"El contacto {name} no existe.\")\n",
    "            case \"5\":\n",
    "                print(\"Saliendo de la agenda.\")\n",
    "                break\n",
    "            case _:\n",
    "                print(\"Opción no válida. Elige una opción del 1 al 5.\")\n",
    "\n",
    "\n",
    "\n"
   ]
  },
  {
   "cell_type": "code",
   "execution_count": 27,
   "metadata": {},
   "outputs": [
    {
     "name": "stdout",
     "output_type": "stream",
     "text": [
      "\n",
      "1. Buscar contacto\n",
      "2. Insertar contacto\n",
      "3. Actualizar contacto\n",
      "4. Eliminar contacto\n",
      "5. Salir\n",
      "Opción no válida. Elige una opción del 1 al 5.\n",
      "\n",
      "1. Buscar contacto\n",
      "2. Insertar contacto\n",
      "3. Actualizar contacto\n",
      "4. Eliminar contacto\n",
      "5. Salir\n",
      "El contacto Marco no existe.\n",
      "\n",
      "1. Buscar contacto\n",
      "2. Insertar contacto\n",
      "3. Actualizar contacto\n",
      "4. Eliminar contacto\n",
      "5. Salir\n",
      "Opción no válida. Elige una opción del 1 al 5.\n",
      "\n",
      "1. Buscar contacto\n",
      "2. Insertar contacto\n",
      "3. Actualizar contacto\n",
      "4. Eliminar contacto\n",
      "5. Salir\n",
      "Opción no válida. Elige una opción del 1 al 5.\n",
      "\n",
      "1. Buscar contacto\n",
      "2. Insertar contacto\n",
      "3. Actualizar contacto\n",
      "4. Eliminar contacto\n",
      "5. Salir\n",
      "Opción no válida. Elige una opción del 1 al 5.\n",
      "\n",
      "1. Buscar contacto\n",
      "2. Insertar contacto\n",
      "3. Actualizar contacto\n",
      "4. Eliminar contacto\n",
      "5. Salir\n",
      "Saliendo de la agenda.\n"
     ]
    }
   ],
   "source": [
    "my_agenda()"
   ]
  }
 ],
 "metadata": {
  "kernelspec": {
   "display_name": "base",
   "language": "python",
   "name": "python3"
  },
  "language_info": {
   "codemirror_mode": {
    "name": "ipython",
    "version": 3
   },
   "file_extension": ".py",
   "mimetype": "text/x-python",
   "name": "python",
   "nbconvert_exporter": "python",
   "pygments_lexer": "ipython3",
   "version": "3.10.14"
  }
 },
 "nbformat": 4,
 "nbformat_minor": 2
}
