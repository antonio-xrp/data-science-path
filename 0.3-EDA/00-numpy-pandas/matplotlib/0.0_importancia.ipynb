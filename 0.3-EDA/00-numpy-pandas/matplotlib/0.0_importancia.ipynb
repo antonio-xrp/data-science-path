{
 "cells": [
  {
   "cell_type": "markdown",
   "metadata": {},
   "source": [
    "## **La importancia de la visualización de datos**"
   ]
  },
  {
   "cell_type": "markdown",
   "metadata": {},
   "source": [
    "Visualizar los datos te da respuestas a preguntas que ni siquiera tenías. Entonces, ¿por qué es importante para el mundo de las ciencias de datos? Veamos a detalle.\n",
    "\n",
    "\n",
    "**¿Cuál es la importancia de la visualización de datos?**\n",
    "\n",
    "La visualización de datos es importante porque te permite entender a profundidad tendencias, valores o patrones de datos representados a través de representación gráfica de la información.\n",
    "\n",
    "**Permite mayor contexto**\n",
    "Supón que tienes los datos y sabes hacer análisis estadísticos como desviación estándar o correlación, pero esto no da el total de los datos. Por ejemplo, al visualizarlos de manera gráfica, usando un dataset como Datasaurus, puedes ver representaciones diferentes a pesar de tener la misma información.\n",
    "\n",
    "**Permite hallazgos en nuestros datos**\n",
    "La visualización de datos te permite encontrar hallazgos directamente y de manera muy sencilla, como por ejemplo:\n",
    "\n",
    "* Hallar tendencias\n",
    "* Comportamientos\n",
    "* Detectar Outliers\n",
    "\n",
    "**Permite mayor claridad en el código**\n",
    "\n",
    "También se utiliza en la ciencia de datos orientada hacia el machine learning o inteligencia artificial, como las líneas de entrenamiento. Esto hace parte de un entrenamiento de cualquier algoritmo pues siempre vas a estar analizando esto y la manera más fácil de entenderlo a través de visualizaciones.\n",
    "\n",
    "**Librerías para visualización de datos**\n",
    "\n",
    "En la visualización de datos encontrarás dos librerías muy importantes para empezar:\n",
    "\n",
    "**Matplotlib**\n",
    "* Emula los comandos de Matlab\n",
    "* Usa Numpy\n",
    "* Escrita en Python\n",
    "* Es muy simple de escribir\n",
    "* Rápida\n",
    "* Personalizable\n",
    "\n",
    "**Seaborn**\n",
    "\n",
    "* Librería montada sobre Matplotlib\n",
    "\n",
    "**¿Qué deberías saber antes de empezar en la visualización de datos?**\n",
    "\n",
    "Para que tu camino en la visualización de datos sea más provechoso te recomendamos tener conocimientos previos en:\n",
    "\n",
    "* Tipos de visualizaciones de datos\n",
    "* Python\n",
    "* Pandas y Numpy"
   ]
  }
 ],
 "metadata": {
  "kernelspec": {
   "display_name": "base",
   "language": "python",
   "name": "python3"
  },
  "language_info": {
   "name": "python",
   "version": "3.11.5"
  }
 },
 "nbformat": 4,
 "nbformat_minor": 2
}
