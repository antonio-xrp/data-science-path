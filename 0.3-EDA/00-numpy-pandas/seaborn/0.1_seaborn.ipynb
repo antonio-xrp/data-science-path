{
 "cells": [
  {
   "cell_type": "markdown",
   "metadata": {},
   "source": [
    "## Seaborn\n",
    "\n",
    "Seaborn es una librería construida sobre Matplotlib, por lo que hereda todas las bondades de la misma. Fue escrita por Michael Waskom y está integrada para estructuras de Pandas por lo que está optimizada para funcionar con DataFrames.\n",
    "\n",
    "## **Cuáles son las ventajas de Seaborn**\n",
    "Seaborn tiene diferentes ventajas y entre ellas encuentras principalmente:\n",
    "\n",
    "* Tiene una gran velocidad\n",
    "* Facilidad para escribir código\n",
    "* Altamente customizable entre gráficas y visualizaciones\n",
    "\n",
    "## **Cuál es la estructura Básica de Seaborn**\n"
   ]
  },
  {
   "cell_type": "code",
   "execution_count": 1,
   "metadata": {},
   "outputs": [],
   "source": [
    "import matplotlib.pyplot as plt\n",
    "import numpy as np"
   ]
  },
  {
   "cell_type": "markdown",
   "metadata": {},
   "source": [
    "```\n",
    "}sns.'Tipo de Grafica'(\n",
    "    data='Dataset',\n",
    "    x='Data en el eje x',\n",
    "    y='Data en el eje y',\n",
    "    hue='Variable de agrupamiento'\n",
    ")\n"
   ]
  },
  {
   "cell_type": "markdown",
   "metadata": {},
   "source": [
    "## **Tipos de Gráficas que tiene Seaborn**\n",
    "\n",
    "\n",
    "Seaborn ofrece ciertas características principales para problemas específicos de visualización de datos:\n",
    "\n",
    "* Diagramas o gráficas relacionables\n",
    "* Distribución de datos\n",
    "* Graficar variables categóricas\n",
    "Por ejemplo:\n",
    "\n",
    "* Relplot (relacional): scatterplot, lineplot.\n",
    "* Displot (distribuciones): histplot, kdeplot, ecdfplot, rugplot.\n",
    "* Catplot (categorica): stripplot, swamplot, boxplot, violinplot, pointplot, barplot."
   ]
  }
 ],
 "metadata": {
  "kernelspec": {
   "display_name": "base",
   "language": "python",
   "name": "python3"
  },
  "language_info": {
   "codemirror_mode": {
    "name": "ipython",
    "version": 3
   },
   "file_extension": ".py",
   "mimetype": "text/x-python",
   "name": "python",
   "nbconvert_exporter": "python",
   "pygments_lexer": "ipython3",
   "version": "3.11.5"
  }
 },
 "nbformat": 4,
 "nbformat_minor": 2
}
