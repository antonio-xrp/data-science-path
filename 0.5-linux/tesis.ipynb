{
 "cells": [
  {
   "cell_type": "code",
   "execution_count": 1,
   "metadata": {},
   "outputs": [],
   "source": [
    "import numpy as np\n",
    "import pandas as pd"
   ]
  },
  {
   "cell_type": "markdown",
   "metadata": {},
   "source": [
    "\n",
    "### Probelma general \n",
    "1- ¿Qué impacto tendrá la propuesta de Implementación de Mantenimiento Productivo Total (TPM) en la productividad de la línea de Arroz Fortificado de la Empresa INSUMOS Y SERVICIOS MAQUILAK S.A.C. Lima, durante el periodo 2024? \n",
    "\n",
    "### Problemas específicios\n",
    "\n",
    "1- ¿Cuánto mejorará la eficacia en la empresa INSUMOS Y SERVICIOS MAQUILAK S.A.C. Lima, con la propuesta de implementación de Mantenimiento Productivo Total (TPM) en la línea de Arroz Fortificado, durante el periodo 2024? \n",
    "\n",
    "2- ¿Cuánto mejorará la Eficiencia productiva de la empresa INSUMOS Y SERVICIOS MAQUILAK S.A.C. Lima con la propuesta de Implementación de Mantenimiento Productivo Total (TPM) en la línea de Arroz Fortificado, durante el periodo 2024? \n",
    "\n",
    "3- ¿Cuánto mejorará la eficiencia global de los equipos (OEE) en la empresa INSUMOS Y SERVICIOS MAQUILAK S.A.C. Lima, con la propuesta de implementación de Mantenimiento Productivo Total (TPM) en la línea de Arroz Fortificado, durante el periodo 2024? \n",
    "\n",
    "---\n"
   ]
  },
  {
   "cell_type": "markdown",
   "metadata": {},
   "source": [
    "### Prueba hipotesis productividad\n"
   ]
  },
  {
   "cell_type": "code",
   "execution_count": 17,
   "metadata": {},
   "outputs": [],
   "source": [
    "results = {\"Antes de su implementación\": [0.6, 0.58, 0.59, 0.58, 0.56],\n",
    "           \"Después de su implementación\": [0.697, 0.678, 0.705, 0.695, 0.712]}"
   ]
  },
  {
   "cell_type": "code",
   "execution_count": 18,
   "metadata": {},
   "outputs": [],
   "source": [
    "index_weeks = [f\"semana {i+1}\" for i in range(5)]\n"
   ]
  },
  {
   "cell_type": "code",
   "execution_count": 19,
   "metadata": {},
   "outputs": [
    {
     "data": {
      "text/html": [
       "<div>\n",
       "<style scoped>\n",
       "    .dataframe tbody tr th:only-of-type {\n",
       "        vertical-align: middle;\n",
       "    }\n",
       "\n",
       "    .dataframe tbody tr th {\n",
       "        vertical-align: top;\n",
       "    }\n",
       "\n",
       "    .dataframe thead th {\n",
       "        text-align: right;\n",
       "    }\n",
       "</style>\n",
       "<table border=\"1\" class=\"dataframe\">\n",
       "  <thead>\n",
       "    <tr style=\"text-align: right;\">\n",
       "      <th></th>\n",
       "      <th>Antes de su implementación</th>\n",
       "      <th>Después de su implementación</th>\n",
       "    </tr>\n",
       "  </thead>\n",
       "  <tbody>\n",
       "    <tr>\n",
       "      <th>semana 1</th>\n",
       "      <td>0.60</td>\n",
       "      <td>0.697</td>\n",
       "    </tr>\n",
       "    <tr>\n",
       "      <th>semana 2</th>\n",
       "      <td>0.58</td>\n",
       "      <td>0.678</td>\n",
       "    </tr>\n",
       "    <tr>\n",
       "      <th>semana 3</th>\n",
       "      <td>0.59</td>\n",
       "      <td>0.705</td>\n",
       "    </tr>\n",
       "    <tr>\n",
       "      <th>semana 4</th>\n",
       "      <td>0.58</td>\n",
       "      <td>0.695</td>\n",
       "    </tr>\n",
       "    <tr>\n",
       "      <th>semana 5</th>\n",
       "      <td>0.56</td>\n",
       "      <td>0.712</td>\n",
       "    </tr>\n",
       "  </tbody>\n",
       "</table>\n",
       "</div>"
      ],
      "text/plain": [
       "          Antes de su implementación  Después de su implementación\n",
       "semana 1                        0.60                         0.697\n",
       "semana 2                        0.58                         0.678\n",
       "semana 3                        0.59                         0.705\n",
       "semana 4                        0.58                         0.695\n",
       "semana 5                        0.56                         0.712"
      ]
     },
     "execution_count": 19,
     "metadata": {},
     "output_type": "execute_result"
    }
   ],
   "source": [
    "df_productividad = pd.DataFrame(results, index = index_weeks)\n",
    "df_productividad"
   ]
  },
  {
   "cell_type": "markdown",
   "metadata": {},
   "source": [
    "Descripción estadística."
   ]
  },
  {
   "cell_type": "code",
   "execution_count": 20,
   "metadata": {},
   "outputs": [
    {
     "data": {
      "text/html": [
       "<div>\n",
       "<style scoped>\n",
       "    .dataframe tbody tr th:only-of-type {\n",
       "        vertical-align: middle;\n",
       "    }\n",
       "\n",
       "    .dataframe tbody tr th {\n",
       "        vertical-align: top;\n",
       "    }\n",
       "\n",
       "    .dataframe thead th {\n",
       "        text-align: right;\n",
       "    }\n",
       "</style>\n",
       "<table border=\"1\" class=\"dataframe\">\n",
       "  <thead>\n",
       "    <tr style=\"text-align: right;\">\n",
       "      <th></th>\n",
       "      <th>Antes de su implementación</th>\n",
       "      <th>Después de su implementación</th>\n",
       "    </tr>\n",
       "  </thead>\n",
       "  <tbody>\n",
       "    <tr>\n",
       "      <th>count</th>\n",
       "      <td>5.000000</td>\n",
       "      <td>5.000000</td>\n",
       "    </tr>\n",
       "    <tr>\n",
       "      <th>mean</th>\n",
       "      <td>0.582000</td>\n",
       "      <td>0.697400</td>\n",
       "    </tr>\n",
       "    <tr>\n",
       "      <th>std</th>\n",
       "      <td>0.014832</td>\n",
       "      <td>0.012779</td>\n",
       "    </tr>\n",
       "    <tr>\n",
       "      <th>min</th>\n",
       "      <td>0.560000</td>\n",
       "      <td>0.678000</td>\n",
       "    </tr>\n",
       "    <tr>\n",
       "      <th>25%</th>\n",
       "      <td>0.580000</td>\n",
       "      <td>0.695000</td>\n",
       "    </tr>\n",
       "    <tr>\n",
       "      <th>50%</th>\n",
       "      <td>0.580000</td>\n",
       "      <td>0.697000</td>\n",
       "    </tr>\n",
       "    <tr>\n",
       "      <th>75%</th>\n",
       "      <td>0.590000</td>\n",
       "      <td>0.705000</td>\n",
       "    </tr>\n",
       "    <tr>\n",
       "      <th>max</th>\n",
       "      <td>0.600000</td>\n",
       "      <td>0.712000</td>\n",
       "    </tr>\n",
       "  </tbody>\n",
       "</table>\n",
       "</div>"
      ],
      "text/plain": [
       "       Antes de su implementación  Después de su implementación\n",
       "count                    5.000000                      5.000000\n",
       "mean                     0.582000                      0.697400\n",
       "std                      0.014832                      0.012779\n",
       "min                      0.560000                      0.678000\n",
       "25%                      0.580000                      0.695000\n",
       "50%                      0.580000                      0.697000\n",
       "75%                      0.590000                      0.705000\n",
       "max                      0.600000                      0.712000"
      ]
     },
     "execution_count": 20,
     "metadata": {},
     "output_type": "execute_result"
    }
   ],
   "source": [
    "df_productividad.describe()"
   ]
  },
  {
   "cell_type": "markdown",
   "metadata": {},
   "source": [
    "Diferencia de productividad antes y despues de la implementación"
   ]
  },
  {
   "cell_type": "code",
   "execution_count": 21,
   "metadata": {},
   "outputs": [
    {
     "name": "stdout",
     "output_type": "stream",
     "text": [
      "Diferencia promedio: 0.11539999999999995\n"
     ]
    }
   ],
   "source": [
    "diferencia_promedio = df_productividad[\"Después de su implementación\"].mean() - df_productividad[\"Antes de su implementación\"].mean()\n",
    "print(f\"Diferencia promedio: {diferencia_promedio}\")"
   ]
  },
  {
   "cell_type": "markdown",
   "metadata": {},
   "source": [
    "Diferencia porcentual \n"
   ]
  },
  {
   "cell_type": "code",
   "execution_count": 22,
   "metadata": {},
   "outputs": [],
   "source": [
    "media_antes = df_productividad[\"Antes de su implementación\"].mean()\n",
    "media_despues = df_productividad[\"Después de su implementación\"].mean()"
   ]
  },
  {
   "cell_type": "code",
   "execution_count": 23,
   "metadata": {},
   "outputs": [
    {
     "name": "stdout",
     "output_type": "stream",
     "text": [
      "El incremento porcentual en la productividad es: 19.83%\n"
     ]
    }
   ],
   "source": [
    "incremento_porcentual = ((media_despues - media_antes) / media_antes) * 100\n",
    "print(f\"El incremento porcentual en la productividad es: {incremento_porcentual:.2f}%\")\n"
   ]
  },
  {
   "cell_type": "markdown",
   "metadata": {},
   "source": [
    "Prueba hipótesis: \n",
    "- $H_0$ (Hipótesis nula): La implementación del TPM no tiene un impacto significativo en la productividad de la linea de arroz fortificado. \n",
    "\n",
    "- $H_1$ (Hipótesis alternativa): La implementación del TPM tiene un impacto significativo en la productivdad de la línea de arroz fortificado. "
   ]
  },
  {
   "cell_type": "code",
   "execution_count": 24,
   "metadata": {},
   "outputs": [
    {
     "name": "stdout",
     "output_type": "stream",
     "text": [
      "T-statistic: -11.594623398040097\n",
      "P-value: 0.00031614705338893533\n",
      "Rechazamos la hipótesis nula (H₀). Hay evidencia de un impacto significativo del TPM en la productividad.\n"
     ]
    }
   ],
   "source": [
    "from scipy.stats import ttest_rel\n",
    "\n",
    "# Realizar la prueba t dependiente (para muestras relacionadas)\n",
    "t_stat, p_value = ttest_rel(df_productividad[\"Antes de su implementación\"], df_productividad[\"Después de su implementación\"])\n",
    "\n",
    "# Definir el nivel de significancia\n",
    "alpha = 0.05\n",
    "\n",
    "# Mostrar los resultados\n",
    "print(f\"T-statistic: {t_stat}\")\n",
    "print(f\"P-value: {p_value}\")\n",
    "\n",
    "if p_value < alpha:\n",
    "    print(\"Rechazamos la hipótesis nula (H₀). Hay evidencia de un impacto significativo del TPM en la productividad.\")\n",
    "else:\n",
    "    print(\"No se puede rechazar la hipótesis nula (H₀). No hay evidencia suficiente de un impacto significativo del TPM en la productividad.\")"
   ]
  },
  {
   "cell_type": "markdown",
   "metadata": {},
   "source": [
    "### Prueba hipótesis Eficiencia produtiva "
   ]
  },
  {
   "cell_type": "code",
   "execution_count": 32,
   "metadata": {},
   "outputs": [],
   "source": [
    "results = {\"Antes de su implementación\": [0.865, 0.865, 0.867, 0.864, 0.857],\n",
    "           \"Después de su implementación\": [0.886, 0.883, 0.887, 0.886, 0.888]}"
   ]
  },
  {
   "cell_type": "code",
   "execution_count": 34,
   "metadata": {},
   "outputs": [
    {
     "data": {
      "text/html": [
       "<div>\n",
       "<style scoped>\n",
       "    .dataframe tbody tr th:only-of-type {\n",
       "        vertical-align: middle;\n",
       "    }\n",
       "\n",
       "    .dataframe tbody tr th {\n",
       "        vertical-align: top;\n",
       "    }\n",
       "\n",
       "    .dataframe thead th {\n",
       "        text-align: right;\n",
       "    }\n",
       "</style>\n",
       "<table border=\"1\" class=\"dataframe\">\n",
       "  <thead>\n",
       "    <tr style=\"text-align: right;\">\n",
       "      <th></th>\n",
       "      <th>Antes de su implementación</th>\n",
       "      <th>Después de su implementación</th>\n",
       "    </tr>\n",
       "  </thead>\n",
       "  <tbody>\n",
       "    <tr>\n",
       "      <th>semana 1</th>\n",
       "      <td>0.865</td>\n",
       "      <td>0.886</td>\n",
       "    </tr>\n",
       "    <tr>\n",
       "      <th>semana 2</th>\n",
       "      <td>0.865</td>\n",
       "      <td>0.883</td>\n",
       "    </tr>\n",
       "    <tr>\n",
       "      <th>semana 3</th>\n",
       "      <td>0.867</td>\n",
       "      <td>0.887</td>\n",
       "    </tr>\n",
       "    <tr>\n",
       "      <th>semana 4</th>\n",
       "      <td>0.864</td>\n",
       "      <td>0.886</td>\n",
       "    </tr>\n",
       "    <tr>\n",
       "      <th>semana 5</th>\n",
       "      <td>0.857</td>\n",
       "      <td>0.888</td>\n",
       "    </tr>\n",
       "  </tbody>\n",
       "</table>\n",
       "</div>"
      ],
      "text/plain": [
       "          Antes de su implementación  Después de su implementación\n",
       "semana 1                       0.865                         0.886\n",
       "semana 2                       0.865                         0.883\n",
       "semana 3                       0.867                         0.887\n",
       "semana 4                       0.864                         0.886\n",
       "semana 5                       0.857                         0.888"
      ]
     },
     "execution_count": 34,
     "metadata": {},
     "output_type": "execute_result"
    }
   ],
   "source": [
    "df_eficiecna_p = pd.DataFrame(results, index=index_weeks)\n",
    "df_eficiecna_p"
   ]
  },
  {
   "cell_type": "code",
   "execution_count": 35,
   "metadata": {},
   "outputs": [
    {
     "data": {
      "text/html": [
       "<div>\n",
       "<style scoped>\n",
       "    .dataframe tbody tr th:only-of-type {\n",
       "        vertical-align: middle;\n",
       "    }\n",
       "\n",
       "    .dataframe tbody tr th {\n",
       "        vertical-align: top;\n",
       "    }\n",
       "\n",
       "    .dataframe thead th {\n",
       "        text-align: right;\n",
       "    }\n",
       "</style>\n",
       "<table border=\"1\" class=\"dataframe\">\n",
       "  <thead>\n",
       "    <tr style=\"text-align: right;\">\n",
       "      <th></th>\n",
       "      <th>Antes de su implementación</th>\n",
       "      <th>Después de su implementación</th>\n",
       "    </tr>\n",
       "  </thead>\n",
       "  <tbody>\n",
       "    <tr>\n",
       "      <th>count</th>\n",
       "      <td>5.000000</td>\n",
       "      <td>5.000000</td>\n",
       "    </tr>\n",
       "    <tr>\n",
       "      <th>mean</th>\n",
       "      <td>0.863600</td>\n",
       "      <td>0.886000</td>\n",
       "    </tr>\n",
       "    <tr>\n",
       "      <th>std</th>\n",
       "      <td>0.003847</td>\n",
       "      <td>0.001871</td>\n",
       "    </tr>\n",
       "    <tr>\n",
       "      <th>min</th>\n",
       "      <td>0.857000</td>\n",
       "      <td>0.883000</td>\n",
       "    </tr>\n",
       "    <tr>\n",
       "      <th>25%</th>\n",
       "      <td>0.864000</td>\n",
       "      <td>0.886000</td>\n",
       "    </tr>\n",
       "    <tr>\n",
       "      <th>50%</th>\n",
       "      <td>0.865000</td>\n",
       "      <td>0.886000</td>\n",
       "    </tr>\n",
       "    <tr>\n",
       "      <th>75%</th>\n",
       "      <td>0.865000</td>\n",
       "      <td>0.887000</td>\n",
       "    </tr>\n",
       "    <tr>\n",
       "      <th>max</th>\n",
       "      <td>0.867000</td>\n",
       "      <td>0.888000</td>\n",
       "    </tr>\n",
       "  </tbody>\n",
       "</table>\n",
       "</div>"
      ],
      "text/plain": [
       "       Antes de su implementación  Después de su implementación\n",
       "count                    5.000000                      5.000000\n",
       "mean                     0.863600                      0.886000\n",
       "std                      0.003847                      0.001871\n",
       "min                      0.857000                      0.883000\n",
       "25%                      0.864000                      0.886000\n",
       "50%                      0.865000                      0.886000\n",
       "75%                      0.865000                      0.887000\n",
       "max                      0.867000                      0.888000"
      ]
     },
     "execution_count": 35,
     "metadata": {},
     "output_type": "execute_result"
    }
   ],
   "source": [
    "df_eficiecna_p.describe()"
   ]
  },
  {
   "cell_type": "code",
   "execution_count": 36,
   "metadata": {},
   "outputs": [
    {
     "name": "stdout",
     "output_type": "stream",
     "text": [
      "Diferencia promedio: 0.022400000000000198\n"
     ]
    }
   ],
   "source": [
    "diferencia_promedio = df_eficiecna_p[\"Después de su implementación\"].mean() - df_eficiecna_p[\"Antes de su implementación\"].mean()\n",
    "print(f\"Diferencia promedio: {diferencia_promedio}\")"
   ]
  },
  {
   "cell_type": "code",
   "execution_count": 37,
   "metadata": {},
   "outputs": [],
   "source": [
    "media_antes = df_eficiecna_p[\"Antes de su implementación\"].mean()\n",
    "media_despues = df_eficiecna_p[\"Después de su implementación\"].mean()"
   ]
  },
  {
   "cell_type": "code",
   "execution_count": 38,
   "metadata": {},
   "outputs": [
    {
     "name": "stdout",
     "output_type": "stream",
     "text": [
      "El incremento porcentual en la productividad es: 2.59%\n"
     ]
    }
   ],
   "source": [
    "incremento_porcentual = ((media_despues - media_antes) / media_antes) * 100\n",
    "print(f\"El incremento porcentual en la productividad es: {incremento_porcentual:.2f}%\")"
   ]
  },
  {
   "cell_type": "markdown",
   "metadata": {},
   "source": [
    "Prueba hipótesis: \n",
    "- $H_0$ (Hipótesis nula): La implementación del TPM no tiene un impacto significativo en la eficiencia productiva de la linea de arroz fortificado. \n",
    "\n",
    "- $H_1$ (Hipótesis alternativa): La implementación del TPM tiene un impacto significativo en la eficiencia productiva de la línea de arroz fortificado. "
   ]
  },
  {
   "cell_type": "code",
   "execution_count": 39,
   "metadata": {},
   "outputs": [
    {
     "name": "stdout",
     "output_type": "stream",
     "text": [
      "T-statistic: -9.95801462822627\n",
      "P-value: 0.0005712319321400399\n",
      "Rechazamos la hipótesis nula (H₀). Hay evidencia de un impacto significativo del TPM en la eficiencia productiva.\n"
     ]
    }
   ],
   "source": [
    "# Realizar la prueba t dependiente (para muestras relacionadas)\n",
    "t_stat, p_value = ttest_rel(df_eficiecna_p[\"Antes de su implementación\"], df_eficiecna_p[\"Después de su implementación\"])\n",
    "\n",
    "# Definir el nivel de significancia\n",
    "alpha = 0.05\n",
    "\n",
    "# Mostrar los resultados\n",
    "print(f\"T-statistic: {t_stat}\")\n",
    "print(f\"P-value: {p_value}\")\n",
    "\n",
    "if p_value < alpha:\n",
    "    print(\"Rechazamos la hipótesis nula (H₀). Hay evidencia de un impacto significativo del TPM en la eficiencia productiva.\")\n",
    "else:\n",
    "    print(\"No se puede rechazar la hipótesis nula (H₀). No hay evidencia suficiente de un impacto significativo del TPM en la eficiencia productiva.\")"
   ]
  },
  {
   "cell_type": "markdown",
   "metadata": {},
   "source": [
    "### Prueba hipótesis eficacia productiva "
   ]
  },
  {
   "cell_type": "code",
   "execution_count": 40,
   "metadata": {},
   "outputs": [],
   "source": [
    "results = {\"Antes de su implementación\": [0.698, 0.671, 0.684, 0.674, 0.649],\n",
    "           \"Después de su implementación\": [0.787, 0.768, 0.794, 0.784, 0.801]}"
   ]
  },
  {
   "cell_type": "code",
   "execution_count": 41,
   "metadata": {},
   "outputs": [
    {
     "data": {
      "text/html": [
       "<div>\n",
       "<style scoped>\n",
       "    .dataframe tbody tr th:only-of-type {\n",
       "        vertical-align: middle;\n",
       "    }\n",
       "\n",
       "    .dataframe tbody tr th {\n",
       "        vertical-align: top;\n",
       "    }\n",
       "\n",
       "    .dataframe thead th {\n",
       "        text-align: right;\n",
       "    }\n",
       "</style>\n",
       "<table border=\"1\" class=\"dataframe\">\n",
       "  <thead>\n",
       "    <tr style=\"text-align: right;\">\n",
       "      <th></th>\n",
       "      <th>Antes de su implementación</th>\n",
       "      <th>Después de su implementación</th>\n",
       "    </tr>\n",
       "  </thead>\n",
       "  <tbody>\n",
       "    <tr>\n",
       "      <th>semana 1</th>\n",
       "      <td>0.698</td>\n",
       "      <td>0.787</td>\n",
       "    </tr>\n",
       "    <tr>\n",
       "      <th>semana 2</th>\n",
       "      <td>0.671</td>\n",
       "      <td>0.768</td>\n",
       "    </tr>\n",
       "    <tr>\n",
       "      <th>semana 3</th>\n",
       "      <td>0.684</td>\n",
       "      <td>0.794</td>\n",
       "    </tr>\n",
       "    <tr>\n",
       "      <th>semana 4</th>\n",
       "      <td>0.674</td>\n",
       "      <td>0.784</td>\n",
       "    </tr>\n",
       "    <tr>\n",
       "      <th>semana 5</th>\n",
       "      <td>0.649</td>\n",
       "      <td>0.801</td>\n",
       "    </tr>\n",
       "  </tbody>\n",
       "</table>\n",
       "</div>"
      ],
      "text/plain": [
       "          Antes de su implementación  Después de su implementación\n",
       "semana 1                       0.698                         0.787\n",
       "semana 2                       0.671                         0.768\n",
       "semana 3                       0.684                         0.794\n",
       "semana 4                       0.674                         0.784\n",
       "semana 5                       0.649                         0.801"
      ]
     },
     "execution_count": 41,
     "metadata": {},
     "output_type": "execute_result"
    }
   ],
   "source": [
    "df_eficacia = pd.DataFrame(results, index = index_weeks)\n",
    "df_eficacia"
   ]
  },
  {
   "cell_type": "code",
   "execution_count": 42,
   "metadata": {},
   "outputs": [
    {
     "data": {
      "text/html": [
       "<div>\n",
       "<style scoped>\n",
       "    .dataframe tbody tr th:only-of-type {\n",
       "        vertical-align: middle;\n",
       "    }\n",
       "\n",
       "    .dataframe tbody tr th {\n",
       "        vertical-align: top;\n",
       "    }\n",
       "\n",
       "    .dataframe thead th {\n",
       "        text-align: right;\n",
       "    }\n",
       "</style>\n",
       "<table border=\"1\" class=\"dataframe\">\n",
       "  <thead>\n",
       "    <tr style=\"text-align: right;\">\n",
       "      <th></th>\n",
       "      <th>Antes de su implementación</th>\n",
       "      <th>Después de su implementación</th>\n",
       "    </tr>\n",
       "  </thead>\n",
       "  <tbody>\n",
       "    <tr>\n",
       "      <th>count</th>\n",
       "      <td>5.000000</td>\n",
       "      <td>5.000000</td>\n",
       "    </tr>\n",
       "    <tr>\n",
       "      <th>mean</th>\n",
       "      <td>0.675200</td>\n",
       "      <td>0.786800</td>\n",
       "    </tr>\n",
       "    <tr>\n",
       "      <th>std</th>\n",
       "      <td>0.018047</td>\n",
       "      <td>0.012398</td>\n",
       "    </tr>\n",
       "    <tr>\n",
       "      <th>min</th>\n",
       "      <td>0.649000</td>\n",
       "      <td>0.768000</td>\n",
       "    </tr>\n",
       "    <tr>\n",
       "      <th>25%</th>\n",
       "      <td>0.671000</td>\n",
       "      <td>0.784000</td>\n",
       "    </tr>\n",
       "    <tr>\n",
       "      <th>50%</th>\n",
       "      <td>0.674000</td>\n",
       "      <td>0.787000</td>\n",
       "    </tr>\n",
       "    <tr>\n",
       "      <th>75%</th>\n",
       "      <td>0.684000</td>\n",
       "      <td>0.794000</td>\n",
       "    </tr>\n",
       "    <tr>\n",
       "      <th>max</th>\n",
       "      <td>0.698000</td>\n",
       "      <td>0.801000</td>\n",
       "    </tr>\n",
       "  </tbody>\n",
       "</table>\n",
       "</div>"
      ],
      "text/plain": [
       "       Antes de su implementación  Después de su implementación\n",
       "count                    5.000000                      5.000000\n",
       "mean                     0.675200                      0.786800\n",
       "std                      0.018047                      0.012398\n",
       "min                      0.649000                      0.768000\n",
       "25%                      0.671000                      0.784000\n",
       "50%                      0.674000                      0.787000\n",
       "75%                      0.684000                      0.794000\n",
       "max                      0.698000                      0.801000"
      ]
     },
     "execution_count": 42,
     "metadata": {},
     "output_type": "execute_result"
    }
   ],
   "source": [
    "df_eficacia.describe()"
   ]
  },
  {
   "cell_type": "code",
   "execution_count": 43,
   "metadata": {},
   "outputs": [
    {
     "name": "stdout",
     "output_type": "stream",
     "text": [
      "Diferencia promedio: 0.11160000000000003\n"
     ]
    }
   ],
   "source": [
    "diferencia_promedio = df_eficacia[\"Después de su implementación\"].mean() - df_eficacia[\"Antes de su implementación\"].mean()\n",
    "print(f\"Diferencia promedio: {diferencia_promedio}\")"
   ]
  },
  {
   "cell_type": "code",
   "execution_count": 44,
   "metadata": {},
   "outputs": [],
   "source": [
    "media_antes = df_eficacia[\"Antes de su implementación\"].mean()\n",
    "media_despues = df_eficacia[\"Después de su implementación\"].mean()"
   ]
  },
  {
   "cell_type": "code",
   "execution_count": 45,
   "metadata": {},
   "outputs": [
    {
     "name": "stdout",
     "output_type": "stream",
     "text": [
      "El incremento porcentual en la productividad es: 16.53%\n"
     ]
    }
   ],
   "source": [
    "incremento_porcentual = ((media_despues - media_antes) / media_antes) * 100\n",
    "print(f\"El incremento porcentual en la productividad es: {incremento_porcentual:.2f}%\")"
   ]
  },
  {
   "cell_type": "markdown",
   "metadata": {},
   "source": [
    "Prueba hipótesis: \n",
    "- $H_0$ (Hipótesis nula): La implementación del TPM no tiene un impacto significativo en la eficacia productiva de la linea de arroz fortificado. \n",
    "\n",
    "- $H_1$ (Hipótesis alternativa): La implementación del TPM tiene un impacto significativo en la eficacia productiva de la línea de arroz fortificado. "
   ]
  },
  {
   "cell_type": "code",
   "execution_count": 46,
   "metadata": {},
   "outputs": [
    {
     "name": "stdout",
     "output_type": "stream",
     "text": [
      "T-statistic: -10.271001795959197\n",
      "P-value: 0.0005066888832708169\n",
      "Rechazamos la hipótesis nula (H₀). Hay evidencia de un impacto significativo del TPM en la eficacia productiva.\n"
     ]
    }
   ],
   "source": [
    "# Realizar la prueba t dependiente (para muestras relacionadas)\n",
    "t_stat, p_value = ttest_rel(df_eficacia[\"Antes de su implementación\"], df_eficacia[\"Después de su implementación\"])\n",
    "\n",
    "# Definir el nivel de significancia\n",
    "alpha = 0.05\n",
    "\n",
    "# Mostrar los resultados\n",
    "print(f\"T-statistic: {t_stat}\")\n",
    "print(f\"P-value: {p_value}\")\n",
    "\n",
    "if p_value < alpha:\n",
    "    print(\"Rechazamos la hipótesis nula (H₀). Hay evidencia de un impacto significativo del TPM en la eficacia productiva.\")\n",
    "else:\n",
    "    print(\"No se puede rechazar la hipótesis nula (H₀). No hay evidencia suficiente de un impacto significativo del TPM en la eficacia productiva.\")"
   ]
  },
  {
   "cell_type": "markdown",
   "metadata": {},
   "source": [
    "### Prueba hipótesis de la disponibilidad en los equipos "
   ]
  },
  {
   "cell_type": "code",
   "execution_count": 47,
   "metadata": {},
   "outputs": [],
   "source": [
    "results = {\"Antes de su implementación\": [0.76, 0.74, 0.74, 0.74, 0.73],\n",
    "           \"Después de su implementación\": [0.832, 0.823, 0.829, 0.829, 0.833]}"
   ]
  },
  {
   "cell_type": "code",
   "execution_count": 48,
   "metadata": {},
   "outputs": [
    {
     "data": {
      "text/html": [
       "<div>\n",
       "<style scoped>\n",
       "    .dataframe tbody tr th:only-of-type {\n",
       "        vertical-align: middle;\n",
       "    }\n",
       "\n",
       "    .dataframe tbody tr th {\n",
       "        vertical-align: top;\n",
       "    }\n",
       "\n",
       "    .dataframe thead th {\n",
       "        text-align: right;\n",
       "    }\n",
       "</style>\n",
       "<table border=\"1\" class=\"dataframe\">\n",
       "  <thead>\n",
       "    <tr style=\"text-align: right;\">\n",
       "      <th></th>\n",
       "      <th>Antes de su implementación</th>\n",
       "      <th>Después de su implementación</th>\n",
       "    </tr>\n",
       "  </thead>\n",
       "  <tbody>\n",
       "    <tr>\n",
       "      <th>semana 1</th>\n",
       "      <td>0.76</td>\n",
       "      <td>0.832</td>\n",
       "    </tr>\n",
       "    <tr>\n",
       "      <th>semana 2</th>\n",
       "      <td>0.74</td>\n",
       "      <td>0.823</td>\n",
       "    </tr>\n",
       "    <tr>\n",
       "      <th>semana 3</th>\n",
       "      <td>0.74</td>\n",
       "      <td>0.829</td>\n",
       "    </tr>\n",
       "    <tr>\n",
       "      <th>semana 4</th>\n",
       "      <td>0.74</td>\n",
       "      <td>0.829</td>\n",
       "    </tr>\n",
       "    <tr>\n",
       "      <th>semana 5</th>\n",
       "      <td>0.73</td>\n",
       "      <td>0.833</td>\n",
       "    </tr>\n",
       "  </tbody>\n",
       "</table>\n",
       "</div>"
      ],
      "text/plain": [
       "          Antes de su implementación  Después de su implementación\n",
       "semana 1                        0.76                         0.832\n",
       "semana 2                        0.74                         0.823\n",
       "semana 3                        0.74                         0.829\n",
       "semana 4                        0.74                         0.829\n",
       "semana 5                        0.73                         0.833"
      ]
     },
     "execution_count": 48,
     "metadata": {},
     "output_type": "execute_result"
    }
   ],
   "source": [
    "df_disponibilidad = pd.DataFrame(results, index=index_weeks)\n",
    "df_disponibilidad"
   ]
  },
  {
   "cell_type": "code",
   "execution_count": 49,
   "metadata": {},
   "outputs": [
    {
     "data": {
      "text/html": [
       "<div>\n",
       "<style scoped>\n",
       "    .dataframe tbody tr th:only-of-type {\n",
       "        vertical-align: middle;\n",
       "    }\n",
       "\n",
       "    .dataframe tbody tr th {\n",
       "        vertical-align: top;\n",
       "    }\n",
       "\n",
       "    .dataframe thead th {\n",
       "        text-align: right;\n",
       "    }\n",
       "</style>\n",
       "<table border=\"1\" class=\"dataframe\">\n",
       "  <thead>\n",
       "    <tr style=\"text-align: right;\">\n",
       "      <th></th>\n",
       "      <th>Antes de su implementación</th>\n",
       "      <th>Después de su implementación</th>\n",
       "    </tr>\n",
       "  </thead>\n",
       "  <tbody>\n",
       "    <tr>\n",
       "      <th>count</th>\n",
       "      <td>5.000000</td>\n",
       "      <td>5.000000</td>\n",
       "    </tr>\n",
       "    <tr>\n",
       "      <th>mean</th>\n",
       "      <td>0.742000</td>\n",
       "      <td>0.829200</td>\n",
       "    </tr>\n",
       "    <tr>\n",
       "      <th>std</th>\n",
       "      <td>0.010954</td>\n",
       "      <td>0.003899</td>\n",
       "    </tr>\n",
       "    <tr>\n",
       "      <th>min</th>\n",
       "      <td>0.730000</td>\n",
       "      <td>0.823000</td>\n",
       "    </tr>\n",
       "    <tr>\n",
       "      <th>25%</th>\n",
       "      <td>0.740000</td>\n",
       "      <td>0.829000</td>\n",
       "    </tr>\n",
       "    <tr>\n",
       "      <th>50%</th>\n",
       "      <td>0.740000</td>\n",
       "      <td>0.829000</td>\n",
       "    </tr>\n",
       "    <tr>\n",
       "      <th>75%</th>\n",
       "      <td>0.740000</td>\n",
       "      <td>0.832000</td>\n",
       "    </tr>\n",
       "    <tr>\n",
       "      <th>max</th>\n",
       "      <td>0.760000</td>\n",
       "      <td>0.833000</td>\n",
       "    </tr>\n",
       "  </tbody>\n",
       "</table>\n",
       "</div>"
      ],
      "text/plain": [
       "       Antes de su implementación  Después de su implementación\n",
       "count                    5.000000                      5.000000\n",
       "mean                     0.742000                      0.829200\n",
       "std                      0.010954                      0.003899\n",
       "min                      0.730000                      0.823000\n",
       "25%                      0.740000                      0.829000\n",
       "50%                      0.740000                      0.829000\n",
       "75%                      0.740000                      0.832000\n",
       "max                      0.760000                      0.833000"
      ]
     },
     "execution_count": 49,
     "metadata": {},
     "output_type": "execute_result"
    }
   ],
   "source": [
    "df_disponibilidad.describe()"
   ]
  },
  {
   "cell_type": "code",
   "execution_count": 50,
   "metadata": {},
   "outputs": [
    {
     "name": "stdout",
     "output_type": "stream",
     "text": [
      "Diferencia promedio: 0.08719999999999983\n"
     ]
    }
   ],
   "source": [
    "diferencia_promedio = df_disponibilidad[\"Después de su implementación\"].mean() - df_disponibilidad[\"Antes de su implementación\"].mean()\n",
    "print(f\"Diferencia promedio: {diferencia_promedio}\")"
   ]
  },
  {
   "cell_type": "code",
   "execution_count": 51,
   "metadata": {},
   "outputs": [],
   "source": [
    "media_antes = df_disponibilidad[\"Antes de su implementación\"].mean()\n",
    "media_despues = df_disponibilidad[\"Después de su implementación\"].mean()"
   ]
  },
  {
   "cell_type": "code",
   "execution_count": 52,
   "metadata": {},
   "outputs": [
    {
     "name": "stdout",
     "output_type": "stream",
     "text": [
      "El incremento porcentual en la productividad es: 11.75%\n"
     ]
    }
   ],
   "source": [
    "incremento_porcentual = ((media_despues - media_antes) / media_antes) * 100\n",
    "print(f\"El incremento porcentual en la productividad es: {incremento_porcentual:.2f}%\")"
   ]
  },
  {
   "cell_type": "markdown",
   "metadata": {},
   "source": [
    "Prueba hipótesis: \n",
    "- $H_0$ (Hipótesis nula): La implementación del TPM no tiene un impacto significativo en la disponibilidad en los equipos de la linea de arroz fortificado. \n",
    "\n",
    "- $H_1$ (Hipótesis alternativa): La implementación del TPM tiene un impacto significativo en la disponibilidad en los equipos de la línea de arroz fortificado. "
   ]
  },
  {
   "cell_type": "code",
   "execution_count": 53,
   "metadata": {},
   "outputs": [
    {
     "name": "stdout",
     "output_type": "stream",
     "text": [
      "T-statistic: -17.3568859447451\n",
      "P-value: 6.467166666935311e-05\n",
      "Rechazamos la hipótesis nula (H₀). Hay evidencia de un impacto significativo del TPM en la disponibilidad de los equipos.\n"
     ]
    }
   ],
   "source": [
    "# Realizar la prueba t dependiente (para muestras relacionadas)\n",
    "t_stat, p_value = ttest_rel(df_disponibilidad[\"Antes de su implementación\"], df_disponibilidad[\"Después de su implementación\"])\n",
    "\n",
    "# Definir el nivel de significancia\n",
    "alpha = 0.05\n",
    "\n",
    "# Mostrar los resultados\n",
    "print(f\"T-statistic: {t_stat}\")\n",
    "print(f\"P-value: {p_value}\")\n",
    "\n",
    "if p_value < alpha:\n",
    "    print(\"Rechazamos la hipótesis nula (H₀). Hay evidencia de un impacto significativo del TPM en la disponibilidad de los equipos.\")\n",
    "else:\n",
    "    print(\"No se puede rechazar la hipótesis nula (H₀). No hay evidencia suficiente de un impacto significativo del TPM en la disponibilidad de los equipos.\")"
   ]
  },
  {
   "cell_type": "markdown",
   "metadata": {},
   "source": [
    "### Prueba hipótesis Eficiencia de los equipos (OEE)"
   ]
  },
  {
   "cell_type": "code",
   "execution_count": 25,
   "metadata": {},
   "outputs": [],
   "source": [
    "results = {\"Antes de su implementación\": [0.65, 0.63, 0.64, 0.63, 0.61],\n",
    "           \"Después de su implementación\": [0.739, 0.741, 0.742, 0.725, 0.736]}"
   ]
  },
  {
   "cell_type": "code",
   "execution_count": 26,
   "metadata": {},
   "outputs": [
    {
     "data": {
      "text/html": [
       "<div>\n",
       "<style scoped>\n",
       "    .dataframe tbody tr th:only-of-type {\n",
       "        vertical-align: middle;\n",
       "    }\n",
       "\n",
       "    .dataframe tbody tr th {\n",
       "        vertical-align: top;\n",
       "    }\n",
       "\n",
       "    .dataframe thead th {\n",
       "        text-align: right;\n",
       "    }\n",
       "</style>\n",
       "<table border=\"1\" class=\"dataframe\">\n",
       "  <thead>\n",
       "    <tr style=\"text-align: right;\">\n",
       "      <th></th>\n",
       "      <th>Antes de su implementación</th>\n",
       "      <th>Después de su implementación</th>\n",
       "    </tr>\n",
       "  </thead>\n",
       "  <tbody>\n",
       "    <tr>\n",
       "      <th>semana 1</th>\n",
       "      <td>0.65</td>\n",
       "      <td>0.739</td>\n",
       "    </tr>\n",
       "    <tr>\n",
       "      <th>semana 2</th>\n",
       "      <td>0.63</td>\n",
       "      <td>0.741</td>\n",
       "    </tr>\n",
       "    <tr>\n",
       "      <th>semana 3</th>\n",
       "      <td>0.64</td>\n",
       "      <td>0.742</td>\n",
       "    </tr>\n",
       "    <tr>\n",
       "      <th>semana 4</th>\n",
       "      <td>0.63</td>\n",
       "      <td>0.725</td>\n",
       "    </tr>\n",
       "    <tr>\n",
       "      <th>semana 5</th>\n",
       "      <td>0.61</td>\n",
       "      <td>0.736</td>\n",
       "    </tr>\n",
       "  </tbody>\n",
       "</table>\n",
       "</div>"
      ],
      "text/plain": [
       "          Antes de su implementación  Después de su implementación\n",
       "semana 1                        0.65                         0.739\n",
       "semana 2                        0.63                         0.741\n",
       "semana 3                        0.64                         0.742\n",
       "semana 4                        0.63                         0.725\n",
       "semana 5                        0.61                         0.736"
      ]
     },
     "execution_count": 26,
     "metadata": {},
     "output_type": "execute_result"
    }
   ],
   "source": [
    "df_oee = pd.DataFrame(results, index = index_weeks)\n",
    "df_oee"
   ]
  },
  {
   "cell_type": "code",
   "execution_count": 27,
   "metadata": {},
   "outputs": [
    {
     "data": {
      "text/html": [
       "<div>\n",
       "<style scoped>\n",
       "    .dataframe tbody tr th:only-of-type {\n",
       "        vertical-align: middle;\n",
       "    }\n",
       "\n",
       "    .dataframe tbody tr th {\n",
       "        vertical-align: top;\n",
       "    }\n",
       "\n",
       "    .dataframe thead th {\n",
       "        text-align: right;\n",
       "    }\n",
       "</style>\n",
       "<table border=\"1\" class=\"dataframe\">\n",
       "  <thead>\n",
       "    <tr style=\"text-align: right;\">\n",
       "      <th></th>\n",
       "      <th>Antes de su implementación</th>\n",
       "      <th>Después de su implementación</th>\n",
       "    </tr>\n",
       "  </thead>\n",
       "  <tbody>\n",
       "    <tr>\n",
       "      <th>count</th>\n",
       "      <td>5.000000</td>\n",
       "      <td>5.000000</td>\n",
       "    </tr>\n",
       "    <tr>\n",
       "      <th>mean</th>\n",
       "      <td>0.632000</td>\n",
       "      <td>0.736600</td>\n",
       "    </tr>\n",
       "    <tr>\n",
       "      <th>std</th>\n",
       "      <td>0.014832</td>\n",
       "      <td>0.006877</td>\n",
       "    </tr>\n",
       "    <tr>\n",
       "      <th>min</th>\n",
       "      <td>0.610000</td>\n",
       "      <td>0.725000</td>\n",
       "    </tr>\n",
       "    <tr>\n",
       "      <th>25%</th>\n",
       "      <td>0.630000</td>\n",
       "      <td>0.736000</td>\n",
       "    </tr>\n",
       "    <tr>\n",
       "      <th>50%</th>\n",
       "      <td>0.630000</td>\n",
       "      <td>0.739000</td>\n",
       "    </tr>\n",
       "    <tr>\n",
       "      <th>75%</th>\n",
       "      <td>0.640000</td>\n",
       "      <td>0.741000</td>\n",
       "    </tr>\n",
       "    <tr>\n",
       "      <th>max</th>\n",
       "      <td>0.650000</td>\n",
       "      <td>0.742000</td>\n",
       "    </tr>\n",
       "  </tbody>\n",
       "</table>\n",
       "</div>"
      ],
      "text/plain": [
       "       Antes de su implementación  Después de su implementación\n",
       "count                    5.000000                      5.000000\n",
       "mean                     0.632000                      0.736600\n",
       "std                      0.014832                      0.006877\n",
       "min                      0.610000                      0.725000\n",
       "25%                      0.630000                      0.736000\n",
       "50%                      0.630000                      0.739000\n",
       "75%                      0.640000                      0.741000\n",
       "max                      0.650000                      0.742000"
      ]
     },
     "execution_count": 27,
     "metadata": {},
     "output_type": "execute_result"
    }
   ],
   "source": [
    "df_oee.describe()"
   ]
  },
  {
   "cell_type": "code",
   "execution_count": 28,
   "metadata": {},
   "outputs": [
    {
     "name": "stdout",
     "output_type": "stream",
     "text": [
      "Diferencia promedio: 0.10460000000000003\n"
     ]
    }
   ],
   "source": [
    "diferencia_promedio = df_oee[\"Después de su implementación\"].mean() - df_oee[\"Antes de su implementación\"].mean()\n",
    "print(f\"Diferencia promedio: {diferencia_promedio}\")"
   ]
  },
  {
   "cell_type": "code",
   "execution_count": 29,
   "metadata": {},
   "outputs": [],
   "source": [
    "media_antes = df_oee[\"Antes de su implementación\"].mean()\n",
    "media_despues = df_oee[\"Después de su implementación\"].mean()"
   ]
  },
  {
   "cell_type": "code",
   "execution_count": 30,
   "metadata": {},
   "outputs": [
    {
     "name": "stdout",
     "output_type": "stream",
     "text": [
      "El incremento porcentual en la productividad es: 16.55%\n"
     ]
    }
   ],
   "source": [
    "incremento_porcentual = ((media_despues - media_antes) / media_antes) * 100\n",
    "print(f\"El incremento porcentual en la productividad es: {incremento_porcentual:.2f}%\")"
   ]
  },
  {
   "cell_type": "markdown",
   "metadata": {},
   "source": [
    "Prueba hipótesis: \n",
    "- $H_0$ (Hipótesis nula): La implementación del TPM no tiene un impacto significativo en la eficiencia de los equipos (OEE) de la linea de arroz fortificado. \n",
    "\n",
    "- $H_1$ (Hipótesis alternativa): La implementación del TPM tiene un impacto significativo en la eficiencia de los equipos (OEE) de la línea de arroz fortificado. "
   ]
  },
  {
   "cell_type": "code",
   "execution_count": 31,
   "metadata": {},
   "outputs": [
    {
     "name": "stdout",
     "output_type": "stream",
     "text": [
      "T-statistic: -16.128614078913103\n",
      "P-value: 8.64398776436294e-05\n",
      "Rechazamos la hipótesis nula (H₀). Hay evidencia de un impacto significativo del TPM en la eficiencia de los equipos OEE.\n"
     ]
    }
   ],
   "source": [
    "# Realizar la prueba t dependiente (para muestras relacionadas)\n",
    "t_stat, p_value = ttest_rel(df_oee[\"Antes de su implementación\"], df_oee[\"Después de su implementación\"])\n",
    "\n",
    "# Definir el nivel de significancia\n",
    "alpha = 0.05\n",
    "\n",
    "# Mostrar los resultados\n",
    "print(f\"T-statistic: {t_stat}\")\n",
    "print(f\"P-value: {p_value}\")\n",
    "\n",
    "if p_value < alpha:\n",
    "    print(\"Rechazamos la hipótesis nula (H₀). Hay evidencia de un impacto significativo del TPM en la eficiencia de los equipos OEE.\")\n",
    "else:\n",
    "    print(\"No se puede rechazar la hipótesis nula (H₀). No hay evidencia suficiente de un impacto significativo del TPM en la eficiencia de los equipos OEE.\")"
   ]
  }
 ],
 "metadata": {
  "kernelspec": {
   "display_name": "data_science_path",
   "language": "python",
   "name": "python3"
  },
  "language_info": {
   "codemirror_mode": {
    "name": "ipython",
    "version": 3
   },
   "file_extension": ".py",
   "mimetype": "text/x-python",
   "name": "python",
   "nbconvert_exporter": "python",
   "pygments_lexer": "ipython3",
   "version": "3.10.4"
  }
 },
 "nbformat": 4,
 "nbformat_minor": 2
}
