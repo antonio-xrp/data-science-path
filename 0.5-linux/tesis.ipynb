{
 "cells": [
  {
   "cell_type": "code",
   "execution_count": 29,
   "metadata": {},
   "outputs": [],
   "source": [
    "import numpy as np\n",
    "import pandas as pd"
   ]
  },
  {
   "cell_type": "markdown",
   "metadata": {},
   "source": [
    "\n",
    "### Probelma general \n",
    "1- ¿Qué impacto tendrá la propuesta de Implementación de Mantenimiento Productivo Total (TPM) en la productividad de la línea de Arroz Fortificado de la Empresa INSUMOS Y SERVICIOS MAQUILAK S.A.C. Lima, durante el periodo 2024? \n",
    "\n",
    "### Problemas específicios\n",
    "\n",
    "1- ¿Cuánto mejorará la eficacia en la empresa INSUMOS Y SERVICIOS MAQUILAK S.A.C. Lima, con la propuesta de implementación de Mantenimiento Productivo Total (TPM) en la línea de Arroz Fortificado, durante el periodo 2024? \n",
    "\n",
    "2- ¿Cuánto mejorará la Eficiencia productiva de la empresa INSUMOS Y SERVICIOS MAQUILAK S.A.C. Lima con la propuesta de Implementación de Mantenimiento Productivo Total (TPM) en la línea de Arroz Fortificado, durante el periodo 2024? \n",
    "\n",
    "3- ¿Cuánto mejorará la eficiencia global de los equipos (OEE) en la empresa INSUMOS Y SERVICIOS MAQUILAK S.A.C. Lima, con la propuesta de implementación de Mantenimiento Productivo Total (TPM) en la línea de Arroz Fortificado, durante el periodo 2024? \n",
    "\n",
    "---\n"
   ]
  },
  {
   "cell_type": "markdown",
   "metadata": {},
   "source": [
    "### Prueba hipotesis productividad\n"
   ]
  },
  {
   "cell_type": "code",
   "execution_count": 30,
   "metadata": {},
   "outputs": [],
   "source": [
    "results = {\"Antes de su implementación\": [0.6, 0.58, 0.59, 0.58, 0.56, 0.62, 0.59, 0.59, 0.58, 0.57],\n",
    "           \"Después de su implementación\": [0.699, 0.702, 0.703, 0.685, 0.696, 0.692, 0.679, 0.702, 0.702, 0.711]}"
   ]
  },
  {
   "cell_type": "code",
   "execution_count": 31,
   "metadata": {},
   "outputs": [],
   "source": [
    "index_weeks = [f\"semana {i+1}\" for i in range(10)]\n"
   ]
  },
  {
   "cell_type": "code",
   "execution_count": 32,
   "metadata": {},
   "outputs": [
    {
     "data": {
      "text/html": [
       "<div>\n",
       "<style scoped>\n",
       "    .dataframe tbody tr th:only-of-type {\n",
       "        vertical-align: middle;\n",
       "    }\n",
       "\n",
       "    .dataframe tbody tr th {\n",
       "        vertical-align: top;\n",
       "    }\n",
       "\n",
       "    .dataframe thead th {\n",
       "        text-align: right;\n",
       "    }\n",
       "</style>\n",
       "<table border=\"1\" class=\"dataframe\">\n",
       "  <thead>\n",
       "    <tr style=\"text-align: right;\">\n",
       "      <th></th>\n",
       "      <th>Antes de su implementación</th>\n",
       "      <th>Después de su implementación</th>\n",
       "    </tr>\n",
       "  </thead>\n",
       "  <tbody>\n",
       "    <tr>\n",
       "      <th>semana 1</th>\n",
       "      <td>0.60</td>\n",
       "      <td>0.699</td>\n",
       "    </tr>\n",
       "    <tr>\n",
       "      <th>semana 2</th>\n",
       "      <td>0.58</td>\n",
       "      <td>0.702</td>\n",
       "    </tr>\n",
       "    <tr>\n",
       "      <th>semana 3</th>\n",
       "      <td>0.59</td>\n",
       "      <td>0.703</td>\n",
       "    </tr>\n",
       "    <tr>\n",
       "      <th>semana 4</th>\n",
       "      <td>0.58</td>\n",
       "      <td>0.685</td>\n",
       "    </tr>\n",
       "    <tr>\n",
       "      <th>semana 5</th>\n",
       "      <td>0.56</td>\n",
       "      <td>0.696</td>\n",
       "    </tr>\n",
       "    <tr>\n",
       "      <th>semana 6</th>\n",
       "      <td>0.62</td>\n",
       "      <td>0.692</td>\n",
       "    </tr>\n",
       "    <tr>\n",
       "      <th>semana 7</th>\n",
       "      <td>0.59</td>\n",
       "      <td>0.679</td>\n",
       "    </tr>\n",
       "    <tr>\n",
       "      <th>semana 8</th>\n",
       "      <td>0.59</td>\n",
       "      <td>0.702</td>\n",
       "    </tr>\n",
       "    <tr>\n",
       "      <th>semana 9</th>\n",
       "      <td>0.58</td>\n",
       "      <td>0.702</td>\n",
       "    </tr>\n",
       "    <tr>\n",
       "      <th>semana 10</th>\n",
       "      <td>0.57</td>\n",
       "      <td>0.711</td>\n",
       "    </tr>\n",
       "  </tbody>\n",
       "</table>\n",
       "</div>"
      ],
      "text/plain": [
       "           Antes de su implementación  Después de su implementación\n",
       "semana 1                         0.60                         0.699\n",
       "semana 2                         0.58                         0.702\n",
       "semana 3                         0.59                         0.703\n",
       "semana 4                         0.58                         0.685\n",
       "semana 5                         0.56                         0.696\n",
       "semana 6                         0.62                         0.692\n",
       "semana 7                         0.59                         0.679\n",
       "semana 8                         0.59                         0.702\n",
       "semana 9                         0.58                         0.702\n",
       "semana 10                        0.57                         0.711"
      ]
     },
     "execution_count": 32,
     "metadata": {},
     "output_type": "execute_result"
    }
   ],
   "source": [
    "df_productividad = pd.DataFrame(results, index = index_weeks)\n",
    "df_productividad"
   ]
  },
  {
   "cell_type": "markdown",
   "metadata": {},
   "source": [
    "Descripción estadística."
   ]
  },
  {
   "cell_type": "code",
   "execution_count": 33,
   "metadata": {},
   "outputs": [
    {
     "data": {
      "text/html": [
       "<div>\n",
       "<style scoped>\n",
       "    .dataframe tbody tr th:only-of-type {\n",
       "        vertical-align: middle;\n",
       "    }\n",
       "\n",
       "    .dataframe tbody tr th {\n",
       "        vertical-align: top;\n",
       "    }\n",
       "\n",
       "    .dataframe thead th {\n",
       "        text-align: right;\n",
       "    }\n",
       "</style>\n",
       "<table border=\"1\" class=\"dataframe\">\n",
       "  <thead>\n",
       "    <tr style=\"text-align: right;\">\n",
       "      <th></th>\n",
       "      <th>Antes de su implementación</th>\n",
       "      <th>Después de su implementación</th>\n",
       "    </tr>\n",
       "  </thead>\n",
       "  <tbody>\n",
       "    <tr>\n",
       "      <th>count</th>\n",
       "      <td>10.000000</td>\n",
       "      <td>10.000000</td>\n",
       "    </tr>\n",
       "    <tr>\n",
       "      <th>mean</th>\n",
       "      <td>0.586000</td>\n",
       "      <td>0.697100</td>\n",
       "    </tr>\n",
       "    <tr>\n",
       "      <th>std</th>\n",
       "      <td>0.016465</td>\n",
       "      <td>0.009457</td>\n",
       "    </tr>\n",
       "    <tr>\n",
       "      <th>min</th>\n",
       "      <td>0.560000</td>\n",
       "      <td>0.679000</td>\n",
       "    </tr>\n",
       "    <tr>\n",
       "      <th>25%</th>\n",
       "      <td>0.580000</td>\n",
       "      <td>0.693000</td>\n",
       "    </tr>\n",
       "    <tr>\n",
       "      <th>50%</th>\n",
       "      <td>0.585000</td>\n",
       "      <td>0.700500</td>\n",
       "    </tr>\n",
       "    <tr>\n",
       "      <th>75%</th>\n",
       "      <td>0.590000</td>\n",
       "      <td>0.702000</td>\n",
       "    </tr>\n",
       "    <tr>\n",
       "      <th>max</th>\n",
       "      <td>0.620000</td>\n",
       "      <td>0.711000</td>\n",
       "    </tr>\n",
       "  </tbody>\n",
       "</table>\n",
       "</div>"
      ],
      "text/plain": [
       "       Antes de su implementación  Después de su implementación\n",
       "count                   10.000000                     10.000000\n",
       "mean                     0.586000                      0.697100\n",
       "std                      0.016465                      0.009457\n",
       "min                      0.560000                      0.679000\n",
       "25%                      0.580000                      0.693000\n",
       "50%                      0.585000                      0.700500\n",
       "75%                      0.590000                      0.702000\n",
       "max                      0.620000                      0.711000"
      ]
     },
     "execution_count": 33,
     "metadata": {},
     "output_type": "execute_result"
    }
   ],
   "source": [
    "df_productividad.describe()"
   ]
  },
  {
   "cell_type": "markdown",
   "metadata": {},
   "source": [
    "Diferencia de productividad antes y despues de la implementación"
   ]
  },
  {
   "cell_type": "code",
   "execution_count": 34,
   "metadata": {},
   "outputs": [
    {
     "name": "stdout",
     "output_type": "stream",
     "text": [
      "Diferencia promedio: 0.11109999999999998\n"
     ]
    }
   ],
   "source": [
    "diferencia_promedio = df_productividad[\"Después de su implementación\"].mean() - df_productividad[\"Antes de su implementación\"].mean()\n",
    "print(f\"Diferencia promedio: {diferencia_promedio}\")"
   ]
  },
  {
   "cell_type": "markdown",
   "metadata": {},
   "source": [
    "Diferencia porcentual \n"
   ]
  },
  {
   "cell_type": "code",
   "execution_count": 35,
   "metadata": {},
   "outputs": [],
   "source": [
    "media_antes = df_productividad[\"Antes de su implementación\"].mean()\n",
    "media_despues = df_productividad[\"Después de su implementación\"].mean()"
   ]
  },
  {
   "cell_type": "code",
   "execution_count": 36,
   "metadata": {},
   "outputs": [
    {
     "name": "stdout",
     "output_type": "stream",
     "text": [
      "El incremento porcentual en la productividad es: 18.96%\n"
     ]
    }
   ],
   "source": [
    "incremento_porcentual = ((media_despues - media_antes) / media_antes) * 100\n",
    "print(f\"El incremento porcentual en la productividad es: {incremento_porcentual:.2f}%\")\n"
   ]
  },
  {
   "cell_type": "markdown",
   "metadata": {},
   "source": [
    "Prueba hipótesis: \n",
    "- $H_0$ (Hipótesis nula): La implementación del TPM no tiene un impacto significativo en la productividad de la linea de arroz fortificado. \n",
    "\n",
    "- $H_1$ (Hipótesis alternativa): La implementación del TPM tiene un impacto significativo en la productivdad de la línea de arroz fortificado. "
   ]
  },
  {
   "cell_type": "code",
   "execution_count": 37,
   "metadata": {},
   "outputs": [
    {
     "name": "stdout",
     "output_type": "stream",
     "text": [
      "T-statistic: -16.755514820759505\n",
      "P-value: 4.2990983624232315e-08\n",
      "Rechazamos la hipótesis nula (H₀). Hay evidencia de un impacto significativo del TPM en la productividad.\n"
     ]
    }
   ],
   "source": [
    "from scipy.stats import ttest_rel\n",
    "\n",
    "# Realizar la prueba t dependiente (para muestras relacionadas)\n",
    "t_stat, p_value = ttest_rel(df_productividad[\"Antes de su implementación\"], df_productividad[\"Después de su implementación\"])\n",
    "\n",
    "# Definir el nivel de significancia\n",
    "alpha = 0.05\n",
    "\n",
    "# Mostrar los resultados\n",
    "print(f\"T-statistic: {t_stat}\")\n",
    "print(f\"P-value: {p_value}\")\n",
    "\n",
    "if p_value < alpha:\n",
    "    print(\"Rechazamos la hipótesis nula (H₀). Hay evidencia de un impacto significativo del TPM en la productividad.\")\n",
    "else:\n",
    "    print(\"No se puede rechazar la hipótesis nula (H₀). No hay evidencia suficiente de un impacto significativo del TPM en la productividad.\")"
   ]
  },
  {
   "cell_type": "markdown",
   "metadata": {},
   "source": [
    "### Prueba hipótesis Eficiencia de los equipos (OEE)"
   ]
  },
  {
   "cell_type": "code",
   "execution_count": 38,
   "metadata": {},
   "outputs": [],
   "source": [
    "results = {\"Antes de su implementación\": [0.65, 0.63, 0.64, 0.63, 0.61, 0.65, 0.62, 0.64, 0.63, 0.62],\n",
    "           \"Después de su implementación\": [0.739, 0.741, 0.742, 0.725, 0.736, 0.731, 0.72, 0.741, 0.742, 0.75]}"
   ]
  },
  {
   "cell_type": "code",
   "execution_count": 39,
   "metadata": {},
   "outputs": [
    {
     "data": {
      "text/html": [
       "<div>\n",
       "<style scoped>\n",
       "    .dataframe tbody tr th:only-of-type {\n",
       "        vertical-align: middle;\n",
       "    }\n",
       "\n",
       "    .dataframe tbody tr th {\n",
       "        vertical-align: top;\n",
       "    }\n",
       "\n",
       "    .dataframe thead th {\n",
       "        text-align: right;\n",
       "    }\n",
       "</style>\n",
       "<table border=\"1\" class=\"dataframe\">\n",
       "  <thead>\n",
       "    <tr style=\"text-align: right;\">\n",
       "      <th></th>\n",
       "      <th>Antes de su implementación</th>\n",
       "      <th>Después de su implementación</th>\n",
       "    </tr>\n",
       "  </thead>\n",
       "  <tbody>\n",
       "    <tr>\n",
       "      <th>semana 1</th>\n",
       "      <td>0.65</td>\n",
       "      <td>0.739</td>\n",
       "    </tr>\n",
       "    <tr>\n",
       "      <th>semana 2</th>\n",
       "      <td>0.63</td>\n",
       "      <td>0.741</td>\n",
       "    </tr>\n",
       "    <tr>\n",
       "      <th>semana 3</th>\n",
       "      <td>0.64</td>\n",
       "      <td>0.742</td>\n",
       "    </tr>\n",
       "    <tr>\n",
       "      <th>semana 4</th>\n",
       "      <td>0.63</td>\n",
       "      <td>0.725</td>\n",
       "    </tr>\n",
       "    <tr>\n",
       "      <th>semana 5</th>\n",
       "      <td>0.61</td>\n",
       "      <td>0.736</td>\n",
       "    </tr>\n",
       "    <tr>\n",
       "      <th>semana 6</th>\n",
       "      <td>0.65</td>\n",
       "      <td>0.731</td>\n",
       "    </tr>\n",
       "    <tr>\n",
       "      <th>semana 7</th>\n",
       "      <td>0.62</td>\n",
       "      <td>0.720</td>\n",
       "    </tr>\n",
       "    <tr>\n",
       "      <th>semana 8</th>\n",
       "      <td>0.64</td>\n",
       "      <td>0.741</td>\n",
       "    </tr>\n",
       "    <tr>\n",
       "      <th>semana 9</th>\n",
       "      <td>0.63</td>\n",
       "      <td>0.742</td>\n",
       "    </tr>\n",
       "    <tr>\n",
       "      <th>semana 10</th>\n",
       "      <td>0.62</td>\n",
       "      <td>0.750</td>\n",
       "    </tr>\n",
       "  </tbody>\n",
       "</table>\n",
       "</div>"
      ],
      "text/plain": [
       "           Antes de su implementación  Después de su implementación\n",
       "semana 1                         0.65                         0.739\n",
       "semana 2                         0.63                         0.741\n",
       "semana 3                         0.64                         0.742\n",
       "semana 4                         0.63                         0.725\n",
       "semana 5                         0.61                         0.736\n",
       "semana 6                         0.65                         0.731\n",
       "semana 7                         0.62                         0.720\n",
       "semana 8                         0.64                         0.741\n",
       "semana 9                         0.63                         0.742\n",
       "semana 10                        0.62                         0.750"
      ]
     },
     "execution_count": 39,
     "metadata": {},
     "output_type": "execute_result"
    }
   ],
   "source": [
    "df_oee = pd.DataFrame(results, index = index_weeks)\n",
    "df_oee"
   ]
  },
  {
   "cell_type": "code",
   "execution_count": 40,
   "metadata": {},
   "outputs": [
    {
     "data": {
      "text/html": [
       "<div>\n",
       "<style scoped>\n",
       "    .dataframe tbody tr th:only-of-type {\n",
       "        vertical-align: middle;\n",
       "    }\n",
       "\n",
       "    .dataframe tbody tr th {\n",
       "        vertical-align: top;\n",
       "    }\n",
       "\n",
       "    .dataframe thead th {\n",
       "        text-align: right;\n",
       "    }\n",
       "</style>\n",
       "<table border=\"1\" class=\"dataframe\">\n",
       "  <thead>\n",
       "    <tr style=\"text-align: right;\">\n",
       "      <th></th>\n",
       "      <th>Antes de su implementación</th>\n",
       "      <th>Después de su implementación</th>\n",
       "    </tr>\n",
       "  </thead>\n",
       "  <tbody>\n",
       "    <tr>\n",
       "      <th>count</th>\n",
       "      <td>10.000000</td>\n",
       "      <td>10.00000</td>\n",
       "    </tr>\n",
       "    <tr>\n",
       "      <th>mean</th>\n",
       "      <td>0.632000</td>\n",
       "      <td>0.73670</td>\n",
       "    </tr>\n",
       "    <tr>\n",
       "      <th>std</th>\n",
       "      <td>0.013166</td>\n",
       "      <td>0.00897</td>\n",
       "    </tr>\n",
       "    <tr>\n",
       "      <th>min</th>\n",
       "      <td>0.610000</td>\n",
       "      <td>0.72000</td>\n",
       "    </tr>\n",
       "    <tr>\n",
       "      <th>25%</th>\n",
       "      <td>0.622500</td>\n",
       "      <td>0.73225</td>\n",
       "    </tr>\n",
       "    <tr>\n",
       "      <th>50%</th>\n",
       "      <td>0.630000</td>\n",
       "      <td>0.74000</td>\n",
       "    </tr>\n",
       "    <tr>\n",
       "      <th>75%</th>\n",
       "      <td>0.640000</td>\n",
       "      <td>0.74175</td>\n",
       "    </tr>\n",
       "    <tr>\n",
       "      <th>max</th>\n",
       "      <td>0.650000</td>\n",
       "      <td>0.75000</td>\n",
       "    </tr>\n",
       "  </tbody>\n",
       "</table>\n",
       "</div>"
      ],
      "text/plain": [
       "       Antes de su implementación  Después de su implementación\n",
       "count                   10.000000                      10.00000\n",
       "mean                     0.632000                       0.73670\n",
       "std                      0.013166                       0.00897\n",
       "min                      0.610000                       0.72000\n",
       "25%                      0.622500                       0.73225\n",
       "50%                      0.630000                       0.74000\n",
       "75%                      0.640000                       0.74175\n",
       "max                      0.650000                       0.75000"
      ]
     },
     "execution_count": 40,
     "metadata": {},
     "output_type": "execute_result"
    }
   ],
   "source": [
    "df_oee.describe()"
   ]
  },
  {
   "cell_type": "code",
   "execution_count": 41,
   "metadata": {},
   "outputs": [
    {
     "name": "stdout",
     "output_type": "stream",
     "text": [
      "Diferencia promedio: 0.10470000000000002\n"
     ]
    }
   ],
   "source": [
    "diferencia_promedio = df_oee[\"Después de su implementación\"].mean() - df_oee[\"Antes de su implementación\"].mean()\n",
    "print(f\"Diferencia promedio: {diferencia_promedio}\")"
   ]
  },
  {
   "cell_type": "code",
   "execution_count": 42,
   "metadata": {},
   "outputs": [],
   "source": [
    "media_antes = df_oee[\"Antes de su implementación\"].mean()\n",
    "media_despues = df_oee[\"Después de su implementación\"].mean()"
   ]
  },
  {
   "cell_type": "code",
   "execution_count": 43,
   "metadata": {},
   "outputs": [
    {
     "name": "stdout",
     "output_type": "stream",
     "text": [
      "El incremento porcentual en la productividad es: 16.57%\n"
     ]
    }
   ],
   "source": [
    "incremento_porcentual = ((media_despues - media_antes) / media_antes) * 100\n",
    "print(f\"El incremento porcentual en la productividad es: {incremento_porcentual:.2f}%\")"
   ]
  },
  {
   "cell_type": "markdown",
   "metadata": {},
   "source": [
    "Prueba hipótesis: \n",
    "- $H_0$ (Hipótesis nula): La implementación del TPM no tiene un impacto significativo en la eficiencia de los equipos (OEE) de la linea de arroz fortificado. \n",
    "\n",
    "- $H_1$ (Hipótesis alternativa): La implementación del TPM tiene un impacto significativo en la eficiencia de los equipos (OEE) de la línea de arroz fortificado. "
   ]
  },
  {
   "cell_type": "code",
   "execution_count": 44,
   "metadata": {},
   "outputs": [
    {
     "name": "stdout",
     "output_type": "stream",
     "text": [
      "T-statistic: -21.511175887292403\n",
      "P-value: 4.771610762007568e-09\n",
      "Rechazamos la hipótesis nula (H₀). Hay evidencia de un impacto significativo del TPM en la eficiencia de los equipos OEE.\n"
     ]
    }
   ],
   "source": [
    "# Realizar la prueba t dependiente (para muestras relacionadas)\n",
    "t_stat, p_value = ttest_rel(df_oee[\"Antes de su implementación\"], df_oee[\"Después de su implementación\"])\n",
    "\n",
    "# Definir el nivel de significancia\n",
    "alpha = 0.05\n",
    "\n",
    "# Mostrar los resultados\n",
    "print(f\"T-statistic: {t_stat}\")\n",
    "print(f\"P-value: {p_value}\")\n",
    "\n",
    "if p_value < alpha:\n",
    "    print(\"Rechazamos la hipótesis nula (H₀). Hay evidencia de un impacto significativo del TPM en la eficiencia de los equipos OEE.\")\n",
    "else:\n",
    "    print(\"No se puede rechazar la hipótesis nula (H₀). No hay evidencia suficiente de un impacto significativo del TPM en la eficiencia de los equipos OEE.\")"
   ]
  }
 ],
 "metadata": {
  "kernelspec": {
   "display_name": "data_science_path",
   "language": "python",
   "name": "python3"
  },
  "language_info": {
   "codemirror_mode": {
    "name": "ipython",
    "version": 3
   },
   "file_extension": ".py",
   "mimetype": "text/x-python",
   "name": "python",
   "nbconvert_exporter": "python",
   "pygments_lexer": "ipython3",
   "version": "3.10.4"
  }
 },
 "nbformat": 4,
 "nbformat_minor": 2
}
