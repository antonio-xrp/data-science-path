{
 "cells": [
  {
   "cell_type": "code",
   "execution_count": 1,
   "metadata": {},
   "outputs": [],
   "source": [
    "import numpy as np\n",
    "import pandas as pd"
   ]
  },
  {
   "cell_type": "markdown",
   "metadata": {},
   "source": [
    "\n",
    "### Probelma general \n",
    "1- ¿Qué impacto tendrá la propuesta de Implementación de Mantenimiento Productivo Total (TPM) en la productividad de la línea de Arroz Fortificado de la Empresa INSUMOS Y SERVICIOS MAQUILAK S.A.C. Lima, durante el periodo 2024? \n",
    "\n",
    "### Problemas específicios\n",
    "\n",
    "1- ¿Cuánto mejorará la eficacia en la empresa INSUMOS Y SERVICIOS MAQUILAK S.A.C. Lima, con la propuesta de implementación de Mantenimiento Productivo Total (TPM) en la línea de Arroz Fortificado, durante el periodo 2024? \n",
    "\n",
    "2- ¿Cuánto mejorará la Eficiencia productiva de la empresa INSUMOS Y SERVICIOS MAQUILAK S.A.C. Lima con la propuesta de Implementación de Mantenimiento Productivo Total (TPM) en la línea de Arroz Fortificado, durante el periodo 2024? \n",
    "\n",
    "3- ¿Cuánto mejorará la eficiencia global de los equipos (OEE) en la empresa INSUMOS Y SERVICIOS MAQUILAK S.A.C. Lima, con la propuesta de implementación de Mantenimiento Productivo Total (TPM) en la línea de Arroz Fortificado, durante el periodo 2024? \n",
    "\n",
    "---\n"
   ]
  },
  {
   "cell_type": "markdown",
   "metadata": {},
   "source": [
    "### Prueba hipotesis productividad\n"
   ]
  },
  {
   "cell_type": "code",
   "execution_count": 2,
   "metadata": {},
   "outputs": [],
   "source": [
    "results = {\"Antes de su implementación\": [0.6042, 0.5806, 0.5932, 0.5822, 0.5562],\n",
    "           \"Después de su implementación\": [0.6971, 0.6782, 0.7047, 0.6948, 0.7116]}"
   ]
  },
  {
   "cell_type": "code",
   "execution_count": 3,
   "metadata": {},
   "outputs": [],
   "source": [
    "index_weeks = [f\"semana {i+1}\" for i in range(5)]\n"
   ]
  },
  {
   "cell_type": "code",
   "execution_count": 4,
   "metadata": {},
   "outputs": [
    {
     "data": {
      "text/html": [
       "<div>\n",
       "<style scoped>\n",
       "    .dataframe tbody tr th:only-of-type {\n",
       "        vertical-align: middle;\n",
       "    }\n",
       "\n",
       "    .dataframe tbody tr th {\n",
       "        vertical-align: top;\n",
       "    }\n",
       "\n",
       "    .dataframe thead th {\n",
       "        text-align: right;\n",
       "    }\n",
       "</style>\n",
       "<table border=\"1\" class=\"dataframe\">\n",
       "  <thead>\n",
       "    <tr style=\"text-align: right;\">\n",
       "      <th></th>\n",
       "      <th>Antes de su implementación</th>\n",
       "      <th>Después de su implementación</th>\n",
       "    </tr>\n",
       "  </thead>\n",
       "  <tbody>\n",
       "    <tr>\n",
       "      <th>semana 1</th>\n",
       "      <td>0.6042</td>\n",
       "      <td>0.6971</td>\n",
       "    </tr>\n",
       "    <tr>\n",
       "      <th>semana 2</th>\n",
       "      <td>0.5806</td>\n",
       "      <td>0.6782</td>\n",
       "    </tr>\n",
       "    <tr>\n",
       "      <th>semana 3</th>\n",
       "      <td>0.5932</td>\n",
       "      <td>0.7047</td>\n",
       "    </tr>\n",
       "    <tr>\n",
       "      <th>semana 4</th>\n",
       "      <td>0.5822</td>\n",
       "      <td>0.6948</td>\n",
       "    </tr>\n",
       "    <tr>\n",
       "      <th>semana 5</th>\n",
       "      <td>0.5562</td>\n",
       "      <td>0.7116</td>\n",
       "    </tr>\n",
       "  </tbody>\n",
       "</table>\n",
       "</div>"
      ],
      "text/plain": [
       "          Antes de su implementación  Después de su implementación\n",
       "semana 1                      0.6042                        0.6971\n",
       "semana 2                      0.5806                        0.6782\n",
       "semana 3                      0.5932                        0.7047\n",
       "semana 4                      0.5822                        0.6948\n",
       "semana 5                      0.5562                        0.7116"
      ]
     },
     "execution_count": 4,
     "metadata": {},
     "output_type": "execute_result"
    }
   ],
   "source": [
    "df_productividad = pd.DataFrame(results, index = index_weeks)\n",
    "df_productividad"
   ]
  },
  {
   "cell_type": "markdown",
   "metadata": {},
   "source": [
    "Descripción estadística."
   ]
  },
  {
   "cell_type": "code",
   "execution_count": 5,
   "metadata": {},
   "outputs": [
    {
     "data": {
      "text/html": [
       "<div>\n",
       "<style scoped>\n",
       "    .dataframe tbody tr th:only-of-type {\n",
       "        vertical-align: middle;\n",
       "    }\n",
       "\n",
       "    .dataframe tbody tr th {\n",
       "        vertical-align: top;\n",
       "    }\n",
       "\n",
       "    .dataframe thead th {\n",
       "        text-align: right;\n",
       "    }\n",
       "</style>\n",
       "<table border=\"1\" class=\"dataframe\">\n",
       "  <thead>\n",
       "    <tr style=\"text-align: right;\">\n",
       "      <th></th>\n",
       "      <th>Antes de su implementación</th>\n",
       "      <th>Después de su implementación</th>\n",
       "    </tr>\n",
       "  </thead>\n",
       "  <tbody>\n",
       "    <tr>\n",
       "      <th>count</th>\n",
       "      <td>5.000000</td>\n",
       "      <td>5.000000</td>\n",
       "    </tr>\n",
       "    <tr>\n",
       "      <th>mean</th>\n",
       "      <td>0.583280</td>\n",
       "      <td>0.697280</td>\n",
       "    </tr>\n",
       "    <tr>\n",
       "      <th>std</th>\n",
       "      <td>0.017873</td>\n",
       "      <td>0.012553</td>\n",
       "    </tr>\n",
       "    <tr>\n",
       "      <th>min</th>\n",
       "      <td>0.556200</td>\n",
       "      <td>0.678200</td>\n",
       "    </tr>\n",
       "    <tr>\n",
       "      <th>25%</th>\n",
       "      <td>0.580600</td>\n",
       "      <td>0.694800</td>\n",
       "    </tr>\n",
       "    <tr>\n",
       "      <th>50%</th>\n",
       "      <td>0.582200</td>\n",
       "      <td>0.697100</td>\n",
       "    </tr>\n",
       "    <tr>\n",
       "      <th>75%</th>\n",
       "      <td>0.593200</td>\n",
       "      <td>0.704700</td>\n",
       "    </tr>\n",
       "    <tr>\n",
       "      <th>max</th>\n",
       "      <td>0.604200</td>\n",
       "      <td>0.711600</td>\n",
       "    </tr>\n",
       "  </tbody>\n",
       "</table>\n",
       "</div>"
      ],
      "text/plain": [
       "       Antes de su implementación  Después de su implementación\n",
       "count                    5.000000                      5.000000\n",
       "mean                     0.583280                      0.697280\n",
       "std                      0.017873                      0.012553\n",
       "min                      0.556200                      0.678200\n",
       "25%                      0.580600                      0.694800\n",
       "50%                      0.582200                      0.697100\n",
       "75%                      0.593200                      0.704700\n",
       "max                      0.604200                      0.711600"
      ]
     },
     "execution_count": 5,
     "metadata": {},
     "output_type": "execute_result"
    }
   ],
   "source": [
    "df_productividad.describe()"
   ]
  },
  {
   "cell_type": "markdown",
   "metadata": {},
   "source": [
    "Diferencia de productividad antes y despues de la implementación"
   ]
  },
  {
   "cell_type": "code",
   "execution_count": 6,
   "metadata": {},
   "outputs": [
    {
     "name": "stdout",
     "output_type": "stream",
     "text": [
      "Diferencia promedio: 0.11399999999999988\n"
     ]
    }
   ],
   "source": [
    "diferencia_promedio = df_productividad[\"Después de su implementación\"].mean() - df_productividad[\"Antes de su implementación\"].mean()\n",
    "print(f\"Diferencia promedio: {diferencia_promedio}\")"
   ]
  },
  {
   "cell_type": "markdown",
   "metadata": {},
   "source": [
    "Diferencia porcentual \n"
   ]
  },
  {
   "cell_type": "code",
   "execution_count": 7,
   "metadata": {},
   "outputs": [],
   "source": [
    "media_antes = df_productividad[\"Antes de su implementación\"].mean()\n",
    "media_despues = df_productividad[\"Después de su implementación\"].mean()"
   ]
  },
  {
   "cell_type": "code",
   "execution_count": 8,
   "metadata": {},
   "outputs": [
    {
     "name": "stdout",
     "output_type": "stream",
     "text": [
      "El incremento porcentual en la productividad es: 19.54%\n"
     ]
    }
   ],
   "source": [
    "incremento_porcentual = ((media_despues - media_antes) / media_antes) * 100\n",
    "print(f\"El incremento porcentual en la productividad es: {incremento_porcentual:.2f}%\")\n"
   ]
  },
  {
   "cell_type": "markdown",
   "metadata": {},
   "source": [
    "Prueba hipótesis: \n",
    "- $H_0$ (Hipótesis nula): La implementación del TPM no tiene un impacto significativo en la productividad de la linea de arroz fortificado. \n",
    "\n",
    "- $H_1$ (Hipótesis alternativa): La implementación del TPM tiene un impacto significativo en la productivdad de la línea de arroz fortificado. "
   ]
  },
  {
   "cell_type": "code",
   "execution_count": 9,
   "metadata": {},
   "outputs": [
    {
     "name": "stdout",
     "output_type": "stream",
     "text": [
      "T-statistic: -10.32882457444065\n",
      "P-value: 0.000495775134686405\n",
      "Rechazamos la hipótesis nula (H₀). Hay evidencia de un impacto significativo del TPM en la productividad.\n"
     ]
    }
   ],
   "source": [
    "from scipy.stats import ttest_rel\n",
    "\n",
    "# Realizar la prueba t dependiente (para muestras relacionadas)\n",
    "t_stat, p_value = ttest_rel(df_productividad[\"Antes de su implementación\"], df_productividad[\"Después de su implementación\"])\n",
    "\n",
    "# Definir el nivel de significancia\n",
    "alpha = 0.05\n",
    "\n",
    "# Mostrar los resultados\n",
    "print(f\"T-statistic: {t_stat}\")\n",
    "print(f\"P-value: {p_value}\")\n",
    "\n",
    "if p_value < alpha:\n",
    "    print(\"Rechazamos la hipótesis nula (H₀). Hay evidencia de un impacto significativo del TPM en la productividad.\")\n",
    "else:\n",
    "    print(\"No se puede rechazar la hipótesis nula (H₀). No hay evidencia suficiente de un impacto significativo del TPM en la productividad.\")"
   ]
  },
  {
   "cell_type": "markdown",
   "metadata": {},
   "source": [
    "### Prueba hipótesis Eficiencia produtiva "
   ]
  },
  {
   "cell_type": "code",
   "execution_count": 10,
   "metadata": {},
   "outputs": [],
   "source": [
    "results = {\"Antes de su implementación\": [0.8653, 0.8651, 0.8668, 0.8636, 0.8569],\n",
    "           \"Después de su implementación\": [0.8862, 0.8829, 0.8870, 0.8859, 0.8879]}"
   ]
  },
  {
   "cell_type": "code",
   "execution_count": 11,
   "metadata": {},
   "outputs": [
    {
     "data": {
      "text/html": [
       "<div>\n",
       "<style scoped>\n",
       "    .dataframe tbody tr th:only-of-type {\n",
       "        vertical-align: middle;\n",
       "    }\n",
       "\n",
       "    .dataframe tbody tr th {\n",
       "        vertical-align: top;\n",
       "    }\n",
       "\n",
       "    .dataframe thead th {\n",
       "        text-align: right;\n",
       "    }\n",
       "</style>\n",
       "<table border=\"1\" class=\"dataframe\">\n",
       "  <thead>\n",
       "    <tr style=\"text-align: right;\">\n",
       "      <th></th>\n",
       "      <th>Antes de su implementación</th>\n",
       "      <th>Después de su implementación</th>\n",
       "    </tr>\n",
       "  </thead>\n",
       "  <tbody>\n",
       "    <tr>\n",
       "      <th>semana 1</th>\n",
       "      <td>0.8653</td>\n",
       "      <td>0.8862</td>\n",
       "    </tr>\n",
       "    <tr>\n",
       "      <th>semana 2</th>\n",
       "      <td>0.8651</td>\n",
       "      <td>0.8829</td>\n",
       "    </tr>\n",
       "    <tr>\n",
       "      <th>semana 3</th>\n",
       "      <td>0.8668</td>\n",
       "      <td>0.8870</td>\n",
       "    </tr>\n",
       "    <tr>\n",
       "      <th>semana 4</th>\n",
       "      <td>0.8636</td>\n",
       "      <td>0.8859</td>\n",
       "    </tr>\n",
       "    <tr>\n",
       "      <th>semana 5</th>\n",
       "      <td>0.8569</td>\n",
       "      <td>0.8879</td>\n",
       "    </tr>\n",
       "  </tbody>\n",
       "</table>\n",
       "</div>"
      ],
      "text/plain": [
       "          Antes de su implementación  Después de su implementación\n",
       "semana 1                      0.8653                        0.8862\n",
       "semana 2                      0.8651                        0.8829\n",
       "semana 3                      0.8668                        0.8870\n",
       "semana 4                      0.8636                        0.8859\n",
       "semana 5                      0.8569                        0.8879"
      ]
     },
     "execution_count": 11,
     "metadata": {},
     "output_type": "execute_result"
    }
   ],
   "source": [
    "df_eficiecna_p = pd.DataFrame(results, index=index_weeks)\n",
    "df_eficiecna_p"
   ]
  },
  {
   "cell_type": "code",
   "execution_count": 12,
   "metadata": {},
   "outputs": [
    {
     "data": {
      "text/html": [
       "<div>\n",
       "<style scoped>\n",
       "    .dataframe tbody tr th:only-of-type {\n",
       "        vertical-align: middle;\n",
       "    }\n",
       "\n",
       "    .dataframe tbody tr th {\n",
       "        vertical-align: top;\n",
       "    }\n",
       "\n",
       "    .dataframe thead th {\n",
       "        text-align: right;\n",
       "    }\n",
       "</style>\n",
       "<table border=\"1\" class=\"dataframe\">\n",
       "  <thead>\n",
       "    <tr style=\"text-align: right;\">\n",
       "      <th></th>\n",
       "      <th>Antes de su implementación</th>\n",
       "      <th>Después de su implementación</th>\n",
       "    </tr>\n",
       "  </thead>\n",
       "  <tbody>\n",
       "    <tr>\n",
       "      <th>count</th>\n",
       "      <td>5.000000</td>\n",
       "      <td>5.000000</td>\n",
       "    </tr>\n",
       "    <tr>\n",
       "      <th>mean</th>\n",
       "      <td>0.863540</td>\n",
       "      <td>0.885980</td>\n",
       "    </tr>\n",
       "    <tr>\n",
       "      <th>std</th>\n",
       "      <td>0.003881</td>\n",
       "      <td>0.001889</td>\n",
       "    </tr>\n",
       "    <tr>\n",
       "      <th>min</th>\n",
       "      <td>0.856900</td>\n",
       "      <td>0.882900</td>\n",
       "    </tr>\n",
       "    <tr>\n",
       "      <th>25%</th>\n",
       "      <td>0.863600</td>\n",
       "      <td>0.885900</td>\n",
       "    </tr>\n",
       "    <tr>\n",
       "      <th>50%</th>\n",
       "      <td>0.865100</td>\n",
       "      <td>0.886200</td>\n",
       "    </tr>\n",
       "    <tr>\n",
       "      <th>75%</th>\n",
       "      <td>0.865300</td>\n",
       "      <td>0.887000</td>\n",
       "    </tr>\n",
       "    <tr>\n",
       "      <th>max</th>\n",
       "      <td>0.866800</td>\n",
       "      <td>0.887900</td>\n",
       "    </tr>\n",
       "  </tbody>\n",
       "</table>\n",
       "</div>"
      ],
      "text/plain": [
       "       Antes de su implementación  Después de su implementación\n",
       "count                    5.000000                      5.000000\n",
       "mean                     0.863540                      0.885980\n",
       "std                      0.003881                      0.001889\n",
       "min                      0.856900                      0.882900\n",
       "25%                      0.863600                      0.885900\n",
       "50%                      0.865100                      0.886200\n",
       "75%                      0.865300                      0.887000\n",
       "max                      0.866800                      0.887900"
      ]
     },
     "execution_count": 12,
     "metadata": {},
     "output_type": "execute_result"
    }
   ],
   "source": [
    "df_eficiecna_p.describe()"
   ]
  },
  {
   "cell_type": "code",
   "execution_count": 13,
   "metadata": {},
   "outputs": [
    {
     "name": "stdout",
     "output_type": "stream",
     "text": [
      "Diferencia promedio: 0.022439999999999904\n"
     ]
    }
   ],
   "source": [
    "diferencia_promedio = df_eficiecna_p[\"Después de su implementación\"].mean() - df_eficiecna_p[\"Antes de su implementación\"].mean()\n",
    "print(f\"Diferencia promedio: {diferencia_promedio}\")"
   ]
  },
  {
   "cell_type": "code",
   "execution_count": 14,
   "metadata": {},
   "outputs": [],
   "source": [
    "media_antes = df_eficiecna_p[\"Antes de su implementación\"].mean()\n",
    "media_despues = df_eficiecna_p[\"Después de su implementación\"].mean()"
   ]
  },
  {
   "cell_type": "code",
   "execution_count": 15,
   "metadata": {},
   "outputs": [
    {
     "name": "stdout",
     "output_type": "stream",
     "text": [
      "El incremento porcentual en la productividad es: 2.60%\n"
     ]
    }
   ],
   "source": [
    "incremento_porcentual = ((media_despues - media_antes) / media_antes) * 100\n",
    "print(f\"El incremento porcentual en la productividad es: {incremento_porcentual:.2f}%\")"
   ]
  },
  {
   "cell_type": "markdown",
   "metadata": {},
   "source": [
    "Prueba hipótesis: \n",
    "- $H_0$ (Hipótesis nula): La implementación del TPM no tiene un impacto significativo en la eficiencia productiva de la linea de arroz fortificado. \n",
    "\n",
    "- $H_1$ (Hipótesis alternativa): La implementación del TPM tiene un impacto significativo en la eficiencia productiva de la línea de arroz fortificado. "
   ]
  },
  {
   "cell_type": "code",
   "execution_count": 16,
   "metadata": {},
   "outputs": [
    {
     "name": "stdout",
     "output_type": "stream",
     "text": [
      "T-statistic: -9.92628881519692\n",
      "P-value: 0.0005783302679313287\n",
      "Rechazamos la hipótesis nula (H₀). Hay evidencia de un impacto significativo del TPM en la eficiencia productiva.\n"
     ]
    }
   ],
   "source": [
    "# Realizar la prueba t dependiente (para muestras relacionadas)\n",
    "t_stat, p_value = ttest_rel(df_eficiecna_p[\"Antes de su implementación\"], df_eficiecna_p[\"Después de su implementación\"])\n",
    "\n",
    "# Definir el nivel de significancia\n",
    "alpha = 0.05\n",
    "\n",
    "# Mostrar los resultados\n",
    "print(f\"T-statistic: {t_stat}\")\n",
    "print(f\"P-value: {p_value}\")\n",
    "\n",
    "if p_value < alpha:\n",
    "    print(\"Rechazamos la hipótesis nula (H₀). Hay evidencia de un impacto significativo del TPM en la eficiencia productiva.\")\n",
    "else:\n",
    "    print(\"No se puede rechazar la hipótesis nula (H₀). No hay evidencia suficiente de un impacto significativo del TPM en la eficiencia productiva.\")"
   ]
  },
  {
   "cell_type": "markdown",
   "metadata": {},
   "source": [
    "### Prueba hipótesis eficacia productiva "
   ]
  },
  {
   "cell_type": "code",
   "execution_count": 17,
   "metadata": {},
   "outputs": [],
   "source": [
    "results = {\"Antes de su implementación\": [0.6980, 0.6711, 0.6844, 0.6741, 0.6491],\n",
    "           \"Después de su implementación\": [0.7866, 0.7682, 0.7944, 0.7843, 0.8014]}"
   ]
  },
  {
   "cell_type": "code",
   "execution_count": 18,
   "metadata": {},
   "outputs": [
    {
     "data": {
      "text/html": [
       "<div>\n",
       "<style scoped>\n",
       "    .dataframe tbody tr th:only-of-type {\n",
       "        vertical-align: middle;\n",
       "    }\n",
       "\n",
       "    .dataframe tbody tr th {\n",
       "        vertical-align: top;\n",
       "    }\n",
       "\n",
       "    .dataframe thead th {\n",
       "        text-align: right;\n",
       "    }\n",
       "</style>\n",
       "<table border=\"1\" class=\"dataframe\">\n",
       "  <thead>\n",
       "    <tr style=\"text-align: right;\">\n",
       "      <th></th>\n",
       "      <th>Antes de su implementación</th>\n",
       "      <th>Después de su implementación</th>\n",
       "    </tr>\n",
       "  </thead>\n",
       "  <tbody>\n",
       "    <tr>\n",
       "      <th>semana 1</th>\n",
       "      <td>0.6980</td>\n",
       "      <td>0.7866</td>\n",
       "    </tr>\n",
       "    <tr>\n",
       "      <th>semana 2</th>\n",
       "      <td>0.6711</td>\n",
       "      <td>0.7682</td>\n",
       "    </tr>\n",
       "    <tr>\n",
       "      <th>semana 3</th>\n",
       "      <td>0.6844</td>\n",
       "      <td>0.7944</td>\n",
       "    </tr>\n",
       "    <tr>\n",
       "      <th>semana 4</th>\n",
       "      <td>0.6741</td>\n",
       "      <td>0.7843</td>\n",
       "    </tr>\n",
       "    <tr>\n",
       "      <th>semana 5</th>\n",
       "      <td>0.6491</td>\n",
       "      <td>0.8014</td>\n",
       "    </tr>\n",
       "  </tbody>\n",
       "</table>\n",
       "</div>"
      ],
      "text/plain": [
       "          Antes de su implementación  Después de su implementación\n",
       "semana 1                      0.6980                        0.7866\n",
       "semana 2                      0.6711                        0.7682\n",
       "semana 3                      0.6844                        0.7944\n",
       "semana 4                      0.6741                        0.7843\n",
       "semana 5                      0.6491                        0.8014"
      ]
     },
     "execution_count": 18,
     "metadata": {},
     "output_type": "execute_result"
    }
   ],
   "source": [
    "df_eficacia = pd.DataFrame(results, index = index_weeks)\n",
    "df_eficacia"
   ]
  },
  {
   "cell_type": "code",
   "execution_count": 19,
   "metadata": {},
   "outputs": [
    {
     "data": {
      "text/html": [
       "<div>\n",
       "<style scoped>\n",
       "    .dataframe tbody tr th:only-of-type {\n",
       "        vertical-align: middle;\n",
       "    }\n",
       "\n",
       "    .dataframe tbody tr th {\n",
       "        vertical-align: top;\n",
       "    }\n",
       "\n",
       "    .dataframe thead th {\n",
       "        text-align: right;\n",
       "    }\n",
       "</style>\n",
       "<table border=\"1\" class=\"dataframe\">\n",
       "  <thead>\n",
       "    <tr style=\"text-align: right;\">\n",
       "      <th></th>\n",
       "      <th>Antes de su implementación</th>\n",
       "      <th>Después de su implementación</th>\n",
       "    </tr>\n",
       "  </thead>\n",
       "  <tbody>\n",
       "    <tr>\n",
       "      <th>count</th>\n",
       "      <td>5.000000</td>\n",
       "      <td>5.00000</td>\n",
       "    </tr>\n",
       "    <tr>\n",
       "      <th>mean</th>\n",
       "      <td>0.675340</td>\n",
       "      <td>0.78698</td>\n",
       "    </tr>\n",
       "    <tr>\n",
       "      <th>std</th>\n",
       "      <td>0.018053</td>\n",
       "      <td>0.01248</td>\n",
       "    </tr>\n",
       "    <tr>\n",
       "      <th>min</th>\n",
       "      <td>0.649100</td>\n",
       "      <td>0.76820</td>\n",
       "    </tr>\n",
       "    <tr>\n",
       "      <th>25%</th>\n",
       "      <td>0.671100</td>\n",
       "      <td>0.78430</td>\n",
       "    </tr>\n",
       "    <tr>\n",
       "      <th>50%</th>\n",
       "      <td>0.674100</td>\n",
       "      <td>0.78660</td>\n",
       "    </tr>\n",
       "    <tr>\n",
       "      <th>75%</th>\n",
       "      <td>0.684400</td>\n",
       "      <td>0.79440</td>\n",
       "    </tr>\n",
       "    <tr>\n",
       "      <th>max</th>\n",
       "      <td>0.698000</td>\n",
       "      <td>0.80140</td>\n",
       "    </tr>\n",
       "  </tbody>\n",
       "</table>\n",
       "</div>"
      ],
      "text/plain": [
       "       Antes de su implementación  Después de su implementación\n",
       "count                    5.000000                       5.00000\n",
       "mean                     0.675340                       0.78698\n",
       "std                      0.018053                       0.01248\n",
       "min                      0.649100                       0.76820\n",
       "25%                      0.671100                       0.78430\n",
       "50%                      0.674100                       0.78660\n",
       "75%                      0.684400                       0.79440\n",
       "max                      0.698000                       0.80140"
      ]
     },
     "execution_count": 19,
     "metadata": {},
     "output_type": "execute_result"
    }
   ],
   "source": [
    "df_eficacia.describe()"
   ]
  },
  {
   "cell_type": "code",
   "execution_count": 20,
   "metadata": {},
   "outputs": [
    {
     "name": "stdout",
     "output_type": "stream",
     "text": [
      "Diferencia promedio: 0.11163999999999996\n"
     ]
    }
   ],
   "source": [
    "diferencia_promedio = df_eficacia[\"Después de su implementación\"].mean() - df_eficacia[\"Antes de su implementación\"].mean()\n",
    "print(f\"Diferencia promedio: {diferencia_promedio}\")"
   ]
  },
  {
   "cell_type": "code",
   "execution_count": 21,
   "metadata": {},
   "outputs": [],
   "source": [
    "media_antes = df_eficacia[\"Antes de su implementación\"].mean()\n",
    "media_despues = df_eficacia[\"Después de su implementación\"].mean()"
   ]
  },
  {
   "cell_type": "code",
   "execution_count": 22,
   "metadata": {},
   "outputs": [
    {
     "name": "stdout",
     "output_type": "stream",
     "text": [
      "El incremento porcentual en la productividad es: 16.53%\n"
     ]
    }
   ],
   "source": [
    "incremento_porcentual = ((media_despues - media_antes) / media_antes) * 100\n",
    "print(f\"El incremento porcentual en la productividad es: {incremento_porcentual:.2f}%\")"
   ]
  },
  {
   "cell_type": "markdown",
   "metadata": {},
   "source": [
    "Prueba hipótesis: \n",
    "- $H_0$ (Hipótesis nula): La implementación del TPM no tiene un impacto significativo en la eficacia productiva de la linea de arroz fortificado. \n",
    "\n",
    "- $H_1$ (Hipótesis alternativa): La implementación del TPM tiene un impacto significativo en la eficacia productiva de la línea de arroz fortificado. "
   ]
  },
  {
   "cell_type": "code",
   "execution_count": 23,
   "metadata": {},
   "outputs": [
    {
     "name": "stdout",
     "output_type": "stream",
     "text": [
      "T-statistic: -10.190756052663424\n",
      "P-value: 0.0005223340803142873\n",
      "Rechazamos la hipótesis nula (H₀). Hay evidencia de un impacto significativo del TPM en la eficacia productiva.\n"
     ]
    }
   ],
   "source": [
    "# Realizar la prueba t dependiente (para muestras relacionadas)\n",
    "t_stat, p_value = ttest_rel(df_eficacia[\"Antes de su implementación\"], df_eficacia[\"Después de su implementación\"])\n",
    "\n",
    "# Definir el nivel de significancia\n",
    "alpha = 0.05\n",
    "\n",
    "# Mostrar los resultados\n",
    "print(f\"T-statistic: {t_stat}\")\n",
    "print(f\"P-value: {p_value}\")\n",
    "\n",
    "if p_value < alpha:\n",
    "    print(\"Rechazamos la hipótesis nula (H₀). Hay evidencia de un impacto significativo del TPM en la eficacia productiva.\")\n",
    "else:\n",
    "    print(\"No se puede rechazar la hipótesis nula (H₀). No hay evidencia suficiente de un impacto significativo del TPM en la eficacia productiva.\")"
   ]
  },
  {
   "cell_type": "markdown",
   "metadata": {},
   "source": [
    "### Prueba hipótesis de la disponibilidad en los equipos "
   ]
  },
  {
   "cell_type": "code",
   "execution_count": 24,
   "metadata": {},
   "outputs": [],
   "source": [
    "results = {\"Antes de su implementación\": [0.7559, 0.7413, 0.7409, 0.7385, 0.7325],\n",
    "           \"Después de su implementación\": [0.8319, 0.8234, 0.8288, 0.8291, 0.8325]}"
   ]
  },
  {
   "cell_type": "code",
   "execution_count": 25,
   "metadata": {},
   "outputs": [
    {
     "data": {
      "text/html": [
       "<div>\n",
       "<style scoped>\n",
       "    .dataframe tbody tr th:only-of-type {\n",
       "        vertical-align: middle;\n",
       "    }\n",
       "\n",
       "    .dataframe tbody tr th {\n",
       "        vertical-align: top;\n",
       "    }\n",
       "\n",
       "    .dataframe thead th {\n",
       "        text-align: right;\n",
       "    }\n",
       "</style>\n",
       "<table border=\"1\" class=\"dataframe\">\n",
       "  <thead>\n",
       "    <tr style=\"text-align: right;\">\n",
       "      <th></th>\n",
       "      <th>Antes de su implementación</th>\n",
       "      <th>Después de su implementación</th>\n",
       "    </tr>\n",
       "  </thead>\n",
       "  <tbody>\n",
       "    <tr>\n",
       "      <th>semana 1</th>\n",
       "      <td>0.7559</td>\n",
       "      <td>0.8319</td>\n",
       "    </tr>\n",
       "    <tr>\n",
       "      <th>semana 2</th>\n",
       "      <td>0.7413</td>\n",
       "      <td>0.8234</td>\n",
       "    </tr>\n",
       "    <tr>\n",
       "      <th>semana 3</th>\n",
       "      <td>0.7409</td>\n",
       "      <td>0.8288</td>\n",
       "    </tr>\n",
       "    <tr>\n",
       "      <th>semana 4</th>\n",
       "      <td>0.7385</td>\n",
       "      <td>0.8291</td>\n",
       "    </tr>\n",
       "    <tr>\n",
       "      <th>semana 5</th>\n",
       "      <td>0.7325</td>\n",
       "      <td>0.8325</td>\n",
       "    </tr>\n",
       "  </tbody>\n",
       "</table>\n",
       "</div>"
      ],
      "text/plain": [
       "          Antes de su implementación  Después de su implementación\n",
       "semana 1                      0.7559                        0.8319\n",
       "semana 2                      0.7413                        0.8234\n",
       "semana 3                      0.7409                        0.8288\n",
       "semana 4                      0.7385                        0.8291\n",
       "semana 5                      0.7325                        0.8325"
      ]
     },
     "execution_count": 25,
     "metadata": {},
     "output_type": "execute_result"
    }
   ],
   "source": [
    "df_disponibilidad = pd.DataFrame(results, index=index_weeks)\n",
    "df_disponibilidad"
   ]
  },
  {
   "cell_type": "code",
   "execution_count": 26,
   "metadata": {},
   "outputs": [
    {
     "data": {
      "text/html": [
       "<div>\n",
       "<style scoped>\n",
       "    .dataframe tbody tr th:only-of-type {\n",
       "        vertical-align: middle;\n",
       "    }\n",
       "\n",
       "    .dataframe tbody tr th {\n",
       "        vertical-align: top;\n",
       "    }\n",
       "\n",
       "    .dataframe thead th {\n",
       "        text-align: right;\n",
       "    }\n",
       "</style>\n",
       "<table border=\"1\" class=\"dataframe\">\n",
       "  <thead>\n",
       "    <tr style=\"text-align: right;\">\n",
       "      <th></th>\n",
       "      <th>Antes de su implementación</th>\n",
       "      <th>Después de su implementación</th>\n",
       "    </tr>\n",
       "  </thead>\n",
       "  <tbody>\n",
       "    <tr>\n",
       "      <th>count</th>\n",
       "      <td>5.00000</td>\n",
       "      <td>5.000000</td>\n",
       "    </tr>\n",
       "    <tr>\n",
       "      <th>mean</th>\n",
       "      <td>0.74182</td>\n",
       "      <td>0.829140</td>\n",
       "    </tr>\n",
       "    <tr>\n",
       "      <th>std</th>\n",
       "      <td>0.00862</td>\n",
       "      <td>0.003605</td>\n",
       "    </tr>\n",
       "    <tr>\n",
       "      <th>min</th>\n",
       "      <td>0.73250</td>\n",
       "      <td>0.823400</td>\n",
       "    </tr>\n",
       "    <tr>\n",
       "      <th>25%</th>\n",
       "      <td>0.73850</td>\n",
       "      <td>0.828800</td>\n",
       "    </tr>\n",
       "    <tr>\n",
       "      <th>50%</th>\n",
       "      <td>0.74090</td>\n",
       "      <td>0.829100</td>\n",
       "    </tr>\n",
       "    <tr>\n",
       "      <th>75%</th>\n",
       "      <td>0.74130</td>\n",
       "      <td>0.831900</td>\n",
       "    </tr>\n",
       "    <tr>\n",
       "      <th>max</th>\n",
       "      <td>0.75590</td>\n",
       "      <td>0.832500</td>\n",
       "    </tr>\n",
       "  </tbody>\n",
       "</table>\n",
       "</div>"
      ],
      "text/plain": [
       "       Antes de su implementación  Después de su implementación\n",
       "count                     5.00000                      5.000000\n",
       "mean                      0.74182                      0.829140\n",
       "std                       0.00862                      0.003605\n",
       "min                       0.73250                      0.823400\n",
       "25%                       0.73850                      0.828800\n",
       "50%                       0.74090                      0.829100\n",
       "75%                       0.74130                      0.831900\n",
       "max                       0.75590                      0.832500"
      ]
     },
     "execution_count": 26,
     "metadata": {},
     "output_type": "execute_result"
    }
   ],
   "source": [
    "df_disponibilidad.describe()"
   ]
  },
  {
   "cell_type": "code",
   "execution_count": 27,
   "metadata": {},
   "outputs": [
    {
     "name": "stdout",
     "output_type": "stream",
     "text": [
      "Diferencia promedio: 0.08732000000000006\n"
     ]
    }
   ],
   "source": [
    "diferencia_promedio = df_disponibilidad[\"Después de su implementación\"].mean() - df_disponibilidad[\"Antes de su implementación\"].mean()\n",
    "print(f\"Diferencia promedio: {diferencia_promedio}\")"
   ]
  },
  {
   "cell_type": "code",
   "execution_count": 28,
   "metadata": {},
   "outputs": [],
   "source": [
    "media_antes = df_disponibilidad[\"Antes de su implementación\"].mean()\n",
    "media_despues = df_disponibilidad[\"Después de su implementación\"].mean()"
   ]
  },
  {
   "cell_type": "code",
   "execution_count": 29,
   "metadata": {},
   "outputs": [
    {
     "name": "stdout",
     "output_type": "stream",
     "text": [
      "El incremento porcentual en la productividad es: 11.77%\n"
     ]
    }
   ],
   "source": [
    "incremento_porcentual = ((media_despues - media_antes) / media_antes) * 100\n",
    "print(f\"El incremento porcentual en la productividad es: {incremento_porcentual:.2f}%\")"
   ]
  },
  {
   "cell_type": "markdown",
   "metadata": {},
   "source": [
    "Prueba hipótesis: \n",
    "- $H_0$ (Hipótesis nula): La implementación del TPM no tiene un impacto significativo en la disponibilidad en los equipos de la linea de arroz fortificado. \n",
    "\n",
    "- $H_1$ (Hipótesis alternativa): La implementación del TPM tiene un impacto significativo en la disponibilidad en los equipos de la línea de arroz fortificado. "
   ]
  },
  {
   "cell_type": "code",
   "execution_count": 30,
   "metadata": {},
   "outputs": [
    {
     "name": "stdout",
     "output_type": "stream",
     "text": [
      "T-statistic: -21.58623763094122\n",
      "P-value: 2.7243023860855643e-05\n",
      "Rechazamos la hipótesis nula (H₀). Hay evidencia de un impacto significativo del TPM en la disponibilidad de los equipos.\n"
     ]
    }
   ],
   "source": [
    "# Realizar la prueba t dependiente (para muestras relacionadas)\n",
    "t_stat, p_value = ttest_rel(df_disponibilidad[\"Antes de su implementación\"], df_disponibilidad[\"Después de su implementación\"])\n",
    "\n",
    "# Definir el nivel de significancia\n",
    "alpha = 0.05\n",
    "\n",
    "# Mostrar los resultados\n",
    "print(f\"T-statistic: {t_stat}\")\n",
    "print(f\"P-value: {p_value}\")\n",
    "\n",
    "if p_value < alpha:\n",
    "    print(\"Rechazamos la hipótesis nula (H₀). Hay evidencia de un impacto significativo del TPM en la disponibilidad de los equipos.\")\n",
    "else:\n",
    "    print(\"No se puede rechazar la hipótesis nula (H₀). No hay evidencia suficiente de un impacto significativo del TPM en la disponibilidad de los equipos.\")"
   ]
  },
  {
   "cell_type": "markdown",
   "metadata": {},
   "source": [
    "### Prueba hipótesis Eficiencia de los equipos (OEE)"
   ]
  },
  {
   "cell_type": "code",
   "execution_count": 31,
   "metadata": {},
   "outputs": [],
   "source": [
    "results = {\"Antes de su implementación\": [0.6476, 0.6259, 0.6376, 0.6370, 0.6100],\n",
    "           \"Después de su implementación\": [0.7385, 0.7415, 0.7421, 0.7252, 0.7358]}"
   ]
  },
  {
   "cell_type": "code",
   "execution_count": 32,
   "metadata": {},
   "outputs": [
    {
     "data": {
      "text/html": [
       "<div>\n",
       "<style scoped>\n",
       "    .dataframe tbody tr th:only-of-type {\n",
       "        vertical-align: middle;\n",
       "    }\n",
       "\n",
       "    .dataframe tbody tr th {\n",
       "        vertical-align: top;\n",
       "    }\n",
       "\n",
       "    .dataframe thead th {\n",
       "        text-align: right;\n",
       "    }\n",
       "</style>\n",
       "<table border=\"1\" class=\"dataframe\">\n",
       "  <thead>\n",
       "    <tr style=\"text-align: right;\">\n",
       "      <th></th>\n",
       "      <th>Antes de su implementación</th>\n",
       "      <th>Después de su implementación</th>\n",
       "    </tr>\n",
       "  </thead>\n",
       "  <tbody>\n",
       "    <tr>\n",
       "      <th>semana 1</th>\n",
       "      <td>0.6476</td>\n",
       "      <td>0.7385</td>\n",
       "    </tr>\n",
       "    <tr>\n",
       "      <th>semana 2</th>\n",
       "      <td>0.6259</td>\n",
       "      <td>0.7415</td>\n",
       "    </tr>\n",
       "    <tr>\n",
       "      <th>semana 3</th>\n",
       "      <td>0.6376</td>\n",
       "      <td>0.7421</td>\n",
       "    </tr>\n",
       "    <tr>\n",
       "      <th>semana 4</th>\n",
       "      <td>0.6370</td>\n",
       "      <td>0.7252</td>\n",
       "    </tr>\n",
       "    <tr>\n",
       "      <th>semana 5</th>\n",
       "      <td>0.6100</td>\n",
       "      <td>0.7358</td>\n",
       "    </tr>\n",
       "  </tbody>\n",
       "</table>\n",
       "</div>"
      ],
      "text/plain": [
       "          Antes de su implementación  Después de su implementación\n",
       "semana 1                      0.6476                        0.7385\n",
       "semana 2                      0.6259                        0.7415\n",
       "semana 3                      0.6376                        0.7421\n",
       "semana 4                      0.6370                        0.7252\n",
       "semana 5                      0.6100                        0.7358"
      ]
     },
     "execution_count": 32,
     "metadata": {},
     "output_type": "execute_result"
    }
   ],
   "source": [
    "df_oee = pd.DataFrame(results, index = index_weeks)\n",
    "df_oee"
   ]
  },
  {
   "cell_type": "code",
   "execution_count": 33,
   "metadata": {},
   "outputs": [
    {
     "data": {
      "text/html": [
       "<div>\n",
       "<style scoped>\n",
       "    .dataframe tbody tr th:only-of-type {\n",
       "        vertical-align: middle;\n",
       "    }\n",
       "\n",
       "    .dataframe tbody tr th {\n",
       "        vertical-align: top;\n",
       "    }\n",
       "\n",
       "    .dataframe thead th {\n",
       "        text-align: right;\n",
       "    }\n",
       "</style>\n",
       "<table border=\"1\" class=\"dataframe\">\n",
       "  <thead>\n",
       "    <tr style=\"text-align: right;\">\n",
       "      <th></th>\n",
       "      <th>Antes de su implementación</th>\n",
       "      <th>Después de su implementación</th>\n",
       "    </tr>\n",
       "  </thead>\n",
       "  <tbody>\n",
       "    <tr>\n",
       "      <th>count</th>\n",
       "      <td>5.00000</td>\n",
       "      <td>5.000000</td>\n",
       "    </tr>\n",
       "    <tr>\n",
       "      <th>mean</th>\n",
       "      <td>0.63162</td>\n",
       "      <td>0.736620</td>\n",
       "    </tr>\n",
       "    <tr>\n",
       "      <th>std</th>\n",
       "      <td>0.01432</td>\n",
       "      <td>0.006864</td>\n",
       "    </tr>\n",
       "    <tr>\n",
       "      <th>min</th>\n",
       "      <td>0.61000</td>\n",
       "      <td>0.725200</td>\n",
       "    </tr>\n",
       "    <tr>\n",
       "      <th>25%</th>\n",
       "      <td>0.62590</td>\n",
       "      <td>0.735800</td>\n",
       "    </tr>\n",
       "    <tr>\n",
       "      <th>50%</th>\n",
       "      <td>0.63700</td>\n",
       "      <td>0.738500</td>\n",
       "    </tr>\n",
       "    <tr>\n",
       "      <th>75%</th>\n",
       "      <td>0.63760</td>\n",
       "      <td>0.741500</td>\n",
       "    </tr>\n",
       "    <tr>\n",
       "      <th>max</th>\n",
       "      <td>0.64760</td>\n",
       "      <td>0.742100</td>\n",
       "    </tr>\n",
       "  </tbody>\n",
       "</table>\n",
       "</div>"
      ],
      "text/plain": [
       "       Antes de su implementación  Después de su implementación\n",
       "count                     5.00000                      5.000000\n",
       "mean                      0.63162                      0.736620\n",
       "std                       0.01432                      0.006864\n",
       "min                       0.61000                      0.725200\n",
       "25%                       0.62590                      0.735800\n",
       "50%                       0.63700                      0.738500\n",
       "75%                       0.63760                      0.741500\n",
       "max                       0.64760                      0.742100"
      ]
     },
     "execution_count": 33,
     "metadata": {},
     "output_type": "execute_result"
    }
   ],
   "source": [
    "df_oee.describe()"
   ]
  },
  {
   "cell_type": "code",
   "execution_count": 34,
   "metadata": {},
   "outputs": [
    {
     "name": "stdout",
     "output_type": "stream",
     "text": [
      "Diferencia promedio: 0.1050000000000001\n"
     ]
    }
   ],
   "source": [
    "diferencia_promedio = df_oee[\"Después de su implementación\"].mean() - df_oee[\"Antes de su implementación\"].mean()\n",
    "print(f\"Diferencia promedio: {diferencia_promedio}\")"
   ]
  },
  {
   "cell_type": "code",
   "execution_count": 35,
   "metadata": {},
   "outputs": [],
   "source": [
    "media_antes = df_oee[\"Antes de su implementación\"].mean()\n",
    "media_despues = df_oee[\"Después de su implementación\"].mean()"
   ]
  },
  {
   "cell_type": "code",
   "execution_count": 36,
   "metadata": {},
   "outputs": [
    {
     "name": "stdout",
     "output_type": "stream",
     "text": [
      "El incremento porcentual en la productividad es: 16.62%\n"
     ]
    }
   ],
   "source": [
    "incremento_porcentual = ((media_despues - media_antes) / media_antes) * 100\n",
    "print(f\"El incremento porcentual en la productividad es: {incremento_porcentual:.2f}%\")"
   ]
  },
  {
   "cell_type": "markdown",
   "metadata": {},
   "source": [
    "Prueba hipótesis: \n",
    "- $H_0$ (Hipótesis nula): La implementación del TPM no tiene un impacto significativo en la eficiencia de los equipos (OEE) de la linea de arroz fortificado. \n",
    "\n",
    "- $H_1$ (Hipótesis alternativa): La implementación del TPM tiene un impacto significativo en la eficiencia de los equipos (OEE) de la línea de arroz fortificado. "
   ]
  },
  {
   "cell_type": "code",
   "execution_count": 37,
   "metadata": {},
   "outputs": [
    {
     "name": "stdout",
     "output_type": "stream",
     "text": [
      "T-statistic: -14.657744001804966\n",
      "P-value: 0.0001260449828993664\n",
      "Rechazamos la hipótesis nula (H₀). Hay evidencia de un impacto significativo del TPM en la eficiencia de los equipos OEE.\n"
     ]
    }
   ],
   "source": [
    "# Realizar la prueba t dependiente (para muestras relacionadas)\n",
    "t_stat, p_value = ttest_rel(df_oee[\"Antes de su implementación\"], df_oee[\"Después de su implementación\"])\n",
    "\n",
    "# Definir el nivel de significancia\n",
    "alpha = 0.05\n",
    "\n",
    "# Mostrar los resultados\n",
    "print(f\"T-statistic: {t_stat}\")\n",
    "print(f\"P-value: {p_value}\")\n",
    "\n",
    "if p_value < alpha:\n",
    "    print(\"Rechazamos la hipótesis nula (H₀). Hay evidencia de un impacto significativo del TPM en la eficiencia de los equipos OEE.\")\n",
    "else:\n",
    "    print(\"No se puede rechazar la hipótesis nula (H₀). No hay evidencia suficiente de un impacto significativo del TPM en la eficiencia de los equipos OEE.\")"
   ]
  }
 ],
 "metadata": {
  "kernelspec": {
   "display_name": "data_science_path",
   "language": "python",
   "name": "python3"
  },
  "language_info": {
   "codemirror_mode": {
    "name": "ipython",
    "version": 3
   },
   "file_extension": ".py",
   "mimetype": "text/x-python",
   "name": "python",
   "nbconvert_exporter": "python",
   "pygments_lexer": "ipython3",
   "version": "3.10.4"
  }
 },
 "nbformat": 4,
 "nbformat_minor": 2
}
