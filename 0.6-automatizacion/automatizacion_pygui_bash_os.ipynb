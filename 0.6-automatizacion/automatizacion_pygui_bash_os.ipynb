{
 "cells": [
  {
   "cell_type": "markdown",
   "metadata": {
    "id": "h5dUnU4lXTBy"
   },
   "source": [
    "<div align=\"center\"><a href=\"https://colab.research.google.com/github/institutohumai/cursos-python/blob/master/Automatizacion/Automatizacion1_2daCursada2022.ipynb\"> <img src='https://colab.research.google.com/assets/colab-badge.svg'/> </a> <br> Recordá abrir en una nueva pestaña </div>"
   ]
  },
  {
   "cell_type": "markdown",
   "metadata": {
    "id": "PfYnJ59siNQH"
   },
   "source": [
    "## **Automatización**\n",
    "\n",
    "En esta clase:\n",
    "\n",
    "- Aprenderemos sobre programar desde una carpeta, o **directorio de trabajo**, y las una rutas o _path_ relativos, o absolutos.\n",
    "- Veremos como buscar archivos, también listar, borrar, copiar, mover y otras operaciones usuales con el sistema operativo. Librerías os, glob, shutil\n",
    "- Lectura de distintos tipos de datos: .sav, .dta, .csv, .zip"
   ]
  },
  {
   "cell_type": "markdown",
   "metadata": {
    "id": "_NB3x7ZciNQJ"
   },
   "source": [
    "Actualmente cualquier tarea que uno se proponga automatizar, así lo es. Podemos encontrar un espectro de complejidad:\n",
    "\n",
    "- Por un lado, con la librería *pyautogui* podemos automatizar movimientos de mouse y teclado. Esto da la posibilidad de automatizar tareas sencillas de una manera directa.\n",
    "\n",
    "(El siguiente ejemplo anda solo corriendolo como local!)"
   ]
  },
  {
   "cell_type": "markdown",
   "metadata": {
    "id": "qyspNo5SZEbo"
   },
   "source": [
    "### **Preámbulo**\n",
    "Capas de automatización \n",
    "\n",
    "\n",
    "\n",
    "| Protocolo              | Web Scraping     | Modificación directa  |\n",
    "|------------------------|------------------|-----------------------|\n",
    "| (sist operativo, APIs) | (Beautiful Soup) | (Selenium, PyAutoGui) |\n",
    "| <img src= 'https://computersciencewiki.org/images/b/bc/Api.png' width=\"250\" >                       | <img src='https://miro.medium.com/max/1400/0*5l1YDbdnkWmQwDU5.jpg' width=\"300\">| <img src= 'https://content.instructables.com/ORIG/FMK/ZVQB/K30YGGRH/FMKZVQBK30YGGRH.jpg?auto=webp&frame=1&width=320&md=bf737a2a1d3f721c6f7ed2c33323f3cb' width=\"250\">                      |\n",
    "| Más robusto            |          ->        | Menos robusto         |\n"
   ]
  },
  {
   "cell_type": "markdown",
   "metadata": {
    "id": "rT4-nJy_XFX4"
   },
   "source": [
    "## **PyAutoGui**\n",
    "### (es neceario correrlo en local)"
   ]
  },
  {
   "cell_type": "markdown",
   "metadata": {
    "id": "YkgI3cPoiNQW"
   },
   "source": [
    "```python\n",
    "# Devuelve las dimensiones de la pantalla\n",
    "ancho, alto = pyautogui.size()\n",
    "# Devuelve la posición actual\n",
    "Xactual, Yactual = pyautogui.position()\n",
    "# Mover a coordenadas (pixels)\n",
    "pyautogui.moveTo(100, 150) \n",
    "# Clickear\n",
    "pyautogui.click() \n",
    "# Tipear con delay\n",
    "pyautogui.write('Hello world!', interval=0.25)  \n",
    "# Apretar una tecla\n",
    "pyautogui.press('esc') \n",
    "pyautogui.hotkey('ctrl', 'c')\n",
    "pyautogui.locateOnScreen()\n",
    "```"
   ]
  },
  {
   "cell_type": "markdown",
   "metadata": {
    "id": "b-gOWN9aXTB2"
   },
   "source": [
    "***Nota: Lamentablemente pyautogui es lo único incluido en cualquiera de nuestros cursos que no funciona en Colab! Para ejecutar esta sección instalar Anaconda en la computadora local***"
   ]
  },
  {
   "cell_type": "code",
   "execution_count": 57,
   "metadata": {
    "id": "it0EOKdmXTB2"
   },
   "outputs": [],
   "source": [
    "# !pip install pyautogui"
   ]
  },
  {
   "cell_type": "code",
   "execution_count": 58,
   "metadata": {
    "id": "FYCDi7LhXTB3"
   },
   "outputs": [],
   "source": [
    "from time import sleep\n",
    "import os\n",
    "import pyautogui as pygui\n",
    "import numpy as np"
   ]
  },
  {
   "cell_type": "code",
   "execution_count": 59,
   "metadata": {
    "id": "sFdr2i3MXTB3"
   },
   "outputs": [],
   "source": [
    "# def cuadrado(l):\n",
    "#     pygui.drag(l, 0, duration=1)\n",
    "#     pygui.drag(0, l, duration=1)\n",
    "#     pygui.drag(-l, 0, duration=1)\n",
    "#     pygui.drag(0, -l, duration=1)"
   ]
  },
  {
   "cell_type": "code",
   "execution_count": 60,
   "metadata": {
    "id": "aesO7-NvXTB4"
   },
   "outputs": [],
   "source": [
    "# cuadrado(200)"
   ]
  },
  {
   "cell_type": "code",
   "execution_count": 61,
   "metadata": {
    "id": "f0-dsF7LPuTa"
   },
   "outputs": [],
   "source": [
    "# url = r'https://www.lanacion.com.ar/'\n",
    "\n",
    "# sleep(2)\n",
    "# pygui.hotkey('ctrl', 't')\n",
    "# sleep(2)\n",
    "# pygui.write(url)\n",
    "# sleep(2)\n",
    "# pygui.press('enter')"
   ]
  },
  {
   "cell_type": "code",
   "execution_count": 62,
   "metadata": {
    "id": "nfu5YgETXTB5"
   },
   "outputs": [],
   "source": [
    "# def abrir_paint():\n",
    "#     # Windows\n",
    "#     os.system('start mspaint.exe')\n",
    "#     sleep(1)\n",
    "#     S = pygui.size()\n",
    "#     pygui.moveTo(S[0]//2, S[1]//2)"
   ]
  },
  {
   "cell_type": "code",
   "execution_count": 63,
   "metadata": {
    "id": "S7PLbkweXTB5"
   },
   "outputs": [],
   "source": [
    "# def cuadrado_espiral(l, ratio=0.9):\n",
    "#     pygui.move(-l//2, -l//2, duration=0.1)\n",
    "#     for i in range(50):\n",
    "#         l = l*ratio\n",
    "#         pygui.drag(l, 0, duration=0.1)\n",
    "#         l = l*ratio\n",
    "#         pygui.drag(0, l, duration=0.1)\n",
    "#         l = l*ratio\n",
    "#         pygui.drag(-l, 0, duration=0.1)\n",
    "#         l = l*ratio\n",
    "#         pygui.drag(0, -l, duration=0.1)\n",
    "#         if l < 5:\n",
    "#             break"
   ]
  },
  {
   "cell_type": "code",
   "execution_count": 64,
   "metadata": {
    "id": "fg2CJaYcXTB5"
   },
   "outputs": [],
   "source": [
    "# sleep(2)\n",
    "# abrir_paint()\n",
    "# cuadrado_espiral(600)"
   ]
  },
  {
   "cell_type": "markdown",
   "metadata": {
    "id": "982Hn1rzk-dc"
   },
   "source": [
    "Ocasionalmente hay algunos casos de uso, pero encontramos obstáculos:\n",
    "\n",
    "- Frágil ante cambios\n",
    "- Método bruto, ad hoc\n",
    "- Solo tareas sencillas\n",
    "\n",
    "Encontraremos el mismo dilema más adelante en _web scraping_, en un extremo el consumo de APIs y en otro la automatización del navegador."
   ]
  },
  {
   "cell_type": "markdown",
   "metadata": {
    "id": "Zp7CuDqzXTB5"
   },
   "source": [
    "## **Bash y OS**"
   ]
  },
  {
   "cell_type": "markdown",
   "metadata": {
    "id": "SF_oDqKmiNQu"
   },
   "source": [
    "### Interactuando con el Sistema Operativo"
   ]
  },
  {
   "cell_type": "code",
   "execution_count": 65,
   "metadata": {
    "colab": {
     "base_uri": "https://localhost:8080/"
    },
    "id": "ouZ6t1KNkiBD",
    "outputId": "95cd40cc-6d36-43da-93ff-c0b2d17ebaec"
   },
   "outputs": [
    {
     "name": "stdout",
     "output_type": "stream",
     "text": [
      "/home/antonio/git-ml/data-science-path/0.6-automatizacion\n"
     ]
    }
   ],
   "source": [
    "# Con ! enviamos un comando a la terminal del sistema operativo\n",
    "!pwd"
   ]
  },
  {
   "cell_type": "code",
   "execution_count": 66,
   "metadata": {
    "colab": {
     "base_uri": "https://localhost:8080/"
    },
    "id": "esEXIwSbXTB6",
    "outputId": "355d72e3-fde1-4060-8241-72968c3fecae"
   },
   "outputs": [
    {
     "name": "stdout",
     "output_type": "stream",
     "text": [
      "automatizacion_pygui_bash_os.ipynb  Expo_2021.zip  nueva_carpeta  todos.csv\n"
     ]
    }
   ],
   "source": [
    "!ls"
   ]
  },
  {
   "cell_type": "markdown",
   "metadata": {
    "id": "04nubFEM8bUq"
   },
   "source": [
    "Algunos comandos a saber:\n",
    "\n",
    "- pwd : \"print working directory\"\n",
    "- ls: listar directorio actual\n",
    "- wget: para descargar archivos "
   ]
  },
  {
   "cell_type": "code",
   "execution_count": 67,
   "metadata": {
    "colab": {
     "base_uri": "https://localhost:8080/"
    },
    "id": "0wV9rYPck9BM",
    "outputId": "c2d3bd56-caf8-46fb-8a14-253e95bae7ff"
   },
   "outputs": [
    {
     "name": "stdout",
     "output_type": "stream",
     "text": [
      "--2024-11-04 21:01:49--  https://unket.s3.sa-east-1.amazonaws.com/data/Expo_2021.zip\n",
      "Resolviendo unket.s3.sa-east-1.amazonaws.com (unket.s3.sa-east-1.amazonaws.com)... 3.5.233.171, 52.95.165.114, 16.12.0.30, ...\n",
      "Conectando con unket.s3.sa-east-1.amazonaws.com (unket.s3.sa-east-1.amazonaws.com)[3.5.233.171]:443... conectado.\n",
      "Petición HTTP enviada, esperando respuesta... 200 OK\n",
      "Longitud: 58863328 (56M) [application/zip]\n",
      "Guardando como: ‘Expo_2021.zip’\n",
      "\n",
      "Expo_2021.zip       100%[===================>]  56,14M  18,0MB/s    en 3,1s    \n",
      "\n",
      "2024-11-04 21:01:53 (18,0 MB/s) - ‘Expo_2021.zip’ guardado [58863328/58863328]\n",
      "\n"
     ]
    }
   ],
   "source": [
    "# http://microdatos.dane.gov.co/index.php/catalog/472/get_microdata\n",
    "!wget -O Expo_2021.zip https://unket.s3.sa-east-1.amazonaws.com/data/Expo_2021.zip"
   ]
  },
  {
   "cell_type": "code",
   "execution_count": 68,
   "metadata": {
    "id": "GB6JcADPXTB6"
   },
   "outputs": [
    {
     "name": "stdout",
     "output_type": "stream",
     "text": [
      "/home/antonio/git-ml/data-science-path/0.6-automatizacion\n"
     ]
    }
   ],
   "source": [
    "!pwd"
   ]
  },
  {
   "cell_type": "markdown",
   "metadata": {
    "id": "MVMfYhz0einz"
   },
   "source": [
    "### **Librería OS**"
   ]
  },
  {
   "cell_type": "code",
   "execution_count": 69,
   "metadata": {
    "id": "DgSEaZW9iNQv"
   },
   "outputs": [],
   "source": [
    "import os"
   ]
  },
  {
   "cell_type": "markdown",
   "metadata": {
    "id": "4oL2u8CLX6WZ"
   },
   "source": [
    "#### Algunos comando de interés"
   ]
  },
  {
   "cell_type": "markdown",
   "metadata": {
    "id": "6If5x0JViNQ3"
   },
   "source": [
    "```python\n",
    "#Devuelve el \"current working directory\", o directorio actual de trabajo\n",
    "os.getcwd() \n",
    "\n",
    "#Es por \"change directory\", o sea cambiar el directorio actual de trabajo\n",
    "os.chdir(path)\n",
    "\n",
    "#recorre recursivamente el árbol de directorios, empezando por el path. \n",
    "#en cada iteracion devuelve carpeta, [subcarpetas], [archivos]\n",
    "os.walk(path)\n",
    "\n",
    "#crea un directorio\n",
    "os.makedirs(path)\n",
    "\n",
    "#chequea si existe un path\n",
    "os.path.exists(path)\n",
    "\n",
    "#borra un archivo o carpeta vacia\n",
    "os.remove(path)\n",
    "\n",
    "#enumera el contenido del path\n",
    "os.listdir(path)\n",
    "\n",
    "#permite cambiar paths, nombres y extensiones\n",
    "os.rename(path, new_path)\n",
    "\n",
    "# Devuelve la ruta absoluta de una ruta relativa\n",
    "os.path.abspath(path)\n",
    "\n",
    "```"
   ]
  },
  {
   "cell_type": "code",
   "execution_count": 70,
   "metadata": {
    "colab": {
     "base_uri": "https://localhost:8080/",
     "height": 36
    },
    "id": "_TCN8epZYHl0",
    "outputId": "d1f12efd-edd0-4f89-c82d-5da0dfcf88ba"
   },
   "outputs": [
    {
     "data": {
      "text/plain": [
       "'/home/antonio/git-ml/data-science-path/0.6-automatizacion'"
      ]
     },
     "execution_count": 70,
     "metadata": {},
     "output_type": "execute_result"
    }
   ],
   "source": [
    "os.getcwd()"
   ]
  },
  {
   "cell_type": "code",
   "execution_count": 71,
   "metadata": {
    "id": "L7wSHsDDhy12"
   },
   "outputs": [],
   "source": [
    "os.chdir('/home/antonio/git-ml/data-science-path/0.6-automatizacion')"
   ]
  },
  {
   "cell_type": "code",
   "execution_count": 72,
   "metadata": {
    "colab": {
     "base_uri": "https://localhost:8080/",
     "height": 36
    },
    "id": "_rt6n8BPyWsd",
    "outputId": "c185e9db-dbfe-4b1e-884e-d9a9c0e5f0b4"
   },
   "outputs": [
    {
     "data": {
      "text/plain": [
       "'/home/antonio/git-ml/data-science-path/0.6-automatizacion'"
      ]
     },
     "execution_count": 72,
     "metadata": {},
     "output_type": "execute_result"
    }
   ],
   "source": [
    "os.getcwd()"
   ]
  },
  {
   "cell_type": "code",
   "execution_count": 73,
   "metadata": {
    "colab": {
     "base_uri": "https://localhost:8080/"
    },
    "id": "uXrJ-13JhkA8",
    "outputId": "c36850c5-9445-44d1-908c-643ad79ef6bc"
   },
   "outputs": [
    {
     "data": {
      "text/plain": [
       "['', 'home', 'antonio', 'git-ml', 'data-science-path', '0.6-automatizacion']"
      ]
     },
     "execution_count": 73,
     "metadata": {},
     "output_type": "execute_result"
    }
   ],
   "source": [
    "# Carpeta actual\n",
    "carpeta_actual = os.getcwd()\n",
    "carpeta_actual\n",
    "carpeta_actual.split('/')"
   ]
  },
  {
   "cell_type": "markdown",
   "metadata": {
    "id": "FZe5B5JbiNQ_"
   },
   "source": [
    "Cuatro maneras de listar la carpeta actual"
   ]
  },
  {
   "cell_type": "code",
   "execution_count": 74,
   "metadata": {
    "id": "gGLB3_b4iNRA"
   },
   "outputs": [
    {
     "name": "stdout",
     "output_type": "stream",
     "text": [
      "automatizacion_pygui_bash_os.ipynb  Expo_2021.zip  nueva_carpeta  todos.csv\n"
     ]
    }
   ],
   "source": [
    "# Con la terminal\n",
    "!ls"
   ]
  },
  {
   "cell_type": "code",
   "execution_count": 75,
   "metadata": {
    "id": "yNFrArZkiNRH"
   },
   "outputs": [
    {
     "name": "stdout",
     "output_type": "stream",
     "text": [
      "automatizacion_pygui_bash_os.ipynb  Expo_2021.zip  nueva_carpeta  todos.csv\n"
     ]
    }
   ],
   "source": [
    "!dir"
   ]
  },
  {
   "cell_type": "code",
   "execution_count": 76,
   "metadata": {
    "colab": {
     "base_uri": "https://localhost:8080/"
    },
    "id": "xjTVNxv3iNRL",
    "outputId": "48e7a9ed-773a-4507-d3e8-187e1274b976"
   },
   "outputs": [
    {
     "data": {
      "text/plain": [
       "['automatizacion_pygui_bash_os.ipynb',\n",
       " 'todos.csv',\n",
       " 'nueva_carpeta',\n",
       " 'Expo_2021.zip']"
      ]
     },
     "execution_count": 76,
     "metadata": {},
     "output_type": "execute_result"
    }
   ],
   "source": [
    "# Con Python\n",
    "# ruta relativa\n",
    "\n",
    "os.listdir('.') # El '.' es la carpeta actual"
   ]
  },
  {
   "cell_type": "code",
   "execution_count": 77,
   "metadata": {
    "id": "-EvSs838iNRP"
   },
   "outputs": [
    {
     "name": "stdout",
     "output_type": "stream",
     "text": [
      "La ruta absoluta es: /home/antonio/git-ml/data-science-path/0.6-automatizacion\n",
      "\n",
      "Contiene los siguientes archivos:\n"
     ]
    },
    {
     "data": {
      "text/plain": [
       "['automatizacion_pygui_bash_os.ipynb',\n",
       " 'todos.csv',\n",
       " 'nueva_carpeta',\n",
       " 'Expo_2021.zip']"
      ]
     },
     "execution_count": 77,
     "metadata": {},
     "output_type": "execute_result"
    }
   ],
   "source": [
    "# Con Python\n",
    "# ruta absoluta\n",
    "ruta_absoluta  = os.getcwd()\n",
    "print(f'La ruta absoluta es: {ruta_absoluta}\\n')\n",
    "print('Contiene los siguientes archivos:')\n",
    "os.listdir(os.getcwd())"
   ]
  },
  {
   "cell_type": "markdown",
   "metadata": {
    "id": "HWckOOvMiNRT"
   },
   "source": [
    "Tres maneras de ver el directorio actual de trabajo"
   ]
  },
  {
   "cell_type": "code",
   "execution_count": 78,
   "metadata": {
    "id": "sA_EUomeiNRU"
   },
   "outputs": [
    {
     "data": {
      "text/plain": [
       "'/home/antonio/git-ml/data-science-path/0.6-automatizacion'"
      ]
     },
     "execution_count": 78,
     "metadata": {},
     "output_type": "execute_result"
    }
   ],
   "source": [
    "# 1.\n",
    "os.getcwd()"
   ]
  },
  {
   "cell_type": "code",
   "execution_count": 79,
   "metadata": {
    "id": "yw9af6sdiNRX"
   },
   "outputs": [
    {
     "name": "stdout",
     "output_type": "stream",
     "text": [
      "/home/antonio/git-ml/data-science-path/0.6-automatizacion\n"
     ]
    }
   ],
   "source": [
    "# 2.\n",
    "!pwd"
   ]
  },
  {
   "cell_type": "code",
   "execution_count": 80,
   "metadata": {
    "id": "5rUz-4q-iNRa"
   },
   "outputs": [
    {
     "data": {
      "text/plain": [
       "'/home/antonio/git-ml/data-science-path/0.6-automatizacion'"
      ]
     },
     "execution_count": 80,
     "metadata": {},
     "output_type": "execute_result"
    }
   ],
   "source": [
    "# 3.\n",
    "os.path.abspath('.')"
   ]
  },
  {
   "cell_type": "markdown",
   "metadata": {
    "id": "1rzgbcunXTB8"
   },
   "source": [
    "Ejercicio\n",
    "\n",
    "Crear una carpeta nueva con la función ```os.makedirs()```. Recibe simplemente la ruta a la carpeta a crear"
   ]
  },
  {
   "cell_type": "code",
   "execution_count": 81,
   "metadata": {
    "id": "cUSH6Ml7kDhK"
   },
   "outputs": [
    {
     "name": "stdout",
     "output_type": "stream",
     "text": [
      "automatizacion_pygui_bash_os.ipynb  Expo_2021.zip  nueva_carpeta  todos.csv\n"
     ]
    }
   ],
   "source": [
    "# Recomendacion: Primro ver en que carpeta me encuentro\n",
    "!ls"
   ]
  },
  {
   "cell_type": "code",
   "execution_count": 82,
   "metadata": {
    "id": "Ll2eYUj-aKMN"
   },
   "outputs": [
    {
     "name": "stdout",
     "output_type": "stream",
     "text": [
      "/home/antonio/git-ml/data-science-path/0.6-automatizacion\n"
     ]
    }
   ],
   "source": [
    "os.chdir('/home/antonio/git-ml/data-science-path/0.6-automatizacion')\n",
    "\n",
    "!pwd"
   ]
  },
  {
   "cell_type": "code",
   "execution_count": 83,
   "metadata": {
    "colab": {
     "base_uri": "https://localhost:8080/",
     "height": 36
    },
    "id": "48ZTZJK30SD0",
    "outputId": "73f65964-641f-4242-9be2-e8aa54dd34bb"
   },
   "outputs": [
    {
     "data": {
      "text/plain": [
       "'/home/antonio/git-ml/data-science-path/0.6-automatizacion'"
      ]
     },
     "execution_count": 83,
     "metadata": {},
     "output_type": "execute_result"
    }
   ],
   "source": [
    "os.getcwd()"
   ]
  },
  {
   "cell_type": "code",
   "execution_count": 84,
   "metadata": {
    "id": "cQ7OlRiXXTB8"
   },
   "outputs": [],
   "source": [
    "# #@title Respuesta\n",
    "# new_dir = 'nueva_carpeta'\n",
    "# os.makedirs(new_dir)\n"
   ]
  },
  {
   "cell_type": "markdown",
   "metadata": {
    "id": "_cXrtpQ5oa5I"
   },
   "source": [
    "Ejercicio:\n",
    "\n",
    "Cambiar el directorio de trabajo a 'new_dir' usando os.chdir"
   ]
  },
  {
   "cell_type": "code",
   "execution_count": 85,
   "metadata": {
    "colab": {
     "base_uri": "https://localhost:8080/"
    },
    "id": "--4h2n1VoYyl",
    "outputId": "5c92fef0-02e9-40a6-84ed-fe0ae32fe16a"
   },
   "outputs": [
    {
     "name": "stdout",
     "output_type": "stream",
     "text": [
      "Ahora estamos en: /home/antonio/git-ml/data-science-path/0.6-automatizacion/nueva_carpeta\n"
     ]
    }
   ],
   "source": [
    "#@title Respuesta\n",
    "os.chdir('/home/antonio/git-ml/data-science-path/0.6-automatizacion/nueva_carpeta')\n",
    "print('Ahora estamos en:', os.getcwd())\n"
   ]
  },
  {
   "cell_type": "code",
   "execution_count": 86,
   "metadata": {
    "colab": {
     "base_uri": "https://localhost:8080/"
    },
    "id": "uu8GI5nhmdHe",
    "outputId": "7160aca7-2863-40de-a85e-d579c5ffe594"
   },
   "outputs": [],
   "source": [
    "# # Creamos un archivo\n",
    "# with open(\"prueba.txt\",\"w+\") as archivo:\n",
    "#   archivo.write('Hola mundo!')\n",
    "\n",
    "# # Leemos el archivo\n",
    "# with open('prueba.txt', 'r') as f:\n",
    "#   print(f.read())"
   ]
  },
  {
   "cell_type": "markdown",
   "metadata": {},
   "source": [
    "aqui"
   ]
  },
  {
   "cell_type": "code",
   "execution_count": 87,
   "metadata": {
    "id": "OkmblypksdGE"
   },
   "outputs": [],
   "source": [
    "os.chdir('/home/antonio/git-ml/data-science-path/0.6-automatizacion')"
   ]
  },
  {
   "cell_type": "code",
   "execution_count": 88,
   "metadata": {},
   "outputs": [
    {
     "name": "stdout",
     "output_type": "stream",
     "text": [
      "/home/antonio/git-ml/data-science-path/0.6-automatizacion\n"
     ]
    }
   ],
   "source": [
    "!pwd"
   ]
  },
  {
   "cell_type": "code",
   "execution_count": 89,
   "metadata": {
    "id": "GKJKTsfqXTB9"
   },
   "outputs": [],
   "source": [
    "import zipfile\n",
    "\n",
    "# Extraemos en la nueva carpeta\n",
    "with zipfile.ZipFile('./Expo_2021.zip', \"r\") as zip_ref:\n",
    "    zip_ref.extractall('./nueva_carpeta')   "
   ]
  },
  {
   "cell_type": "markdown",
   "metadata": {
    "id": "HkD4xDJniNRd"
   },
   "source": [
    "Buscamos todos los .zip"
   ]
  },
  {
   "cell_type": "code",
   "execution_count": 90,
   "metadata": {
    "colab": {
     "base_uri": "https://localhost:8080/"
    },
    "id": "5QbLnMlJ1Vya",
    "outputId": "42be1d03-2bb1-491c-a0d5-8d6dfe4f381a"
   },
   "outputs": [
    {
     "data": {
      "text/plain": [
       "['Febrero.zip',\n",
       " 'Noviembre.zip',\n",
       " 'Octubre.zip',\n",
       " 'Enero.zip',\n",
       " 'Abril.zip',\n",
       " 'Julio.zip',\n",
       " 'csv_2021',\n",
       " 'Junio.zip',\n",
       " 'Septiembre.zip',\n",
       " 'Diciembre.zip',\n",
       " 'Marzo.zip',\n",
       " 'Mayo.zip',\n",
       " 'Agosto.zip']"
      ]
     },
     "execution_count": 90,
     "metadata": {},
     "output_type": "execute_result"
    }
   ],
   "source": [
    "os.listdir('./nueva_carpeta/Expo_2021/')"
   ]
  },
  {
   "cell_type": "code",
   "execution_count": 91,
   "metadata": {
    "colab": {
     "base_uri": "https://localhost:8080/"
    },
    "id": "gEju4QJiiNRe",
    "outputId": "5d7d194f-fea1-4d19-af04-be9cd6676b6b"
   },
   "outputs": [
    {
     "name": "stdout",
     "output_type": "stream",
     "text": [
      "Febrero.zip\n",
      "Noviembre.zip\n",
      "Octubre.zip\n",
      "Enero.zip\n",
      "Abril.zip\n",
      "Julio.zip\n",
      "Junio.zip\n",
      "Septiembre.zip\n",
      "Diciembre.zip\n",
      "Marzo.zip\n",
      "Mayo.zip\n",
      "Agosto.zip\n"
     ]
    }
   ],
   "source": [
    "for elemento in os.listdir('./nueva_carpeta/Expo_2021/'):  \n",
    "    if elemento.endswith('.zip'):\n",
    "        print(elemento)"
   ]
  },
  {
   "cell_type": "markdown",
   "metadata": {
    "id": "0Rohql9J9VQq"
   },
   "source": [
    "Ahora usando glob"
   ]
  },
  {
   "cell_type": "code",
   "execution_count": 92,
   "metadata": {
    "id": "Eo1vXlkZqCeR"
   },
   "outputs": [],
   "source": [
    "from glob import glob"
   ]
  },
  {
   "cell_type": "code",
   "execution_count": 93,
   "metadata": {
    "id": "JzXEwSNZXTB9"
   },
   "outputs": [],
   "source": [
    "# ruta con todos los archivos\n",
    "datos_path = './nueva_carpeta/Expo_2021/' "
   ]
  },
  {
   "cell_type": "code",
   "execution_count": 94,
   "metadata": {
    "colab": {
     "base_uri": "https://localhost:8080/"
    },
    "id": "UYZgIb2piNRh",
    "outputId": "233fc049-a631-4404-acff-29d220ca8b97"
   },
   "outputs": [
    {
     "data": {
      "text/plain": [
       "['./nueva_carpeta/Expo_2021/Febrero.zip',\n",
       " './nueva_carpeta/Expo_2021/Noviembre.zip',\n",
       " './nueva_carpeta/Expo_2021/Octubre.zip',\n",
       " './nueva_carpeta/Expo_2021/Enero.zip',\n",
       " './nueva_carpeta/Expo_2021/Abril.zip',\n",
       " './nueva_carpeta/Expo_2021/Julio.zip',\n",
       " './nueva_carpeta/Expo_2021/Junio.zip',\n",
       " './nueva_carpeta/Expo_2021/Septiembre.zip',\n",
       " './nueva_carpeta/Expo_2021/Diciembre.zip',\n",
       " './nueva_carpeta/Expo_2021/Marzo.zip',\n",
       " './nueva_carpeta/Expo_2021/Mayo.zip',\n",
       " './nueva_carpeta/Expo_2021/Agosto.zip']"
      ]
     },
     "execution_count": 94,
     "metadata": {},
     "output_type": "execute_result"
    }
   ],
   "source": [
    "zip_files = glob(datos_path + '/*.zip')\n",
    "zip_files"
   ]
  },
  {
   "cell_type": "markdown",
   "metadata": {
    "id": "e0Qq8sfCWTX1"
   },
   "source": [
    "Hacemos un búcle para recorrer los archivos .zip y descomprimirlos en carpetas correspondientes"
   ]
  },
  {
   "cell_type": "code",
   "execution_count": 95,
   "metadata": {
    "colab": {
     "base_uri": "https://localhost:8080/"
    },
    "id": "5blLmM2HiNRk",
    "outputId": "58d53d56-83f7-43c5-9f45-b8bccc5287df"
   },
   "outputs": [
    {
     "name": "stdout",
     "output_type": "stream",
     "text": [
      "./nueva_carpeta/Expo_2021/Febrero\n",
      "./nueva_carpeta/Expo_2021/Noviembre\n",
      "./nueva_carpeta/Expo_2021/Octubre\n",
      "./nueva_carpeta/Expo_2021/Enero\n",
      "./nueva_carpeta/Expo_2021/Abril\n",
      "./nueva_carpeta/Expo_2021/Julio\n",
      "./nueva_carpeta/Expo_2021/Junio\n",
      "./nueva_carpeta/Expo_2021/Septiembre\n",
      "./nueva_carpeta/Expo_2021/Diciembre\n",
      "./nueva_carpeta/Expo_2021/Marzo\n",
      "./nueva_carpeta/Expo_2021/Mayo\n",
      "./nueva_carpeta/Expo_2021/Agosto\n"
     ]
    }
   ],
   "source": [
    "from time import sleep\n",
    "# Recorremos la lista de zips\n",
    "for f in zip_files:\n",
    "\n",
    "    # Definimos el nombre de la nueva carpeta en una variable\n",
    "    # Es la misma ruta \"f\" pero sin el \".zip\"\n",
    "    new_dir = f.replace('.zip', '')\n",
    "    print(new_dir)\n",
    "\n",
    "    # Extraemos en la nueva carpeta\n",
    "    with zipfile.ZipFile(f, \"r\") as zip_ref:\n",
    "        zip_ref.extractall(new_dir)\n",
    "              \n",
    "    sleep(0.5)"
   ]
  },
  {
   "cell_type": "code",
   "execution_count": 96,
   "metadata": {
    "id": "4hvqYHIbo9oc"
   },
   "outputs": [
    {
     "data": {
      "text/plain": [
       "['Febrero.zip',\n",
       " 'Noviembre.zip',\n",
       " 'Enero',\n",
       " 'Septiembre',\n",
       " 'Octubre.zip',\n",
       " 'Enero.zip',\n",
       " 'Abril.zip',\n",
       " 'Mayo',\n",
       " 'Junio',\n",
       " 'Julio.zip',\n",
       " 'Noviembre',\n",
       " 'Octubre',\n",
       " 'Marzo',\n",
       " 'Abril',\n",
       " 'csv_2021',\n",
       " 'Junio.zip',\n",
       " 'Septiembre.zip',\n",
       " 'Diciembre.zip',\n",
       " 'Julio',\n",
       " 'Marzo.zip',\n",
       " 'Agosto',\n",
       " 'Diciembre',\n",
       " 'Mayo.zip',\n",
       " 'Agosto.zip',\n",
       " 'Febrero']"
      ]
     },
     "execution_count": 96,
     "metadata": {},
     "output_type": "execute_result"
    }
   ],
   "source": [
    "# Vemos que ya estan los .zips, y carpetas correspondientes\n",
    "os.listdir('./nueva_carpeta/Expo_2021/' )"
   ]
  },
  {
   "cell_type": "markdown",
   "metadata": {
    "id": "HQJV7LDwiNRp"
   },
   "source": [
    "La estructura queda así:\n",
    "\n",
    "```\n",
    ".\n",
    "├── Expo_2021\n",
    "│   ├── Abril\n",
    "│   │   ├── Abril.csv\n",
    "│   │   ├── Abril.dta\n",
    "│   │   └── Abril.sav\n",
    "│   ├── Abril2021.zip\n",
    "\n",
    "...\n",
    "\n",
    "│   ├── Octubre\n",
    "│   │   ├── Octubre.csv\n",
    "│   │   ├── Octubre.dta\n",
    "│   │   └── Octubre.sav\n",
    "│   ├── Octubre2021.zip\n",
    "│   ├── Septiembre\n",
    "│   │   ├── Septiembre.csv\n",
    "│   │   ├── Septiembre.dta\n",
    "│   │   └── Septiembre.sav\n",
    "│   └── Septiembre2021.zip\n",
    "\n",
    "```"
   ]
  },
  {
   "cell_type": "code",
   "execution_count": 97,
   "metadata": {
    "id": "YTZWE8GpiNRq"
   },
   "outputs": [],
   "source": [
    "# Buscamos los archivos del tipo que queremos usando glob\n",
    "# Podemos cambiar el tipo cambiando la siguiente variable\n",
    "\n",
    "# tipo = 'dta'\n",
    "tipo = 'csv'\n",
    "# tipo = 'sav'"
   ]
  },
  {
   "cell_type": "code",
   "execution_count": 98,
   "metadata": {
    "id": "VhKGNKCI3LIc"
   },
   "outputs": [],
   "source": [
    "datos_path = './nueva_carpeta/Expo_2021/' \n"
   ]
  },
  {
   "cell_type": "code",
   "execution_count": 99,
   "metadata": {
    "colab": {
     "base_uri": "https://localhost:8080/"
    },
    "id": "wcQ6tIAkXTB-",
    "outputId": "da7791b8-f47f-42e1-a7c9-ba39e3cecdfb"
   },
   "outputs": [
    {
     "data": {
      "text/plain": [
       "['./nueva_carpeta/Expo_2021/Enero/Enero.csv',\n",
       " './nueva_carpeta/Expo_2021/Septiembre/Septiembre.csv',\n",
       " './nueva_carpeta/Expo_2021/Mayo/Mayo.csv',\n",
       " './nueva_carpeta/Expo_2021/Junio/Junio.csv',\n",
       " './nueva_carpeta/Expo_2021/Noviembre/Noviembre.csv',\n",
       " './nueva_carpeta/Expo_2021/Octubre/Octubre.csv',\n",
       " './nueva_carpeta/Expo_2021/Marzo/Marzo.csv',\n",
       " './nueva_carpeta/Expo_2021/Abril/Abril.csv',\n",
       " './nueva_carpeta/Expo_2021/csv_2021/Septiembre.csv',\n",
       " './nueva_carpeta/Expo_2021/csv_2021/Mayo.csv',\n",
       " './nueva_carpeta/Expo_2021/csv_2021/Marzo.csv',\n",
       " './nueva_carpeta/Expo_2021/csv_2021/Febrero.csv',\n",
       " './nueva_carpeta/Expo_2021/csv_2021/Abril.csv',\n",
       " './nueva_carpeta/Expo_2021/csv_2021/Noviembre.csv',\n",
       " './nueva_carpeta/Expo_2021/csv_2021/Diciembre.csv',\n",
       " './nueva_carpeta/Expo_2021/csv_2021/Agosto.csv',\n",
       " './nueva_carpeta/Expo_2021/csv_2021/Julio.csv',\n",
       " './nueva_carpeta/Expo_2021/csv_2021/Junio.csv',\n",
       " './nueva_carpeta/Expo_2021/csv_2021/Octubre.csv',\n",
       " './nueva_carpeta/Expo_2021/csv_2021/Enero.csv',\n",
       " './nueva_carpeta/Expo_2021/Julio/Julio.csv',\n",
       " './nueva_carpeta/Expo_2021/Agosto/Agosto.csv',\n",
       " './nueva_carpeta/Expo_2021/Diciembre/Diciembre.csv',\n",
       " './nueva_carpeta/Expo_2021/Febrero/Febrero.csv']"
      ]
     },
     "execution_count": 99,
     "metadata": {},
     "output_type": "execute_result"
    }
   ],
   "source": [
    "datos = glob(f'{datos_path}/*/*{tipo}') # Cualquier archivo .sav, de cualquiera de las carpetas internas\n",
    "datos"
   ]
  },
  {
   "cell_type": "code",
   "execution_count": 100,
   "metadata": {
    "id": "e16oFMhDXTB-"
   },
   "outputs": [
    {
     "data": {
      "text/plain": [
       "'./nueva_carpeta/Expo_2021/csv_2021'"
      ]
     },
     "execution_count": 100,
     "metadata": {},
     "output_type": "execute_result"
    }
   ],
   "source": [
    "datos_path + tipo + '_2021'"
   ]
  },
  {
   "cell_type": "code",
   "execution_count": 101,
   "metadata": {
    "id": "L8oJ93FBiNRs"
   },
   "outputs": [],
   "source": [
    "# Chequeamos si la carpeta ya existe, y si no creamos una carpeta para guardar todos archivos los de ese tipo \n",
    "\n",
    "if not os.path.exists(datos_path + '/' + tipo + '_2021'):\n",
    "    os.mkdir(datos_path + tipo + '_2021')"
   ]
  },
  {
   "cell_type": "code",
   "execution_count": 102,
   "metadata": {
    "id": "NRqnYuo-p3w8"
   },
   "outputs": [
    {
     "name": "stdout",
     "output_type": "stream",
     "text": [
      "Abril\t    Diciembre\t   Febrero.zip\tMarzo\t   Noviembre.zip\n",
      "Abril.zip   Diciembre.zip  Julio\tMarzo.zip  Octubre\n",
      "Agosto\t    Enero\t   Julio.zip\tMayo\t   Octubre.zip\n",
      "Agosto.zip  Enero.zip\t   Junio\tMayo.zip   Septiembre\n",
      "csv_2021    Febrero\t   Junio.zip\tNoviembre  Septiembre.zip\n"
     ]
    }
   ],
   "source": [
    "# Vemos que se creó la carpeta \"sav_2021\"\n",
    "\n",
    "!ls nueva_carpeta/Expo_2021"
   ]
  },
  {
   "cell_type": "code",
   "execution_count": 103,
   "metadata": {
    "id": "L1snliHPXTB_"
   },
   "outputs": [
    {
     "data": {
      "text/plain": [
       "['./nueva_carpeta/Expo_2021/Enero/Enero.csv',\n",
       " './nueva_carpeta/Expo_2021/Septiembre/Septiembre.csv',\n",
       " './nueva_carpeta/Expo_2021/Mayo/Mayo.csv',\n",
       " './nueva_carpeta/Expo_2021/Junio/Junio.csv',\n",
       " './nueva_carpeta/Expo_2021/Noviembre/Noviembre.csv',\n",
       " './nueva_carpeta/Expo_2021/Octubre/Octubre.csv',\n",
       " './nueva_carpeta/Expo_2021/Marzo/Marzo.csv',\n",
       " './nueva_carpeta/Expo_2021/Abril/Abril.csv',\n",
       " './nueva_carpeta/Expo_2021/csv_2021/Septiembre.csv',\n",
       " './nueva_carpeta/Expo_2021/csv_2021/Mayo.csv',\n",
       " './nueva_carpeta/Expo_2021/csv_2021/Marzo.csv',\n",
       " './nueva_carpeta/Expo_2021/csv_2021/Febrero.csv',\n",
       " './nueva_carpeta/Expo_2021/csv_2021/Abril.csv',\n",
       " './nueva_carpeta/Expo_2021/csv_2021/Noviembre.csv',\n",
       " './nueva_carpeta/Expo_2021/csv_2021/Diciembre.csv',\n",
       " './nueva_carpeta/Expo_2021/csv_2021/Agosto.csv',\n",
       " './nueva_carpeta/Expo_2021/csv_2021/Julio.csv',\n",
       " './nueva_carpeta/Expo_2021/csv_2021/Junio.csv',\n",
       " './nueva_carpeta/Expo_2021/csv_2021/Octubre.csv',\n",
       " './nueva_carpeta/Expo_2021/csv_2021/Enero.csv',\n",
       " './nueva_carpeta/Expo_2021/Julio/Julio.csv',\n",
       " './nueva_carpeta/Expo_2021/Agosto/Agosto.csv',\n",
       " './nueva_carpeta/Expo_2021/Diciembre/Diciembre.csv',\n",
       " './nueva_carpeta/Expo_2021/Febrero/Febrero.csv']"
      ]
     },
     "execution_count": 103,
     "metadata": {},
     "output_type": "execute_result"
    }
   ],
   "source": [
    "datos"
   ]
  },
  {
   "cell_type": "code",
   "execution_count": 104,
   "metadata": {
    "id": "PTcSkRliiNRv"
   },
   "outputs": [],
   "source": [
    "# Movemos todos los que los archivos de ese tipo a la nueva carpeta\n",
    "# Podemos chequear si ya está en la carpeta con os.path.exists \n",
    "\n",
    "for d in datos:\n",
    "    # Definimos en una variable cuál va a ser la nueva ruta\n",
    "    new_path = datos_path + tipo + '_2021/' + d.replace('\\\\', '/').split('/')[-1] # El replace es para que funcione en windows y linux\n",
    "    if not os.path.exists(new_path):\n",
    "        os.rename(d, new_path)"
   ]
  },
  {
   "cell_type": "code",
   "execution_count": 105,
   "metadata": {
    "id": "ekv3TtRfXTB_"
   },
   "outputs": [
    {
     "data": {
      "text/plain": [
       "'./nueva_carpeta/Expo_2021/csv_2021/Febrero.csv'"
      ]
     },
     "execution_count": 105,
     "metadata": {},
     "output_type": "execute_result"
    }
   ],
   "source": [
    "new_path"
   ]
  },
  {
   "cell_type": "code",
   "execution_count": 106,
   "metadata": {
    "id": "KsA9YdhBp80Y"
   },
   "outputs": [
    {
     "name": "stdout",
     "output_type": "stream",
     "text": [
      "Abril.csv      Enero.csv    Junio.csv  Noviembre.csv\n",
      "Agosto.csv     Febrero.csv  Marzo.csv  Octubre.csv\n",
      "Diciembre.csv  Julio.csv    Mayo.csv   Septiembre.csv\n"
     ]
    }
   ],
   "source": [
    "# Listamos los archivos dentro de la nueva carpeta\n",
    "\n",
    "!ls {datos_path}/{tipo}_2021"
   ]
  },
  {
   "cell_type": "markdown",
   "metadata": {
    "id": "tYtQI6RaiNR2"
   },
   "source": [
    "```\n",
    ".\n",
    "├── Expo_2021\n",
    "│   ├── Abril2021\n",
    "│   │   ├── Abril.csv\n",
    "│   │   └── Abril.dta\n",
    "│   ├── Abril2021.zip\n",
    "│   ├── Agosto2021\n",
    "│   │   ├── Agosto.csv\n",
    "\n",
    "...\n",
    "\n",
    "│   ├── Octubre2021\n",
    "│   │   ├── Octubre 2021.csv\n",
    "│   │   └── Octubre 2021.dta\n",
    "│   ├── Octubre2021.zip\n",
    "│   ├── sav_2021\n",
    "│   │   ├── Abril.sav\n",
    "│   │   ├── Agosto.sav\n",
    "│   │   ├── Diciembre.sav\n",
    "│   │   ├── Enero.sav\n",
    "│   │   ├── Febrero.sav\n",
    "│   │   ├── Julio.sav\n",
    "│   │   ├── Junio.sav\n",
    "│   │   ├── Marzo.sav\n",
    "│   │   ├── Mayo.sav\n",
    "│   │   ├── Noviembre 2021.sav\n",
    "│   │   ├── Octubre 2021.sav\n",
    "│   │   └── Septiembre.sav\n",
    "│   ├── Septiembre2021\n",
    "│   │   ├── Septiembre.csv\n",
    "│   │   └── Septiembre.dta\n",
    "│   └── Septiembre2021.zip\n",
    "```"
   ]
  },
  {
   "cell_type": "markdown",
   "metadata": {
    "id": "qaIyV9BPiNR2"
   },
   "source": [
    "En dos casos puede ser necesario recurrir a otra librería, _shutil_\n",
    "\n",
    "Estos casos son:\n",
    "\n",
    "- copyfile: para copiar archivos\n",
    "- rmtree: para borrar directorios\n",
    "\n",
    "```python\n",
    "from shutil import copyfile\n",
    "copyfile(src, dst)\n",
    "```\n",
    "\n",
    "Usaremos esta 2da función para limpiar los archivos que extrajimos y no necesitamos"
   ]
  },
  {
   "cell_type": "code",
   "execution_count": 107,
   "metadata": {
    "id": "EErNA2Z_XTB_"
   },
   "outputs": [
    {
     "data": {
      "text/plain": [
       "['./nueva_carpeta/Expo_2021/Febrero.zip',\n",
       " './nueva_carpeta/Expo_2021/Noviembre.zip',\n",
       " './nueva_carpeta/Expo_2021/Octubre.zip',\n",
       " './nueva_carpeta/Expo_2021/Enero.zip',\n",
       " './nueva_carpeta/Expo_2021/Abril.zip',\n",
       " './nueva_carpeta/Expo_2021/Julio.zip',\n",
       " './nueva_carpeta/Expo_2021/Junio.zip',\n",
       " './nueva_carpeta/Expo_2021/Septiembre.zip',\n",
       " './nueva_carpeta/Expo_2021/Diciembre.zip',\n",
       " './nueva_carpeta/Expo_2021/Marzo.zip',\n",
       " './nueva_carpeta/Expo_2021/Mayo.zip',\n",
       " './nueva_carpeta/Expo_2021/Agosto.zip']"
      ]
     },
     "execution_count": 107,
     "metadata": {},
     "output_type": "execute_result"
    }
   ],
   "source": [
    "zip_files"
   ]
  },
  {
   "cell_type": "code",
   "execution_count": 108,
   "metadata": {
    "colab": {
     "base_uri": "https://localhost:8080/"
    },
    "id": "3UPCRzGIiNR3",
    "outputId": "800cc4e6-e702-4fc2-e999-e8b1a4628e3e"
   },
   "outputs": [
    {
     "name": "stdout",
     "output_type": "stream",
     "text": [
      "Borrando... /home/antonio/git-ml/data-science-path/0.6-automatizacion/nueva_carpeta/Expo_2021/Febrero\n",
      "Borrando... /home/antonio/git-ml/data-science-path/0.6-automatizacion/nueva_carpeta/Expo_2021/Noviembre\n",
      "Borrando... /home/antonio/git-ml/data-science-path/0.6-automatizacion/nueva_carpeta/Expo_2021/Octubre\n",
      "Borrando... /home/antonio/git-ml/data-science-path/0.6-automatizacion/nueva_carpeta/Expo_2021/Enero\n",
      "Borrando... /home/antonio/git-ml/data-science-path/0.6-automatizacion/nueva_carpeta/Expo_2021/Abril\n",
      "Borrando... /home/antonio/git-ml/data-science-path/0.6-automatizacion/nueva_carpeta/Expo_2021/Julio\n",
      "Borrando... /home/antonio/git-ml/data-science-path/0.6-automatizacion/nueva_carpeta/Expo_2021/Junio\n",
      "Borrando... /home/antonio/git-ml/data-science-path/0.6-automatizacion/nueva_carpeta/Expo_2021/Septiembre\n",
      "Borrando... /home/antonio/git-ml/data-science-path/0.6-automatizacion/nueva_carpeta/Expo_2021/Diciembre\n",
      "Borrando... /home/antonio/git-ml/data-science-path/0.6-automatizacion/nueva_carpeta/Expo_2021/Marzo\n",
      "Borrando... /home/antonio/git-ml/data-science-path/0.6-automatizacion/nueva_carpeta/Expo_2021/Mayo\n",
      "Borrando... /home/antonio/git-ml/data-science-path/0.6-automatizacion/nueva_carpeta/Expo_2021/Agosto\n"
     ]
    }
   ],
   "source": [
    "import shutil\n",
    "\n",
    "# for f in zip_files:\n",
    "    \n",
    "#     # ¡CUIDADO!\n",
    "#     # Estas funciones de borrar y renombrar son potencialmente peligrosas\n",
    "#     # Antes de ejecutarlas con una ruta, pueden hacer un print para asegurarse de qué se haría\n",
    "    \n",
    "#     # Borramos las carpetas de más, para eso\n",
    "#     # buscamos la ruta absoluta del zip. \n",
    "#     # Sabemos que carpeta donde se extrajo se llama igual pero sin .zip\n",
    "#     zip_dir = os.path.abspath(f).split('.')[0]\n",
    "#     print('Borrando...', zip_dir)\n",
    "\n",
    "#     shutil.rmtree(zip_dir)\n",
    "\n",
    "#     # Borramos también los .zip\n",
    "#     os.remove(f)\n",
    "\n",
    "for f in zip_files:\n",
    "    # Obtenemos el nombre del directorio eliminando la extensión .zip\n",
    "    zip_dir = os.path.splitext(os.path.abspath(f))[0]\n",
    "    print('Borrando...', zip_dir)\n",
    "\n",
    "    # Verificamos si el directorio existe antes de intentar eliminarlo\n",
    "    if os.path.isdir(zip_dir):\n",
    "        shutil.rmtree(zip_dir)\n",
    "\n",
    "    else:\n",
    "        print(f'Directorio no encontrado: {zip_dir}')\n",
    "\n",
    "    \n",
    "    # Verificamos si el archivo .zip existe antes de eliminarlo\n",
    "    if os.path.isfile(f):\n",
    "        os.remove(f)\n",
    "    else:\n",
    "        print(f\"Archivo .zip no encontrado: {f}\")\n"
   ]
  },
  {
   "cell_type": "code",
   "execution_count": 109,
   "metadata": {
    "id": "ot8inQ4rpWHA"
   },
   "outputs": [
    {
     "name": "stdout",
     "output_type": "stream",
     "text": [
      "csv_2021\n"
     ]
    }
   ],
   "source": [
    "# Nos queda solo la carpeta con todos los archivos del tipo elegido, ordenados\n",
    "\n",
    "!ls {datos_path}"
   ]
  },
  {
   "cell_type": "markdown",
   "metadata": {
    "id": "QylEEWr6_HEp"
   },
   "source": [
    "Cargamos los datos a un DataFrame"
   ]
  },
  {
   "cell_type": "code",
   "execution_count": 110,
   "metadata": {
    "id": "PjzSMfA_iNSE"
   },
   "outputs": [
    {
     "data": {
      "text/plain": [
       "['./nueva_carpeta/Expo_2021/csv_2021/Septiembre.csv',\n",
       " './nueva_carpeta/Expo_2021/csv_2021/Mayo.csv',\n",
       " './nueva_carpeta/Expo_2021/csv_2021/Marzo.csv',\n",
       " './nueva_carpeta/Expo_2021/csv_2021/Febrero.csv',\n",
       " './nueva_carpeta/Expo_2021/csv_2021/Abril.csv',\n",
       " './nueva_carpeta/Expo_2021/csv_2021/Noviembre.csv',\n",
       " './nueva_carpeta/Expo_2021/csv_2021/Diciembre.csv',\n",
       " './nueva_carpeta/Expo_2021/csv_2021/Agosto.csv',\n",
       " './nueva_carpeta/Expo_2021/csv_2021/Julio.csv',\n",
       " './nueva_carpeta/Expo_2021/csv_2021/Junio.csv',\n",
       " './nueva_carpeta/Expo_2021/csv_2021/Octubre.csv',\n",
       " './nueva_carpeta/Expo_2021/csv_2021/Enero.csv']"
      ]
     },
     "execution_count": 110,
     "metadata": {},
     "output_type": "execute_result"
    }
   ],
   "source": [
    "from glob import glob\n",
    "\n",
    "rutas_datos = glob(datos_path + '/*/*' + tipo)\n",
    "rutas_datos"
   ]
  },
  {
   "cell_type": "markdown",
   "metadata": {
    "id": "JtF9Jpr7iNSJ"
   },
   "source": [
    "Leemos 3 tipos de datos:\n",
    "- Stata\n",
    "- SPSS\n",
    "- csv"
   ]
  },
  {
   "cell_type": "code",
   "execution_count": 111,
   "metadata": {
    "id": "qz2WkEnBXTCA"
   },
   "outputs": [],
   "source": [
    "# para stata o SPSS\n",
    "# !pip install pyreadstat"
   ]
  },
  {
   "cell_type": "code",
   "execution_count": 112,
   "metadata": {
    "id": "VYkMS2KLiNSK"
   },
   "outputs": [],
   "source": [
    "import pandas as pd\n",
    "\n",
    "datos = []\n",
    "\n",
    "for r in rutas_datos:\n",
    "\n",
    "    if tipo == 'dta':\n",
    "        # En el caso de stata necesitamos instalar la siguiente librería\n",
    "        import pyreadstat\n",
    "\n",
    "        df, metadata = pyreadstat.read_dta(r)    \n",
    "\n",
    "    elif tipo == 'sav':\n",
    "        df = pd.read_spss(r)\n",
    "\n",
    "    elif tipo == 'csv':\n",
    "        df = pd.read_csv(r, delimiter = ',', encoding='ISO-8859-1', low_memory=False)\n",
    "\n",
    "    else:\n",
    "        print('Otro tipo!')\n",
    "\n",
    "    datos.append(df)\n",
    "\n",
    "dataframe_total = pd.concat(datos)\n",
    "dataframe_total.to_csv('todos.csv')"
   ]
  },
  {
   "cell_type": "code",
   "execution_count": 113,
   "metadata": {
    "id": "rua4C1yniNSM"
   },
   "outputs": [
    {
     "data": {
      "text/html": [
       "<div>\n",
       "<style scoped>\n",
       "    .dataframe tbody tr th:only-of-type {\n",
       "        vertical-align: middle;\n",
       "    }\n",
       "\n",
       "    .dataframe tbody tr th {\n",
       "        vertical-align: top;\n",
       "    }\n",
       "\n",
       "    .dataframe thead th {\n",
       "        text-align: right;\n",
       "    }\n",
       "</style>\n",
       "<table border=\"1\" class=\"dataframe\">\n",
       "  <thead>\n",
       "    <tr style=\"text-align: right;\">\n",
       "      <th></th>\n",
       "      <th>FECH</th>\n",
       "      <th>ADUA</th>\n",
       "      <th>PAIS</th>\n",
       "      <th>COD_PAI4</th>\n",
       "      <th>COD_SAL1</th>\n",
       "      <th>COD_SAL</th>\n",
       "      <th>DPTO2</th>\n",
       "      <th>VIA</th>\n",
       "      <th>BANDERA</th>\n",
       "      <th>REGIM</th>\n",
       "      <th>...</th>\n",
       "      <th>PBK</th>\n",
       "      <th>PNK</th>\n",
       "      <th>FOBDOL</th>\n",
       "      <th>FOBPES</th>\n",
       "      <th>AGRENA</th>\n",
       "      <th>FLETES</th>\n",
       "      <th>SEGURO</th>\n",
       "      <th>OTROSG</th>\n",
       "      <th>NIT</th>\n",
       "      <th>RAZ_SIAL</th>\n",
       "    </tr>\n",
       "  </thead>\n",
       "  <tbody>\n",
       "    <tr>\n",
       "      <th>19625</th>\n",
       "      <td>2104</td>\n",
       "      <td>35</td>\n",
       "      <td>589</td>\n",
       "      <td>PER</td>\n",
       "      <td>35</td>\n",
       "      <td>BUN</td>\n",
       "      <td>11</td>\n",
       "      <td>1</td>\n",
       "      <td>472</td>\n",
       "      <td>1</td>\n",
       "      <td>...</td>\n",
       "      <td>32497.79</td>\n",
       "      <td>27081.93</td>\n",
       "      <td>102355.39</td>\n",
       "      <td>3.730997e+08</td>\n",
       "      <td>0.00</td>\n",
       "      <td>2075.0</td>\n",
       "      <td>0.0</td>\n",
       "      <td>0.0</td>\n",
       "      <td>890900535</td>\n",
       "      <td>KELLOGG DE COLOMBIA S.A.</td>\n",
       "    </tr>\n",
       "    <tr>\n",
       "      <th>1098</th>\n",
       "      <td>2103</td>\n",
       "      <td>3</td>\n",
       "      <td>149</td>\n",
       "      <td>CAN</td>\n",
       "      <td>3</td>\n",
       "      <td>BOG</td>\n",
       "      <td>5</td>\n",
       "      <td>4</td>\n",
       "      <td>149</td>\n",
       "      <td>1</td>\n",
       "      <td>...</td>\n",
       "      <td>9796.40</td>\n",
       "      <td>8306.50</td>\n",
       "      <td>59083.56</td>\n",
       "      <td>2.161320e+08</td>\n",
       "      <td>0.00</td>\n",
       "      <td>0.0</td>\n",
       "      <td>0.0</td>\n",
       "      <td>0.0</td>\n",
       "      <td>900514910</td>\n",
       "      <td>ESHKOL PREMIUM S.A.S</td>\n",
       "    </tr>\n",
       "    <tr>\n",
       "      <th>20138</th>\n",
       "      <td>2109</td>\n",
       "      <td>37</td>\n",
       "      <td>239</td>\n",
       "      <td>ECU</td>\n",
       "      <td>37</td>\n",
       "      <td>IPI</td>\n",
       "      <td>5</td>\n",
       "      <td>3</td>\n",
       "      <td>239</td>\n",
       "      <td>1</td>\n",
       "      <td>...</td>\n",
       "      <td>198.40</td>\n",
       "      <td>198.40</td>\n",
       "      <td>1035.65</td>\n",
       "      <td>3.908543e+06</td>\n",
       "      <td>909.51</td>\n",
       "      <td>0.0</td>\n",
       "      <td>0.0</td>\n",
       "      <td>0.0</td>\n",
       "      <td>800011207</td>\n",
       "      <td>SUMINISTRO MATERIAS COLORANTES S.A.</td>\n",
       "    </tr>\n",
       "  </tbody>\n",
       "</table>\n",
       "<p>3 rows × 29 columns</p>\n",
       "</div>"
      ],
      "text/plain": [
       "       FECH  ADUA  PAIS COD_PAI4  COD_SAL1 COD_SAL  DPTO2  VIA  BANDERA  \\\n",
       "19625  2104    35   589      PER        35     BUN     11    1      472   \n",
       "1098   2103     3   149      CAN         3     BOG      5    4      149   \n",
       "20138  2109    37   239      ECU        37     IPI      5    3      239   \n",
       "\n",
       "       REGIM  ...       PBK       PNK     FOBDOL        FOBPES  AGRENA  \\\n",
       "19625      1  ...  32497.79  27081.93  102355.39  3.730997e+08    0.00   \n",
       "1098       1  ...   9796.40   8306.50   59083.56  2.161320e+08    0.00   \n",
       "20138      1  ...    198.40    198.40    1035.65  3.908543e+06  909.51   \n",
       "\n",
       "       FLETES  SEGURO OTROSG        NIT                             RAZ_SIAL  \n",
       "19625  2075.0     0.0    0.0  890900535             KELLOGG DE COLOMBIA S.A.  \n",
       "1098      0.0     0.0    0.0  900514910                 ESHKOL PREMIUM S.A.S  \n",
       "20138     0.0     0.0    0.0  800011207  SUMINISTRO MATERIAS COLORANTES S.A.  \n",
       "\n",
       "[3 rows x 29 columns]"
      ]
     },
     "execution_count": 113,
     "metadata": {},
     "output_type": "execute_result"
    }
   ],
   "source": [
    "dataframe_total.sample(3)"
   ]
  },
  {
   "cell_type": "code",
   "execution_count": 114,
   "metadata": {
    "id": "UYZ9tChwieV6"
   },
   "outputs": [
    {
     "data": {
      "image/png": "[encoded data removed]",
      "text/plain": [
       "<Figure size 640x480 with 1 Axes>"
      ]
     },
     "metadata": {},
     "output_type": "display_data"
    }
   ],
   "source": [
    "dataframe_total.groupby('COD_PAI4')\\\n",
    "  .count()['CANTI']   \\\n",
    "  .sort_values()      \\\n",
    "  .iloc[-10:]         \\\n",
    "  .plot.bar();"
   ]
  },
  {
   "cell_type": "markdown",
   "metadata": {
    "id": "_8uLDuyoa1co"
   },
   "source": [
    "### Ejercicio GSheets\n",
    "\n",
    "1) Tomar la siguiente lista de temas  \n",
    "2) Crear una carpeta con su nombre en \"title case\"  \n",
    "3) Dentro de cada carpeta, guardar los datos de tendencias para el día de hoy  "
   ]
  },
  {
   "cell_type": "code",
   "execution_count": 115,
   "metadata": {
    "id": "W2A8zPTP3tUh"
   },
   "outputs": [],
   "source": [
    "temas = ['Python', 'IA', 'Meditación', 'Jazz Rock', 'Sustentabilidad', 'Neurociencias']"
   ]
  },
  {
   "cell_type": "markdown",
   "metadata": {
    "id": "j5cS3apfAYVB"
   },
   "source": [
    "La siguiente celda prepara y define una función _get_trends_ para buscar tendencias de Google. La misma recibe una búsqueda y devuelve un diccionario con los datos de las tendencias."
   ]
  },
  {
   "cell_type": "code",
   "execution_count": 116,
   "metadata": {
    "id": "LAiwUTATaBvu"
   },
   "outputs": [
    {
     "ename": "ModuleNotFoundError",
     "evalue": "No module named 'pytrends'",
     "output_type": "error",
     "traceback": [
      "\u001b[0;31m---------------------------------------------------------------------------\u001b[0m",
      "\u001b[0;31mModuleNotFoundError\u001b[0m                       Traceback (most recent call last)",
      "Cell \u001b[0;32mIn[116], line 4\u001b[0m\n\u001b[1;32m      1\u001b[0m \u001b[38;5;66;03m# !pip install pytrends\u001b[39;00m\n\u001b[1;32m      3\u001b[0m \u001b[38;5;28;01mimport\u001b[39;00m \u001b[38;5;21;01mpandas\u001b[39;00m \u001b[38;5;28;01mas\u001b[39;00m \u001b[38;5;21;01mpd\u001b[39;00m                       \n\u001b[0;32m----> 4\u001b[0m \u001b[38;5;28;01mfrom\u001b[39;00m \u001b[38;5;21;01mpytrends\u001b[39;00m\u001b[38;5;21;01m.\u001b[39;00m\u001b[38;5;21;01mrequest\u001b[39;00m \u001b[38;5;28;01mimport\u001b[39;00m TrendReq\n\u001b[1;32m      6\u001b[0m \u001b[38;5;28;01mdef\u001b[39;00m \u001b[38;5;21mget_trends\u001b[39m(query):\n\u001b[1;32m      7\u001b[0m     pytrend \u001b[38;5;241m=\u001b[39m TrendReq()\n",
      "\u001b[0;31mModuleNotFoundError\u001b[0m: No module named 'pytrends'"
     ]
    }
   ],
   "source": [
    "# !pip install pytrends\n",
    "\n",
    "import pandas as pd                       \n",
    "from pytrends.request import TrendReq\n",
    "\n",
    "def get_trends(query):\n",
    "    pytrend = TrendReq()\n",
    "    pytrend.build_payload(kw_list=[query])\n",
    "    df = pytrend.interest_by_region()\n",
    "    return df.sort_values(query, ascending=False)[query].to_dict()"
   ]
  },
  {
   "cell_type": "markdown",
   "metadata": {
    "id": "0hMmR3trAddM"
   },
   "source": [
    "Ahora sí, recorrer la lista de temas y:\n",
    "\n",
    "- Buscar las tendencias con la función get_trends\n",
    "- Si no existe ya la carpeta para ese tema, crearla\n",
    "- Crear un archivo .txt o .csv con los datos buscados dentro de esa carpeta"
   ]
  },
  {
   "cell_type": "code",
   "execution_count": null,
   "metadata": {
    "id": "EyRBaiRsaPFd"
   },
   "outputs": [],
   "source": [
    "# Ejemplo\n",
    "query = 'IA'\n",
    "tendencias = get_trends(query)\n",
    "tendencias"
   ]
  },
  {
   "cell_type": "code",
   "execution_count": null,
   "metadata": {
    "id": "r-fEHUb40BBk"
   },
   "outputs": [],
   "source": [
    "tendencias['Argentina']"
   ]
  },
  {
   "cell_type": "code",
   "execution_count": null,
   "metadata": {
    "id": "V5LkTtpgXTCB"
   },
   "outputs": [],
   "source": [
    "from datetime import datetime\n",
    "\n",
    "fecha = datetime.now().strftime('%d-%m-%y')\n",
    "fecha"
   ]
  },
  {
   "cell_type": "code",
   "execution_count": null,
   "metadata": {
    "id": "9gN__Bbj28k1"
   },
   "outputs": [],
   "source": [
    "# for t in temas:\n",
    "#     # completar"
   ]
  },
  {
   "cell_type": "code",
   "execution_count": null,
   "metadata": {
    "cellView": "code",
    "id": "Z-40TGV6y9PG"
   },
   "outputs": [],
   "source": [
    "#@title Respuesta\n",
    "base = '/content/tendencias'\n",
    "for tema in temas:\n",
    "  tendencias = get_trends(tema)\n",
    "  tema_dir = base + '/' + tema\n",
    "  if not os.path.exists(tema_dir):\n",
    "    os.makedirs(tema_dir)\n",
    "    os.chdir(tema_dir)\n",
    "\n",
    "    with open(f'{tema}.txt', 'w+') as f:\n",
    "      f.write(str(tendencias))\n",
    "\n",
    "# # Para probarlo\n",
    "# with open('/content/tendencias/IA/IA.txt', 'r') as f:\n",
    "#   print(f.read())"
   ]
  },
  {
   "cell_type": "code",
   "execution_count": null,
   "metadata": {
    "id": "uRCyGeNpzBLn"
   },
   "outputs": [],
   "source": [
    "with open('/content/tendencias/IA/IA.txt', 'r') as f:\n",
    "  print(f.read())"
   ]
  }
 ],
 "metadata": {
  "colab": {
   "collapsed_sections": [],
   "provenance": []
  },
  "kernelspec": {
   "display_name": "data_science_path",
   "language": "python",
   "name": "python3"
  },
  "language_info": {
   "codemirror_mode": {
    "name": "ipython",
    "version": 3
   },
   "file_extension": ".py",
   "mimetype": "text/x-python",
   "name": "python",
   "nbconvert_exporter": "python",
   "pygments_lexer": "ipython3",
   "version": "3.10.4"
  }
 },
 "nbformat": 4,
 "nbformat_minor": 0
}
